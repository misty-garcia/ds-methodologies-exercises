{
 "cells": [
  {
   "cell_type": "code",
   "execution_count": 42,
   "metadata": {},
   "outputs": [],
   "source": [
    "from keras import models, layers\n",
    "from keras.utils import to_categorical\n",
    "from keras.datasets import mnist"
   ]
  },
  {
   "cell_type": "code",
   "execution_count": 43,
   "metadata": {},
   "outputs": [],
   "source": [
    "(train_images, train_labels), (test_images, test_labels) = mnist.load_data()"
   ]
  },
  {
   "cell_type": "code",
   "execution_count": 44,
   "metadata": {},
   "outputs": [
    {
     "data": {
      "text/plain": [
       "(60000, 28, 28)"
      ]
     },
     "execution_count": 44,
     "metadata": {},
     "output_type": "execute_result"
    }
   ],
   "source": [
    "train_images.shape"
   ]
  },
  {
   "cell_type": "code",
   "execution_count": 45,
   "metadata": {},
   "outputs": [
    {
     "data": {
      "text/plain": [
       "0"
      ]
     },
     "execution_count": 45,
     "metadata": {},
     "output_type": "execute_result"
    }
   ],
   "source": [
    "train_labels[1]"
   ]
  },
  {
   "cell_type": "code",
   "execution_count": 46,
   "metadata": {},
   "outputs": [],
   "source": [
    "network = models.Sequential()"
   ]
  },
  {
   "cell_type": "code",
   "execution_count": 47,
   "metadata": {},
   "outputs": [],
   "source": [
    "network.add(layers.Dense(512, activation='relu', input_shape=(28*28,)))"
   ]
  },
  {
   "cell_type": "code",
   "execution_count": 48,
   "metadata": {},
   "outputs": [],
   "source": [
    "network.add(layers.Dense(10, activation='softmax'))"
   ]
  },
  {
   "cell_type": "code",
   "execution_count": 49,
   "metadata": {},
   "outputs": [],
   "source": [
    "network.compile(optimizer='rmsprop',\n",
    "               loss='categorical_crossentropy',\n",
    "               metrics=['accuracy'])"
   ]
  },
  {
   "cell_type": "code",
   "execution_count": 52,
   "metadata": {},
   "outputs": [],
   "source": [
    "#reshape\n",
    "train_images = train_images.reshape((60000, 28*28))\n",
    "train_images = train_images.astype('float32') / 255\n",
    "test_images = test_images.reshape((10000, 28*28))\n",
    "test_images = test_images.astype('float32') / 255"
   ]
  },
  {
   "cell_type": "code",
   "execution_count": 53,
   "metadata": {},
   "outputs": [],
   "source": [
    "# set labels to categoric values\n",
    "train_labels = to_categorical(train_labels)\n",
    "test_labels = to_categorical(test_labels)"
   ]
  },
  {
   "cell_type": "code",
   "execution_count": 54,
   "metadata": {},
   "outputs": [
    {
     "data": {
      "text/plain": [
       "array([0., 0., 0., 0., 0., 1., 0., 0., 0., 0.], dtype=float32)"
      ]
     },
     "execution_count": 54,
     "metadata": {},
     "output_type": "execute_result"
    }
   ],
   "source": [
    "train_labels[0]"
   ]
  },
  {
   "cell_type": "code",
   "execution_count": 55,
   "metadata": {},
   "outputs": [
    {
     "name": "stdout",
     "output_type": "stream",
     "text": [
      "Epoch 1/17\n",
      "60000/60000 [==============================] - 7s 110us/step - loss: 2.3014 - acc: 0.1117\n",
      "Epoch 2/17\n",
      "60000/60000 [==============================] - 7s 109us/step - loss: 2.3012 - acc: 0.1124\n",
      "Epoch 3/17\n",
      "60000/60000 [==============================] - 7s 114us/step - loss: 2.3010 - acc: 0.1124\n",
      "Epoch 4/17\n",
      "60000/60000 [==============================] - 7s 119us/step - loss: 2.3006 - acc: 0.1124\n",
      "Epoch 5/17\n",
      "60000/60000 [==============================] - 10s 159us/step - loss: 2.2998 - acc: 0.1124\n",
      "Epoch 6/17\n",
      "60000/60000 [==============================] - 9s 154us/step - loss: 2.2982 - acc: 0.1124\n",
      "Epoch 7/17\n",
      "60000/60000 [==============================] - 6s 108us/step - loss: 2.2954 - acc: 0.1144\n",
      "Epoch 8/17\n",
      "60000/60000 [==============================] - 6s 103us/step - loss: 2.2912 - acc: 0.1202\n",
      "Epoch 9/17\n",
      "60000/60000 [==============================] - 7s 118us/step - loss: 2.2853 - acc: 0.1430\n",
      "Epoch 10/17\n",
      "60000/60000 [==============================] - 10s 171us/step - loss: 2.2777 - acc: 0.1614\n",
      "Epoch 11/17\n",
      "60000/60000 [==============================] - 8s 131us/step - loss: 2.2682 - acc: 0.1792\n",
      "Epoch 12/17\n",
      "60000/60000 [==============================] - 7s 115us/step - loss: 2.2571 - acc: 0.1924\n",
      "Epoch 13/17\n",
      "60000/60000 [==============================] - 8s 130us/step - loss: 2.2442 - acc: 0.2031\n",
      "Epoch 14/17\n",
      "60000/60000 [==============================] - 7s 116us/step - loss: 2.2296 - acc: 0.2131\n",
      "Epoch 15/17\n",
      "60000/60000 [==============================] - 6s 105us/step - loss: 2.2135 - acc: 0.2293\n",
      "Epoch 16/17\n",
      "60000/60000 [==============================] - 7s 112us/step - loss: 2.1957 - acc: 0.2397\n",
      "Epoch 17/17\n",
      "60000/60000 [==============================] - 7s 121us/step - loss: 2.1767 - acc: 0.2596\n"
     ]
    },
    {
     "data": {
      "text/plain": [
       "<keras.callbacks.History at 0x1c5f7ee5f8>"
      ]
     },
     "execution_count": 55,
     "metadata": {},
     "output_type": "execute_result"
    }
   ],
   "source": [
    "# fit model to training data\n",
    "network.fit(train_images, train_labels, epochs=17, batch_size=128)"
   ]
  },
  {
   "cell_type": "code",
   "execution_count": 56,
   "metadata": {},
   "outputs": [
    {
     "data": {
      "text/plain": [
       "(10000, 10)"
      ]
     },
     "execution_count": 56,
     "metadata": {},
     "output_type": "execute_result"
    }
   ],
   "source": [
    "test_labels.shape"
   ]
  },
  {
   "cell_type": "code",
   "execution_count": 59,
   "metadata": {},
   "outputs": [
    {
     "name": "stdout",
     "output_type": "stream",
     "text": [
      "10000/10000 [==============================] - 1s 52us/step\n",
      "test_acc 0.3186\n",
      "test_loss 9.901142916870118\n"
     ]
    }
   ],
   "source": [
    "test_loss, test_acc = network.evaluate(test_images, test_labels)\n",
    "\n",
    "print('test_acc', test_acc)\n",
    "print('test_loss', test_loss)"
   ]
  },
  {
   "cell_type": "code",
   "execution_count": null,
   "metadata": {},
   "outputs": [],
   "source": [
    "# use .predict on new data once the model is trained\n",
    "# network.predict(future_data)"
   ]
  }
 ],
 "metadata": {
  "kernelspec": {
   "display_name": "Python 3",
   "language": "python",
   "name": "python3"
  },
  "language_info": {
   "codemirror_mode": {
    "name": "ipython",
    "version": 3
   },
   "file_extension": ".py",
   "mimetype": "text/x-python",
   "name": "python",
   "nbconvert_exporter": "python",
   "pygments_lexer": "ipython3",
   "version": "3.7.3"
  },
  "toc": {
   "base_numbering": 1,
   "nav_menu": {},
   "number_sections": false,
   "sideBar": true,
   "skip_h1_title": true,
   "title_cell": "Table of Contents",
   "title_sidebar": "Contents",
   "toc_cell": false,
   "toc_position": {},
   "toc_section_display": true,
   "toc_window_display": false
  }
 },
 "nbformat": 4,
 "nbformat_minor": 2
}
