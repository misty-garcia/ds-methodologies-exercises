{
 "cells": [
  {
   "cell_type": "markdown",
   "metadata": {},
   "source": [
    "Discover users who are accessing our curriculum pages way beyond the end of their codeup time. What would the dataframe look like? Use time series method for detecting anomalies, like exponential moving average with %b.\n",
    "\n",
    "Bonus:\n",
    "\n",
    "Can you label students who are viewing both the web dev and data science curriculum? Can you label students by the program they are in? Can you label users by student vs. staff? What are Zach, Maggie, David, and Ryan's ids?"
   ]
  },
  {
   "cell_type": "code",
   "execution_count": 103,
   "metadata": {},
   "outputs": [],
   "source": [
    "import pandas as pd\n",
    "import numpy as np\n",
    "\n",
    "from scipy.stats import entropy\n",
    "\n",
    "import matplotlib.pyplot as plt\n",
    "import matplotlib.dates as mdates\n",
    "import seaborn as sns\n",
    "\n",
    "import warnings\n",
    "warnings.filterwarnings(\"ignore\")"
   ]
  },
  {
   "cell_type": "markdown",
   "metadata": {},
   "source": [
    "## Acquire"
   ]
  },
  {
   "cell_type": "code",
   "execution_count": 104,
   "metadata": {},
   "outputs": [],
   "source": [
    "df = pd.read_csv(\"anonymized-curriculum-access.txt\", sep=\" \", header=None)"
   ]
  },
  {
   "cell_type": "code",
   "execution_count": 105,
   "metadata": {},
   "outputs": [
    {
     "name": "stdout",
     "output_type": "stream",
     "text": [
      "<class 'pandas.core.frame.DataFrame'>\n",
      "RangeIndex: 399195 entries, 0 to 399194\n",
      "Data columns (total 6 columns):\n",
      "0    399195 non-null object\n",
      "1    399195 non-null object\n",
      "2    399195 non-null object\n",
      "3    399195 non-null int64\n",
      "4    372441 non-null float64\n",
      "5    399195 non-null object\n",
      "dtypes: float64(1), int64(1), object(4)\n",
      "memory usage: 18.3+ MB\n"
     ]
    }
   ],
   "source": [
    "df.info()"
   ]
  },
  {
   "cell_type": "code",
   "execution_count": 106,
   "metadata": {},
   "outputs": [
    {
     "data": {
      "text/html": [
       "<div>\n",
       "<style scoped>\n",
       "    .dataframe tbody tr th:only-of-type {\n",
       "        vertical-align: middle;\n",
       "    }\n",
       "\n",
       "    .dataframe tbody tr th {\n",
       "        vertical-align: top;\n",
       "    }\n",
       "\n",
       "    .dataframe thead th {\n",
       "        text-align: right;\n",
       "    }\n",
       "</style>\n",
       "<table border=\"1\" class=\"dataframe\">\n",
       "  <thead>\n",
       "    <tr style=\"text-align: right;\">\n",
       "      <th></th>\n",
       "      <th>0</th>\n",
       "      <th>1</th>\n",
       "      <th>2</th>\n",
       "      <th>3</th>\n",
       "      <th>4</th>\n",
       "      <th>5</th>\n",
       "    </tr>\n",
       "  </thead>\n",
       "  <tbody>\n",
       "    <tr>\n",
       "      <th>0</th>\n",
       "      <td>2018-01-26</td>\n",
       "      <td>09:55:03</td>\n",
       "      <td>/</td>\n",
       "      <td>1</td>\n",
       "      <td>8.0</td>\n",
       "      <td>97.105.19.61</td>\n",
       "    </tr>\n",
       "    <tr>\n",
       "      <th>1</th>\n",
       "      <td>2018-01-26</td>\n",
       "      <td>09:56:02</td>\n",
       "      <td>java-ii</td>\n",
       "      <td>1</td>\n",
       "      <td>8.0</td>\n",
       "      <td>97.105.19.61</td>\n",
       "    </tr>\n",
       "    <tr>\n",
       "      <th>2</th>\n",
       "      <td>2018-01-26</td>\n",
       "      <td>09:56:05</td>\n",
       "      <td>java-ii/object-oriented-programming</td>\n",
       "      <td>1</td>\n",
       "      <td>8.0</td>\n",
       "      <td>97.105.19.61</td>\n",
       "    </tr>\n",
       "    <tr>\n",
       "      <th>3</th>\n",
       "      <td>2018-01-26</td>\n",
       "      <td>09:56:06</td>\n",
       "      <td>slides/object_oriented_programming</td>\n",
       "      <td>1</td>\n",
       "      <td>8.0</td>\n",
       "      <td>97.105.19.61</td>\n",
       "    </tr>\n",
       "    <tr>\n",
       "      <th>4</th>\n",
       "      <td>2018-01-26</td>\n",
       "      <td>09:56:24</td>\n",
       "      <td>javascript-i/conditionals</td>\n",
       "      <td>2</td>\n",
       "      <td>22.0</td>\n",
       "      <td>97.105.19.61</td>\n",
       "    </tr>\n",
       "  </tbody>\n",
       "</table>\n",
       "</div>"
      ],
      "text/plain": [
       "            0         1                                    2  3     4  \\\n",
       "0  2018-01-26  09:55:03                                    /  1   8.0   \n",
       "1  2018-01-26  09:56:02                              java-ii  1   8.0   \n",
       "2  2018-01-26  09:56:05  java-ii/object-oriented-programming  1   8.0   \n",
       "3  2018-01-26  09:56:06   slides/object_oriented_programming  1   8.0   \n",
       "4  2018-01-26  09:56:24            javascript-i/conditionals  2  22.0   \n",
       "\n",
       "              5  \n",
       "0  97.105.19.61  \n",
       "1  97.105.19.61  \n",
       "2  97.105.19.61  \n",
       "3  97.105.19.61  \n",
       "4  97.105.19.61  "
      ]
     },
     "execution_count": 106,
     "metadata": {},
     "output_type": "execute_result"
    }
   ],
   "source": [
    "df.head()"
   ]
  },
  {
   "cell_type": "code",
   "execution_count": 107,
   "metadata": {},
   "outputs": [
    {
     "data": {
      "text/html": [
       "<div>\n",
       "<style scoped>\n",
       "    .dataframe tbody tr th:only-of-type {\n",
       "        vertical-align: middle;\n",
       "    }\n",
       "\n",
       "    .dataframe tbody tr th {\n",
       "        vertical-align: top;\n",
       "    }\n",
       "\n",
       "    .dataframe thead th {\n",
       "        text-align: right;\n",
       "    }\n",
       "</style>\n",
       "<table border=\"1\" class=\"dataframe\">\n",
       "  <thead>\n",
       "    <tr style=\"text-align: right;\">\n",
       "      <th></th>\n",
       "      <th>3</th>\n",
       "      <th>4</th>\n",
       "    </tr>\n",
       "  </thead>\n",
       "  <tbody>\n",
       "    <tr>\n",
       "      <th>count</th>\n",
       "      <td>399195.000000</td>\n",
       "      <td>372441.000000</td>\n",
       "    </tr>\n",
       "    <tr>\n",
       "      <th>mean</th>\n",
       "      <td>268.794667</td>\n",
       "      <td>26.912649</td>\n",
       "    </tr>\n",
       "    <tr>\n",
       "      <th>std</th>\n",
       "      <td>147.587312</td>\n",
       "      <td>7.846146</td>\n",
       "    </tr>\n",
       "    <tr>\n",
       "      <th>min</th>\n",
       "      <td>1.000000</td>\n",
       "      <td>1.000000</td>\n",
       "    </tr>\n",
       "    <tr>\n",
       "      <th>25%</th>\n",
       "      <td>157.000000</td>\n",
       "      <td>23.000000</td>\n",
       "    </tr>\n",
       "    <tr>\n",
       "      <th>50%</th>\n",
       "      <td>288.000000</td>\n",
       "      <td>27.000000</td>\n",
       "    </tr>\n",
       "    <tr>\n",
       "      <th>75%</th>\n",
       "      <td>392.000000</td>\n",
       "      <td>31.000000</td>\n",
       "    </tr>\n",
       "    <tr>\n",
       "      <th>max</th>\n",
       "      <td>543.000000</td>\n",
       "      <td>52.000000</td>\n",
       "    </tr>\n",
       "  </tbody>\n",
       "</table>\n",
       "</div>"
      ],
      "text/plain": [
       "                   3              4\n",
       "count  399195.000000  372441.000000\n",
       "mean      268.794667      26.912649\n",
       "std       147.587312       7.846146\n",
       "min         1.000000       1.000000\n",
       "25%       157.000000      23.000000\n",
       "50%       288.000000      27.000000\n",
       "75%       392.000000      31.000000\n",
       "max       543.000000      52.000000"
      ]
     },
     "execution_count": 107,
     "metadata": {},
     "output_type": "execute_result"
    }
   ],
   "source": [
    "df.describe()"
   ]
  },
  {
   "cell_type": "markdown",
   "metadata": {},
   "source": [
    "## Prep"
   ]
  },
  {
   "cell_type": "code",
   "execution_count": 108,
   "metadata": {
    "scrolled": true
   },
   "outputs": [
    {
     "data": {
      "text/html": [
       "<div>\n",
       "<style scoped>\n",
       "    .dataframe tbody tr th:only-of-type {\n",
       "        vertical-align: middle;\n",
       "    }\n",
       "\n",
       "    .dataframe tbody tr th {\n",
       "        vertical-align: top;\n",
       "    }\n",
       "\n",
       "    .dataframe thead th {\n",
       "        text-align: right;\n",
       "    }\n",
       "</style>\n",
       "<table border=\"1\" class=\"dataframe\">\n",
       "  <thead>\n",
       "    <tr style=\"text-align: right;\">\n",
       "      <th></th>\n",
       "      <th>date</th>\n",
       "      <th>time</th>\n",
       "      <th>page</th>\n",
       "      <th>num1</th>\n",
       "      <th>num2</th>\n",
       "      <th>ip</th>\n",
       "    </tr>\n",
       "  </thead>\n",
       "  <tbody>\n",
       "    <tr>\n",
       "      <th>0</th>\n",
       "      <td>2018-01-26</td>\n",
       "      <td>09:55:03</td>\n",
       "      <td>/</td>\n",
       "      <td>1</td>\n",
       "      <td>8.0</td>\n",
       "      <td>97.105.19.61</td>\n",
       "    </tr>\n",
       "    <tr>\n",
       "      <th>1</th>\n",
       "      <td>2018-01-26</td>\n",
       "      <td>09:56:02</td>\n",
       "      <td>java-ii</td>\n",
       "      <td>1</td>\n",
       "      <td>8.0</td>\n",
       "      <td>97.105.19.61</td>\n",
       "    </tr>\n",
       "    <tr>\n",
       "      <th>2</th>\n",
       "      <td>2018-01-26</td>\n",
       "      <td>09:56:05</td>\n",
       "      <td>java-ii/object-oriented-programming</td>\n",
       "      <td>1</td>\n",
       "      <td>8.0</td>\n",
       "      <td>97.105.19.61</td>\n",
       "    </tr>\n",
       "    <tr>\n",
       "      <th>3</th>\n",
       "      <td>2018-01-26</td>\n",
       "      <td>09:56:06</td>\n",
       "      <td>slides/object_oriented_programming</td>\n",
       "      <td>1</td>\n",
       "      <td>8.0</td>\n",
       "      <td>97.105.19.61</td>\n",
       "    </tr>\n",
       "    <tr>\n",
       "      <th>4</th>\n",
       "      <td>2018-01-26</td>\n",
       "      <td>09:56:24</td>\n",
       "      <td>javascript-i/conditionals</td>\n",
       "      <td>2</td>\n",
       "      <td>22.0</td>\n",
       "      <td>97.105.19.61</td>\n",
       "    </tr>\n",
       "    <tr>\n",
       "      <th>...</th>\n",
       "      <td>...</td>\n",
       "      <td>...</td>\n",
       "      <td>...</td>\n",
       "      <td>...</td>\n",
       "      <td>...</td>\n",
       "      <td>...</td>\n",
       "    </tr>\n",
       "    <tr>\n",
       "      <th>399190</th>\n",
       "      <td>2019-11-19</td>\n",
       "      <td>10:06:28</td>\n",
       "      <td>spring/fundamentals/controllers</td>\n",
       "      <td>445</td>\n",
       "      <td>33.0</td>\n",
       "      <td>97.105.19.58</td>\n",
       "    </tr>\n",
       "    <tr>\n",
       "      <th>399191</th>\n",
       "      <td>2019-11-19</td>\n",
       "      <td>10:06:50</td>\n",
       "      <td>spring/fundamentals/views</td>\n",
       "      <td>445</td>\n",
       "      <td>33.0</td>\n",
       "      <td>97.105.19.58</td>\n",
       "    </tr>\n",
       "    <tr>\n",
       "      <th>399192</th>\n",
       "      <td>2019-11-19</td>\n",
       "      <td>10:07:03</td>\n",
       "      <td>8-clustering/3-wrangle</td>\n",
       "      <td>475</td>\n",
       "      <td>34.0</td>\n",
       "      <td>97.105.19.58</td>\n",
       "    </tr>\n",
       "    <tr>\n",
       "      <th>399193</th>\n",
       "      <td>2019-11-19</td>\n",
       "      <td>10:07:07</td>\n",
       "      <td>7-classification/2-acquire</td>\n",
       "      <td>475</td>\n",
       "      <td>34.0</td>\n",
       "      <td>97.105.19.58</td>\n",
       "    </tr>\n",
       "    <tr>\n",
       "      <th>399194</th>\n",
       "      <td>2019-11-19</td>\n",
       "      <td>10:07:45</td>\n",
       "      <td>search/search_index.json</td>\n",
       "      <td>455</td>\n",
       "      <td>33.0</td>\n",
       "      <td>97.105.19.58</td>\n",
       "    </tr>\n",
       "  </tbody>\n",
       "</table>\n",
       "<p>399195 rows × 6 columns</p>\n",
       "</div>"
      ],
      "text/plain": [
       "              date      time                                 page  num1  num2  \\\n",
       "0       2018-01-26  09:55:03                                    /     1   8.0   \n",
       "1       2018-01-26  09:56:02                              java-ii     1   8.0   \n",
       "2       2018-01-26  09:56:05  java-ii/object-oriented-programming     1   8.0   \n",
       "3       2018-01-26  09:56:06   slides/object_oriented_programming     1   8.0   \n",
       "4       2018-01-26  09:56:24            javascript-i/conditionals     2  22.0   \n",
       "...            ...       ...                                  ...   ...   ...   \n",
       "399190  2019-11-19  10:06:28      spring/fundamentals/controllers   445  33.0   \n",
       "399191  2019-11-19  10:06:50            spring/fundamentals/views   445  33.0   \n",
       "399192  2019-11-19  10:07:03               8-clustering/3-wrangle   475  34.0   \n",
       "399193  2019-11-19  10:07:07           7-classification/2-acquire   475  34.0   \n",
       "399194  2019-11-19  10:07:45             search/search_index.json   455  33.0   \n",
       "\n",
       "                  ip  \n",
       "0       97.105.19.61  \n",
       "1       97.105.19.61  \n",
       "2       97.105.19.61  \n",
       "3       97.105.19.61  \n",
       "4       97.105.19.61  \n",
       "...              ...  \n",
       "399190  97.105.19.58  \n",
       "399191  97.105.19.58  \n",
       "399192  97.105.19.58  \n",
       "399193  97.105.19.58  \n",
       "399194  97.105.19.58  \n",
       "\n",
       "[399195 rows x 6 columns]"
      ]
     },
     "execution_count": 108,
     "metadata": {},
     "output_type": "execute_result"
    }
   ],
   "source": [
    "df = df.rename(columns={0:\"date\", 1:\"time\", 2:\"page\", 3:\"num1\", 4:\"num2\", 5:\"ip\"})\n",
    "df"
   ]
  },
  {
   "cell_type": "markdown",
   "metadata": {},
   "source": [
    "> What are those two columns of numbers? "
   ]
  },
  {
   "cell_type": "markdown",
   "metadata": {},
   "source": [
    "### Combine the date and time and set as the index"
   ]
  },
  {
   "cell_type": "code",
   "execution_count": 109,
   "metadata": {},
   "outputs": [],
   "source": [
    "df.date = df.date + \" \" + df.time\n",
    "df.drop(\"time\", axis=1, inplace=True)"
   ]
  },
  {
   "cell_type": "code",
   "execution_count": 110,
   "metadata": {},
   "outputs": [
    {
     "data": {
      "text/html": [
       "<div>\n",
       "<style scoped>\n",
       "    .dataframe tbody tr th:only-of-type {\n",
       "        vertical-align: middle;\n",
       "    }\n",
       "\n",
       "    .dataframe tbody tr th {\n",
       "        vertical-align: top;\n",
       "    }\n",
       "\n",
       "    .dataframe thead th {\n",
       "        text-align: right;\n",
       "    }\n",
       "</style>\n",
       "<table border=\"1\" class=\"dataframe\">\n",
       "  <thead>\n",
       "    <tr style=\"text-align: right;\">\n",
       "      <th></th>\n",
       "      <th>date</th>\n",
       "      <th>page</th>\n",
       "      <th>num1</th>\n",
       "      <th>num2</th>\n",
       "      <th>ip</th>\n",
       "    </tr>\n",
       "  </thead>\n",
       "  <tbody>\n",
       "    <tr>\n",
       "      <th>0</th>\n",
       "      <td>2018-01-26 09:55:03</td>\n",
       "      <td>/</td>\n",
       "      <td>1</td>\n",
       "      <td>8.0</td>\n",
       "      <td>97.105.19.61</td>\n",
       "    </tr>\n",
       "    <tr>\n",
       "      <th>1</th>\n",
       "      <td>2018-01-26 09:56:02</td>\n",
       "      <td>java-ii</td>\n",
       "      <td>1</td>\n",
       "      <td>8.0</td>\n",
       "      <td>97.105.19.61</td>\n",
       "    </tr>\n",
       "    <tr>\n",
       "      <th>2</th>\n",
       "      <td>2018-01-26 09:56:05</td>\n",
       "      <td>java-ii/object-oriented-programming</td>\n",
       "      <td>1</td>\n",
       "      <td>8.0</td>\n",
       "      <td>97.105.19.61</td>\n",
       "    </tr>\n",
       "    <tr>\n",
       "      <th>3</th>\n",
       "      <td>2018-01-26 09:56:06</td>\n",
       "      <td>slides/object_oriented_programming</td>\n",
       "      <td>1</td>\n",
       "      <td>8.0</td>\n",
       "      <td>97.105.19.61</td>\n",
       "    </tr>\n",
       "    <tr>\n",
       "      <th>4</th>\n",
       "      <td>2018-01-26 09:56:24</td>\n",
       "      <td>javascript-i/conditionals</td>\n",
       "      <td>2</td>\n",
       "      <td>22.0</td>\n",
       "      <td>97.105.19.61</td>\n",
       "    </tr>\n",
       "  </tbody>\n",
       "</table>\n",
       "</div>"
      ],
      "text/plain": [
       "                  date                                 page  num1  num2  \\\n",
       "0  2018-01-26 09:55:03                                    /     1   8.0   \n",
       "1  2018-01-26 09:56:02                              java-ii     1   8.0   \n",
       "2  2018-01-26 09:56:05  java-ii/object-oriented-programming     1   8.0   \n",
       "3  2018-01-26 09:56:06   slides/object_oriented_programming     1   8.0   \n",
       "4  2018-01-26 09:56:24            javascript-i/conditionals     2  22.0   \n",
       "\n",
       "             ip  \n",
       "0  97.105.19.61  \n",
       "1  97.105.19.61  \n",
       "2  97.105.19.61  \n",
       "3  97.105.19.61  \n",
       "4  97.105.19.61  "
      ]
     },
     "execution_count": 110,
     "metadata": {},
     "output_type": "execute_result"
    }
   ],
   "source": [
    "df.head()"
   ]
  },
  {
   "cell_type": "code",
   "execution_count": 111,
   "metadata": {},
   "outputs": [],
   "source": [
    "df.date = pd.to_datetime(df.date)"
   ]
  },
  {
   "cell_type": "code",
   "execution_count": 112,
   "metadata": {},
   "outputs": [
    {
     "name": "stdout",
     "output_type": "stream",
     "text": [
      "<class 'pandas.core.frame.DataFrame'>\n",
      "RangeIndex: 399195 entries, 0 to 399194\n",
      "Data columns (total 5 columns):\n",
      "date    399195 non-null datetime64[ns]\n",
      "page    399195 non-null object\n",
      "num1    399195 non-null int64\n",
      "num2    372441 non-null float64\n",
      "ip      399195 non-null object\n",
      "dtypes: datetime64[ns](1), float64(1), int64(1), object(2)\n",
      "memory usage: 15.2+ MB\n"
     ]
    }
   ],
   "source": [
    "df.info()"
   ]
  },
  {
   "cell_type": "code",
   "execution_count": 113,
   "metadata": {},
   "outputs": [],
   "source": [
    "df = df.set_index(\"date\")"
   ]
  },
  {
   "cell_type": "markdown",
   "metadata": {},
   "source": [
    "### Scope out at nulls"
   ]
  },
  {
   "cell_type": "code",
   "execution_count": 114,
   "metadata": {},
   "outputs": [
    {
     "data": {
      "text/plain": [
       "page        0\n",
       "num1        0\n",
       "num2    26754\n",
       "ip          0\n",
       "dtype: int64"
      ]
     },
     "execution_count": 114,
     "metadata": {},
     "output_type": "execute_result"
    }
   ],
   "source": [
    "df.isnull().sum()"
   ]
  },
  {
   "cell_type": "markdown",
   "metadata": {},
   "source": [
    "> Unsure how to address nulls at the moment, as it is unknown what that column is representing"
   ]
  },
  {
   "cell_type": "markdown",
   "metadata": {},
   "source": [
    "## Explore"
   ]
  },
  {
   "cell_type": "code",
   "execution_count": 115,
   "metadata": {
    "scrolled": false
   },
   "outputs": [
    {
     "data": {
      "text/html": [
       "<div>\n",
       "<style scoped>\n",
       "    .dataframe tbody tr th:only-of-type {\n",
       "        vertical-align: middle;\n",
       "    }\n",
       "\n",
       "    .dataframe tbody tr th {\n",
       "        vertical-align: top;\n",
       "    }\n",
       "\n",
       "    .dataframe thead th {\n",
       "        text-align: right;\n",
       "    }\n",
       "</style>\n",
       "<table border=\"1\" class=\"dataframe\">\n",
       "  <thead>\n",
       "    <tr style=\"text-align: right;\">\n",
       "      <th></th>\n",
       "      <th>page</th>\n",
       "      <th>num1</th>\n",
       "      <th>num2</th>\n",
       "      <th>ip</th>\n",
       "    </tr>\n",
       "    <tr>\n",
       "      <th>date</th>\n",
       "      <th></th>\n",
       "      <th></th>\n",
       "      <th></th>\n",
       "      <th></th>\n",
       "    </tr>\n",
       "  </thead>\n",
       "  <tbody>\n",
       "    <tr>\n",
       "      <th>2018-01-26 09:55:03</th>\n",
       "      <td>/</td>\n",
       "      <td>1</td>\n",
       "      <td>8.0</td>\n",
       "      <td>97.105.19.61</td>\n",
       "    </tr>\n",
       "    <tr>\n",
       "      <th>2018-01-26 09:56:02</th>\n",
       "      <td>java-ii</td>\n",
       "      <td>1</td>\n",
       "      <td>8.0</td>\n",
       "      <td>97.105.19.61</td>\n",
       "    </tr>\n",
       "    <tr>\n",
       "      <th>2018-01-26 09:56:05</th>\n",
       "      <td>java-ii/object-oriented-programming</td>\n",
       "      <td>1</td>\n",
       "      <td>8.0</td>\n",
       "      <td>97.105.19.61</td>\n",
       "    </tr>\n",
       "    <tr>\n",
       "      <th>2018-01-26 09:56:06</th>\n",
       "      <td>slides/object_oriented_programming</td>\n",
       "      <td>1</td>\n",
       "      <td>8.0</td>\n",
       "      <td>97.105.19.61</td>\n",
       "    </tr>\n",
       "    <tr>\n",
       "      <th>2018-01-26 09:56:24</th>\n",
       "      <td>javascript-i/conditionals</td>\n",
       "      <td>2</td>\n",
       "      <td>22.0</td>\n",
       "      <td>97.105.19.61</td>\n",
       "    </tr>\n",
       "    <tr>\n",
       "      <th>...</th>\n",
       "      <td>...</td>\n",
       "      <td>...</td>\n",
       "      <td>...</td>\n",
       "      <td>...</td>\n",
       "    </tr>\n",
       "    <tr>\n",
       "      <th>2019-11-19 10:06:28</th>\n",
       "      <td>spring/fundamentals/controllers</td>\n",
       "      <td>445</td>\n",
       "      <td>33.0</td>\n",
       "      <td>97.105.19.58</td>\n",
       "    </tr>\n",
       "    <tr>\n",
       "      <th>2019-11-19 10:06:50</th>\n",
       "      <td>spring/fundamentals/views</td>\n",
       "      <td>445</td>\n",
       "      <td>33.0</td>\n",
       "      <td>97.105.19.58</td>\n",
       "    </tr>\n",
       "    <tr>\n",
       "      <th>2019-11-19 10:07:03</th>\n",
       "      <td>8-clustering/3-wrangle</td>\n",
       "      <td>475</td>\n",
       "      <td>34.0</td>\n",
       "      <td>97.105.19.58</td>\n",
       "    </tr>\n",
       "    <tr>\n",
       "      <th>2019-11-19 10:07:07</th>\n",
       "      <td>7-classification/2-acquire</td>\n",
       "      <td>475</td>\n",
       "      <td>34.0</td>\n",
       "      <td>97.105.19.58</td>\n",
       "    </tr>\n",
       "    <tr>\n",
       "      <th>2019-11-19 10:07:45</th>\n",
       "      <td>search/search_index.json</td>\n",
       "      <td>455</td>\n",
       "      <td>33.0</td>\n",
       "      <td>97.105.19.58</td>\n",
       "    </tr>\n",
       "  </tbody>\n",
       "</table>\n",
       "<p>399195 rows × 4 columns</p>\n",
       "</div>"
      ],
      "text/plain": [
       "                                                    page  num1  num2  \\\n",
       "date                                                                   \n",
       "2018-01-26 09:55:03                                    /     1   8.0   \n",
       "2018-01-26 09:56:02                              java-ii     1   8.0   \n",
       "2018-01-26 09:56:05  java-ii/object-oriented-programming     1   8.0   \n",
       "2018-01-26 09:56:06   slides/object_oriented_programming     1   8.0   \n",
       "2018-01-26 09:56:24            javascript-i/conditionals     2  22.0   \n",
       "...                                                  ...   ...   ...   \n",
       "2019-11-19 10:06:28      spring/fundamentals/controllers   445  33.0   \n",
       "2019-11-19 10:06:50            spring/fundamentals/views   445  33.0   \n",
       "2019-11-19 10:07:03               8-clustering/3-wrangle   475  34.0   \n",
       "2019-11-19 10:07:07           7-classification/2-acquire   475  34.0   \n",
       "2019-11-19 10:07:45             search/search_index.json   455  33.0   \n",
       "\n",
       "                               ip  \n",
       "date                               \n",
       "2018-01-26 09:55:03  97.105.19.61  \n",
       "2018-01-26 09:56:02  97.105.19.61  \n",
       "2018-01-26 09:56:05  97.105.19.61  \n",
       "2018-01-26 09:56:06  97.105.19.61  \n",
       "2018-01-26 09:56:24  97.105.19.61  \n",
       "...                           ...  \n",
       "2019-11-19 10:06:28  97.105.19.58  \n",
       "2019-11-19 10:06:50  97.105.19.58  \n",
       "2019-11-19 10:07:03  97.105.19.58  \n",
       "2019-11-19 10:07:07  97.105.19.58  \n",
       "2019-11-19 10:07:45  97.105.19.58  \n",
       "\n",
       "[399195 rows x 4 columns]"
      ]
     },
     "execution_count": 115,
     "metadata": {},
     "output_type": "execute_result"
    }
   ],
   "source": [
    "df"
   ]
  },
  {
   "cell_type": "markdown",
   "metadata": {},
   "source": [
    "### Dive into num1"
   ]
  },
  {
   "cell_type": "code",
   "execution_count": 116,
   "metadata": {},
   "outputs": [
    {
     "data": {
      "text/plain": [
       "count    399195.000000\n",
       "mean        268.794667\n",
       "std         147.587312\n",
       "min           1.000000\n",
       "25%         157.000000\n",
       "50%         288.000000\n",
       "75%         392.000000\n",
       "max         543.000000\n",
       "Name: num1, dtype: float64"
      ]
     },
     "execution_count": 116,
     "metadata": {},
     "output_type": "execute_result"
    }
   ],
   "source": [
    "df.num1.describe()"
   ]
  },
  {
   "cell_type": "code",
   "execution_count": 117,
   "metadata": {},
   "outputs": [
    {
     "data": {
      "text/plain": [
       "53     8236\n",
       "64     8008\n",
       "11     8004\n",
       "344    5279\n",
       "1      4266\n",
       "       ... \n",
       "66        1\n",
       "461       1\n",
       "163       1\n",
       "165       1\n",
       "212       1\n",
       "Name: num1, Length: 543, dtype: int64"
      ]
     },
     "execution_count": 117,
     "metadata": {},
     "output_type": "execute_result"
    }
   ],
   "source": [
    "df.num1.value_counts()"
   ]
  },
  {
   "cell_type": "code",
   "execution_count": 118,
   "metadata": {},
   "outputs": [
    {
     "data": {
      "text/plain": [
       "<matplotlib.axes._subplots.AxesSubplot at 0x1a32999f28>"
      ]
     },
     "execution_count": 118,
     "metadata": {},
     "output_type": "execute_result"
    },
    {
     "data": {
      "image/png": "[encoded data removed]",
      "text/plain": [
       "<Figure size 432x288 with 1 Axes>"
      ]
     },
     "metadata": {
      "needs_background": "light"
     },
     "output_type": "display_data"
    }
   ],
   "source": [
    "df [df.num1 == 344 ].num2.plot()"
   ]
  },
  {
   "cell_type": "code",
   "execution_count": 119,
   "metadata": {},
   "outputs": [
    {
     "data": {
      "image/png": "[encoded data removed]",
      "text/plain": [
       "<Figure size 432x288 with 1 Axes>"
      ]
     },
     "metadata": {
      "needs_background": "light"
     },
     "output_type": "display_data"
    }
   ],
   "source": [
    "df.num1.plot()\n",
    "plt.show()"
   ]
  },
  {
   "cell_type": "code",
   "execution_count": 120,
   "metadata": {},
   "outputs": [
    {
     "data": {
      "image/png": "[encoded data removed]",
      "text/plain": [
       "<Figure size 432x288 with 1 Axes>"
      ]
     },
     "metadata": {
      "needs_background": "light"
     },
     "output_type": "display_data"
    }
   ],
   "source": [
    "df.num1.resample(\"D\").min().plot(label=\"min\")\n",
    "df.num1.resample(\"D\").max().plot(label=\"max\")\n",
    "plt.legend()\n",
    "plt.show()"
   ]
  },
  {
   "cell_type": "markdown",
   "metadata": {},
   "source": [
    "> I still don't know what these values are"
   ]
  },
  {
   "cell_type": "markdown",
   "metadata": {},
   "source": [
    "### Dive into num2"
   ]
  },
  {
   "cell_type": "code",
   "execution_count": 121,
   "metadata": {},
   "outputs": [
    {
     "data": {
      "text/plain": [
       "count    372441.000000\n",
       "mean         26.912649\n",
       "std           7.846146\n",
       "min           1.000000\n",
       "25%          23.000000\n",
       "50%          27.000000\n",
       "75%          31.000000\n",
       "max          52.000000\n",
       "Name: num2, dtype: float64"
      ]
     },
     "execution_count": 121,
     "metadata": {},
     "output_type": "execute_result"
    }
   ],
   "source": [
    "df.num2.describe()"
   ]
  },
  {
   "cell_type": "code",
   "execution_count": 122,
   "metadata": {},
   "outputs": [
    {
     "data": {
      "text/plain": [
       "29.0    35969\n",
       "24.0    35039\n",
       "33.0    34433\n",
       "22.0    28875\n",
       "23.0    28056\n",
       "32.0    26801\n",
       "26.0    26760\n",
       "25.0    25233\n",
       "31.0    22665\n",
       "28.0    20677\n",
       "27.0    20198\n",
       "34.0    15519\n",
       "51.0    10835\n",
       "14.0     9069\n",
       "1.0      8877\n",
       "21.0     7181\n",
       "17.0     3792\n",
       "52.0     2896\n",
       "13.0     2610\n",
       "8.0      1671\n",
       "18.0     1603\n",
       "19.0     1142\n",
       "16.0      740\n",
       "15.0      691\n",
       "7.0       461\n",
       "12.0      270\n",
       "11.0      204\n",
       "2.0        93\n",
       "6.0        72\n",
       "9.0         5\n",
       "4.0         4\n",
       "Name: num2, dtype: int64"
      ]
     },
     "execution_count": 122,
     "metadata": {},
     "output_type": "execute_result"
    }
   ],
   "source": [
    "df.num2.value_counts()"
   ]
  },
  {
   "cell_type": "code",
   "execution_count": 123,
   "metadata": {},
   "outputs": [
    {
     "data": {
      "image/png": "[encoded data removed]",
      "text/plain": [
       "<Figure size 432x288 with 1 Axes>"
      ]
     },
     "metadata": {
      "needs_background": "light"
     },
     "output_type": "display_data"
    }
   ],
   "source": [
    "df.num2.plot()\n",
    "plt.show()"
   ]
  },
  {
   "cell_type": "code",
   "execution_count": 124,
   "metadata": {},
   "outputs": [
    {
     "data": {
      "image/png": "[encoded data removed]",
      "text/plain": [
       "<Figure size 432x288 with 1 Axes>"
      ]
     },
     "metadata": {
      "needs_background": "light"
     },
     "output_type": "display_data"
    }
   ],
   "source": [
    "df.num2.resample(\"D\").min().plot(label=\"min\")\n",
    "df.num2.resample(\"D\").max().plot(label=\"max\")\n",
    "plt.legend()\n",
    "plt.show()"
   ]
  },
  {
   "cell_type": "code",
   "execution_count": 125,
   "metadata": {},
   "outputs": [
    {
     "data": {
      "text/html": [
       "<div>\n",
       "<style scoped>\n",
       "    .dataframe tbody tr th:only-of-type {\n",
       "        vertical-align: middle;\n",
       "    }\n",
       "\n",
       "    .dataframe tbody tr th {\n",
       "        vertical-align: top;\n",
       "    }\n",
       "\n",
       "    .dataframe thead tr th {\n",
       "        text-align: left;\n",
       "    }\n",
       "\n",
       "    .dataframe thead tr:last-of-type th {\n",
       "        text-align: right;\n",
       "    }\n",
       "</style>\n",
       "<table border=\"1\" class=\"dataframe\">\n",
       "  <thead>\n",
       "    <tr>\n",
       "      <th></th>\n",
       "      <th colspan=\"2\" halign=\"left\">num1</th>\n",
       "    </tr>\n",
       "    <tr>\n",
       "      <th></th>\n",
       "      <th>min</th>\n",
       "      <th>max</th>\n",
       "    </tr>\n",
       "    <tr>\n",
       "      <th>num2</th>\n",
       "      <th></th>\n",
       "      <th></th>\n",
       "    </tr>\n",
       "  </thead>\n",
       "  <tbody>\n",
       "    <tr>\n",
       "      <th>1.0</th>\n",
       "      <td>11</td>\n",
       "      <td>402</td>\n",
       "    </tr>\n",
       "    <tr>\n",
       "      <th>2.0</th>\n",
       "      <td>144</td>\n",
       "      <td>396</td>\n",
       "    </tr>\n",
       "    <tr>\n",
       "      <th>4.0</th>\n",
       "      <td>85</td>\n",
       "      <td>85</td>\n",
       "    </tr>\n",
       "    <tr>\n",
       "      <th>6.0</th>\n",
       "      <td>283</td>\n",
       "      <td>405</td>\n",
       "    </tr>\n",
       "    <tr>\n",
       "      <th>7.0</th>\n",
       "      <td>77</td>\n",
       "      <td>513</td>\n",
       "    </tr>\n",
       "    <tr>\n",
       "      <th>8.0</th>\n",
       "      <td>1</td>\n",
       "      <td>174</td>\n",
       "    </tr>\n",
       "    <tr>\n",
       "      <th>9.0</th>\n",
       "      <td>152</td>\n",
       "      <td>152</td>\n",
       "    </tr>\n",
       "    <tr>\n",
       "      <th>11.0</th>\n",
       "      <td>88</td>\n",
       "      <td>463</td>\n",
       "    </tr>\n",
       "    <tr>\n",
       "      <th>12.0</th>\n",
       "      <td>88</td>\n",
       "      <td>214</td>\n",
       "    </tr>\n",
       "    <tr>\n",
       "      <th>13.0</th>\n",
       "      <td>50</td>\n",
       "      <td>318</td>\n",
       "    </tr>\n",
       "    <tr>\n",
       "      <th>14.0</th>\n",
       "      <td>53</td>\n",
       "      <td>246</td>\n",
       "    </tr>\n",
       "    <tr>\n",
       "      <th>15.0</th>\n",
       "      <td>72</td>\n",
       "      <td>427</td>\n",
       "    </tr>\n",
       "    <tr>\n",
       "      <th>16.0</th>\n",
       "      <td>21</td>\n",
       "      <td>322</td>\n",
       "    </tr>\n",
       "    <tr>\n",
       "      <th>17.0</th>\n",
       "      <td>102</td>\n",
       "      <td>465</td>\n",
       "    </tr>\n",
       "    <tr>\n",
       "      <th>18.0</th>\n",
       "      <td>26</td>\n",
       "      <td>217</td>\n",
       "    </tr>\n",
       "    <tr>\n",
       "      <th>19.0</th>\n",
       "      <td>37</td>\n",
       "      <td>486</td>\n",
       "    </tr>\n",
       "    <tr>\n",
       "      <th>21.0</th>\n",
       "      <td>10</td>\n",
       "      <td>346</td>\n",
       "    </tr>\n",
       "    <tr>\n",
       "      <th>22.0</th>\n",
       "      <td>2</td>\n",
       "      <td>459</td>\n",
       "    </tr>\n",
       "    <tr>\n",
       "      <th>23.0</th>\n",
       "      <td>25</td>\n",
       "      <td>319</td>\n",
       "    </tr>\n",
       "    <tr>\n",
       "      <th>24.0</th>\n",
       "      <td>182</td>\n",
       "      <td>278</td>\n",
       "    </tr>\n",
       "    <tr>\n",
       "      <th>25.0</th>\n",
       "      <td>218</td>\n",
       "      <td>282</td>\n",
       "    </tr>\n",
       "    <tr>\n",
       "      <th>26.0</th>\n",
       "      <td>259</td>\n",
       "      <td>315</td>\n",
       "    </tr>\n",
       "    <tr>\n",
       "      <th>27.0</th>\n",
       "      <td>287</td>\n",
       "      <td>401</td>\n",
       "    </tr>\n",
       "    <tr>\n",
       "      <th>28.0</th>\n",
       "      <td>1</td>\n",
       "      <td>539</td>\n",
       "    </tr>\n",
       "    <tr>\n",
       "      <th>29.0</th>\n",
       "      <td>323</td>\n",
       "      <td>347</td>\n",
       "    </tr>\n",
       "    <tr>\n",
       "      <th>31.0</th>\n",
       "      <td>373</td>\n",
       "      <td>464</td>\n",
       "    </tr>\n",
       "    <tr>\n",
       "      <th>32.0</th>\n",
       "      <td>407</td>\n",
       "      <td>426</td>\n",
       "    </tr>\n",
       "    <tr>\n",
       "      <th>33.0</th>\n",
       "      <td>433</td>\n",
       "      <td>543</td>\n",
       "    </tr>\n",
       "    <tr>\n",
       "      <th>34.0</th>\n",
       "      <td>358</td>\n",
       "      <td>487</td>\n",
       "    </tr>\n",
       "    <tr>\n",
       "      <th>51.0</th>\n",
       "      <td>488</td>\n",
       "      <td>512</td>\n",
       "    </tr>\n",
       "    <tr>\n",
       "      <th>52.0</th>\n",
       "      <td>516</td>\n",
       "      <td>542</td>\n",
       "    </tr>\n",
       "  </tbody>\n",
       "</table>\n",
       "</div>"
      ],
      "text/plain": [
       "     num1     \n",
       "      min  max\n",
       "num2          \n",
       "1.0    11  402\n",
       "2.0   144  396\n",
       "4.0    85   85\n",
       "6.0   283  405\n",
       "7.0    77  513\n",
       "8.0     1  174\n",
       "9.0   152  152\n",
       "11.0   88  463\n",
       "12.0   88  214\n",
       "13.0   50  318\n",
       "14.0   53  246\n",
       "15.0   72  427\n",
       "16.0   21  322\n",
       "17.0  102  465\n",
       "18.0   26  217\n",
       "19.0   37  486\n",
       "21.0   10  346\n",
       "22.0    2  459\n",
       "23.0   25  319\n",
       "24.0  182  278\n",
       "25.0  218  282\n",
       "26.0  259  315\n",
       "27.0  287  401\n",
       "28.0    1  539\n",
       "29.0  323  347\n",
       "31.0  373  464\n",
       "32.0  407  426\n",
       "33.0  433  543\n",
       "34.0  358  487\n",
       "51.0  488  512\n",
       "52.0  516  542"
      ]
     },
     "execution_count": 125,
     "metadata": {},
     "output_type": "execute_result"
    }
   ],
   "source": [
    "df[[\"num1\",\"num2\"]].groupby(\"num2\").agg([\"min\",\"max\"])"
   ]
  },
  {
   "cell_type": "markdown",
   "metadata": {},
   "source": [
    "> what are y'all"
   ]
  },
  {
   "cell_type": "code",
   "execution_count": 126,
   "metadata": {},
   "outputs": [
    {
     "data": {
      "text/html": [
       "<div>\n",
       "<style scoped>\n",
       "    .dataframe tbody tr th:only-of-type {\n",
       "        vertical-align: middle;\n",
       "    }\n",
       "\n",
       "    .dataframe tbody tr th {\n",
       "        vertical-align: top;\n",
       "    }\n",
       "\n",
       "    .dataframe thead th {\n",
       "        text-align: right;\n",
       "    }\n",
       "</style>\n",
       "<table border=\"1\" class=\"dataframe\">\n",
       "  <thead>\n",
       "    <tr style=\"text-align: right;\">\n",
       "      <th></th>\n",
       "      <th>page</th>\n",
       "      <th>num1</th>\n",
       "      <th>num2</th>\n",
       "      <th>ip</th>\n",
       "    </tr>\n",
       "    <tr>\n",
       "      <th>date</th>\n",
       "      <th></th>\n",
       "      <th></th>\n",
       "      <th></th>\n",
       "      <th></th>\n",
       "    </tr>\n",
       "  </thead>\n",
       "  <tbody>\n",
       "    <tr>\n",
       "      <th>2019-08-20 09:39:58</th>\n",
       "      <td>/</td>\n",
       "      <td>466</td>\n",
       "      <td>34.0</td>\n",
       "      <td>97.105.19.58</td>\n",
       "    </tr>\n",
       "    <tr>\n",
       "      <th>2019-08-20 09:39:59</th>\n",
       "      <td>/</td>\n",
       "      <td>467</td>\n",
       "      <td>34.0</td>\n",
       "      <td>97.105.19.58</td>\n",
       "    </tr>\n",
       "    <tr>\n",
       "      <th>2019-08-20 09:39:59</th>\n",
       "      <td>/</td>\n",
       "      <td>468</td>\n",
       "      <td>34.0</td>\n",
       "      <td>97.105.19.58</td>\n",
       "    </tr>\n",
       "    <tr>\n",
       "      <th>2019-08-20 09:40:02</th>\n",
       "      <td>/</td>\n",
       "      <td>469</td>\n",
       "      <td>34.0</td>\n",
       "      <td>97.105.19.58</td>\n",
       "    </tr>\n",
       "    <tr>\n",
       "      <th>2019-08-20 09:40:08</th>\n",
       "      <td>/</td>\n",
       "      <td>470</td>\n",
       "      <td>34.0</td>\n",
       "      <td>97.105.19.58</td>\n",
       "    </tr>\n",
       "    <tr>\n",
       "      <th>...</th>\n",
       "      <td>...</td>\n",
       "      <td>...</td>\n",
       "      <td>...</td>\n",
       "      <td>...</td>\n",
       "    </tr>\n",
       "    <tr>\n",
       "      <th>2019-11-19 10:02:38</th>\n",
       "      <td>9-timeseries/3-prep</td>\n",
       "      <td>467</td>\n",
       "      <td>34.0</td>\n",
       "      <td>97.105.19.58</td>\n",
       "    </tr>\n",
       "    <tr>\n",
       "      <th>2019-11-19 10:03:01</th>\n",
       "      <td>9-timeseries/2-acquire</td>\n",
       "      <td>475</td>\n",
       "      <td>34.0</td>\n",
       "      <td>97.105.19.58</td>\n",
       "    </tr>\n",
       "    <tr>\n",
       "      <th>2019-11-19 10:05:00</th>\n",
       "      <td>9-timeseries/project</td>\n",
       "      <td>472</td>\n",
       "      <td>34.0</td>\n",
       "      <td>97.105.19.58</td>\n",
       "    </tr>\n",
       "    <tr>\n",
       "      <th>2019-11-19 10:07:03</th>\n",
       "      <td>8-clustering/3-wrangle</td>\n",
       "      <td>475</td>\n",
       "      <td>34.0</td>\n",
       "      <td>97.105.19.58</td>\n",
       "    </tr>\n",
       "    <tr>\n",
       "      <th>2019-11-19 10:07:07</th>\n",
       "      <td>7-classification/2-acquire</td>\n",
       "      <td>475</td>\n",
       "      <td>34.0</td>\n",
       "      <td>97.105.19.58</td>\n",
       "    </tr>\n",
       "  </tbody>\n",
       "</table>\n",
       "<p>15519 rows × 4 columns</p>\n",
       "</div>"
      ],
      "text/plain": [
       "                                           page  num1  num2            ip\n",
       "date                                                                     \n",
       "2019-08-20 09:39:58                           /   466  34.0  97.105.19.58\n",
       "2019-08-20 09:39:59                           /   467  34.0  97.105.19.58\n",
       "2019-08-20 09:39:59                           /   468  34.0  97.105.19.58\n",
       "2019-08-20 09:40:02                           /   469  34.0  97.105.19.58\n",
       "2019-08-20 09:40:08                           /   470  34.0  97.105.19.58\n",
       "...                                         ...   ...   ...           ...\n",
       "2019-11-19 10:02:38         9-timeseries/3-prep   467  34.0  97.105.19.58\n",
       "2019-11-19 10:03:01      9-timeseries/2-acquire   475  34.0  97.105.19.58\n",
       "2019-11-19 10:05:00        9-timeseries/project   472  34.0  97.105.19.58\n",
       "2019-11-19 10:07:03      8-clustering/3-wrangle   475  34.0  97.105.19.58\n",
       "2019-11-19 10:07:07  7-classification/2-acquire   475  34.0  97.105.19.58\n",
       "\n",
       "[15519 rows x 4 columns]"
      ]
     },
     "execution_count": 126,
     "metadata": {},
     "output_type": "execute_result"
    }
   ],
   "source": [
    "df [df.num2 == 34 ]"
   ]
  },
  {
   "cell_type": "code",
   "execution_count": 127,
   "metadata": {},
   "outputs": [
    {
     "data": {
      "text/plain": [
       "22"
      ]
     },
     "execution_count": 127,
     "metadata": {},
     "output_type": "execute_result"
    }
   ],
   "source": [
    "len(df [df.num2 == 34 ].num1.value_counts())"
   ]
  },
  {
   "cell_type": "code",
   "execution_count": 128,
   "metadata": {},
   "outputs": [
    {
     "data": {
      "text/html": [
       "<div>\n",
       "<style scoped>\n",
       "    .dataframe tbody tr th:only-of-type {\n",
       "        vertical-align: middle;\n",
       "    }\n",
       "\n",
       "    .dataframe tbody tr th {\n",
       "        vertical-align: top;\n",
       "    }\n",
       "\n",
       "    .dataframe thead th {\n",
       "        text-align: right;\n",
       "    }\n",
       "</style>\n",
       "<table border=\"1\" class=\"dataframe\">\n",
       "  <thead>\n",
       "    <tr style=\"text-align: right;\">\n",
       "      <th></th>\n",
       "      <th>page</th>\n",
       "      <th>num1</th>\n",
       "      <th>num2</th>\n",
       "      <th>ip</th>\n",
       "    </tr>\n",
       "    <tr>\n",
       "      <th>date</th>\n",
       "      <th></th>\n",
       "      <th></th>\n",
       "      <th></th>\n",
       "      <th></th>\n",
       "    </tr>\n",
       "  </thead>\n",
       "  <tbody>\n",
       "    <tr>\n",
       "      <th>2019-08-20 09:40:40</th>\n",
       "      <td>/</td>\n",
       "      <td>479</td>\n",
       "      <td>34.0</td>\n",
       "      <td>97.105.19.58</td>\n",
       "    </tr>\n",
       "    <tr>\n",
       "      <th>2019-08-20 09:40:50</th>\n",
       "      <td>appendix/cli-git-overview</td>\n",
       "      <td>479</td>\n",
       "      <td>34.0</td>\n",
       "      <td>97.105.19.58</td>\n",
       "    </tr>\n",
       "    <tr>\n",
       "      <th>2019-08-20 09:42:44</th>\n",
       "      <td>/</td>\n",
       "      <td>479</td>\n",
       "      <td>34.0</td>\n",
       "      <td>97.105.19.58</td>\n",
       "    </tr>\n",
       "    <tr>\n",
       "      <th>2019-08-20 10:46:56</th>\n",
       "      <td>1-fundamentals/1.1-intro-to-data-science</td>\n",
       "      <td>479</td>\n",
       "      <td>34.0</td>\n",
       "      <td>97.105.19.58</td>\n",
       "    </tr>\n",
       "    <tr>\n",
       "      <th>2019-08-20 10:46:56</th>\n",
       "      <td>1-fundamentals/modern-data-scientist.jpg</td>\n",
       "      <td>479</td>\n",
       "      <td>34.0</td>\n",
       "      <td>97.105.19.58</td>\n",
       "    </tr>\n",
       "    <tr>\n",
       "      <th>2019-08-20 10:46:56</th>\n",
       "      <td>1-fundamentals/AI-ML-DL-timeline.jpg</td>\n",
       "      <td>479</td>\n",
       "      <td>34.0</td>\n",
       "      <td>97.105.19.58</td>\n",
       "    </tr>\n",
       "    <tr>\n",
       "      <th>2019-08-20 15:03:35</th>\n",
       "      <td>1-fundamentals/1.2-data-science-pipeline</td>\n",
       "      <td>479</td>\n",
       "      <td>34.0</td>\n",
       "      <td>97.105.19.58</td>\n",
       "    </tr>\n",
       "    <tr>\n",
       "      <th>2019-08-20 15:03:35</th>\n",
       "      <td>1-fundamentals/DataToAction_v2.jpg</td>\n",
       "      <td>479</td>\n",
       "      <td>34.0</td>\n",
       "      <td>97.105.19.58</td>\n",
       "    </tr>\n",
       "    <tr>\n",
       "      <th>2019-08-20 15:04:17</th>\n",
       "      <td>1-fundamentals/1.3-pipeline-demo</td>\n",
       "      <td>479</td>\n",
       "      <td>34.0</td>\n",
       "      <td>97.105.19.58</td>\n",
       "    </tr>\n",
       "    <tr>\n",
       "      <th>2019-08-20 16:01:54</th>\n",
       "      <td>/</td>\n",
       "      <td>479</td>\n",
       "      <td>34.0</td>\n",
       "      <td>97.105.19.58</td>\n",
       "    </tr>\n",
       "    <tr>\n",
       "      <th>2019-08-20 16:02:04</th>\n",
       "      <td>1-fundamentals/1.1-intro-to-data-science</td>\n",
       "      <td>479</td>\n",
       "      <td>34.0</td>\n",
       "      <td>97.105.19.58</td>\n",
       "    </tr>\n",
       "    <tr>\n",
       "      <th>2019-08-20 16:02:04</th>\n",
       "      <td>1-fundamentals/modern-data-scientist.jpg</td>\n",
       "      <td>479</td>\n",
       "      <td>34.0</td>\n",
       "      <td>97.105.19.58</td>\n",
       "    </tr>\n",
       "    <tr>\n",
       "      <th>2019-08-20 16:02:04</th>\n",
       "      <td>1-fundamentals/AI-ML-DL-timeline.jpg</td>\n",
       "      <td>479</td>\n",
       "      <td>34.0</td>\n",
       "      <td>97.105.19.58</td>\n",
       "    </tr>\n",
       "    <tr>\n",
       "      <th>2019-08-20 16:02:17</th>\n",
       "      <td>1-fundamentals/1.2-data-science-pipeline</td>\n",
       "      <td>479</td>\n",
       "      <td>34.0</td>\n",
       "      <td>97.105.19.58</td>\n",
       "    </tr>\n",
       "    <tr>\n",
       "      <th>2019-08-20 16:02:17</th>\n",
       "      <td>1-fundamentals/DataToAction_v2.jpg</td>\n",
       "      <td>479</td>\n",
       "      <td>34.0</td>\n",
       "      <td>97.105.19.58</td>\n",
       "    </tr>\n",
       "    <tr>\n",
       "      <th>2019-08-20 16:02:32</th>\n",
       "      <td>1-fundamentals/1.3-pipeline-demo</td>\n",
       "      <td>479</td>\n",
       "      <td>34.0</td>\n",
       "      <td>97.105.19.58</td>\n",
       "    </tr>\n",
       "    <tr>\n",
       "      <th>2019-08-21 08:38:07</th>\n",
       "      <td>/</td>\n",
       "      <td>479</td>\n",
       "      <td>34.0</td>\n",
       "      <td>97.105.19.58</td>\n",
       "    </tr>\n",
       "    <tr>\n",
       "      <th>2019-08-21 09:08:56</th>\n",
       "      <td>1-fundamentals/1.1-intro-to-data-science</td>\n",
       "      <td>479</td>\n",
       "      <td>34.0</td>\n",
       "      <td>97.105.19.58</td>\n",
       "    </tr>\n",
       "    <tr>\n",
       "      <th>2019-08-21 09:08:56</th>\n",
       "      <td>1-fundamentals/modern-data-scientist.jpg</td>\n",
       "      <td>479</td>\n",
       "      <td>34.0</td>\n",
       "      <td>97.105.19.58</td>\n",
       "    </tr>\n",
       "    <tr>\n",
       "      <th>2019-08-21 09:08:56</th>\n",
       "      <td>1-fundamentals/AI-ML-DL-timeline.jpg</td>\n",
       "      <td>479</td>\n",
       "      <td>34.0</td>\n",
       "      <td>97.105.19.58</td>\n",
       "    </tr>\n",
       "    <tr>\n",
       "      <th>2019-08-21 09:20:38</th>\n",
       "      <td>1-fundamentals/1.2-data-science-pipeline</td>\n",
       "      <td>479</td>\n",
       "      <td>34.0</td>\n",
       "      <td>97.105.19.58</td>\n",
       "    </tr>\n",
       "    <tr>\n",
       "      <th>2019-08-21 09:20:38</th>\n",
       "      <td>1-fundamentals/DataToAction_v2.jpg</td>\n",
       "      <td>479</td>\n",
       "      <td>34.0</td>\n",
       "      <td>97.105.19.58</td>\n",
       "    </tr>\n",
       "    <tr>\n",
       "      <th>2019-08-21 09:20:41</th>\n",
       "      <td>1-fundamentals/1.1-intro-to-data-science</td>\n",
       "      <td>479</td>\n",
       "      <td>34.0</td>\n",
       "      <td>97.105.19.58</td>\n",
       "    </tr>\n",
       "    <tr>\n",
       "      <th>2019-08-21 09:20:41</th>\n",
       "      <td>1-fundamentals/modern-data-scientist.jpg</td>\n",
       "      <td>479</td>\n",
       "      <td>34.0</td>\n",
       "      <td>97.105.19.58</td>\n",
       "    </tr>\n",
       "    <tr>\n",
       "      <th>2019-08-21 09:20:41</th>\n",
       "      <td>1-fundamentals/AI-ML-DL-timeline.jpg</td>\n",
       "      <td>479</td>\n",
       "      <td>34.0</td>\n",
       "      <td>97.105.19.58</td>\n",
       "    </tr>\n",
       "    <tr>\n",
       "      <th>2019-08-21 09:42:46</th>\n",
       "      <td>1-fundamentals/1.2-data-science-pipeline</td>\n",
       "      <td>479</td>\n",
       "      <td>34.0</td>\n",
       "      <td>97.105.19.58</td>\n",
       "    </tr>\n",
       "    <tr>\n",
       "      <th>2019-08-21 09:42:46</th>\n",
       "      <td>1-fundamentals/DataToAction_v2.jpg</td>\n",
       "      <td>479</td>\n",
       "      <td>34.0</td>\n",
       "      <td>97.105.19.58</td>\n",
       "    </tr>\n",
       "    <tr>\n",
       "      <th>2019-08-21 10:44:46</th>\n",
       "      <td>1-fundamentals/1.1-intro-to-data-science</td>\n",
       "      <td>479</td>\n",
       "      <td>34.0</td>\n",
       "      <td>97.105.19.58</td>\n",
       "    </tr>\n",
       "    <tr>\n",
       "      <th>2019-08-21 10:44:46</th>\n",
       "      <td>1-fundamentals/modern-data-scientist.jpg</td>\n",
       "      <td>479</td>\n",
       "      <td>34.0</td>\n",
       "      <td>97.105.19.58</td>\n",
       "    </tr>\n",
       "    <tr>\n",
       "      <th>2019-08-21 10:44:46</th>\n",
       "      <td>1-fundamentals/AI-ML-DL-timeline.jpg</td>\n",
       "      <td>479</td>\n",
       "      <td>34.0</td>\n",
       "      <td>97.105.19.58</td>\n",
       "    </tr>\n",
       "    <tr>\n",
       "      <th>2019-08-21 10:44:46</th>\n",
       "      <td>1-fundamentals/AI-ML-DL-timeline.jpg</td>\n",
       "      <td>479</td>\n",
       "      <td>34.0</td>\n",
       "      <td>97.105.19.58</td>\n",
       "    </tr>\n",
       "    <tr>\n",
       "      <th>2019-08-21 10:44:46</th>\n",
       "      <td>1-fundamentals/modern-data-scientist.jpg</td>\n",
       "      <td>479</td>\n",
       "      <td>34.0</td>\n",
       "      <td>97.105.19.58</td>\n",
       "    </tr>\n",
       "    <tr>\n",
       "      <th>2019-08-21 10:45:46</th>\n",
       "      <td>1-fundamentals/1.2-data-science-pipeline</td>\n",
       "      <td>479</td>\n",
       "      <td>34.0</td>\n",
       "      <td>97.105.19.58</td>\n",
       "    </tr>\n",
       "    <tr>\n",
       "      <th>2019-08-21 10:45:46</th>\n",
       "      <td>1-fundamentals/DataToAction_v2.jpg</td>\n",
       "      <td>479</td>\n",
       "      <td>34.0</td>\n",
       "      <td>97.105.19.58</td>\n",
       "    </tr>\n",
       "    <tr>\n",
       "      <th>2019-08-21 11:36:11</th>\n",
       "      <td>1-fundamentals/1.3-pipeline-demo</td>\n",
       "      <td>479</td>\n",
       "      <td>34.0</td>\n",
       "      <td>97.105.19.58</td>\n",
       "    </tr>\n",
       "  </tbody>\n",
       "</table>\n",
       "</div>"
      ],
      "text/plain": [
       "                                                         page  num1  num2  \\\n",
       "date                                                                        \n",
       "2019-08-20 09:40:40                                         /   479  34.0   \n",
       "2019-08-20 09:40:50                 appendix/cli-git-overview   479  34.0   \n",
       "2019-08-20 09:42:44                                         /   479  34.0   \n",
       "2019-08-20 10:46:56  1-fundamentals/1.1-intro-to-data-science   479  34.0   \n",
       "2019-08-20 10:46:56  1-fundamentals/modern-data-scientist.jpg   479  34.0   \n",
       "2019-08-20 10:46:56      1-fundamentals/AI-ML-DL-timeline.jpg   479  34.0   \n",
       "2019-08-20 15:03:35  1-fundamentals/1.2-data-science-pipeline   479  34.0   \n",
       "2019-08-20 15:03:35        1-fundamentals/DataToAction_v2.jpg   479  34.0   \n",
       "2019-08-20 15:04:17          1-fundamentals/1.3-pipeline-demo   479  34.0   \n",
       "2019-08-20 16:01:54                                         /   479  34.0   \n",
       "2019-08-20 16:02:04  1-fundamentals/1.1-intro-to-data-science   479  34.0   \n",
       "2019-08-20 16:02:04  1-fundamentals/modern-data-scientist.jpg   479  34.0   \n",
       "2019-08-20 16:02:04      1-fundamentals/AI-ML-DL-timeline.jpg   479  34.0   \n",
       "2019-08-20 16:02:17  1-fundamentals/1.2-data-science-pipeline   479  34.0   \n",
       "2019-08-20 16:02:17        1-fundamentals/DataToAction_v2.jpg   479  34.0   \n",
       "2019-08-20 16:02:32          1-fundamentals/1.3-pipeline-demo   479  34.0   \n",
       "2019-08-21 08:38:07                                         /   479  34.0   \n",
       "2019-08-21 09:08:56  1-fundamentals/1.1-intro-to-data-science   479  34.0   \n",
       "2019-08-21 09:08:56  1-fundamentals/modern-data-scientist.jpg   479  34.0   \n",
       "2019-08-21 09:08:56      1-fundamentals/AI-ML-DL-timeline.jpg   479  34.0   \n",
       "2019-08-21 09:20:38  1-fundamentals/1.2-data-science-pipeline   479  34.0   \n",
       "2019-08-21 09:20:38        1-fundamentals/DataToAction_v2.jpg   479  34.0   \n",
       "2019-08-21 09:20:41  1-fundamentals/1.1-intro-to-data-science   479  34.0   \n",
       "2019-08-21 09:20:41  1-fundamentals/modern-data-scientist.jpg   479  34.0   \n",
       "2019-08-21 09:20:41      1-fundamentals/AI-ML-DL-timeline.jpg   479  34.0   \n",
       "2019-08-21 09:42:46  1-fundamentals/1.2-data-science-pipeline   479  34.0   \n",
       "2019-08-21 09:42:46        1-fundamentals/DataToAction_v2.jpg   479  34.0   \n",
       "2019-08-21 10:44:46  1-fundamentals/1.1-intro-to-data-science   479  34.0   \n",
       "2019-08-21 10:44:46  1-fundamentals/modern-data-scientist.jpg   479  34.0   \n",
       "2019-08-21 10:44:46      1-fundamentals/AI-ML-DL-timeline.jpg   479  34.0   \n",
       "2019-08-21 10:44:46      1-fundamentals/AI-ML-DL-timeline.jpg   479  34.0   \n",
       "2019-08-21 10:44:46  1-fundamentals/modern-data-scientist.jpg   479  34.0   \n",
       "2019-08-21 10:45:46  1-fundamentals/1.2-data-science-pipeline   479  34.0   \n",
       "2019-08-21 10:45:46        1-fundamentals/DataToAction_v2.jpg   479  34.0   \n",
       "2019-08-21 11:36:11          1-fundamentals/1.3-pipeline-demo   479  34.0   \n",
       "\n",
       "                               ip  \n",
       "date                               \n",
       "2019-08-20 09:40:40  97.105.19.58  \n",
       "2019-08-20 09:40:50  97.105.19.58  \n",
       "2019-08-20 09:42:44  97.105.19.58  \n",
       "2019-08-20 10:46:56  97.105.19.58  \n",
       "2019-08-20 10:46:56  97.105.19.58  \n",
       "2019-08-20 10:46:56  97.105.19.58  \n",
       "2019-08-20 15:03:35  97.105.19.58  \n",
       "2019-08-20 15:03:35  97.105.19.58  \n",
       "2019-08-20 15:04:17  97.105.19.58  \n",
       "2019-08-20 16:01:54  97.105.19.58  \n",
       "2019-08-20 16:02:04  97.105.19.58  \n",
       "2019-08-20 16:02:04  97.105.19.58  \n",
       "2019-08-20 16:02:04  97.105.19.58  \n",
       "2019-08-20 16:02:17  97.105.19.58  \n",
       "2019-08-20 16:02:17  97.105.19.58  \n",
       "2019-08-20 16:02:32  97.105.19.58  \n",
       "2019-08-21 08:38:07  97.105.19.58  \n",
       "2019-08-21 09:08:56  97.105.19.58  \n",
       "2019-08-21 09:08:56  97.105.19.58  \n",
       "2019-08-21 09:08:56  97.105.19.58  \n",
       "2019-08-21 09:20:38  97.105.19.58  \n",
       "2019-08-21 09:20:38  97.105.19.58  \n",
       "2019-08-21 09:20:41  97.105.19.58  \n",
       "2019-08-21 09:20:41  97.105.19.58  \n",
       "2019-08-21 09:20:41  97.105.19.58  \n",
       "2019-08-21 09:42:46  97.105.19.58  \n",
       "2019-08-21 09:42:46  97.105.19.58  \n",
       "2019-08-21 10:44:46  97.105.19.58  \n",
       "2019-08-21 10:44:46  97.105.19.58  \n",
       "2019-08-21 10:44:46  97.105.19.58  \n",
       "2019-08-21 10:44:46  97.105.19.58  \n",
       "2019-08-21 10:44:46  97.105.19.58  \n",
       "2019-08-21 10:45:46  97.105.19.58  \n",
       "2019-08-21 10:45:46  97.105.19.58  \n",
       "2019-08-21 11:36:11  97.105.19.58  "
      ]
     },
     "execution_count": 128,
     "metadata": {},
     "output_type": "execute_result"
    }
   ],
   "source": [
    "df [df.num1 == 479 ].head(35)"
   ]
  },
  {
   "cell_type": "markdown",
   "metadata": {},
   "source": [
    "I believe that num1 is each person's individial id number (associated with with github account) and num2 is the related to the cohort. num2 = 34 is the bayes cohort. There are 22 id's in the bayes cohort. We only started with 21 students in the class. But one person only viewed the curriculum 17 times, so DO THEY EVEN GO HERE? "
   ]
  },
  {
   "cell_type": "code",
   "execution_count": 129,
   "metadata": {},
   "outputs": [
    {
     "name": "stdout",
     "output_type": "stream",
     "text": [
      "466\n",
      "['97.105.19.58' '70.226.110.58' '71.78.109.210']\n",
      "\n",
      "467\n",
      "['97.105.19.58' '173.173.105.24' '192.171.117.210']\n",
      "\n",
      "468\n",
      "['97.105.19.58' '173.175.104.33' '136.50.54.2' '70.121.200.203'\n",
      " '67.11.124.64' '67.79.62.147']\n",
      "\n",
      "469\n",
      "['97.105.19.58' '67.11.115.125']\n",
      "\n",
      "470\n",
      "['97.105.19.58' '66.69.81.250' '12.247.3.50' '192.171.117.210']\n",
      "\n",
      "471\n",
      "['97.105.19.58' '216.110.79.11' '99.158.246.101' '99.158.247.1'\n",
      " '75.4.99.66' '192.171.117.210']\n",
      "\n",
      "472\n",
      "['97.105.19.58' '173.149.142.35' '67.11.82.11' '173.127.7.219'\n",
      " '173.127.93.78' '184.226.46.205' '67.48.59.123' '166.251.106.216'\n",
      " '67.11.120.157' '12.97.187.16' '166.251.101.230' '12.97.187.13'\n",
      " '12.97.187.15' '184.203.5.0' '184.203.21.120' '184.226.92.76']\n",
      "\n",
      "473\n",
      "['97.105.19.58' '67.10.174.4' '208.54.86.133' '172.56.7.16' '172.56.7.112'\n",
      " '208.54.86.240' '172.58.110.227' '172.58.110.148' '172.58.107.104'\n",
      " '172.58.70.158' '172.58.107.139' '71.42.230.162']\n",
      "\n",
      "474\n",
      "['97.105.19.58' '108.174.80.231' '192.171.117.210']\n",
      "\n",
      "475\n",
      "['97.105.19.58' '70.226.109.182']\n",
      "\n",
      "476\n",
      "['97.105.19.58' '136.50.49.145' '64.108.32.10']\n",
      "\n",
      "477\n",
      "['97.105.19.58' '166.251.109.48' '70.123.225.30']\n",
      "\n",
      "478\n",
      "['97.105.19.58' '172.8.173.224' '12.197.196.242' '71.42.196.114'\n",
      " '192.171.117.210' '107.77.221.19' '71.41.242.68' '67.11.138.10'\n",
      " '71.78.217.82' '67.10.164.203' '107.77.220.85' '107.77.217.54'\n",
      " '107.77.222.99' '107.77.218.4' '107.77.218.92' '107.77.222.219']\n",
      "\n",
      "479\n",
      "['97.105.19.58' '174.207.21.10' '130.45.33.133' '172.14.106.31'\n",
      " '98.6.147.203' '70.121.200.203' '67.79.15.43']\n",
      "\n",
      "480\n",
      "['97.105.19.58' '75.1.166.163' '192.171.117.210']\n",
      "\n",
      "481\n",
      "['97.105.19.58' '99.98.32.97' '72.181.117.73' '107.132.82.186'\n",
      " '192.171.117.210' '209.6.64.234' '66.25.146.95' '172.58.107.182']\n",
      "\n",
      "482\n",
      "['97.105.19.58' '172.124.64.127' '67.78.73.114']\n",
      "\n",
      "483\n",
      "['97.105.19.58' '67.11.120.157' '96.8.151.49' '166.251.109.196'\n",
      " '172.58.103.191' '166.251.101.233' '166.251.101.2' '166.251.109.48'\n",
      " '172.58.96.115' '24.27.227.1' '166.251.109.240' '96.8.130.165'\n",
      " '166.251.106.216' '24.27.227.129' '67.79.62.147']\n",
      "\n",
      "484\n",
      "['97.105.19.58' '70.117.31.136' '70.123.161.21' '192.171.117.210']\n",
      "\n",
      "485\n",
      "['97.105.19.58' '76.211.181.33' '192.171.117.210' '67.78.73.114']\n",
      "\n",
      "358\n",
      "['97.105.19.58' '65.43.118.72' '192.171.117.210' '72.181.113.170']\n",
      "\n",
      "487\n",
      "['97.105.19.58']\n",
      "\n"
     ]
    }
   ],
   "source": [
    "for id in df [ df.num2 == 34 ].num1.unique():\n",
    "    print(id)\n",
    "    print(df [df.num1 == id].ip.unique())\n",
    "    print()"
   ]
  },
  {
   "cell_type": "markdown",
   "metadata": {},
   "source": [
    "Dat's us! Which one is me?! The professors obviously aren't included in this list. And they will mostly span past the regular cohort time. I should be able to easily identify DS instructor ids as folks who were accessing the cirrculum between Ada and Bayes cohorts (between June and August). Perhaps all instructors and staff don't have a cohort_id and that's why there are nulls in that column."
   ]
  },
  {
   "cell_type": "code",
   "execution_count": 156,
   "metadata": {},
   "outputs": [
    {
     "data": {
      "text/plain": [
       "354    2821\n",
       "363    2237\n",
       "368    2063\n",
       "349    1593\n",
       "48     1470\n",
       "355    1436\n",
       "353    1370\n",
       "362    1150\n",
       "366    1051\n",
       "367    1042\n",
       "372     867\n",
       "61      816\n",
       "351     789\n",
       "352     767\n",
       "111     753\n",
       "361     727\n",
       "364     637\n",
       "357     605\n",
       "359     519\n",
       "58      462\n",
       "369     442\n",
       "403     418\n",
       "365     331\n",
       "429     304\n",
       "360     251\n",
       "88      223\n",
       "79      191\n",
       "86      177\n",
       "54      146\n",
       "358     138\n",
       "375     132\n",
       "350      87\n",
       "406      87\n",
       "73       84\n",
       "74       80\n",
       "166      77\n",
       "317      73\n",
       "247      66\n",
       "100      59\n",
       "78       53\n",
       "59       42\n",
       "103      42\n",
       "63       22\n",
       "356      21\n",
       "213      13\n",
       "137      10\n",
       "62        4\n",
       "89        3\n",
       "176       3\n",
       "Name: person_id, dtype: int64"
      ]
     },
     "execution_count": 156,
     "metadata": {},
     "output_type": "execute_result"
    }
   ],
   "source": [
    "# non student ids and the number of times they have accessed the cirruculum \n",
    "df [df.cohort_id.isnull()].person_id.value_counts()"
   ]
  },
  {
   "cell_type": "markdown",
   "metadata": {},
   "source": [
    "### Rename column headers to be reflective of data "
   ]
  },
  {
   "cell_type": "code",
   "execution_count": 130,
   "metadata": {},
   "outputs": [],
   "source": [
    "df.rename(columns={\"num1\":\"person_id\", \"num2\":\"cohort_id\"}, inplace=True)"
   ]
  },
  {
   "cell_type": "markdown",
   "metadata": {},
   "source": [
    "### Dive into page"
   ]
  },
  {
   "cell_type": "code",
   "execution_count": 131,
   "metadata": {},
   "outputs": [
    {
     "data": {
      "text/plain": [
       "/                                             20564\n",
       "javascript-i                                   8140\n",
       "search/search_index.json                       7005\n",
       "toc                                            6679\n",
       "html-css                                       6143\n",
       "                                              ...  \n",
       "t9-solution/index.html                            1\n",
       "java-iii/servelet                                 1\n",
       "java-i/loops                                      1\n",
       "user-input                                        1\n",
       "spring/extra-features/error-pages/asdfasdf        1\n",
       "Name: page, Length: 1641, dtype: int64"
      ]
     },
     "execution_count": 131,
     "metadata": {},
     "output_type": "execute_result"
    }
   ],
   "source": [
    "df.page.value_counts()"
   ]
  },
  {
   "cell_type": "markdown",
   "metadata": {},
   "source": [
    "> Do they need cleanup? "
   ]
  },
  {
   "cell_type": "markdown",
   "metadata": {},
   "source": [
    "### Dive into ip"
   ]
  },
  {
   "cell_type": "code",
   "execution_count": 132,
   "metadata": {},
   "outputs": [
    {
     "data": {
      "text/plain": [
       "97.105.19.58       227220\n",
       "97.105.19.61        61662\n",
       "192.171.117.210      8127\n",
       "70.122.40.62         1338\n",
       "66.69.108.117        1199\n",
       "                    ...  \n",
       "107.77.219.202          1\n",
       "99.203.91.36            1\n",
       "24.243.59.164           1\n",
       "206.77.155.25           1\n",
       "70.123.229.111          1\n",
       "Name: ip, Length: 2585, dtype: int64"
      ]
     },
     "execution_count": 132,
     "metadata": {},
     "output_type": "execute_result"
    }
   ],
   "source": [
    "df.ip.value_counts()"
   ]
  },
  {
   "cell_type": "markdown",
   "metadata": {},
   "source": [
    "### Hi entropy "
   ]
  },
  {
   "cell_type": "code",
   "execution_count": 133,
   "metadata": {},
   "outputs": [],
   "source": [
    "def compute_entropy(series):\n",
    "    counts = series.value_counts()\n",
    "    if len(counts)==1:\n",
    "        ent = 0\n",
    "    else:\n",
    "        value, counts = np.unique(series, return_counts=True)\n",
    "        ent = entropy(counts, base=None)\n",
    "    return ent"
   ]
  },
  {
   "cell_type": "code",
   "execution_count": 134,
   "metadata": {},
   "outputs": [
    {
     "name": "stdout",
     "output_type": "stream",
     "text": [
      "page\n",
      "5.421441033159647\n",
      "\n",
      "person_id\n",
      "5.766669123461863\n",
      "\n",
      "cohort_id\n",
      "3.571745194506109\n",
      "\n",
      "ip\n",
      "2.681171415737275\n",
      "\n"
     ]
    }
   ],
   "source": [
    "for col in df.columns:\n",
    "    print(col)\n",
    "    print(compute_entropy(df[col]))\n",
    "    print()"
   ]
  },
  {
   "cell_type": "markdown",
   "metadata": {},
   "source": [
    "As expected. High entropy for all columns."
   ]
  },
  {
   "cell_type": "markdown",
   "metadata": {},
   "source": [
    "## Investigate "
   ]
  },
  {
   "cell_type": "code",
   "execution_count": 135,
   "metadata": {},
   "outputs": [
    {
     "data": {
      "text/html": [
       "<div>\n",
       "<style scoped>\n",
       "    .dataframe tbody tr th:only-of-type {\n",
       "        vertical-align: middle;\n",
       "    }\n",
       "\n",
       "    .dataframe tbody tr th {\n",
       "        vertical-align: top;\n",
       "    }\n",
       "\n",
       "    .dataframe thead th {\n",
       "        text-align: right;\n",
       "    }\n",
       "</style>\n",
       "<table border=\"1\" class=\"dataframe\">\n",
       "  <thead>\n",
       "    <tr style=\"text-align: right;\">\n",
       "      <th></th>\n",
       "      <th>page</th>\n",
       "      <th>person_id</th>\n",
       "      <th>cohort_id</th>\n",
       "      <th>ip</th>\n",
       "    </tr>\n",
       "    <tr>\n",
       "      <th>date</th>\n",
       "      <th></th>\n",
       "      <th></th>\n",
       "      <th></th>\n",
       "      <th></th>\n",
       "    </tr>\n",
       "  </thead>\n",
       "  <tbody>\n",
       "    <tr>\n",
       "      <th>2018-01-26 09:55:03</th>\n",
       "      <td>/</td>\n",
       "      <td>1</td>\n",
       "      <td>8.0</td>\n",
       "      <td>97.105.19.61</td>\n",
       "    </tr>\n",
       "    <tr>\n",
       "      <th>2018-01-26 09:56:02</th>\n",
       "      <td>java-ii</td>\n",
       "      <td>1</td>\n",
       "      <td>8.0</td>\n",
       "      <td>97.105.19.61</td>\n",
       "    </tr>\n",
       "    <tr>\n",
       "      <th>2018-01-26 09:56:05</th>\n",
       "      <td>java-ii/object-oriented-programming</td>\n",
       "      <td>1</td>\n",
       "      <td>8.0</td>\n",
       "      <td>97.105.19.61</td>\n",
       "    </tr>\n",
       "    <tr>\n",
       "      <th>2018-01-26 09:56:06</th>\n",
       "      <td>slides/object_oriented_programming</td>\n",
       "      <td>1</td>\n",
       "      <td>8.0</td>\n",
       "      <td>97.105.19.61</td>\n",
       "    </tr>\n",
       "    <tr>\n",
       "      <th>2018-01-26 09:56:24</th>\n",
       "      <td>javascript-i/conditionals</td>\n",
       "      <td>2</td>\n",
       "      <td>22.0</td>\n",
       "      <td>97.105.19.61</td>\n",
       "    </tr>\n",
       "  </tbody>\n",
       "</table>\n",
       "</div>"
      ],
      "text/plain": [
       "                                                    page  person_id  \\\n",
       "date                                                                  \n",
       "2018-01-26 09:55:03                                    /          1   \n",
       "2018-01-26 09:56:02                              java-ii          1   \n",
       "2018-01-26 09:56:05  java-ii/object-oriented-programming          1   \n",
       "2018-01-26 09:56:06   slides/object_oriented_programming          1   \n",
       "2018-01-26 09:56:24            javascript-i/conditionals          2   \n",
       "\n",
       "                     cohort_id            ip  \n",
       "date                                          \n",
       "2018-01-26 09:55:03        8.0  97.105.19.61  \n",
       "2018-01-26 09:56:02        8.0  97.105.19.61  \n",
       "2018-01-26 09:56:05        8.0  97.105.19.61  \n",
       "2018-01-26 09:56:06        8.0  97.105.19.61  \n",
       "2018-01-26 09:56:24       22.0  97.105.19.61  "
      ]
     },
     "execution_count": 135,
     "metadata": {},
     "output_type": "execute_result"
    }
   ],
   "source": [
    "df.head()"
   ]
  },
  {
   "cell_type": "markdown",
   "metadata": {},
   "source": [
    "I know cohorts are about 18 weeks long. For each corhort, I will probably want to look at a chorots logs by time, and attempt to see if there are folks spikes in people who are anomolies in viewing the curriculum."
   ]
  },
  {
   "cell_type": "markdown",
   "metadata": {},
   "source": [
    "How do I do that? I dunno"
   ]
  },
  {
   "cell_type": "markdown",
   "metadata": {},
   "source": [
    "Why would I split into train and test? I want to look at all the data. Do a split into test at the end of the cohort? For each cohort? Is that what I'm supposed to be doing? That seems tedious."
   ]
  },
  {
   "cell_type": "markdown",
   "metadata": {},
   "source": [
    "The lack of spell check on here annoys me. "
   ]
  },
  {
   "cell_type": "code",
   "execution_count": 159,
   "metadata": {},
   "outputs": [
    {
     "data": {
      "text/html": [
       "<div>\n",
       "<style scoped>\n",
       "    .dataframe tbody tr th:only-of-type {\n",
       "        vertical-align: middle;\n",
       "    }\n",
       "\n",
       "    .dataframe tbody tr th {\n",
       "        vertical-align: top;\n",
       "    }\n",
       "\n",
       "    .dataframe thead th {\n",
       "        text-align: right;\n",
       "    }\n",
       "</style>\n",
       "<table border=\"1\" class=\"dataframe\">\n",
       "  <thead>\n",
       "    <tr style=\"text-align: right;\">\n",
       "      <th></th>\n",
       "      <th>page</th>\n",
       "      <th>person_id</th>\n",
       "      <th>cohort_id</th>\n",
       "      <th>ip</th>\n",
       "    </tr>\n",
       "    <tr>\n",
       "      <th>date</th>\n",
       "      <th></th>\n",
       "      <th></th>\n",
       "      <th></th>\n",
       "      <th></th>\n",
       "    </tr>\n",
       "  </thead>\n",
       "  <tbody>\n",
       "    <tr>\n",
       "      <th>2018-01-26 09:55:03</th>\n",
       "      <td>/</td>\n",
       "      <td>1</td>\n",
       "      <td>8.0</td>\n",
       "      <td>97.105.19.61</td>\n",
       "    </tr>\n",
       "    <tr>\n",
       "      <th>2018-01-26 09:56:02</th>\n",
       "      <td>java-ii</td>\n",
       "      <td>1</td>\n",
       "      <td>8.0</td>\n",
       "      <td>97.105.19.61</td>\n",
       "    </tr>\n",
       "    <tr>\n",
       "      <th>2018-01-26 09:56:05</th>\n",
       "      <td>java-ii/object-oriented-programming</td>\n",
       "      <td>1</td>\n",
       "      <td>8.0</td>\n",
       "      <td>97.105.19.61</td>\n",
       "    </tr>\n",
       "    <tr>\n",
       "      <th>2018-01-26 09:56:06</th>\n",
       "      <td>slides/object_oriented_programming</td>\n",
       "      <td>1</td>\n",
       "      <td>8.0</td>\n",
       "      <td>97.105.19.61</td>\n",
       "    </tr>\n",
       "    <tr>\n",
       "      <th>2018-01-26 09:56:24</th>\n",
       "      <td>javascript-i/conditionals</td>\n",
       "      <td>2</td>\n",
       "      <td>22.0</td>\n",
       "      <td>97.105.19.61</td>\n",
       "    </tr>\n",
       "    <tr>\n",
       "      <th>...</th>\n",
       "      <td>...</td>\n",
       "      <td>...</td>\n",
       "      <td>...</td>\n",
       "      <td>...</td>\n",
       "    </tr>\n",
       "    <tr>\n",
       "      <th>2019-11-19 10:06:28</th>\n",
       "      <td>spring/fundamentals/controllers</td>\n",
       "      <td>445</td>\n",
       "      <td>33.0</td>\n",
       "      <td>97.105.19.58</td>\n",
       "    </tr>\n",
       "    <tr>\n",
       "      <th>2019-11-19 10:06:50</th>\n",
       "      <td>spring/fundamentals/views</td>\n",
       "      <td>445</td>\n",
       "      <td>33.0</td>\n",
       "      <td>97.105.19.58</td>\n",
       "    </tr>\n",
       "    <tr>\n",
       "      <th>2019-11-19 10:07:03</th>\n",
       "      <td>8-clustering/3-wrangle</td>\n",
       "      <td>475</td>\n",
       "      <td>34.0</td>\n",
       "      <td>97.105.19.58</td>\n",
       "    </tr>\n",
       "    <tr>\n",
       "      <th>2019-11-19 10:07:07</th>\n",
       "      <td>7-classification/2-acquire</td>\n",
       "      <td>475</td>\n",
       "      <td>34.0</td>\n",
       "      <td>97.105.19.58</td>\n",
       "    </tr>\n",
       "    <tr>\n",
       "      <th>2019-11-19 10:07:45</th>\n",
       "      <td>search/search_index.json</td>\n",
       "      <td>455</td>\n",
       "      <td>33.0</td>\n",
       "      <td>97.105.19.58</td>\n",
       "    </tr>\n",
       "  </tbody>\n",
       "</table>\n",
       "<p>399195 rows × 4 columns</p>\n",
       "</div>"
      ],
      "text/plain": [
       "                                                    page  person_id  \\\n",
       "date                                                                  \n",
       "2018-01-26 09:55:03                                    /          1   \n",
       "2018-01-26 09:56:02                              java-ii          1   \n",
       "2018-01-26 09:56:05  java-ii/object-oriented-programming          1   \n",
       "2018-01-26 09:56:06   slides/object_oriented_programming          1   \n",
       "2018-01-26 09:56:24            javascript-i/conditionals          2   \n",
       "...                                                  ...        ...   \n",
       "2019-11-19 10:06:28      spring/fundamentals/controllers        445   \n",
       "2019-11-19 10:06:50            spring/fundamentals/views        445   \n",
       "2019-11-19 10:07:03               8-clustering/3-wrangle        475   \n",
       "2019-11-19 10:07:07           7-classification/2-acquire        475   \n",
       "2019-11-19 10:07:45             search/search_index.json        455   \n",
       "\n",
       "                     cohort_id            ip  \n",
       "date                                          \n",
       "2018-01-26 09:55:03        8.0  97.105.19.61  \n",
       "2018-01-26 09:56:02        8.0  97.105.19.61  \n",
       "2018-01-26 09:56:05        8.0  97.105.19.61  \n",
       "2018-01-26 09:56:06        8.0  97.105.19.61  \n",
       "2018-01-26 09:56:24       22.0  97.105.19.61  \n",
       "...                        ...           ...  \n",
       "2019-11-19 10:06:28       33.0  97.105.19.58  \n",
       "2019-11-19 10:06:50       33.0  97.105.19.58  \n",
       "2019-11-19 10:07:03       34.0  97.105.19.58  \n",
       "2019-11-19 10:07:07       34.0  97.105.19.58  \n",
       "2019-11-19 10:07:45       33.0  97.105.19.58  \n",
       "\n",
       "[399195 rows x 4 columns]"
      ]
     },
     "execution_count": 159,
     "metadata": {},
     "output_type": "execute_result"
    }
   ],
   "source": [
    "df"
   ]
  },
  {
   "cell_type": "code",
   "execution_count": 172,
   "metadata": {},
   "outputs": [
    {
     "data": {
      "image/png": "[encoded data removed]",
      "text/plain": [
       "<Figure size 432x288 with 1 Axes>"
      ]
     },
     "metadata": {
      "needs_background": "light"
     },
     "output_type": "display_data"
    }
   ],
   "source": [
    "df [df.cohort_id == 1].reset_index().plot(x=\"date\")\n",
    "plt.show()"
   ]
  },
  {
   "cell_type": "code",
   "execution_count": 217,
   "metadata": {},
   "outputs": [
    {
     "data": {
      "text/plain": [
       "array([ 11,  60,  64,  95, 141, 146, 148, 170, 209, 211, 212, 248, 257,\n",
       "       312, 313, 316, 398, 402])"
      ]
     },
     "execution_count": 217,
     "metadata": {},
     "output_type": "execute_result"
    }
   ],
   "source": [
    "df [df.cohort_id == 1].person_id.unique()"
   ]
  },
  {
   "cell_type": "markdown",
   "metadata": {},
   "source": [
    "### Find the cohort ids that seem to be associated with a full class"
   ]
  },
  {
   "cell_type": "code",
   "execution_count": 222,
   "metadata": {},
   "outputs": [
    {
     "name": "stdout",
     "output_type": "stream",
     "text": [
      "cohort 1 number has 18 ids\n",
      "cohort 2 number has 3 ids\n",
      "cohort 4 number has 1 ids\n",
      "cohort 6 number has 2 ids\n",
      "cohort 7 number has 6 ids\n",
      "cohort 8 number has 4 ids\n",
      "cohort 9 number has 1 ids\n",
      "cohort 11 number has 5 ids\n",
      "cohort 12 number has 4 ids\n",
      "cohort 13 number has 10 ids\n",
      "cohort 14 number has 10 ids\n",
      "cohort 15 number has 5 ids\n",
      "cohort 16 number has 8 ids\n",
      "cohort 17 number has 12 ids\n",
      "cohort 18 number has 13 ids\n",
      "cohort 19 number has 16 ids\n",
      "cohort 21 number has 28 ids\n",
      "cohort 22 number has 35 ids\n",
      "cohort 23 number has 33 ids\n",
      "cohort 24 number has 33 ids\n",
      "cohort 25 number has 26 ids\n",
      "cohort 26 number has 20 ids\n",
      "cohort 27 number has 28 ids\n",
      "cohort 28 number has 19 ids\n",
      "cohort 29 number has 25 ids\n",
      "cohort 31 number has 28 ids\n",
      "cohort 32 number has 20 ids\n",
      "cohort 33 number has 29 ids\n",
      "cohort 34 number has 22 ids\n",
      "cohort 51 number has 25 ids\n",
      "cohort 52 number has 27 ids\n"
     ]
    }
   ],
   "source": [
    "cohort_w_students = []\n",
    "cohort_maybe = []\n",
    "for cohort in sorted(df.cohort_id.dropna().unique()):\n",
    "    x = len(df [df.cohort_id == cohort].person_id.unique())\n",
    "    print(\"cohort {} number has {} ids\".format(int(cohort), x))\n",
    "    if x > 15:\n",
    "        cohort_w_students.append(int(cohort))\n",
    "    else:\n",
    "        cohort_maybe.append(int(cohort))"
   ]
  },
  {
   "cell_type": "code",
   "execution_count": 215,
   "metadata": {},
   "outputs": [
    {
     "data": {
      "text/plain": [
       "[1, 19, 21, 22, 23, 24, 25, 26, 27, 28, 29, 31, 32, 33, 34, 51, 52]"
      ]
     },
     "execution_count": 215,
     "metadata": {},
     "output_type": "execute_result"
    }
   ],
   "source": [
    "cohort_w_students"
   ]
  },
  {
   "cell_type": "code",
   "execution_count": null,
   "metadata": {},
   "outputs": [],
   "source": []
  }
 ],
 "metadata": {
  "kernelspec": {
   "display_name": "Python 3",
   "language": "python",
   "name": "python3"
  },
  "language_info": {
   "codemirror_mode": {
    "name": "ipython",
    "version": 3
   },
   "file_extension": ".py",
   "mimetype": "text/x-python",
   "name": "python",
   "nbconvert_exporter": "python",
   "pygments_lexer": "ipython3",
   "version": "3.7.3"
  },
  "toc": {
   "base_numbering": 1,
   "nav_menu": {},
   "number_sections": true,
   "sideBar": true,
   "skip_h1_title": true,
   "title_cell": "Table of Contents",
   "title_sidebar": "Contents",
   "toc_cell": false,
   "toc_position": {},
   "toc_section_display": true,
   "toc_window_display": false
  }
 },
 "nbformat": 4,
 "nbformat_minor": 2
}
