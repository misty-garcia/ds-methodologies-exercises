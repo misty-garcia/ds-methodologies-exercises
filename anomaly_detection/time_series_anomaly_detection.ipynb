{
 "cells": [
  {
   "cell_type": "markdown",
   "metadata": {},
   "source": [
    "Discover users who are accessing our curriculum pages way beyond the end of their codeup time. What would the dataframe look like? Use time series method for detecting anomalies, like exponential moving average with %b.\n",
    "\n",
    "Bonus:\n",
    "\n",
    "Can you label students who are viewing both the web dev and data science curriculum? Can you label students by the program they are in? Can you label users by student vs. staff? What are Zach, Maggie, David, and Ryan's ids?"
   ]
  },
  {
   "cell_type": "code",
   "execution_count": 1,
   "metadata": {},
   "outputs": [],
   "source": [
    "import pandas as pd\n",
    "import numpy as np\n",
    "\n",
    "import matplotlib.pyplot as plt\n",
    "import seaborn as sns\n",
    "\n",
    "import warnings\n",
    "warnings.filterwarnings(\"ignore\")"
   ]
  },
  {
   "cell_type": "markdown",
   "metadata": {},
   "source": [
    "## Acquire"
   ]
  },
  {
   "cell_type": "code",
   "execution_count": 2,
   "metadata": {},
   "outputs": [],
   "source": [
    "df = pd.read_csv(\"anonymized-curriculum-access.txt\", sep=\" \", header=None)"
   ]
  },
  {
   "cell_type": "code",
   "execution_count": 3,
   "metadata": {},
   "outputs": [
    {
     "name": "stdout",
     "output_type": "stream",
     "text": [
      "<class 'pandas.core.frame.DataFrame'>\n",
      "RangeIndex: 399195 entries, 0 to 399194\n",
      "Data columns (total 6 columns):\n",
      "0    399195 non-null object\n",
      "1    399195 non-null object\n",
      "2    399195 non-null object\n",
      "3    399195 non-null int64\n",
      "4    372441 non-null float64\n",
      "5    399195 non-null object\n",
      "dtypes: float64(1), int64(1), object(4)\n",
      "memory usage: 18.3+ MB\n"
     ]
    }
   ],
   "source": [
    "df.info()"
   ]
  },
  {
   "cell_type": "code",
   "execution_count": 4,
   "metadata": {},
   "outputs": [
    {
     "data": {
      "text/html": [
       "<div>\n",
       "<style scoped>\n",
       "    .dataframe tbody tr th:only-of-type {\n",
       "        vertical-align: middle;\n",
       "    }\n",
       "\n",
       "    .dataframe tbody tr th {\n",
       "        vertical-align: top;\n",
       "    }\n",
       "\n",
       "    .dataframe thead th {\n",
       "        text-align: right;\n",
       "    }\n",
       "</style>\n",
       "<table border=\"1\" class=\"dataframe\">\n",
       "  <thead>\n",
       "    <tr style=\"text-align: right;\">\n",
       "      <th></th>\n",
       "      <th>0</th>\n",
       "      <th>1</th>\n",
       "      <th>2</th>\n",
       "      <th>3</th>\n",
       "      <th>4</th>\n",
       "      <th>5</th>\n",
       "    </tr>\n",
       "  </thead>\n",
       "  <tbody>\n",
       "    <tr>\n",
       "      <th>0</th>\n",
       "      <td>2018-01-26</td>\n",
       "      <td>09:55:03</td>\n",
       "      <td>/</td>\n",
       "      <td>1</td>\n",
       "      <td>8.0</td>\n",
       "      <td>97.105.19.61</td>\n",
       "    </tr>\n",
       "    <tr>\n",
       "      <th>1</th>\n",
       "      <td>2018-01-26</td>\n",
       "      <td>09:56:02</td>\n",
       "      <td>java-ii</td>\n",
       "      <td>1</td>\n",
       "      <td>8.0</td>\n",
       "      <td>97.105.19.61</td>\n",
       "    </tr>\n",
       "    <tr>\n",
       "      <th>2</th>\n",
       "      <td>2018-01-26</td>\n",
       "      <td>09:56:05</td>\n",
       "      <td>java-ii/object-oriented-programming</td>\n",
       "      <td>1</td>\n",
       "      <td>8.0</td>\n",
       "      <td>97.105.19.61</td>\n",
       "    </tr>\n",
       "    <tr>\n",
       "      <th>3</th>\n",
       "      <td>2018-01-26</td>\n",
       "      <td>09:56:06</td>\n",
       "      <td>slides/object_oriented_programming</td>\n",
       "      <td>1</td>\n",
       "      <td>8.0</td>\n",
       "      <td>97.105.19.61</td>\n",
       "    </tr>\n",
       "    <tr>\n",
       "      <th>4</th>\n",
       "      <td>2018-01-26</td>\n",
       "      <td>09:56:24</td>\n",
       "      <td>javascript-i/conditionals</td>\n",
       "      <td>2</td>\n",
       "      <td>22.0</td>\n",
       "      <td>97.105.19.61</td>\n",
       "    </tr>\n",
       "  </tbody>\n",
       "</table>\n",
       "</div>"
      ],
      "text/plain": [
       "            0         1                                    2  3     4  \\\n",
       "0  2018-01-26  09:55:03                                    /  1   8.0   \n",
       "1  2018-01-26  09:56:02                              java-ii  1   8.0   \n",
       "2  2018-01-26  09:56:05  java-ii/object-oriented-programming  1   8.0   \n",
       "3  2018-01-26  09:56:06   slides/object_oriented_programming  1   8.0   \n",
       "4  2018-01-26  09:56:24            javascript-i/conditionals  2  22.0   \n",
       "\n",
       "              5  \n",
       "0  97.105.19.61  \n",
       "1  97.105.19.61  \n",
       "2  97.105.19.61  \n",
       "3  97.105.19.61  \n",
       "4  97.105.19.61  "
      ]
     },
     "execution_count": 4,
     "metadata": {},
     "output_type": "execute_result"
    }
   ],
   "source": [
    "df.head()"
   ]
  },
  {
   "cell_type": "code",
   "execution_count": 5,
   "metadata": {},
   "outputs": [
    {
     "data": {
      "text/html": [
       "<div>\n",
       "<style scoped>\n",
       "    .dataframe tbody tr th:only-of-type {\n",
       "        vertical-align: middle;\n",
       "    }\n",
       "\n",
       "    .dataframe tbody tr th {\n",
       "        vertical-align: top;\n",
       "    }\n",
       "\n",
       "    .dataframe thead th {\n",
       "        text-align: right;\n",
       "    }\n",
       "</style>\n",
       "<table border=\"1\" class=\"dataframe\">\n",
       "  <thead>\n",
       "    <tr style=\"text-align: right;\">\n",
       "      <th></th>\n",
       "      <th>3</th>\n",
       "      <th>4</th>\n",
       "    </tr>\n",
       "  </thead>\n",
       "  <tbody>\n",
       "    <tr>\n",
       "      <th>count</th>\n",
       "      <td>399195.000000</td>\n",
       "      <td>372441.000000</td>\n",
       "    </tr>\n",
       "    <tr>\n",
       "      <th>mean</th>\n",
       "      <td>268.794667</td>\n",
       "      <td>26.912649</td>\n",
       "    </tr>\n",
       "    <tr>\n",
       "      <th>std</th>\n",
       "      <td>147.587312</td>\n",
       "      <td>7.846146</td>\n",
       "    </tr>\n",
       "    <tr>\n",
       "      <th>min</th>\n",
       "      <td>1.000000</td>\n",
       "      <td>1.000000</td>\n",
       "    </tr>\n",
       "    <tr>\n",
       "      <th>25%</th>\n",
       "      <td>157.000000</td>\n",
       "      <td>23.000000</td>\n",
       "    </tr>\n",
       "    <tr>\n",
       "      <th>50%</th>\n",
       "      <td>288.000000</td>\n",
       "      <td>27.000000</td>\n",
       "    </tr>\n",
       "    <tr>\n",
       "      <th>75%</th>\n",
       "      <td>392.000000</td>\n",
       "      <td>31.000000</td>\n",
       "    </tr>\n",
       "    <tr>\n",
       "      <th>max</th>\n",
       "      <td>543.000000</td>\n",
       "      <td>52.000000</td>\n",
       "    </tr>\n",
       "  </tbody>\n",
       "</table>\n",
       "</div>"
      ],
      "text/plain": [
       "                   3              4\n",
       "count  399195.000000  372441.000000\n",
       "mean      268.794667      26.912649\n",
       "std       147.587312       7.846146\n",
       "min         1.000000       1.000000\n",
       "25%       157.000000      23.000000\n",
       "50%       288.000000      27.000000\n",
       "75%       392.000000      31.000000\n",
       "max       543.000000      52.000000"
      ]
     },
     "execution_count": 5,
     "metadata": {},
     "output_type": "execute_result"
    }
   ],
   "source": [
    "df.describe()"
   ]
  },
  {
   "cell_type": "markdown",
   "metadata": {},
   "source": [
    "## Prep"
   ]
  },
  {
   "cell_type": "code",
   "execution_count": 6,
   "metadata": {
    "scrolled": true
   },
   "outputs": [
    {
     "data": {
      "text/html": [
       "<div>\n",
       "<style scoped>\n",
       "    .dataframe tbody tr th:only-of-type {\n",
       "        vertical-align: middle;\n",
       "    }\n",
       "\n",
       "    .dataframe tbody tr th {\n",
       "        vertical-align: top;\n",
       "    }\n",
       "\n",
       "    .dataframe thead th {\n",
       "        text-align: right;\n",
       "    }\n",
       "</style>\n",
       "<table border=\"1\" class=\"dataframe\">\n",
       "  <thead>\n",
       "    <tr style=\"text-align: right;\">\n",
       "      <th></th>\n",
       "      <th>date</th>\n",
       "      <th>time</th>\n",
       "      <th>page</th>\n",
       "      <th>num1</th>\n",
       "      <th>num2</th>\n",
       "      <th>ip</th>\n",
       "    </tr>\n",
       "  </thead>\n",
       "  <tbody>\n",
       "    <tr>\n",
       "      <th>0</th>\n",
       "      <td>2018-01-26</td>\n",
       "      <td>09:55:03</td>\n",
       "      <td>/</td>\n",
       "      <td>1</td>\n",
       "      <td>8.0</td>\n",
       "      <td>97.105.19.61</td>\n",
       "    </tr>\n",
       "    <tr>\n",
       "      <th>1</th>\n",
       "      <td>2018-01-26</td>\n",
       "      <td>09:56:02</td>\n",
       "      <td>java-ii</td>\n",
       "      <td>1</td>\n",
       "      <td>8.0</td>\n",
       "      <td>97.105.19.61</td>\n",
       "    </tr>\n",
       "    <tr>\n",
       "      <th>2</th>\n",
       "      <td>2018-01-26</td>\n",
       "      <td>09:56:05</td>\n",
       "      <td>java-ii/object-oriented-programming</td>\n",
       "      <td>1</td>\n",
       "      <td>8.0</td>\n",
       "      <td>97.105.19.61</td>\n",
       "    </tr>\n",
       "    <tr>\n",
       "      <th>3</th>\n",
       "      <td>2018-01-26</td>\n",
       "      <td>09:56:06</td>\n",
       "      <td>slides/object_oriented_programming</td>\n",
       "      <td>1</td>\n",
       "      <td>8.0</td>\n",
       "      <td>97.105.19.61</td>\n",
       "    </tr>\n",
       "    <tr>\n",
       "      <th>4</th>\n",
       "      <td>2018-01-26</td>\n",
       "      <td>09:56:24</td>\n",
       "      <td>javascript-i/conditionals</td>\n",
       "      <td>2</td>\n",
       "      <td>22.0</td>\n",
       "      <td>97.105.19.61</td>\n",
       "    </tr>\n",
       "    <tr>\n",
       "      <th>...</th>\n",
       "      <td>...</td>\n",
       "      <td>...</td>\n",
       "      <td>...</td>\n",
       "      <td>...</td>\n",
       "      <td>...</td>\n",
       "      <td>...</td>\n",
       "    </tr>\n",
       "    <tr>\n",
       "      <th>399190</th>\n",
       "      <td>2019-11-19</td>\n",
       "      <td>10:06:28</td>\n",
       "      <td>spring/fundamentals/controllers</td>\n",
       "      <td>445</td>\n",
       "      <td>33.0</td>\n",
       "      <td>97.105.19.58</td>\n",
       "    </tr>\n",
       "    <tr>\n",
       "      <th>399191</th>\n",
       "      <td>2019-11-19</td>\n",
       "      <td>10:06:50</td>\n",
       "      <td>spring/fundamentals/views</td>\n",
       "      <td>445</td>\n",
       "      <td>33.0</td>\n",
       "      <td>97.105.19.58</td>\n",
       "    </tr>\n",
       "    <tr>\n",
       "      <th>399192</th>\n",
       "      <td>2019-11-19</td>\n",
       "      <td>10:07:03</td>\n",
       "      <td>8-clustering/3-wrangle</td>\n",
       "      <td>475</td>\n",
       "      <td>34.0</td>\n",
       "      <td>97.105.19.58</td>\n",
       "    </tr>\n",
       "    <tr>\n",
       "      <th>399193</th>\n",
       "      <td>2019-11-19</td>\n",
       "      <td>10:07:07</td>\n",
       "      <td>7-classification/2-acquire</td>\n",
       "      <td>475</td>\n",
       "      <td>34.0</td>\n",
       "      <td>97.105.19.58</td>\n",
       "    </tr>\n",
       "    <tr>\n",
       "      <th>399194</th>\n",
       "      <td>2019-11-19</td>\n",
       "      <td>10:07:45</td>\n",
       "      <td>search/search_index.json</td>\n",
       "      <td>455</td>\n",
       "      <td>33.0</td>\n",
       "      <td>97.105.19.58</td>\n",
       "    </tr>\n",
       "  </tbody>\n",
       "</table>\n",
       "<p>399195 rows × 6 columns</p>\n",
       "</div>"
      ],
      "text/plain": [
       "              date      time                                 page  num1  num2  \\\n",
       "0       2018-01-26  09:55:03                                    /     1   8.0   \n",
       "1       2018-01-26  09:56:02                              java-ii     1   8.0   \n",
       "2       2018-01-26  09:56:05  java-ii/object-oriented-programming     1   8.0   \n",
       "3       2018-01-26  09:56:06   slides/object_oriented_programming     1   8.0   \n",
       "4       2018-01-26  09:56:24            javascript-i/conditionals     2  22.0   \n",
       "...            ...       ...                                  ...   ...   ...   \n",
       "399190  2019-11-19  10:06:28      spring/fundamentals/controllers   445  33.0   \n",
       "399191  2019-11-19  10:06:50            spring/fundamentals/views   445  33.0   \n",
       "399192  2019-11-19  10:07:03               8-clustering/3-wrangle   475  34.0   \n",
       "399193  2019-11-19  10:07:07           7-classification/2-acquire   475  34.0   \n",
       "399194  2019-11-19  10:07:45             search/search_index.json   455  33.0   \n",
       "\n",
       "                  ip  \n",
       "0       97.105.19.61  \n",
       "1       97.105.19.61  \n",
       "2       97.105.19.61  \n",
       "3       97.105.19.61  \n",
       "4       97.105.19.61  \n",
       "...              ...  \n",
       "399190  97.105.19.58  \n",
       "399191  97.105.19.58  \n",
       "399192  97.105.19.58  \n",
       "399193  97.105.19.58  \n",
       "399194  97.105.19.58  \n",
       "\n",
       "[399195 rows x 6 columns]"
      ]
     },
     "execution_count": 6,
     "metadata": {},
     "output_type": "execute_result"
    }
   ],
   "source": [
    "df = df.rename(columns={0:\"date\", 1:\"time\", 2:\"page\", 3:\"num1\", 4:\"num2\", 5:\"ip\"})\n",
    "df"
   ]
  },
  {
   "cell_type": "markdown",
   "metadata": {},
   "source": [
    "> What are those two columns of numbers? "
   ]
  },
  {
   "cell_type": "markdown",
   "metadata": {},
   "source": [
    "### Combine the date and time and set as the index"
   ]
  },
  {
   "cell_type": "code",
   "execution_count": 7,
   "metadata": {},
   "outputs": [],
   "source": [
    "df.date = df.date + \" \" + df.time\n",
    "df.drop(\"time\", axis=1, inplace=True)"
   ]
  },
  {
   "cell_type": "code",
   "execution_count": 8,
   "metadata": {},
   "outputs": [
    {
     "data": {
      "text/html": [
       "<div>\n",
       "<style scoped>\n",
       "    .dataframe tbody tr th:only-of-type {\n",
       "        vertical-align: middle;\n",
       "    }\n",
       "\n",
       "    .dataframe tbody tr th {\n",
       "        vertical-align: top;\n",
       "    }\n",
       "\n",
       "    .dataframe thead th {\n",
       "        text-align: right;\n",
       "    }\n",
       "</style>\n",
       "<table border=\"1\" class=\"dataframe\">\n",
       "  <thead>\n",
       "    <tr style=\"text-align: right;\">\n",
       "      <th></th>\n",
       "      <th>date</th>\n",
       "      <th>page</th>\n",
       "      <th>num1</th>\n",
       "      <th>num2</th>\n",
       "      <th>ip</th>\n",
       "    </tr>\n",
       "  </thead>\n",
       "  <tbody>\n",
       "    <tr>\n",
       "      <th>0</th>\n",
       "      <td>2018-01-26 09:55:03</td>\n",
       "      <td>/</td>\n",
       "      <td>1</td>\n",
       "      <td>8.0</td>\n",
       "      <td>97.105.19.61</td>\n",
       "    </tr>\n",
       "    <tr>\n",
       "      <th>1</th>\n",
       "      <td>2018-01-26 09:56:02</td>\n",
       "      <td>java-ii</td>\n",
       "      <td>1</td>\n",
       "      <td>8.0</td>\n",
       "      <td>97.105.19.61</td>\n",
       "    </tr>\n",
       "    <tr>\n",
       "      <th>2</th>\n",
       "      <td>2018-01-26 09:56:05</td>\n",
       "      <td>java-ii/object-oriented-programming</td>\n",
       "      <td>1</td>\n",
       "      <td>8.0</td>\n",
       "      <td>97.105.19.61</td>\n",
       "    </tr>\n",
       "    <tr>\n",
       "      <th>3</th>\n",
       "      <td>2018-01-26 09:56:06</td>\n",
       "      <td>slides/object_oriented_programming</td>\n",
       "      <td>1</td>\n",
       "      <td>8.0</td>\n",
       "      <td>97.105.19.61</td>\n",
       "    </tr>\n",
       "    <tr>\n",
       "      <th>4</th>\n",
       "      <td>2018-01-26 09:56:24</td>\n",
       "      <td>javascript-i/conditionals</td>\n",
       "      <td>2</td>\n",
       "      <td>22.0</td>\n",
       "      <td>97.105.19.61</td>\n",
       "    </tr>\n",
       "  </tbody>\n",
       "</table>\n",
       "</div>"
      ],
      "text/plain": [
       "                  date                                 page  num1  num2  \\\n",
       "0  2018-01-26 09:55:03                                    /     1   8.0   \n",
       "1  2018-01-26 09:56:02                              java-ii     1   8.0   \n",
       "2  2018-01-26 09:56:05  java-ii/object-oriented-programming     1   8.0   \n",
       "3  2018-01-26 09:56:06   slides/object_oriented_programming     1   8.0   \n",
       "4  2018-01-26 09:56:24            javascript-i/conditionals     2  22.0   \n",
       "\n",
       "             ip  \n",
       "0  97.105.19.61  \n",
       "1  97.105.19.61  \n",
       "2  97.105.19.61  \n",
       "3  97.105.19.61  \n",
       "4  97.105.19.61  "
      ]
     },
     "execution_count": 8,
     "metadata": {},
     "output_type": "execute_result"
    }
   ],
   "source": [
    "df.head()"
   ]
  },
  {
   "cell_type": "code",
   "execution_count": 9,
   "metadata": {},
   "outputs": [],
   "source": [
    "df.date = pd.to_datetime(df.date)"
   ]
  },
  {
   "cell_type": "code",
   "execution_count": 10,
   "metadata": {},
   "outputs": [
    {
     "name": "stdout",
     "output_type": "stream",
     "text": [
      "<class 'pandas.core.frame.DataFrame'>\n",
      "RangeIndex: 399195 entries, 0 to 399194\n",
      "Data columns (total 5 columns):\n",
      "date    399195 non-null datetime64[ns]\n",
      "page    399195 non-null object\n",
      "num1    399195 non-null int64\n",
      "num2    372441 non-null float64\n",
      "ip      399195 non-null object\n",
      "dtypes: datetime64[ns](1), float64(1), int64(1), object(2)\n",
      "memory usage: 15.2+ MB\n"
     ]
    }
   ],
   "source": [
    "df.info()"
   ]
  },
  {
   "cell_type": "code",
   "execution_count": 11,
   "metadata": {},
   "outputs": [],
   "source": [
    "df = df.set_index(\"date\")"
   ]
  },
  {
   "cell_type": "markdown",
   "metadata": {},
   "source": [
    "### Scope out at nulls"
   ]
  },
  {
   "cell_type": "code",
   "execution_count": 12,
   "metadata": {},
   "outputs": [
    {
     "data": {
      "text/plain": [
       "page        0\n",
       "num1        0\n",
       "num2    26754\n",
       "ip          0\n",
       "dtype: int64"
      ]
     },
     "execution_count": 12,
     "metadata": {},
     "output_type": "execute_result"
    }
   ],
   "source": [
    "df.isnull().sum()"
   ]
  },
  {
   "cell_type": "markdown",
   "metadata": {},
   "source": [
    "> Unsure how to address nulls at the moment, as it is unknown what that column is representing"
   ]
  },
  {
   "cell_type": "markdown",
   "metadata": {},
   "source": [
    "## Explore"
   ]
  },
  {
   "cell_type": "code",
   "execution_count": 13,
   "metadata": {
    "scrolled": false
   },
   "outputs": [
    {
     "data": {
      "text/html": [
       "<div>\n",
       "<style scoped>\n",
       "    .dataframe tbody tr th:only-of-type {\n",
       "        vertical-align: middle;\n",
       "    }\n",
       "\n",
       "    .dataframe tbody tr th {\n",
       "        vertical-align: top;\n",
       "    }\n",
       "\n",
       "    .dataframe thead th {\n",
       "        text-align: right;\n",
       "    }\n",
       "</style>\n",
       "<table border=\"1\" class=\"dataframe\">\n",
       "  <thead>\n",
       "    <tr style=\"text-align: right;\">\n",
       "      <th></th>\n",
       "      <th>page</th>\n",
       "      <th>num1</th>\n",
       "      <th>num2</th>\n",
       "      <th>ip</th>\n",
       "    </tr>\n",
       "    <tr>\n",
       "      <th>date</th>\n",
       "      <th></th>\n",
       "      <th></th>\n",
       "      <th></th>\n",
       "      <th></th>\n",
       "    </tr>\n",
       "  </thead>\n",
       "  <tbody>\n",
       "    <tr>\n",
       "      <th>2018-01-26 09:55:03</th>\n",
       "      <td>/</td>\n",
       "      <td>1</td>\n",
       "      <td>8.0</td>\n",
       "      <td>97.105.19.61</td>\n",
       "    </tr>\n",
       "    <tr>\n",
       "      <th>2018-01-26 09:56:02</th>\n",
       "      <td>java-ii</td>\n",
       "      <td>1</td>\n",
       "      <td>8.0</td>\n",
       "      <td>97.105.19.61</td>\n",
       "    </tr>\n",
       "    <tr>\n",
       "      <th>2018-01-26 09:56:05</th>\n",
       "      <td>java-ii/object-oriented-programming</td>\n",
       "      <td>1</td>\n",
       "      <td>8.0</td>\n",
       "      <td>97.105.19.61</td>\n",
       "    </tr>\n",
       "    <tr>\n",
       "      <th>2018-01-26 09:56:06</th>\n",
       "      <td>slides/object_oriented_programming</td>\n",
       "      <td>1</td>\n",
       "      <td>8.0</td>\n",
       "      <td>97.105.19.61</td>\n",
       "    </tr>\n",
       "    <tr>\n",
       "      <th>2018-01-26 09:56:24</th>\n",
       "      <td>javascript-i/conditionals</td>\n",
       "      <td>2</td>\n",
       "      <td>22.0</td>\n",
       "      <td>97.105.19.61</td>\n",
       "    </tr>\n",
       "    <tr>\n",
       "      <th>...</th>\n",
       "      <td>...</td>\n",
       "      <td>...</td>\n",
       "      <td>...</td>\n",
       "      <td>...</td>\n",
       "    </tr>\n",
       "    <tr>\n",
       "      <th>2019-11-19 10:06:28</th>\n",
       "      <td>spring/fundamentals/controllers</td>\n",
       "      <td>445</td>\n",
       "      <td>33.0</td>\n",
       "      <td>97.105.19.58</td>\n",
       "    </tr>\n",
       "    <tr>\n",
       "      <th>2019-11-19 10:06:50</th>\n",
       "      <td>spring/fundamentals/views</td>\n",
       "      <td>445</td>\n",
       "      <td>33.0</td>\n",
       "      <td>97.105.19.58</td>\n",
       "    </tr>\n",
       "    <tr>\n",
       "      <th>2019-11-19 10:07:03</th>\n",
       "      <td>8-clustering/3-wrangle</td>\n",
       "      <td>475</td>\n",
       "      <td>34.0</td>\n",
       "      <td>97.105.19.58</td>\n",
       "    </tr>\n",
       "    <tr>\n",
       "      <th>2019-11-19 10:07:07</th>\n",
       "      <td>7-classification/2-acquire</td>\n",
       "      <td>475</td>\n",
       "      <td>34.0</td>\n",
       "      <td>97.105.19.58</td>\n",
       "    </tr>\n",
       "    <tr>\n",
       "      <th>2019-11-19 10:07:45</th>\n",
       "      <td>search/search_index.json</td>\n",
       "      <td>455</td>\n",
       "      <td>33.0</td>\n",
       "      <td>97.105.19.58</td>\n",
       "    </tr>\n",
       "  </tbody>\n",
       "</table>\n",
       "<p>399195 rows × 4 columns</p>\n",
       "</div>"
      ],
      "text/plain": [
       "                                                    page  num1  num2  \\\n",
       "date                                                                   \n",
       "2018-01-26 09:55:03                                    /     1   8.0   \n",
       "2018-01-26 09:56:02                              java-ii     1   8.0   \n",
       "2018-01-26 09:56:05  java-ii/object-oriented-programming     1   8.0   \n",
       "2018-01-26 09:56:06   slides/object_oriented_programming     1   8.0   \n",
       "2018-01-26 09:56:24            javascript-i/conditionals     2  22.0   \n",
       "...                                                  ...   ...   ...   \n",
       "2019-11-19 10:06:28      spring/fundamentals/controllers   445  33.0   \n",
       "2019-11-19 10:06:50            spring/fundamentals/views   445  33.0   \n",
       "2019-11-19 10:07:03               8-clustering/3-wrangle   475  34.0   \n",
       "2019-11-19 10:07:07           7-classification/2-acquire   475  34.0   \n",
       "2019-11-19 10:07:45             search/search_index.json   455  33.0   \n",
       "\n",
       "                               ip  \n",
       "date                               \n",
       "2018-01-26 09:55:03  97.105.19.61  \n",
       "2018-01-26 09:56:02  97.105.19.61  \n",
       "2018-01-26 09:56:05  97.105.19.61  \n",
       "2018-01-26 09:56:06  97.105.19.61  \n",
       "2018-01-26 09:56:24  97.105.19.61  \n",
       "...                           ...  \n",
       "2019-11-19 10:06:28  97.105.19.58  \n",
       "2019-11-19 10:06:50  97.105.19.58  \n",
       "2019-11-19 10:07:03  97.105.19.58  \n",
       "2019-11-19 10:07:07  97.105.19.58  \n",
       "2019-11-19 10:07:45  97.105.19.58  \n",
       "\n",
       "[399195 rows x 4 columns]"
      ]
     },
     "execution_count": 13,
     "metadata": {},
     "output_type": "execute_result"
    }
   ],
   "source": [
    "df"
   ]
  },
  {
   "cell_type": "markdown",
   "metadata": {},
   "source": [
    "### Dive into num1"
   ]
  },
  {
   "cell_type": "code",
   "execution_count": 14,
   "metadata": {},
   "outputs": [
    {
     "data": {
      "text/plain": [
       "count    399195.000000\n",
       "mean        268.794667\n",
       "std         147.587312\n",
       "min           1.000000\n",
       "25%         157.000000\n",
       "50%         288.000000\n",
       "75%         392.000000\n",
       "max         543.000000\n",
       "Name: num1, dtype: float64"
      ]
     },
     "execution_count": 14,
     "metadata": {},
     "output_type": "execute_result"
    }
   ],
   "source": [
    "df.num1.describe()"
   ]
  },
  {
   "cell_type": "code",
   "execution_count": 15,
   "metadata": {},
   "outputs": [
    {
     "data": {
      "text/plain": [
       "53     8236\n",
       "64     8008\n",
       "11     8004\n",
       "344    5279\n",
       "1      4266\n",
       "       ... \n",
       "66        1\n",
       "461       1\n",
       "163       1\n",
       "165       1\n",
       "212       1\n",
       "Name: num1, Length: 543, dtype: int64"
      ]
     },
     "execution_count": 15,
     "metadata": {},
     "output_type": "execute_result"
    }
   ],
   "source": [
    "df.num1.value_counts()"
   ]
  },
  {
   "cell_type": "code",
   "execution_count": 16,
   "metadata": {},
   "outputs": [
    {
     "data": {
      "image/png": "[encoded data removed]",
      "text/plain": [
       "<Figure size 432x288 with 1 Axes>"
      ]
     },
     "metadata": {
      "needs_background": "light"
     },
     "output_type": "display_data"
    }
   ],
   "source": [
    "df.num1.plot()\n",
    "plt.show()"
   ]
  },
  {
   "cell_type": "code",
   "execution_count": 17,
   "metadata": {},
   "outputs": [
    {
     "data": {
      "image/png": "[encoded data removed]",
      "text/plain": [
       "<Figure size 432x288 with 1 Axes>"
      ]
     },
     "metadata": {
      "needs_background": "light"
     },
     "output_type": "display_data"
    }
   ],
   "source": [
    "df.num1.resample(\"D\").min().plot(label=\"min\")\n",
    "df.num1.resample(\"D\").max().plot(label=\"max\")\n",
    "plt.legend()\n",
    "plt.show()"
   ]
  },
  {
   "cell_type": "markdown",
   "metadata": {},
   "source": [
    "> I still don't know what these values are"
   ]
  },
  {
   "cell_type": "markdown",
   "metadata": {},
   "source": [
    "### Dive into num2"
   ]
  },
  {
   "cell_type": "code",
   "execution_count": 18,
   "metadata": {},
   "outputs": [
    {
     "data": {
      "text/plain": [
       "count    372441.000000\n",
       "mean         26.912649\n",
       "std           7.846146\n",
       "min           1.000000\n",
       "25%          23.000000\n",
       "50%          27.000000\n",
       "75%          31.000000\n",
       "max          52.000000\n",
       "Name: num2, dtype: float64"
      ]
     },
     "execution_count": 18,
     "metadata": {},
     "output_type": "execute_result"
    }
   ],
   "source": [
    "df.num2.describe()"
   ]
  },
  {
   "cell_type": "code",
   "execution_count": 19,
   "metadata": {},
   "outputs": [
    {
     "data": {
      "text/plain": [
       "29.0    35969\n",
       "24.0    35039\n",
       "33.0    34433\n",
       "22.0    28875\n",
       "23.0    28056\n",
       "32.0    26801\n",
       "26.0    26760\n",
       "25.0    25233\n",
       "31.0    22665\n",
       "28.0    20677\n",
       "27.0    20198\n",
       "34.0    15519\n",
       "51.0    10835\n",
       "14.0     9069\n",
       "1.0      8877\n",
       "21.0     7181\n",
       "17.0     3792\n",
       "52.0     2896\n",
       "13.0     2610\n",
       "8.0      1671\n",
       "18.0     1603\n",
       "19.0     1142\n",
       "16.0      740\n",
       "15.0      691\n",
       "7.0       461\n",
       "12.0      270\n",
       "11.0      204\n",
       "2.0        93\n",
       "6.0        72\n",
       "9.0         5\n",
       "4.0         4\n",
       "Name: num2, dtype: int64"
      ]
     },
     "execution_count": 19,
     "metadata": {},
     "output_type": "execute_result"
    }
   ],
   "source": [
    "df.num2.value_counts()"
   ]
  },
  {
   "cell_type": "code",
   "execution_count": 20,
   "metadata": {},
   "outputs": [
    {
     "data": {
      "image/png": "[encoded data removed]",
      "text/plain": [
       "<Figure size 432x288 with 1 Axes>"
      ]
     },
     "metadata": {
      "needs_background": "light"
     },
     "output_type": "display_data"
    }
   ],
   "source": [
    "df.num2.plot()\n",
    "plt.show()"
   ]
  },
  {
   "cell_type": "code",
   "execution_count": 21,
   "metadata": {},
   "outputs": [
    {
     "data": {
      "image/png": "[encoded data removed]",
      "text/plain": [
       "<Figure size 432x288 with 1 Axes>"
      ]
     },
     "metadata": {
      "needs_background": "light"
     },
     "output_type": "display_data"
    }
   ],
   "source": [
    "df.num2.resample(\"D\").min().plot(label=\"min\")\n",
    "df.num2.resample(\"D\").max().plot(label=\"max\")\n",
    "plt.legend()\n",
    "plt.show()"
   ]
  },
  {
   "cell_type": "code",
   "execution_count": 22,
   "metadata": {},
   "outputs": [
    {
     "data": {
      "image/png": "[encoded data removed]",
      "text/plain": [
       "<Figure size 432x288 with 1 Axes>"
      ]
     },
     "metadata": {
      "needs_background": "light"
     },
     "output_type": "display_data"
    }
   ],
   "source": [
    "df.plot()\n",
    "plt.show()"
   ]
  },
  {
   "cell_type": "code",
   "execution_count": 31,
   "metadata": {},
   "outputs": [
    {
     "data": {
      "text/html": [
       "<div>\n",
       "<style scoped>\n",
       "    .dataframe tbody tr th:only-of-type {\n",
       "        vertical-align: middle;\n",
       "    }\n",
       "\n",
       "    .dataframe tbody tr th {\n",
       "        vertical-align: top;\n",
       "    }\n",
       "\n",
       "    .dataframe thead tr th {\n",
       "        text-align: left;\n",
       "    }\n",
       "\n",
       "    .dataframe thead tr:last-of-type th {\n",
       "        text-align: right;\n",
       "    }\n",
       "</style>\n",
       "<table border=\"1\" class=\"dataframe\">\n",
       "  <thead>\n",
       "    <tr>\n",
       "      <th></th>\n",
       "      <th colspan=\"2\" halign=\"left\">num1</th>\n",
       "    </tr>\n",
       "    <tr>\n",
       "      <th></th>\n",
       "      <th>min</th>\n",
       "      <th>max</th>\n",
       "    </tr>\n",
       "    <tr>\n",
       "      <th>num2</th>\n",
       "      <th></th>\n",
       "      <th></th>\n",
       "    </tr>\n",
       "  </thead>\n",
       "  <tbody>\n",
       "    <tr>\n",
       "      <th>1.0</th>\n",
       "      <td>11</td>\n",
       "      <td>402</td>\n",
       "    </tr>\n",
       "    <tr>\n",
       "      <th>2.0</th>\n",
       "      <td>144</td>\n",
       "      <td>396</td>\n",
       "    </tr>\n",
       "    <tr>\n",
       "      <th>4.0</th>\n",
       "      <td>85</td>\n",
       "      <td>85</td>\n",
       "    </tr>\n",
       "    <tr>\n",
       "      <th>6.0</th>\n",
       "      <td>283</td>\n",
       "      <td>405</td>\n",
       "    </tr>\n",
       "    <tr>\n",
       "      <th>7.0</th>\n",
       "      <td>77</td>\n",
       "      <td>513</td>\n",
       "    </tr>\n",
       "    <tr>\n",
       "      <th>8.0</th>\n",
       "      <td>1</td>\n",
       "      <td>174</td>\n",
       "    </tr>\n",
       "    <tr>\n",
       "      <th>9.0</th>\n",
       "      <td>152</td>\n",
       "      <td>152</td>\n",
       "    </tr>\n",
       "    <tr>\n",
       "      <th>11.0</th>\n",
       "      <td>88</td>\n",
       "      <td>463</td>\n",
       "    </tr>\n",
       "    <tr>\n",
       "      <th>12.0</th>\n",
       "      <td>88</td>\n",
       "      <td>214</td>\n",
       "    </tr>\n",
       "    <tr>\n",
       "      <th>13.0</th>\n",
       "      <td>50</td>\n",
       "      <td>318</td>\n",
       "    </tr>\n",
       "    <tr>\n",
       "      <th>14.0</th>\n",
       "      <td>53</td>\n",
       "      <td>246</td>\n",
       "    </tr>\n",
       "    <tr>\n",
       "      <th>15.0</th>\n",
       "      <td>72</td>\n",
       "      <td>427</td>\n",
       "    </tr>\n",
       "    <tr>\n",
       "      <th>16.0</th>\n",
       "      <td>21</td>\n",
       "      <td>322</td>\n",
       "    </tr>\n",
       "    <tr>\n",
       "      <th>17.0</th>\n",
       "      <td>102</td>\n",
       "      <td>465</td>\n",
       "    </tr>\n",
       "    <tr>\n",
       "      <th>18.0</th>\n",
       "      <td>26</td>\n",
       "      <td>217</td>\n",
       "    </tr>\n",
       "    <tr>\n",
       "      <th>19.0</th>\n",
       "      <td>37</td>\n",
       "      <td>486</td>\n",
       "    </tr>\n",
       "    <tr>\n",
       "      <th>21.0</th>\n",
       "      <td>10</td>\n",
       "      <td>346</td>\n",
       "    </tr>\n",
       "    <tr>\n",
       "      <th>22.0</th>\n",
       "      <td>2</td>\n",
       "      <td>459</td>\n",
       "    </tr>\n",
       "    <tr>\n",
       "      <th>23.0</th>\n",
       "      <td>25</td>\n",
       "      <td>319</td>\n",
       "    </tr>\n",
       "    <tr>\n",
       "      <th>24.0</th>\n",
       "      <td>182</td>\n",
       "      <td>278</td>\n",
       "    </tr>\n",
       "    <tr>\n",
       "      <th>25.0</th>\n",
       "      <td>218</td>\n",
       "      <td>282</td>\n",
       "    </tr>\n",
       "    <tr>\n",
       "      <th>26.0</th>\n",
       "      <td>259</td>\n",
       "      <td>315</td>\n",
       "    </tr>\n",
       "    <tr>\n",
       "      <th>27.0</th>\n",
       "      <td>287</td>\n",
       "      <td>401</td>\n",
       "    </tr>\n",
       "    <tr>\n",
       "      <th>28.0</th>\n",
       "      <td>1</td>\n",
       "      <td>539</td>\n",
       "    </tr>\n",
       "    <tr>\n",
       "      <th>29.0</th>\n",
       "      <td>323</td>\n",
       "      <td>347</td>\n",
       "    </tr>\n",
       "    <tr>\n",
       "      <th>31.0</th>\n",
       "      <td>373</td>\n",
       "      <td>464</td>\n",
       "    </tr>\n",
       "    <tr>\n",
       "      <th>32.0</th>\n",
       "      <td>407</td>\n",
       "      <td>426</td>\n",
       "    </tr>\n",
       "    <tr>\n",
       "      <th>33.0</th>\n",
       "      <td>433</td>\n",
       "      <td>543</td>\n",
       "    </tr>\n",
       "    <tr>\n",
       "      <th>34.0</th>\n",
       "      <td>358</td>\n",
       "      <td>487</td>\n",
       "    </tr>\n",
       "    <tr>\n",
       "      <th>51.0</th>\n",
       "      <td>488</td>\n",
       "      <td>512</td>\n",
       "    </tr>\n",
       "    <tr>\n",
       "      <th>52.0</th>\n",
       "      <td>516</td>\n",
       "      <td>542</td>\n",
       "    </tr>\n",
       "  </tbody>\n",
       "</table>\n",
       "</div>"
      ],
      "text/plain": [
       "     num1     \n",
       "      min  max\n",
       "num2          \n",
       "1.0    11  402\n",
       "2.0   144  396\n",
       "4.0    85   85\n",
       "6.0   283  405\n",
       "7.0    77  513\n",
       "8.0     1  174\n",
       "9.0   152  152\n",
       "11.0   88  463\n",
       "12.0   88  214\n",
       "13.0   50  318\n",
       "14.0   53  246\n",
       "15.0   72  427\n",
       "16.0   21  322\n",
       "17.0  102  465\n",
       "18.0   26  217\n",
       "19.0   37  486\n",
       "21.0   10  346\n",
       "22.0    2  459\n",
       "23.0   25  319\n",
       "24.0  182  278\n",
       "25.0  218  282\n",
       "26.0  259  315\n",
       "27.0  287  401\n",
       "28.0    1  539\n",
       "29.0  323  347\n",
       "31.0  373  464\n",
       "32.0  407  426\n",
       "33.0  433  543\n",
       "34.0  358  487\n",
       "51.0  488  512\n",
       "52.0  516  542"
      ]
     },
     "execution_count": 31,
     "metadata": {},
     "output_type": "execute_result"
    }
   ],
   "source": [
    "df[[\"num1\",\"num2\"]].groupby(\"num2\").agg([\"min\",\"max\"])"
   ]
  },
  {
   "cell_type": "markdown",
   "metadata": {},
   "source": [
    "> what are y'all"
   ]
  },
  {
   "cell_type": "code",
   "execution_count": 36,
   "metadata": {},
   "outputs": [
    {
     "data": {
      "text/html": [
       "<div>\n",
       "<style scoped>\n",
       "    .dataframe tbody tr th:only-of-type {\n",
       "        vertical-align: middle;\n",
       "    }\n",
       "\n",
       "    .dataframe tbody tr th {\n",
       "        vertical-align: top;\n",
       "    }\n",
       "\n",
       "    .dataframe thead th {\n",
       "        text-align: right;\n",
       "    }\n",
       "</style>\n",
       "<table border=\"1\" class=\"dataframe\">\n",
       "  <thead>\n",
       "    <tr style=\"text-align: right;\">\n",
       "      <th></th>\n",
       "      <th>page</th>\n",
       "      <th>num1</th>\n",
       "      <th>num2</th>\n",
       "      <th>ip</th>\n",
       "    </tr>\n",
       "    <tr>\n",
       "      <th>date</th>\n",
       "      <th></th>\n",
       "      <th></th>\n",
       "      <th></th>\n",
       "      <th></th>\n",
       "    </tr>\n",
       "  </thead>\n",
       "  <tbody>\n",
       "    <tr>\n",
       "      <th>2018-01-26 16:46:16</th>\n",
       "      <td>/</td>\n",
       "      <td>48</td>\n",
       "      <td>NaN</td>\n",
       "      <td>97.105.19.61</td>\n",
       "    </tr>\n",
       "    <tr>\n",
       "      <th>2018-01-26 16:46:24</th>\n",
       "      <td>spring/extra-features/form-validation</td>\n",
       "      <td>48</td>\n",
       "      <td>NaN</td>\n",
       "      <td>97.105.19.61</td>\n",
       "    </tr>\n",
       "    <tr>\n",
       "      <th>2018-01-26 17:54:24</th>\n",
       "      <td>/</td>\n",
       "      <td>48</td>\n",
       "      <td>NaN</td>\n",
       "      <td>97.105.19.61</td>\n",
       "    </tr>\n",
       "    <tr>\n",
       "      <th>2018-01-26 18:32:03</th>\n",
       "      <td>/</td>\n",
       "      <td>48</td>\n",
       "      <td>NaN</td>\n",
       "      <td>97.105.19.61</td>\n",
       "    </tr>\n",
       "    <tr>\n",
       "      <th>2018-01-26 18:32:17</th>\n",
       "      <td>mysql/relationships/joins</td>\n",
       "      <td>48</td>\n",
       "      <td>NaN</td>\n",
       "      <td>97.105.19.61</td>\n",
       "    </tr>\n",
       "    <tr>\n",
       "      <th>...</th>\n",
       "      <td>...</td>\n",
       "      <td>...</td>\n",
       "      <td>...</td>\n",
       "      <td>...</td>\n",
       "    </tr>\n",
       "    <tr>\n",
       "      <th>2019-11-19 08:16:46</th>\n",
       "      <td>6-regression/8.0-Project</td>\n",
       "      <td>349</td>\n",
       "      <td>NaN</td>\n",
       "      <td>156.80.4.22</td>\n",
       "    </tr>\n",
       "    <tr>\n",
       "      <th>2019-11-19 08:17:02</th>\n",
       "      <td>7-classification/3-prep</td>\n",
       "      <td>349</td>\n",
       "      <td>NaN</td>\n",
       "      <td>156.80.4.22</td>\n",
       "    </tr>\n",
       "    <tr>\n",
       "      <th>2019-11-19 08:17:18</th>\n",
       "      <td>7-classification/4-explore</td>\n",
       "      <td>349</td>\n",
       "      <td>NaN</td>\n",
       "      <td>156.80.4.22</td>\n",
       "    </tr>\n",
       "    <tr>\n",
       "      <th>2019-11-19 08:36:40</th>\n",
       "      <td>7-classification/6.4-knn</td>\n",
       "      <td>349</td>\n",
       "      <td>NaN</td>\n",
       "      <td>156.80.4.22</td>\n",
       "    </tr>\n",
       "    <tr>\n",
       "      <th>2019-11-19 08:45:05</th>\n",
       "      <td>6-regression/6.0-feature-engineering</td>\n",
       "      <td>349</td>\n",
       "      <td>NaN</td>\n",
       "      <td>156.80.4.22</td>\n",
       "    </tr>\n",
       "  </tbody>\n",
       "</table>\n",
       "<p>26754 rows × 4 columns</p>\n",
       "</div>"
      ],
      "text/plain": [
       "                                                      page  num1  num2  \\\n",
       "date                                                                     \n",
       "2018-01-26 16:46:16                                      /    48   NaN   \n",
       "2018-01-26 16:46:24  spring/extra-features/form-validation    48   NaN   \n",
       "2018-01-26 17:54:24                                      /    48   NaN   \n",
       "2018-01-26 18:32:03                                      /    48   NaN   \n",
       "2018-01-26 18:32:17              mysql/relationships/joins    48   NaN   \n",
       "...                                                    ...   ...   ...   \n",
       "2019-11-19 08:16:46               6-regression/8.0-Project   349   NaN   \n",
       "2019-11-19 08:17:02                7-classification/3-prep   349   NaN   \n",
       "2019-11-19 08:17:18             7-classification/4-explore   349   NaN   \n",
       "2019-11-19 08:36:40               7-classification/6.4-knn   349   NaN   \n",
       "2019-11-19 08:45:05   6-regression/6.0-feature-engineering   349   NaN   \n",
       "\n",
       "                               ip  \n",
       "date                               \n",
       "2018-01-26 16:46:16  97.105.19.61  \n",
       "2018-01-26 16:46:24  97.105.19.61  \n",
       "2018-01-26 17:54:24  97.105.19.61  \n",
       "2018-01-26 18:32:03  97.105.19.61  \n",
       "2018-01-26 18:32:17  97.105.19.61  \n",
       "...                           ...  \n",
       "2019-11-19 08:16:46   156.80.4.22  \n",
       "2019-11-19 08:17:02   156.80.4.22  \n",
       "2019-11-19 08:17:18   156.80.4.22  \n",
       "2019-11-19 08:36:40   156.80.4.22  \n",
       "2019-11-19 08:45:05   156.80.4.22  \n",
       "\n",
       "[26754 rows x 4 columns]"
      ]
     },
     "execution_count": 36,
     "metadata": {},
     "output_type": "execute_result"
    }
   ],
   "source": [
    "df [df.num2.isnull()]"
   ]
  },
  {
   "cell_type": "code",
   "execution_count": null,
   "metadata": {},
   "outputs": [],
   "source": []
  },
  {
   "cell_type": "markdown",
   "metadata": {},
   "source": [
    "#### Dive into ip"
   ]
  },
  {
   "cell_type": "code",
   "execution_count": 15,
   "metadata": {},
   "outputs": [
    {
     "data": {
      "text/plain": [
       "/                                                20564\n",
       "javascript-i                                      8140\n",
       "search/search_index.json                          7005\n",
       "toc                                               6679\n",
       "html-css                                          6143\n",
       "                                                 ...  \n",
       "collections                                          1\n",
       "html-css/media-queries                               1\n",
       "examples/css//logincss                               1\n",
       "7-clustering/dbscan                                  1\n",
       "content/appendix/postwork/facebook-clone.html        1\n",
       "Name: page, Length: 1641, dtype: int64"
      ]
     },
     "execution_count": 15,
     "metadata": {},
     "output_type": "execute_result"
    }
   ],
   "source": [
    "df.page.value_counts()"
   ]
  },
  {
   "cell_type": "markdown",
   "metadata": {},
   "source": [
    "> Do they need cleanup? "
   ]
  },
  {
   "cell_type": "code",
   "execution_count": 20,
   "metadata": {},
   "outputs": [
    {
     "data": {
      "text/plain": [
       "search/search_index.json    7005\n",
       "search                         2\n",
       "Name: page, dtype: int64"
      ]
     },
     "execution_count": 20,
     "metadata": {},
     "output_type": "execute_result"
    }
   ],
   "source": [
    "df [df.page.str.startswith(\"search\")].page.value_counts()"
   ]
  },
  {
   "cell_type": "code",
   "execution_count": 21,
   "metadata": {},
   "outputs": [
    {
     "data": {
      "text/plain": [
       "html-css                                       6143\n",
       "html-css/elements                              3644\n",
       "html-css/css-ii/bootstrap-introduction         3211\n",
       "html-css/css-ii/bootstrap-grid-system          3203\n",
       "html-css/forms                                 3112\n",
       "html-css/css-i/positioning                     2477\n",
       "html-css/css-i/selectors-and-properties        2461\n",
       "html-css/css-ii/media-queries                  2406\n",
       "html-css/css-i/box-model                       2305\n",
       "html-css/introduction                          2161\n",
       "html-css/css-i/introduction                    2015\n",
       "html-css/css-ii/grids                          1386\n",
       "html-css/css-i                                 1270\n",
       "html-css/css-ii                                1148\n",
       "html-css/css-i/flexbox/flexbox-fundamentals    1002\n",
       "html-css/css-i/grid/css-grid-fundamentals       786\n",
       "html-css/css-i/flexbox/flexbox-in-practice      722\n",
       "html-css/css-i/grid/css-grid-in-practice        685\n",
       "html-css/css-i/grid/css-grid-intro              604\n",
       "html-css/css-i/flexbox                           86\n",
       "html-css/css-i/css-resets                        18\n",
       "html-css/selectors-and-properties                10\n",
       "html-css/box-model                                6\n",
       "html-css/css-i/css-grid-fundamentals              5\n",
       "html-css/flexbox/flexbox-fundamentals             4\n",
       "html-css/grids                                    3\n",
       "html-css/null                                     2\n",
       "html-css/grid/css-grid-intro                      2\n",
       "html-css/css-i/css-grid-in-practice               2\n",
       "html-css/bootstrap-grid-system                    1\n",
       "html-css/positioning                              1\n",
       "html-css/elecments                                1\n",
       "html-css/img/favicon.ico                          1\n",
       "html-css/media-queries                            1\n",
       "html-css/box                                      1\n",
       "Name: page, dtype: int64"
      ]
     },
     "execution_count": 21,
     "metadata": {},
     "output_type": "execute_result"
    }
   ],
   "source": [
    "df [df.page.str.startswith(\"html-css\")].page.value_counts()"
   ]
  },
  {
   "cell_type": "code",
   "execution_count": 22,
   "metadata": {},
   "outputs": [
    {
     "data": {
      "text/plain": [
       "spring                                         5761\n",
       "spring/fundamentals/views                      2913\n",
       "spring/fundamentals/repositories               2793\n",
       "spring/fundamentals/controllers                2582\n",
       "spring/fundamentals/form-model-binding         2290\n",
       "spring/setup                                   2252\n",
       "spring/fundamentals/relationships              2206\n",
       "spring/fundamentals/services                   1995\n",
       "spring/fundamentals/security/authentication    1964\n",
       "spring/fundamentals/security                   1165\n",
       "spring/extra-features/form-validation           614\n",
       "spring/extra-features/json-response             609\n",
       "spring/extra-features/file-upload               561\n",
       "spring/extra-features/error-pages               434\n",
       "spring/extra-features                           368\n",
       "spring/fundamentals/integration-tests            52\n",
       "spring/form-model-binding                        19\n",
       "spring/views                                     19\n",
       "spring/repositories                               5\n",
       "spring/fundementals/form-model-binding            4\n",
       "spring/fundamentals                               4\n",
       "spring/security/authentication                    4\n",
       "spring/controllers                                2\n",
       "spring/security                                   2\n",
       "spring/services                                   1\n",
       "spring/extra-features/error-pages/asdfasdf        1\n",
       "Name: page, dtype: int64"
      ]
     },
     "execution_count": 22,
     "metadata": {},
     "output_type": "execute_result"
    }
   ],
   "source": [
    "df [df.page.str.startswith(\"spring\")].page.value_counts()"
   ]
  },
  {
   "cell_type": "code",
   "execution_count": null,
   "metadata": {},
   "outputs": [],
   "source": []
  }
 ],
 "metadata": {
  "kernelspec": {
   "display_name": "Python 3",
   "language": "python",
   "name": "python3"
  },
  "language_info": {
   "codemirror_mode": {
    "name": "ipython",
    "version": 3
   },
   "file_extension": ".py",
   "mimetype": "text/x-python",
   "name": "python",
   "nbconvert_exporter": "python",
   "pygments_lexer": "ipython3",
   "version": "3.7.3"
  },
  "toc": {
   "base_numbering": 1,
   "nav_menu": {},
   "number_sections": true,
   "sideBar": true,
   "skip_h1_title": true,
   "title_cell": "Table of Contents",
   "title_sidebar": "Contents",
   "toc_cell": false,
   "toc_position": {},
   "toc_section_display": true,
   "toc_window_display": false
  }
 },
 "nbformat": 4,
 "nbformat_minor": 2
}
