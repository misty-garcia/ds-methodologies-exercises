{
 "cells": [
  {
   "cell_type": "markdown",
   "metadata": {},
   "source": [
    "Create a python script or jupyter notebook named explore_zillow that does the following:\n",
    "\n",
    "- Plot all continuous or numeric/ordered variables against each other in scatterplots, or through a pairplot.\n",
    "- Plot a correlation matrix heatmap.\n",
    "- Plot latitude agains longitude.\n",
    "- Create a useable plot with 4 dimensions, e.g. x, y, color, size.\n",
    "- Compute the mean(logerror) by zipcode and the overall mean(logerror). Write a loop that will run a t-test between the overall mean - and the mean for each zip code. We want to identify the zip codes where the error is significantly higher or lower than the expected error.\n",
    "- Is logerror significantly different for properties in LA County vs Orange County vs Ventura County?"
   ]
  },
  {
   "cell_type": "code",
   "execution_count": 1,
   "metadata": {},
   "outputs": [],
   "source": [
    "import wrangle_zillow"
   ]
  },
  {
   "cell_type": "code",
   "execution_count": 3,
   "metadata": {},
   "outputs": [],
   "source": [
    "df = wrangle_zillow.wrangle()"
   ]
  },
  {
   "cell_type": "code",
   "execution_count": 4,
   "metadata": {},
   "outputs": [
    {
     "name": "stdout",
     "output_type": "stream",
     "text": [
      "<class 'pandas.core.frame.DataFrame'>\n",
      "Int64Index: 52319 entries, 77578 to 0\n",
      "Data columns (total 38 columns):\n",
      "parcelid                        52319 non-null int64\n",
      "bathroomcnt                     52319 non-null float64\n",
      "bedroomcnt                      52319 non-null float64\n",
      "buildingqualitytypeid           33654 non-null float64\n",
      "calculatedbathnbr               52184 non-null float64\n",
      "calculatedfinishedsquarefeet    52238 non-null float64\n",
      "fips                            52319 non-null float64\n",
      "fireplacecnt                    7233 non-null float64\n",
      "fullbathcnt                     52184 non-null float64\n",
      "garagecarcnt                    17984 non-null float64\n",
      "garagetotalsqft                 17984 non-null float64\n",
      "latitude                        52319 non-null float64\n",
      "longitude                       52319 non-null float64\n",
      "lotsizesquarefeet               51953 non-null float64\n",
      "poolcnt                         11077 non-null float64\n",
      "propertycountylandusecode       52319 non-null object\n",
      "propertyzoningdesc              33761 non-null object\n",
      "rawcensustractandblock          52319 non-null float64\n",
      "regionidcity                    51283 non-null float64\n",
      "regionidcounty                  52319 non-null float64\n",
      "regionidneighborhood            18981 non-null float64\n",
      "regionidzip                     52293 non-null float64\n",
      "roomcnt                         52319 non-null float64\n",
      "threequarterbathnbr             6717 non-null float64\n",
      "unitcnt                         33761 non-null float64\n",
      "yearbuilt                       52205 non-null float64\n",
      "numberofstories                 14532 non-null float64\n",
      "structuretaxvaluedollarcnt      52237 non-null float64\n",
      "taxvaluedollarcnt               52318 non-null float64\n",
      "assessmentyear                  52319 non-null float64\n",
      "landtaxvaluedollarcnt           52318 non-null float64\n",
      "taxamount                       52315 non-null float64\n",
      "censustractandblock             52198 non-null float64\n",
      "logerror                        52319 non-null float64\n",
      "transactiondate                 52319 non-null object\n",
      "airconditioningdesc             13615 non-null object\n",
      "heatingorsystemdesc             33849 non-null object\n",
      "propertylandusedesc             52319 non-null object\n",
      "dtypes: float64(31), int64(1), object(6)\n",
      "memory usage: 15.6+ MB\n"
     ]
    }
   ],
   "source": [
    "df.info()"
   ]
  },
  {
   "cell_type": "code",
   "execution_count": null,
   "metadata": {},
   "outputs": [],
   "source": []
  }
 ],
 "metadata": {
  "kernelspec": {
   "display_name": "Python 3",
   "language": "python",
   "name": "python3"
  },
  "language_info": {
   "codemirror_mode": {
    "name": "ipython",
    "version": 3
   },
   "file_extension": ".py",
   "mimetype": "text/x-python",
   "name": "python",
   "nbconvert_exporter": "python",
   "pygments_lexer": "ipython3",
   "version": "3.7.3"
  }
 },
 "nbformat": 4,
 "nbformat_minor": 2
}
