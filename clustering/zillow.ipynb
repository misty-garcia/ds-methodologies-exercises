{
 "cells": [
  {
   "cell_type": "code",
   "execution_count": 1,
   "metadata": {},
   "outputs": [],
   "source": [
    "import numpy as np\n",
    "import pandas as pd\n",
    "\n"
   ]
  },
  {
   "cell_type": "code",
   "execution_count": 3,
   "metadata": {},
   "outputs": [],
   "source": [
    "query = \"\"\"\n",
    "    SELECT *\n",
    "        FROM properties_2017\n",
    "        JOIN predictions_2017 USING (parcelid)\t\n",
    "        LEFT JOIN airconditioningtype USING (airconditioningtypeid)\n",
    "        LEFT JOIN architecturalstyletype USING (architecturalstyletypeid)\n",
    "        LEFT JOIN heatingorsystemtype USING (heatingorsystemtypeid)\n",
    "        LEFT JOIN propertylandusetype USING (propertylandusetypeid)\n",
    "        LEFT JOIN storytype USING (storytypeid)\n",
    "        LEFT JOIN typeconstructiontype USING (typeconstructiontypeid)\n",
    "        WHERE latitude is not null and longitude is not null\n",
    "        \"\"\"\n",
    "db = \"zillow\""
   ]
  },
  {
   "cell_type": "code",
   "execution_count": null,
   "metadata": {},
   "outputs": [],
   "source": []
  }
 ],
 "metadata": {
  "kernelspec": {
   "display_name": "Python 3",
   "language": "python",
   "name": "python3"
  },
  "language_info": {
   "codemirror_mode": {
    "name": "ipython",
    "version": 3
   },
   "file_extension": ".py",
   "mimetype": "text/x-python",
   "name": "python",
   "nbconvert_exporter": "python",
   "pygments_lexer": "ipython3",
   "version": "3.7.3"
  }
 },
 "nbformat": 4,
 "nbformat_minor": 2
}
