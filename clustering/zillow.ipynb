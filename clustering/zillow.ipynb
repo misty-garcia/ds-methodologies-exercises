{
 "cells": [
  {
   "cell_type": "code",
   "execution_count": 6,
   "metadata": {},
   "outputs": [],
   "source": [
    "import numpy as np\n",
    "import pandas as pd\n",
    "\n",
    "import acquire"
   ]
  },
  {
   "cell_type": "code",
   "execution_count": 29,
   "metadata": {},
   "outputs": [],
   "source": [
    "query = \"\"\"\n",
    "    SELECT *\n",
    "        FROM properties_2017\n",
    "        JOIN predictions_2017 USING (parcelid)\t\n",
    "        LEFT JOIN airconditioningtype USING (airconditioningtypeid)\n",
    "        LEFT JOIN architecturalstyletype USING (architecturalstyletypeid)\n",
    "        LEFT JOIN heatingorsystemtype USING (heatingorsystemtypeid)\n",
    "        LEFT JOIN propertylandusetype USING (propertylandusetypeid)\n",
    "        LEFT JOIN storytype USING (storytypeid)\n",
    "        LEFT JOIN typeconstructiontype USING (typeconstructiontypeid)\n",
    "        WHERE latitude is not null and longitude is not null\n",
    "        \"\"\"\n",
    "db = \"zillow\""
   ]
  },
  {
   "cell_type": "code",
   "execution_count": 44,
   "metadata": {},
   "outputs": [],
   "source": [
    "df = acquire.get_data(query, db)"
   ]
  },
  {
   "cell_type": "code",
   "execution_count": 45,
   "metadata": {},
   "outputs": [],
   "source": [
    "# keep max transaction dates\n",
    "df = df.sort_values(\"transactiondate\", ascending=False).drop_duplicates(\"parcelid\")"
   ]
  },
  {
   "cell_type": "code",
   "execution_count": 46,
   "metadata": {},
   "outputs": [
    {
     "name": "stdout",
     "output_type": "stream",
     "text": [
      "<class 'pandas.core.frame.DataFrame'>\n",
      "Int64Index: 77381 entries, 77579 to 0\n",
      "Data columns (total 68 columns):\n",
      "typeconstructiontypeid          222 non-null float64\n",
      "storytypeid                     50 non-null float64\n",
      "propertylandusetypeid           77381 non-null float64\n",
      "heatingorsystemtypeid           49440 non-null float64\n",
      "architecturalstyletypeid        206 non-null float64\n",
      "airconditioningtypeid           24953 non-null float64\n",
      "parcelid                        77381 non-null int64\n",
      "id                              77381 non-null int64\n",
      "basementsqft                    50 non-null float64\n",
      "bathroomcnt                     77381 non-null float64\n",
      "bedroomcnt                      77381 non-null float64\n",
      "buildingclasstypeid             15 non-null float64\n",
      "buildingqualitytypeid           49672 non-null float64\n",
      "calculatedbathnbr               76772 non-null float64\n",
      "decktypeid                      614 non-null float64\n",
      "finishedfloor1squarefeet        6023 non-null float64\n",
      "calculatedfinishedsquarefeet    77185 non-null float64\n",
      "finishedsquarefeet12            73749 non-null float64\n",
      "finishedsquarefeet13            41 non-null float64\n",
      "finishedsquarefeet15            3009 non-null float64\n",
      "finishedsquarefeet50            6023 non-null float64\n",
      "finishedsquarefeet6             386 non-null float64\n",
      "fips                            77381 non-null float64\n",
      "fireplacecnt                    8276 non-null float64\n",
      "fullbathcnt                     76772 non-null float64\n",
      "garagecarcnt                    25474 non-null float64\n",
      "garagetotalsqft                 25474 non-null float64\n",
      "hashottuborspa                  1538 non-null float64\n",
      "latitude                        77381 non-null float64\n",
      "longitude                       77381 non-null float64\n",
      "lotsizesquarefeet               69142 non-null float64\n",
      "poolcnt                         16137 non-null float64\n",
      "poolsizesum                     867 non-null float64\n",
      "pooltypeid10                    464 non-null float64\n",
      "pooltypeid2                     1074 non-null float64\n",
      "pooltypeid7                     15042 non-null float64\n",
      "propertycountylandusecode       77381 non-null object\n",
      "propertyzoningdesc              50331 non-null object\n",
      "rawcensustractandblock          77381 non-null float64\n",
      "regionidcity                    75910 non-null float64\n",
      "regionidcounty                  77381 non-null float64\n",
      "regionidneighborhood            30890 non-null float64\n",
      "regionidzip                     77331 non-null float64\n",
      "roomcnt                         77381 non-null float64\n",
      "threequarterbathnbr             10096 non-null float64\n",
      "unitcnt                         50563 non-null float64\n",
      "yardbuildingsqft17              2388 non-null float64\n",
      "yardbuildingsqft26              70 non-null float64\n",
      "yearbuilt                       77118 non-null float64\n",
      "numberofstories                 17560 non-null float64\n",
      "fireplaceflag                   172 non-null float64\n",
      "structuretaxvaluedollarcnt      77269 non-null float64\n",
      "taxvaluedollarcnt               77380 non-null float64\n",
      "assessmentyear                  77381 non-null float64\n",
      "landtaxvaluedollarcnt           77379 non-null float64\n",
      "taxamount                       77376 non-null float64\n",
      "taxdelinquencyflag              2886 non-null object\n",
      "taxdelinquencyyear              2886 non-null float64\n",
      "censustractandblock             77137 non-null float64\n",
      "id                              77381 non-null int64\n",
      "logerror                        77381 non-null float64\n",
      "transactiondate                 77381 non-null object\n",
      "airconditioningdesc             24953 non-null object\n",
      "architecturalstyledesc          206 non-null object\n",
      "heatingorsystemdesc             49440 non-null object\n",
      "propertylandusedesc             77381 non-null object\n",
      "storydesc                       50 non-null object\n",
      "typeconstructiondesc            222 non-null object\n",
      "dtypes: float64(55), int64(3), object(10)\n",
      "memory usage: 40.7+ MB\n"
     ]
    }
   ],
   "source": [
    "df.info()"
   ]
  },
  {
   "cell_type": "code",
   "execution_count": null,
   "metadata": {},
   "outputs": [],
   "source": []
  }
 ],
 "metadata": {
  "kernelspec": {
   "display_name": "Python 3",
   "language": "python",
   "name": "python3"
  },
  "language_info": {
   "codemirror_mode": {
    "name": "ipython",
    "version": 3
   },
   "file_extension": ".py",
   "mimetype": "text/x-python",
   "name": "python",
   "nbconvert_exporter": "python",
   "pygments_lexer": "ipython3",
   "version": "3.7.3"
  }
 },
 "nbformat": 4,
 "nbformat_minor": 2
}
