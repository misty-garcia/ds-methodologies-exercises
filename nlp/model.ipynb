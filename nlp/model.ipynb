{
 "cells": [
  {
   "cell_type": "markdown",
   "metadata": {},
   "source": [
    "Do your work for this exercise in a file named model.\n",
    "\n",
    "Take the work we did in the lessons further:\n",
    "- What other types of models (i.e. different classifcation algorithms) could you use?\n",
    "- How do the models prepare when trained on term frequency data alone, instead of TF-IDF values?"
   ]
  },
  {
   "cell_type": "code",
   "execution_count": 1,
   "metadata": {},
   "outputs": [],
   "source": [
    "import pandas as pd\n",
    "import numpy as np\n",
    "\n",
    "from sklearn.feature_extraction.text import TfidfVectorizer \n",
    "\n",
    "import acquire\n",
    "import prepare"
   ]
  },
  {
   "cell_type": "markdown",
   "metadata": {},
   "source": [
    "#### Acquire"
   ]
  },
  {
   "cell_type": "code",
   "execution_count": 15,
   "metadata": {},
   "outputs": [
    {
     "data": {
      "text/html": [
       "<div>\n",
       "<style scoped>\n",
       "    .dataframe tbody tr th:only-of-type {\n",
       "        vertical-align: middle;\n",
       "    }\n",
       "\n",
       "    .dataframe tbody tr th {\n",
       "        vertical-align: top;\n",
       "    }\n",
       "\n",
       "    .dataframe thead th {\n",
       "        text-align: right;\n",
       "    }\n",
       "</style>\n",
       "<table border=\"1\" class=\"dataframe\">\n",
       "  <thead>\n",
       "    <tr style=\"text-align: right;\">\n",
       "      <th></th>\n",
       "      <th>title</th>\n",
       "      <th>body</th>\n",
       "      <th>category</th>\n",
       "    </tr>\n",
       "  </thead>\n",
       "  <tbody>\n",
       "    <tr>\n",
       "      <th>0</th>\n",
       "      <td>My faith in humanity is restored: Musk after w...</td>\n",
       "      <td>After a US jury found that Elon Musk did not d...</td>\n",
       "      <td>business</td>\n",
       "    </tr>\n",
       "    <tr>\n",
       "      <th>1</th>\n",
       "      <td>I'll take it on the chin: Cave explorer after ...</td>\n",
       "      <td>British cave explorer Vernon Unsworth, who los...</td>\n",
       "      <td>business</td>\n",
       "    </tr>\n",
       "    <tr>\n",
       "      <th>2</th>\n",
       "      <td>FIR filed against Club Factory in Lucknow for ...</td>\n",
       "      <td>A Lucknow-based customer has filed an FIR agai...</td>\n",
       "      <td>business</td>\n",
       "    </tr>\n",
       "    <tr>\n",
       "      <th>3</th>\n",
       "      <td>Onion prices surge up to ₹200 per kg in Bengaluru</td>\n",
       "      <td>Price of onion has shot up to ₹200 per kg in B...</td>\n",
       "      <td>business</td>\n",
       "    </tr>\n",
       "    <tr>\n",
       "      <th>4</th>\n",
       "      <td>Ideas come from a small set of people around P...</td>\n",
       "      <td>Former RBI Governor Raghuram Rajan in an artic...</td>\n",
       "      <td>business</td>\n",
       "    </tr>\n",
       "    <tr>\n",
       "      <th>...</th>\n",
       "      <td>...</td>\n",
       "      <td>...</td>\n",
       "      <td>...</td>\n",
       "    </tr>\n",
       "    <tr>\n",
       "      <th>94</th>\n",
       "      <td>Deepika Padukone, Sara Ali Khan attend Star Sc...</td>\n",
       "      <td>Deepika Padukone and Sara Ali Khan were among ...</td>\n",
       "      <td>entertainment</td>\n",
       "    </tr>\n",
       "    <tr>\n",
       "      <th>95</th>\n",
       "      <td>It's deeply disappointing: Dia Mirza on Hydera...</td>\n",
       "      <td>After the four men accused of gangraping and m...</td>\n",
       "      <td>entertainment</td>\n",
       "    </tr>\n",
       "    <tr>\n",
       "      <th>96</th>\n",
       "      <td>Overjoyed as 'choti behen' Lata's health is be...</td>\n",
       "      <td>Veteran actor Dilip Kumar took to Twitter to e...</td>\n",
       "      <td>entertainment</td>\n",
       "    </tr>\n",
       "    <tr>\n",
       "      <th>97</th>\n",
       "      <td>Salman, Katrina perform at B'desh Premier Leag...</td>\n",
       "      <td>Actors Salman Khan and Katrina Kaif performed ...</td>\n",
       "      <td>entertainment</td>\n",
       "    </tr>\n",
       "    <tr>\n",
       "      <th>98</th>\n",
       "      <td>Any major life change is painful: Dia on her s...</td>\n",
       "      <td>Talking about dealing with her separation from...</td>\n",
       "      <td>entertainment</td>\n",
       "    </tr>\n",
       "  </tbody>\n",
       "</table>\n",
       "<p>99 rows × 3 columns</p>\n",
       "</div>"
      ],
      "text/plain": [
       "                                                title  \\\n",
       "0   My faith in humanity is restored: Musk after w...   \n",
       "1   I'll take it on the chin: Cave explorer after ...   \n",
       "2   FIR filed against Club Factory in Lucknow for ...   \n",
       "3   Onion prices surge up to ₹200 per kg in Bengaluru   \n",
       "4   Ideas come from a small set of people around P...   \n",
       "..                                                ...   \n",
       "94  Deepika Padukone, Sara Ali Khan attend Star Sc...   \n",
       "95  It's deeply disappointing: Dia Mirza on Hydera...   \n",
       "96  Overjoyed as 'choti behen' Lata's health is be...   \n",
       "97  Salman, Katrina perform at B'desh Premier Leag...   \n",
       "98  Any major life change is painful: Dia on her s...   \n",
       "\n",
       "                                                 body       category  \n",
       "0   After a US jury found that Elon Musk did not d...       business  \n",
       "1   British cave explorer Vernon Unsworth, who los...       business  \n",
       "2   A Lucknow-based customer has filed an FIR agai...       business  \n",
       "3   Price of onion has shot up to ₹200 per kg in B...       business  \n",
       "4   Former RBI Governor Raghuram Rajan in an artic...       business  \n",
       "..                                                ...            ...  \n",
       "94  Deepika Padukone and Sara Ali Khan were among ...  entertainment  \n",
       "95  After the four men accused of gangraping and m...  entertainment  \n",
       "96  Veteran actor Dilip Kumar took to Twitter to e...  entertainment  \n",
       "97  Actors Salman Khan and Katrina Kaif performed ...  entertainment  \n",
       "98  Talking about dealing with her separation from...  entertainment  \n",
       "\n",
       "[99 rows x 3 columns]"
      ]
     },
     "execution_count": 15,
     "metadata": {},
     "output_type": "execute_result"
    }
   ],
   "source": [
    "df_fresh = pd.DataFrame(acquire.get_news_articles())\n",
    "df_fresh"
   ]
  },
  {
   "cell_type": "code",
   "execution_count": 17,
   "metadata": {},
   "outputs": [
    {
     "data": {
      "text/plain": [
       "'After a US jury found that Elon Musk did not defame British cave explorer Vernon Unsworth by calling him a \"pedo guy\" on Twitter, the Tesla CEO said, \"My faith in humanity is restored\". The 48-year-old billionaire argued that he did not intend to call Unsworth a paedophile, but instead was using \"pedo guy\" to mean \"creepy old guy\".'"
      ]
     },
     "execution_count": 17,
     "metadata": {},
     "output_type": "execute_result"
    }
   ],
   "source": [
    "df_fresh.body[0]"
   ]
  },
  {
   "cell_type": "markdown",
   "metadata": {},
   "source": [
    "#### Prepare"
   ]
  },
  {
   "cell_type": "code",
   "execution_count": 18,
   "metadata": {},
   "outputs": [
    {
     "data": {
      "text/html": [
       "<div>\n",
       "<style scoped>\n",
       "    .dataframe tbody tr th:only-of-type {\n",
       "        vertical-align: middle;\n",
       "    }\n",
       "\n",
       "    .dataframe tbody tr th {\n",
       "        vertical-align: top;\n",
       "    }\n",
       "\n",
       "    .dataframe thead th {\n",
       "        text-align: right;\n",
       "    }\n",
       "</style>\n",
       "<table border=\"1\" class=\"dataframe\">\n",
       "  <thead>\n",
       "    <tr style=\"text-align: right;\">\n",
       "      <th></th>\n",
       "      <th>title</th>\n",
       "      <th>category</th>\n",
       "      <th>original</th>\n",
       "      <th>stemmed</th>\n",
       "      <th>lemmatized</th>\n",
       "      <th>clean</th>\n",
       "    </tr>\n",
       "  </thead>\n",
       "  <tbody>\n",
       "    <tr>\n",
       "      <th>0</th>\n",
       "      <td>My faith in humanity is restored: Musk after w...</td>\n",
       "      <td>business</td>\n",
       "      <td>After a US jury found that Elon Musk did not d...</td>\n",
       "      <td>after a us juri found that elon musk did not d...</td>\n",
       "      <td>after a u jury found that elon musk did not de...</td>\n",
       "      <td>us jury found elon musk defame british cave ex...</td>\n",
       "    </tr>\n",
       "    <tr>\n",
       "      <th>1</th>\n",
       "      <td>I'll take it on the chin: Cave explorer after ...</td>\n",
       "      <td>business</td>\n",
       "      <td>British cave explorer Vernon Unsworth, who los...</td>\n",
       "      <td>british cave explor vernon unsworth who lost t...</td>\n",
       "      <td>british cave explorer vernon unsworth who lost...</td>\n",
       "      <td>british cave explorer vernon unsworth lost def...</td>\n",
       "    </tr>\n",
       "    <tr>\n",
       "      <th>2</th>\n",
       "      <td>FIR filed against Club Factory in Lucknow for ...</td>\n",
       "      <td>business</td>\n",
       "      <td>A Lucknow-based customer has filed an FIR agai...</td>\n",
       "      <td>a lucknowbas custom ha file an fir against chi...</td>\n",
       "      <td>a lucknowbased customer ha filed an fir agains...</td>\n",
       "      <td>lucknowbased customer filed fir chinese ecomme...</td>\n",
       "    </tr>\n",
       "    <tr>\n",
       "      <th>3</th>\n",
       "      <td>Onion prices surge up to ₹200 per kg in Bengaluru</td>\n",
       "      <td>business</td>\n",
       "      <td>Price of onion has shot up to ₹200 per kg in B...</td>\n",
       "      <td>price of onion ha shot up to 200 per kg in ben...</td>\n",
       "      <td>price of onion ha shot up to 200 per kg in ben...</td>\n",
       "      <td>price onion shot 200 per kg bengaluru due seve...</td>\n",
       "    </tr>\n",
       "    <tr>\n",
       "      <th>4</th>\n",
       "      <td>Ideas come from a small set of people around P...</td>\n",
       "      <td>business</td>\n",
       "      <td>Former RBI Governor Raghuram Rajan in an artic...</td>\n",
       "      <td>former rbi governor raghuram rajan in an artic...</td>\n",
       "      <td>former rbi governor raghuram rajan in an artic...</td>\n",
       "      <td>former rbi governor raghuram rajan article ind...</td>\n",
       "    </tr>\n",
       "    <tr>\n",
       "      <th>...</th>\n",
       "      <td>...</td>\n",
       "      <td>...</td>\n",
       "      <td>...</td>\n",
       "      <td>...</td>\n",
       "      <td>...</td>\n",
       "      <td>...</td>\n",
       "    </tr>\n",
       "    <tr>\n",
       "      <th>94</th>\n",
       "      <td>Deepika Padukone, Sara Ali Khan attend Star Sc...</td>\n",
       "      <td>entertainment</td>\n",
       "      <td>Deepika Padukone and Sara Ali Khan were among ...</td>\n",
       "      <td>deepika padukon and sara ali khan were among t...</td>\n",
       "      <td>deepika padukone and sara ali khan were among ...</td>\n",
       "      <td>deepika padukone sara ali khan among celebriti...</td>\n",
       "    </tr>\n",
       "    <tr>\n",
       "      <th>95</th>\n",
       "      <td>It's deeply disappointing: Dia Mirza on Hydera...</td>\n",
       "      <td>entertainment</td>\n",
       "      <td>After the four men accused of gangraping and m...</td>\n",
       "      <td>after the four men accus of gangrap and murder...</td>\n",
       "      <td>after the four men accused of gangraping and m...</td>\n",
       "      <td>four men accused gangraping murdering 27yearol...</td>\n",
       "    </tr>\n",
       "    <tr>\n",
       "      <th>96</th>\n",
       "      <td>Overjoyed as 'choti behen' Lata's health is be...</td>\n",
       "      <td>entertainment</td>\n",
       "      <td>Veteran actor Dilip Kumar took to Twitter to e...</td>\n",
       "      <td>veteran actor dilip kumar took to twitter to e...</td>\n",
       "      <td>veteran actor dilip kumar took to twitter to e...</td>\n",
       "      <td>veteran actor dilip kumar took twitter express...</td>\n",
       "    </tr>\n",
       "    <tr>\n",
       "      <th>97</th>\n",
       "      <td>Salman, Katrina perform at B'desh Premier Leag...</td>\n",
       "      <td>entertainment</td>\n",
       "      <td>Actors Salman Khan and Katrina Kaif performed ...</td>\n",
       "      <td>actor salman khan and katrina kaif perform at ...</td>\n",
       "      <td>actor salman khan and katrina kaif performed a...</td>\n",
       "      <td>actors salman khan katrina kaif performed open...</td>\n",
       "    </tr>\n",
       "    <tr>\n",
       "      <th>98</th>\n",
       "      <td>Any major life change is painful: Dia on her s...</td>\n",
       "      <td>entertainment</td>\n",
       "      <td>Talking about dealing with her separation from...</td>\n",
       "      <td>talk about deal with her separ from husband sa...</td>\n",
       "      <td>talking about dealing with her separation from...</td>\n",
       "      <td>talking dealing separation husband sahil sangh...</td>\n",
       "    </tr>\n",
       "  </tbody>\n",
       "</table>\n",
       "<p>99 rows × 6 columns</p>\n",
       "</div>"
      ],
      "text/plain": [
       "                                                title       category  \\\n",
       "0   My faith in humanity is restored: Musk after w...       business   \n",
       "1   I'll take it on the chin: Cave explorer after ...       business   \n",
       "2   FIR filed against Club Factory in Lucknow for ...       business   \n",
       "3   Onion prices surge up to ₹200 per kg in Bengaluru       business   \n",
       "4   Ideas come from a small set of people around P...       business   \n",
       "..                                                ...            ...   \n",
       "94  Deepika Padukone, Sara Ali Khan attend Star Sc...  entertainment   \n",
       "95  It's deeply disappointing: Dia Mirza on Hydera...  entertainment   \n",
       "96  Overjoyed as 'choti behen' Lata's health is be...  entertainment   \n",
       "97  Salman, Katrina perform at B'desh Premier Leag...  entertainment   \n",
       "98  Any major life change is painful: Dia on her s...  entertainment   \n",
       "\n",
       "                                             original  \\\n",
       "0   After a US jury found that Elon Musk did not d...   \n",
       "1   British cave explorer Vernon Unsworth, who los...   \n",
       "2   A Lucknow-based customer has filed an FIR agai...   \n",
       "3   Price of onion has shot up to ₹200 per kg in B...   \n",
       "4   Former RBI Governor Raghuram Rajan in an artic...   \n",
       "..                                                ...   \n",
       "94  Deepika Padukone and Sara Ali Khan were among ...   \n",
       "95  After the four men accused of gangraping and m...   \n",
       "96  Veteran actor Dilip Kumar took to Twitter to e...   \n",
       "97  Actors Salman Khan and Katrina Kaif performed ...   \n",
       "98  Talking about dealing with her separation from...   \n",
       "\n",
       "                                              stemmed  \\\n",
       "0   after a us juri found that elon musk did not d...   \n",
       "1   british cave explor vernon unsworth who lost t...   \n",
       "2   a lucknowbas custom ha file an fir against chi...   \n",
       "3   price of onion ha shot up to 200 per kg in ben...   \n",
       "4   former rbi governor raghuram rajan in an artic...   \n",
       "..                                                ...   \n",
       "94  deepika padukon and sara ali khan were among t...   \n",
       "95  after the four men accus of gangrap and murder...   \n",
       "96  veteran actor dilip kumar took to twitter to e...   \n",
       "97  actor salman khan and katrina kaif perform at ...   \n",
       "98  talk about deal with her separ from husband sa...   \n",
       "\n",
       "                                           lemmatized  \\\n",
       "0   after a u jury found that elon musk did not de...   \n",
       "1   british cave explorer vernon unsworth who lost...   \n",
       "2   a lucknowbased customer ha filed an fir agains...   \n",
       "3   price of onion ha shot up to 200 per kg in ben...   \n",
       "4   former rbi governor raghuram rajan in an artic...   \n",
       "..                                                ...   \n",
       "94  deepika padukone and sara ali khan were among ...   \n",
       "95  after the four men accused of gangraping and m...   \n",
       "96  veteran actor dilip kumar took to twitter to e...   \n",
       "97  actor salman khan and katrina kaif performed a...   \n",
       "98  talking about dealing with her separation from...   \n",
       "\n",
       "                                                clean  \n",
       "0   us jury found elon musk defame british cave ex...  \n",
       "1   british cave explorer vernon unsworth lost def...  \n",
       "2   lucknowbased customer filed fir chinese ecomme...  \n",
       "3   price onion shot 200 per kg bengaluru due seve...  \n",
       "4   former rbi governor raghuram rajan article ind...  \n",
       "..                                                ...  \n",
       "94  deepika padukone sara ali khan among celebriti...  \n",
       "95  four men accused gangraping murdering 27yearol...  \n",
       "96  veteran actor dilip kumar took twitter express...  \n",
       "97  actors salman khan katrina kaif performed open...  \n",
       "98  talking dealing separation husband sahil sangh...  \n",
       "\n",
       "[99 rows x 6 columns]"
      ]
     },
     "execution_count": 18,
     "metadata": {},
     "output_type": "execute_result"
    }
   ],
   "source": [
    "prepare.prep_article(df_fresh)"
   ]
  },
  {
   "cell_type": "code",
   "execution_count": 19,
   "metadata": {},
   "outputs": [
    {
     "data": {
      "text/plain": [
       "'british cave explorer vernon unsworth lost defamation case filed elon musk calling pedo guy said respects jurys decision ill take chin move unsworth added legal team sought least 190 million damages tesla ceo tweets diver'"
      ]
     },
     "execution_count": 19,
     "metadata": {},
     "output_type": "execute_result"
    }
   ],
   "source": [
    "df.clean[0]"
   ]
  },
  {
   "cell_type": "code",
   "execution_count": 20,
   "metadata": {},
   "outputs": [
    {
     "data": {
      "text/html": [
       "<div>\n",
       "<style scoped>\n",
       "    .dataframe tbody tr th:only-of-type {\n",
       "        vertical-align: middle;\n",
       "    }\n",
       "\n",
       "    .dataframe tbody tr th {\n",
       "        vertical-align: top;\n",
       "    }\n",
       "\n",
       "    .dataframe thead th {\n",
       "        text-align: right;\n",
       "    }\n",
       "</style>\n",
       "<table border=\"1\" class=\"dataframe\">\n",
       "  <thead>\n",
       "    <tr style=\"text-align: right;\">\n",
       "      <th></th>\n",
       "      <th>category</th>\n",
       "      <th>clean</th>\n",
       "    </tr>\n",
       "  </thead>\n",
       "  <tbody>\n",
       "    <tr>\n",
       "      <th>0</th>\n",
       "      <td>business</td>\n",
       "      <td>us jury found elon musk defame british cave ex...</td>\n",
       "    </tr>\n",
       "    <tr>\n",
       "      <th>1</th>\n",
       "      <td>business</td>\n",
       "      <td>british cave explorer vernon unsworth lost def...</td>\n",
       "    </tr>\n",
       "    <tr>\n",
       "      <th>2</th>\n",
       "      <td>business</td>\n",
       "      <td>lucknowbased customer filed fir chinese ecomme...</td>\n",
       "    </tr>\n",
       "    <tr>\n",
       "      <th>3</th>\n",
       "      <td>business</td>\n",
       "      <td>price onion shot 200 per kg bengaluru due seve...</td>\n",
       "    </tr>\n",
       "    <tr>\n",
       "      <th>4</th>\n",
       "      <td>business</td>\n",
       "      <td>former rbi governor raghuram rajan article ind...</td>\n",
       "    </tr>\n",
       "    <tr>\n",
       "      <th>...</th>\n",
       "      <td>...</td>\n",
       "      <td>...</td>\n",
       "    </tr>\n",
       "    <tr>\n",
       "      <th>94</th>\n",
       "      <td>entertainment</td>\n",
       "      <td>deepika padukone sara ali khan among celebriti...</td>\n",
       "    </tr>\n",
       "    <tr>\n",
       "      <th>95</th>\n",
       "      <td>entertainment</td>\n",
       "      <td>four men accused gangraping murdering 27yearol...</td>\n",
       "    </tr>\n",
       "    <tr>\n",
       "      <th>96</th>\n",
       "      <td>entertainment</td>\n",
       "      <td>veteran actor dilip kumar took twitter express...</td>\n",
       "    </tr>\n",
       "    <tr>\n",
       "      <th>97</th>\n",
       "      <td>entertainment</td>\n",
       "      <td>actors salman khan katrina kaif performed open...</td>\n",
       "    </tr>\n",
       "    <tr>\n",
       "      <th>98</th>\n",
       "      <td>entertainment</td>\n",
       "      <td>talking dealing separation husband sahil sangh...</td>\n",
       "    </tr>\n",
       "  </tbody>\n",
       "</table>\n",
       "<p>99 rows × 2 columns</p>\n",
       "</div>"
      ],
      "text/plain": [
       "         category                                              clean\n",
       "0        business  us jury found elon musk defame british cave ex...\n",
       "1        business  british cave explorer vernon unsworth lost def...\n",
       "2        business  lucknowbased customer filed fir chinese ecomme...\n",
       "3        business  price onion shot 200 per kg bengaluru due seve...\n",
       "4        business  former rbi governor raghuram rajan article ind...\n",
       "..            ...                                                ...\n",
       "94  entertainment  deepika padukone sara ali khan among celebriti...\n",
       "95  entertainment  four men accused gangraping murdering 27yearol...\n",
       "96  entertainment  veteran actor dilip kumar took twitter express...\n",
       "97  entertainment  actors salman khan katrina kaif performed open...\n",
       "98  entertainment  talking dealing separation husband sahil sangh...\n",
       "\n",
       "[99 rows x 2 columns]"
      ]
     },
     "execution_count": 20,
     "metadata": {},
     "output_type": "execute_result"
    }
   ],
   "source": [
    "df = df_fresh[[\"category\", \"clean\"]]\n",
    "df"
   ]
  },
  {
   "cell_type": "markdown",
   "metadata": {},
   "source": [
    "#### Explore "
   ]
  },
  {
   "cell_type": "code",
   "execution_count": 21,
   "metadata": {},
   "outputs": [
    {
     "data": {
      "text/plain": [
       "entertainment    0.252525\n",
       "technology       0.252525\n",
       "sports           0.252525\n",
       "business         0.242424\n",
       "Name: category, dtype: float64"
      ]
     },
     "execution_count": 21,
     "metadata": {},
     "output_type": "execute_result"
    }
   ],
   "source": [
    "df.category.value_counts(normalize=True)"
   ]
  },
  {
   "cell_type": "code",
   "execution_count": 22,
   "metadata": {},
   "outputs": [
    {
     "data": {
      "text/html": [
       "<div>\n",
       "<style scoped>\n",
       "    .dataframe tbody tr th:only-of-type {\n",
       "        vertical-align: middle;\n",
       "    }\n",
       "\n",
       "    .dataframe tbody tr th {\n",
       "        vertical-align: top;\n",
       "    }\n",
       "\n",
       "    .dataframe thead th {\n",
       "        text-align: right;\n",
       "    }\n",
       "</style>\n",
       "<table border=\"1\" class=\"dataframe\">\n",
       "  <thead>\n",
       "    <tr style=\"text-align: right;\">\n",
       "      <th></th>\n",
       "      <th>n</th>\n",
       "      <th>percent</th>\n",
       "    </tr>\n",
       "  </thead>\n",
       "  <tbody>\n",
       "    <tr>\n",
       "      <th>entertainment</th>\n",
       "      <td>25</td>\n",
       "      <td>0.252525</td>\n",
       "    </tr>\n",
       "    <tr>\n",
       "      <th>technology</th>\n",
       "      <td>25</td>\n",
       "      <td>0.252525</td>\n",
       "    </tr>\n",
       "    <tr>\n",
       "      <th>sports</th>\n",
       "      <td>25</td>\n",
       "      <td>0.252525</td>\n",
       "    </tr>\n",
       "    <tr>\n",
       "      <th>business</th>\n",
       "      <td>24</td>\n",
       "      <td>0.242424</td>\n",
       "    </tr>\n",
       "  </tbody>\n",
       "</table>\n",
       "</div>"
      ],
      "text/plain": [
       "                n   percent\n",
       "entertainment  25  0.252525\n",
       "technology     25  0.252525\n",
       "sports         25  0.252525\n",
       "business       24  0.242424"
      ]
     },
     "execution_count": 22,
     "metadata": {},
     "output_type": "execute_result"
    }
   ],
   "source": [
    "pd.concat(\n",
    "    [df.category.value_counts(), df.category.value_counts(normalize=True)], axis=1\n",
    ").set_axis([\"n\", \"percent\"], axis=1, inplace=False)"
   ]
  },
  {
   "cell_type": "markdown",
   "metadata": {},
   "source": [
    "#### Define Features"
   ]
  },
  {
   "cell_type": "code",
   "execution_count": 23,
   "metadata": {},
   "outputs": [
    {
     "data": {
      "text/html": [
       "<div>\n",
       "<style scoped>\n",
       "    .dataframe tbody tr th:only-of-type {\n",
       "        vertical-align: middle;\n",
       "    }\n",
       "\n",
       "    .dataframe tbody tr th {\n",
       "        vertical-align: top;\n",
       "    }\n",
       "\n",
       "    .dataframe thead th {\n",
       "        text-align: right;\n",
       "    }\n",
       "</style>\n",
       "<table border=\"1\" class=\"dataframe\">\n",
       "  <thead>\n",
       "    <tr style=\"text-align: right;\">\n",
       "      <th></th>\n",
       "      <th>category</th>\n",
       "      <th>clean</th>\n",
       "    </tr>\n",
       "  </thead>\n",
       "  <tbody>\n",
       "    <tr>\n",
       "      <th>0</th>\n",
       "      <td>business</td>\n",
       "      <td>us jury found elon musk defame british cave ex...</td>\n",
       "    </tr>\n",
       "    <tr>\n",
       "      <th>1</th>\n",
       "      <td>business</td>\n",
       "      <td>british cave explorer vernon unsworth lost def...</td>\n",
       "    </tr>\n",
       "    <tr>\n",
       "      <th>2</th>\n",
       "      <td>business</td>\n",
       "      <td>lucknowbased customer filed fir chinese ecomme...</td>\n",
       "    </tr>\n",
       "    <tr>\n",
       "      <th>3</th>\n",
       "      <td>business</td>\n",
       "      <td>price onion shot 200 per kg bengaluru due seve...</td>\n",
       "    </tr>\n",
       "    <tr>\n",
       "      <th>4</th>\n",
       "      <td>business</td>\n",
       "      <td>former rbi governor raghuram rajan article ind...</td>\n",
       "    </tr>\n",
       "    <tr>\n",
       "      <th>...</th>\n",
       "      <td>...</td>\n",
       "      <td>...</td>\n",
       "    </tr>\n",
       "    <tr>\n",
       "      <th>94</th>\n",
       "      <td>entertainment</td>\n",
       "      <td>deepika padukone sara ali khan among celebriti...</td>\n",
       "    </tr>\n",
       "    <tr>\n",
       "      <th>95</th>\n",
       "      <td>entertainment</td>\n",
       "      <td>four men accused gangraping murdering 27yearol...</td>\n",
       "    </tr>\n",
       "    <tr>\n",
       "      <th>96</th>\n",
       "      <td>entertainment</td>\n",
       "      <td>veteran actor dilip kumar took twitter express...</td>\n",
       "    </tr>\n",
       "    <tr>\n",
       "      <th>97</th>\n",
       "      <td>entertainment</td>\n",
       "      <td>actors salman khan katrina kaif performed open...</td>\n",
       "    </tr>\n",
       "    <tr>\n",
       "      <th>98</th>\n",
       "      <td>entertainment</td>\n",
       "      <td>talking dealing separation husband sahil sangh...</td>\n",
       "    </tr>\n",
       "  </tbody>\n",
       "</table>\n",
       "<p>99 rows × 2 columns</p>\n",
       "</div>"
      ],
      "text/plain": [
       "         category                                              clean\n",
       "0        business  us jury found elon musk defame british cave ex...\n",
       "1        business  british cave explorer vernon unsworth lost def...\n",
       "2        business  lucknowbased customer filed fir chinese ecomme...\n",
       "3        business  price onion shot 200 per kg bengaluru due seve...\n",
       "4        business  former rbi governor raghuram rajan article ind...\n",
       "..            ...                                                ...\n",
       "94  entertainment  deepika padukone sara ali khan among celebriti...\n",
       "95  entertainment  four men accused gangraping murdering 27yearol...\n",
       "96  entertainment  veteran actor dilip kumar took twitter express...\n",
       "97  entertainment  actors salman khan katrina kaif performed open...\n",
       "98  entertainment  talking dealing separation husband sahil sangh...\n",
       "\n",
       "[99 rows x 2 columns]"
      ]
     },
     "execution_count": 23,
     "metadata": {},
     "output_type": "execute_result"
    }
   ],
   "source": [
    "df"
   ]
  },
  {
   "cell_type": "code",
   "execution_count": 24,
   "metadata": {},
   "outputs": [
    {
     "data": {
      "text/plain": [
       "'us jury found elon musk defame british cave explorer vernon unsworth calling pedo guy twitter tesla ceo said faith humanity restored 48yearold billionaire argued intend call unsworth paedophile instead using pedo guy mean creepy old guy'"
      ]
     },
     "execution_count": 24,
     "metadata": {},
     "output_type": "execute_result"
    }
   ],
   "source": [
    "df.clean[0]"
   ]
  },
  {
   "cell_type": "code",
   "execution_count": 25,
   "metadata": {},
   "outputs": [],
   "source": [
    "raw_count = pd.Series(\" \".join(df.clean).split()).value_counts()"
   ]
  },
  {
   "cell_type": "code",
   "execution_count": 31,
   "metadata": {},
   "outputs": [
    {
     "data": {
      "text/plain": [
       "said         79\n",
       "added        35\n",
       "also         17\n",
       "india        15\n",
       "one          15\n",
       "             ..\n",
       "shortly       1\n",
       "marketing     1\n",
       "features      1\n",
       "jialun        1\n",
       "recent        1\n",
       "Length: 2043, dtype: int64"
      ]
     },
     "execution_count": 31,
     "metadata": {},
     "output_type": "execute_result"
    }
   ],
   "source": [
    "raw_count"
   ]
  },
  {
   "cell_type": "code",
   "execution_count": 35,
   "metadata": {},
   "outputs": [
    {
     "data": {
      "text/html": [
       "<div>\n",
       "<style scoped>\n",
       "    .dataframe tbody tr th:only-of-type {\n",
       "        vertical-align: middle;\n",
       "    }\n",
       "\n",
       "    .dataframe tbody tr th {\n",
       "        vertical-align: top;\n",
       "    }\n",
       "\n",
       "    .dataframe thead th {\n",
       "        text-align: right;\n",
       "    }\n",
       "</style>\n",
       "<table border=\"1\" class=\"dataframe\">\n",
       "  <thead>\n",
       "    <tr style=\"text-align: right;\">\n",
       "      <th></th>\n",
       "      <th>raw_count</th>\n",
       "      <th>frequency</th>\n",
       "      <th>augmented_frequency</th>\n",
       "    </tr>\n",
       "  </thead>\n",
       "  <tbody>\n",
       "    <tr>\n",
       "      <th>said</th>\n",
       "      <td>79</td>\n",
       "      <td>0.021638</td>\n",
       "      <td>1.000000</td>\n",
       "    </tr>\n",
       "    <tr>\n",
       "      <th>added</th>\n",
       "      <td>35</td>\n",
       "      <td>0.009586</td>\n",
       "      <td>0.443038</td>\n",
       "    </tr>\n",
       "    <tr>\n",
       "      <th>also</th>\n",
       "      <td>17</td>\n",
       "      <td>0.004656</td>\n",
       "      <td>0.215190</td>\n",
       "    </tr>\n",
       "    <tr>\n",
       "      <th>india</th>\n",
       "      <td>15</td>\n",
       "      <td>0.004108</td>\n",
       "      <td>0.189873</td>\n",
       "    </tr>\n",
       "    <tr>\n",
       "      <th>one</th>\n",
       "      <td>15</td>\n",
       "      <td>0.004108</td>\n",
       "      <td>0.189873</td>\n",
       "    </tr>\n",
       "  </tbody>\n",
       "</table>\n",
       "</div>"
      ],
      "text/plain": [
       "       raw_count  frequency  augmented_frequency\n",
       "said          79   0.021638             1.000000\n",
       "added         35   0.009586             0.443038\n",
       "also          17   0.004656             0.215190\n",
       "india         15   0.004108             0.189873\n",
       "one           15   0.004108             0.189873"
      ]
     },
     "execution_count": 35,
     "metadata": {},
     "output_type": "execute_result"
    }
   ],
   "source": [
    "tf_df = (pd.DataFrame({'raw_count': raw_count})\n",
    "         .assign(frequency=lambda df: df.raw_count / df.raw_count.sum())\n",
    "         .assign(augmented_frequency=lambda df: df.frequency / df.frequency.max()))\n",
    "\n",
    "tf_df.head()"
   ]
  },
  {
   "cell_type": "code",
   "execution_count": 48,
   "metadata": {},
   "outputs": [
    {
     "data": {
      "text/plain": [
       "<99x2034 sparse matrix of type '<class 'numpy.float64'>'\n",
       "\twith 3218 stored elements in Compressed Sparse Row format>"
      ]
     },
     "execution_count": 48,
     "metadata": {},
     "output_type": "execute_result"
    }
   ],
   "source": [
    "# from sklearn.feature_extraction.text import TfidfVectorizer\n",
    "\n",
    "tfidf = TfidfVectorizer()\n",
    "# tfidfs = \n",
    "tfidf.fit_transform(df.clean.to_dict().values())"
   ]
  },
  {
   "cell_type": "code",
   "execution_count": 47,
   "metadata": {},
   "outputs": [
    {
     "data": {
      "text/plain": [
       "dict_values(['us jury found elon musk defame british cave explorer vernon unsworth calling pedo guy twitter tesla ceo said faith humanity restored 48yearold billionaire argued intend call unsworth paedophile instead using pedo guy mean creepy old guy', 'british cave explorer vernon unsworth lost defamation case filed elon musk calling pedo guy said respects jurys decision ill take chin move unsworth added legal team sought least 190 million damages tesla ceo tweets diver', 'lucknowbased customer filed fir chinese ecommerce platform club factory directors jialun li garvit aggarwal cfo ashwini rastogi allegedly selling fake products popular brands complainant bought titan watch rayban sunglasses 90 discount alleged received counterfeits brands denied relationship club factory', 'price onion shot 200 per kg bengaluru due severe short supply official said onion price touched 200 per kg retail shops bengaluru wholesale rate ranged 5500 14000 per quintal state agricultural marketing officer siddagangaiah said surge onion prices expected last midjanuary', 'former rbi governor raghuram rajan article india today magazine said ideas plans economic reforms emanate small set personalities around prime minister pmo works well partys political social agenda wrote works less well economic reforms added', 'finance minister nirmala sitharaman saturday said cut personal income tax rates one many things government considering boost consumption asked soon relief personal income tax said wait budget union budget 202021 presented february', 'uttar pradesh cabinet monday approved zurich airport international developer jewar airport senior uttar pradesh government official said november 29 swiss firm emerged highest bidder develop airport outbidding competitors like adani enterprises dial anchorage infrastructure investments holding', 'congress leader shashi tharoor said wants new india rahul bajaj kiran mazumdarshaw speak fearlessly government new india wont get lynched food eat marginalised faith hold dear criminalised person love mistrusted business run added', 'mahindra group chairman anand mahindra monday took twitter share shayari couplet revolving around mobile phones credited poet gulzar penning however several users pointed gulzar behind couplet user also posted screengrab showing couplet facebook page notbygulzar documents poetry wrongly credited gulzar', 'exrbi governor raghuram rajan said india growth recession defined economy growing slow pace unemployment rising indias real estate construction infrastructure industries deep trouble rajan wrote article magazine added nonbank finance companies lending sectors asset quality reviewed', 'tata sons chairman emeritus ratan tata interview yourstory said wanted relearn play piano retirement companys chairman said wanted buy proper piano bought electronic one seeing prices added learning play piano requires lot hard work', 'walmart apologised several adultthemed ugly christmas sweaters canada website including one showed santa claus cocaine another one showed santa near fireplace without pants sweaters sold thirdparty seller walmart represent walmarts values company spokesperson said sweaters later removed walmarts website', 'panel set increase gst collections considering slab restructuring increasing 5 rate 6 business standard newspaper reported move result additional revenues 1000 crore per month added essential commodities like basic clothing footwear food items covered 5 slab', 'cutting output nine consecutive months account lower demand maruti suzuki india raised production 43 november countrys largest carmaker produced 141834 vehicles november compared 135946 units month last year production figures passenger vehicles stood almost 37 higher 139084 units month', 'finance minister nirmala sitharaman said saturday government taking steps towards building simplified taxation structure ensure assessees harassed asked tax collection officers strain put pressure assessees even tax collection targets met said government moving towards exemptionfree tax regime added', 'companies may two years comply personal data protection bill approved parliament around two years given companies compliant law government official said bill states organisations seek individuals consent collecting data notify use', 'aim catch manipulators sebi started scanning matrimonial websites look profiles suspected persons find links family members frontrunning cases checked profile trader vaibhav dhadda barred frontrunning funds fidelity group used alias avi sebi also barred two people', 'yes bank reportedly planning reject offer canadas erwin singh braich hong kongbased spgp holdings 12billion contribution towards fund raising funding part banks 2 billion planned capital raising reported rejection doubt rbi may allow foreign bidders buy stake', 'bharti telecom sought governments permission infusion 4900 crore investment singaporebased singtel foreign entities would make foreign entity dot reportedly expected give approval month infusion increase singtels shareholding bharti telecom 50 take overseas ownership bharti telecom 85', 'sbi announced reduction oneyear marginal cost fundsbased lending rate mclr 10 basis points across tenors sbis eighth consecutive cut lending rate current financial year effective december 10 mclr come 790 per annum 8 earlier making home retail loans cheaper', 'people able purchase seized liquor 25 cheaper rate actual price delhi government gave nod sell liquor seized liquor destroyed completing legal formalities per estimates 25 lakh bottles liquor seized excise department every year', 'paul volcker former federal reserve chairman helped tame inflation 1980s carried wall street reforms amid global financial crisis died sunday age 92 volcker died due complications prostate cancer said daughter janice zima also adviser expresidents richard nixon barack obama', 'proceeds saudi aramcos ipo risen 294 billion exercised option sell 15 stock reports said final number shares sold 3450 billion final value deal 294 billion said wassim al khatib head investment banking national commercial bank aramcos main ipo raised 256 billion', 'tata steel introduced new hr policy allow employees lgbtq community declare partners avail hr benefits employees partners get benefits including health checkups medical facilities adoption leave also get financial assistance gender reassignment surgery 30 days leave company said', 'west indies chased target 171 india second t20i thiruvananthapuram sunday level threematch series 11 win also ended west indies sevent20i losing streak india started november 4 2018 series decider take place december 11 wednesday wankhede stadium mumbai', 'talking becoming cricketer like father grandfather actor saif ali khan said cricket blood played good cricket never played school college added let iscrickets mental gameits patience timing strongly lacking inthats cricket career doomed', 'batsman wasim jaffer become firstever cricketer play 150 ranji trophy matches achieving feat taking field vidarbha andhra monday jaffer followed devendra bundela 145 appearances 1995 2017 amol muzumdar 136 appearances 1993 2013 jaffer also highest runscorer ranji trophy', 'west indies legspinner hayden walsh took two wickets thiruvananthapuram t20i india said peoplemy father courtney walsh said playing canada t20 league someone called courtney walsh buti guess people find father walsh added', 'bcci president sourav ganguly said two daynight tests series would much remark comes report said cricket australia chairman earl eddings interested series india one pinkball tests twofour would bit much pink ball assess ganguly added', 'exnba player guerschon yabusele france plays nanjing tongxi monkey king chinese basketball association cba fined 1400 1 lakh looking chinese flag national anthem game hes happy take money chinabut doesnt respect fan commented era cba live wrote another', 'world antidoping agency wada handed fouryear suspension russian athletics federation major sporting events includes upcoming tokyo olympics world championships earlier year wada investigators international olympic committee ioc stated russian authorities tampered moscow laboratory database hide several potential doping cases', 'responding reporter asked agreed criticism directed whether hed step explayers demanded pakistan head coach misbahulhaq said want youve understandi dont magic wand make everything right like players need process settle perform added', 'west indies second t20i levelled threematch series 11 team india captain virat kohli said field poorly amount runs enough dropped two catches one imagine lost two wickets everyone saw need brave fielding added', 'start ranji trophy match andhra vidarbha delayed snake entered ground bcci domestics official twitter handle posted video reptile chased away ground staff visitor field bcci domestic wrote along video', 'team india captain virat kohli fielding deep second t20i west indies thiruvananthapuram asked crowd behave chanted dhoni dhoni following dropped catch wicketkeeperbatsman rishabh pant ahead match kohli said crowd chanting dhoni dhoni pant disrespectful crowd shouldnt', 'india allrounder shivam dube slammed maiden t20i fifty west indies sunday said capable hitting sixes ground dube slammed four sixes knock including three one kieron pollard think thats strength always go like dube added talking power usp', 'lionel messi broken cristiano ronaldos record hattricks la liga history scoring another treble barcelonas 52 win real mallorca saturday 32yearold scored 35 career hattricks la liga one ronaldo spent nine years real madrid joining serie club juventus 2018', 'badminton player saina nehwal took twitter respond journalist criticised praising hyderabad police killing four accused encounter veterinarians rape murder case cant even imagine horror victim felt rapists shot however incident happened happy saina wrote', 'adventurers mike horn borge ousland successfully crossed arctic ocean skis enduring cold conditions briefly running food struggling traverse thin ice caused global warming team said sunday duo reached sea ice september 12 since travelling skis pulling sledges supplies behind', 'ms dhoni holds honorary rank lieutenant colonel parachute regiment territorial army reportedly produce tv show based stories army officers itll reportedly narrate personal stories param vir chakra ashoka chakra awardees show currently scripted scheduled release 2020 reports added', 'actors salman khan katrina kaif performed opening ceremony bangabandhu bangladesh premier league bpl dhaka sunday sharing picture bangladesh pm sheikh hasina inaugurated seventh edition bpl salman wrote pleasureto meethonourable prime minister sheikh hasina singers kailash kher sonu nigam also performed ceremony', 'tasmania captain george bailey set replace greg chappell national selector ended firstclass career golden duck playing south australia sheffield shield wes agar assured never get picked australia ever unfitting end outstanding sheffieldshield career thank george tweeted cricket australia', 'speaking pakistan test team recall batsman fawad alam said said day almost feel like debut feel deliver theyll give chance im confident ill perform try enjoy opportunity ive given right think positively alam added', 'real betiss 38yearold winger joaquin sanchez scored first career hattrick sunday become oldest player hattrick spanish league real madrid great alfredo di stefano held previous record age 37 sanchezs hattrick helped side register 32 win athletic bilbao', 'speaking indian wicketkeeper rishabh pant former west indies batsman brian lara said know time critical world t20 8 9 months away excessive pressure unnecessary feel rishabh pant allowed mature lara added recalling former players like carl hooper allowed mature', 'nepals 19yearold spinner sandeep lamichhane made international debut aged 17 recalled used listen shane warnes radio cricket commentary get bowling advises would hear voiceand would put practice advice would give added lamichhane also thanked former australia captain michael clarke taking australia train', 'british boxer anthony joshua beat mexicanamerican andy ruiz jr rematch saudi arabia reclaim ibf wba wbo heavyweight titles lost june hard champion funits life discipline dedication fg headaches joshua said winning ill always prove added', 'manchester citys manager pep guardiola said team maybe able compete likes manchester united barcelona liverpool currently added city accept reality improve notably premier league defending champions lost 12 united saturday 14 points behind tabletoppers liverpool league table', 'west indies wicketkeeperbatsman denesh ramdin stopped way second t20i india thiruvananthapuram presented 4yearold girl match tickets gift windies cricket took twitter share pictures incident captioned probably one cutest things internet today huge respect user commented post', 'british cave explorer vernon unsworth lost defamation case filed elon musk calling pedo guy said respects jurys decision ill take chin move unsworth added legal team sought least 190 million damages tesla ceo tweets diver', 'china ordered government offices public institutions replace foreign computer equipment software within three years financial times reported directive comes amid chinas attempt increase reliance domestic technologies fuelled chinaus trade war report added starting 2020 around 2030 million pieces hardware replaced', 'us jury found elon musk defame british cave explorer vernon unsworth calling pedo guy twitter tesla ceo said faith humanity restored 48yearold billionaire argued intend call unsworth paedophile instead using pedo guy mean creepy old guy', 'whatsapp adding call waiting feature android users let know someone making whatsapp call theyre already call lets users either decline incoming call end existing one accept incoming call earlier users option receive call already call', 'usbased platform hackerone pays hackers find bugs products services websites companies like uber instagram zomato twitter others breached one community members user handle called haxta4ok00 paid 20000 14 lakh hackerone less 5 hackerone programmes impacted breach hackerone said', 'singaporebased fashion startup zilingos indian cofounder ceo ankiti bose said company offers coaching programme top 100 leaders either people break become aholesstandard tech unicorn aholes 28yearold said zilingo 800 employees valued 970 million february raised 226 million investors including sequoia temasek', 'apple ceo tim cook sunday posted pictures 84yearold app developer masako wakamiya young developer hikari met japan imaginative developers prove matter age coding opens new opportunities follow dreams tweeted cook 2017 japans masako wakamiya launched hinadan game aimed elderly users', 'microsoft discovered 44 crore users azure microsoft services accounts msa using leaked credentials log accounts microsoft identity threat research team checked 300 crore credentials obtained different breaches found match 44 crore user credentials force password reset accounts microsoft said', 'isro launch second spy satellite called risat2br1 december 11 help monitoring disaster events rescue missions surveillance purposes risat2br1 life span five years accompanied nine commercial satellites satellites launched satish dhawan space centre sriharikota 325 pm', 'facebook fined 4 million hungarys competition watchdog misleading users claiming services free watchdog said facebook using user data make profit adverts posted page added data collected facebook enabled post targeted ads users remained unaware data handed', 'information 58000 public toilets across 2500 cities available google maps union minister hardeep singh puri said toilet maintained usable able fix use technology realtime basis puri said government target building 66 lakh toilets urban areas', 'microsoft cofounder bill gates made cameo appearance finale emmywinning tech industry satire series silicon valley gates said im big fan silicon valley excited asked appear thefinale tonight executive producer alec berg said team also met gates 2017 seek advice storyline', 'us justice department said ericsson agreed pay 1 billion resolve allegations bribery corruption longrunning corruption investigation involves potential payoffs countries including china settlement would require ericsson pay 520million criminal penalty around 540million fine us securities exchange commission related matter', 'apple may launch four variants 5g iphones 2020 said apple analyst ming chikuo adding may come qualcomm x55 modem tech giant could introduce 5genabled iphones 2019 due issues qualcomm resolved later reports said also reportedly expected four models oled screens', 'google rolled final update glass explorer edition ending support wearable users install update manually remove need ability use ones google account glass february 25 2020 update applies glass explorer edition devices doesnt affect glass enterprise edition devices', 'facebook introduced crisis response tools whatsapp let users alert friends family natural disaster terrorist attack poor connectivity itll also include facebooks disaster maps details commute patterns tourist populations one main features safety check allows users mark safe crisis', 'amazon ceo jeff bezos said company continue support us military business even pentagon chose microsoft 10 billion jedi contract added us would big trouble tech companies turn backs defence department comments come google withdrew ai military contract project maven', 'amazon disabled searchseeding tool helped decide products appear first searches india marketplace reportedly found merchants misusing merchant alleged used seeding improve search results amazon india however said provide tool sellers manipulate ranking shopping results', 'approximately 10 years worth argentinas government data hacked bitcoin ransomware attack countrys minister science technology alicia banuelos said 7700 gb worth data compromised reports said attackers asked 37000370000 0550 btc exchange decrypting files banuelos said 90 data recovered', 'us prosecutors charged two leading members russian hacking group evil corp allegedly used malicious software orchestrate global banking fraud stole 100 million authorities said gang used malware called dridex helped elude antivirus software infected could empty accounts bank staff customers forward proceeds groups accounts', 'reddit banned 61 accounts linked alleged russian interference britains upcoming elections platform linked account activity involving leak ukus trade documents ahead elections suspected russian influence operation platform also found pocket accounts worked together manipulate votes original post attempt amplify', 'trai introduced consultation paper attempt regulate cloud service providers csps several telecom companies including coai raised concerns companies argued authority doesnt jurisdiction also csps enough regulation already however reliance jio infocomm backed idea lighttouch regulation across csps', 'networks bmw hyundai hacked allegedly vietnambacked hacking group called oceanlotus attempt find trade secrets report revealed bmw found hackers shortly let operate months blocking december sensitive data would leaked bmw security expert said', 'successor apples iphone se expected launched march 2020 could named iphone 9 instead iphone se 2 japanese blog mac otakara reported budget phone reportedly form factor identical iphone 8 model may also a13 bionic chipset launched iphone 11', 'pm narendra modi visited supercomputer facility param brahma interacted scientists indian institute science education research iiser pune pm modi urged develop lowcost technologies help fasttracking indias growth param brahma supercomputer allow scientists scale existing work areas agriculture healthcare', 'actor kartik aaryan criticised hair removal cream advertisement social media users claiming abs advertisement edited instagram account diet sabya shared clip advertisement called ad wrong many levelsfake abstoxic masculinity user commented another comment read best body vfx award', 'talking becoming cricketer like father grandfather actor saif ali khan said cricket blood played good cricket never played school college added let iscrickets mental gameits patience timing strongly lacking inthats cricket career doomed', 'actor shah rukh khan monday tweeted im glad success indonesian actor muhammad khan thanked speech winning best actor award citra 2019 id like share award hero shah rukh muhammad said indonesian actor even sang mere mehboob song srks film duplicate', 'miss universe pageant mistakenly congratulated miss malaysia shweta sekhon winning best national costume later deleted tweet wrote miss universe philippines gazini ganados winner earlier reports said host steve harvey mixed names although explained live telecast teleprompter read miss philippines despite miss malaysia sent stage', 'rashami desais purported boyfriend arhaan khan claimed tv actress road zero balance account met shown bigg boss 13 promo evicted khan reentered show propose desai however host salman khan told actress khan married man child', 'nominees best picture drama golden globes 2020 include netflixs marriage story two popes irishman netflixs firstever golden globes best picture drama nominations todd phillips directorial joker starred joaquin phoenix became first rrated movie earn 1 billion worldwide also nominated', 'speaking mean things producers directors told beginning career saif ali khan said people talk looks guess didnt look like hero akshay kumar felt looked like girl added certainly bad voicesometimes squeakingin english accent said saif', 'model chrissy teigen responded troll asked cover commenting picture chrissy 3yearold daughter luna sucked months doesnt mind much chrissy replied another user also commented picture asked ever wears underwear chrissy replied cold', 'actress bhumi pednekar asked felt awkward saying dialogue like sex pati patni aur woh said wasnt awkward added character film modern girl isnt earlier speaking dialogue called adult humour films director mudassar aziz questioned cant women enjoy sex', 'rangoli chandel trolled alia bhatt alleged awardfixing video purportedly showing star screen awards trophy award show began surfaced online video person whos said alias manager heard asking photographers theyll upload pictures photographer answers hour woman says 7 pm', 'american actor ian somerhalder said wants use skill set storytelling wouldnt tv shows doesnt creative role storytelling tarantino orspielberg thenid excited actor added talking web tv series v wars said itsa great opportunityto producedirectand star', 'police killed four men accused raping murdering 27yearold hyderabad veterinarian encounter waheeda rehman said ifeelwe shouldnt allowed take somebodys life give rape accused life imprisonment stated shouldnt follow legal procedure cases youve caught redhandedwhy file case added', 'ranveer singh alia bhatt best actor popular best actress popular respectively gully boy star screen awards sunday award promising actor male went siddhant chaturvedi gully boy sara ali khan promising actor female kedarnath award best action film went war', 'shah rukh khan talking recent films said think made bad films really believe theres one reason formovie going wrong except fact thati toldstory badly said thirty years experience filmmaking cannot intellectualizefailure orsuccessand cannot get gungho disturbed offailure success added', 'shahid kapoor said related lot story upcoming film jersey failed cricketer decides revive cricketing career late 30s used wonder try something elseno film mine going blockbuster said acting thing ilove shahid added', 'reacting protests panipat alleged misrepresentation jat community incorrect portrayal maharaja suraj mal actor randeep hooda said protestors shouldnt attach ancestors legacy film glorify one community one doesnt need show others mostly adverse effect tweeted hoping mature understanding infuture said', 'ms dhoni holds honorary rank lieutenant colonel parachute regiment territorial army reportedly produce tv show based stories army officers itll reportedly narrate personal stories param vir chakra ashoka chakra awardees show currently scripted scheduled release 2020 reports added', 'singer usha uthup said shes working singer generate awareness various social causes like child abuse human trafficking women issues important give back tosociety added usha said shes political person doesnt believe shouting going morchas adding feel much really gets done', 'sushmita sen monday took instagram announce return films nearly decade last bollywood appearance 2010 film problem fans waited 10yearsi return wrote sushmita earlier said made decision take break films adopting younger daughter alisah 2010', 'english veteran actress maggie smith revealed although deeply grateful roles tv series downton abbey harry potter films wasnt youd call satisfying didntfeel acting things twotime oscarwinning actress said revealed thrills five grandchildren harry potter films', 'deepika padukone sara ali khan among celebrities walked red carpet star screen awards deepika opted floorlength black gown trail completed look shoulderlength loose hair meanwhile sara opted printed dress long veil completed outfit pair matching heels', 'four men accused gangraping murdering 27yearold hyderabad veterinarian killed police encounter dia mirza said im favour encounters think deeply disappointingthis happened exists judicial system everyone including guilty innocent gets chance prove crime innocence added', 'veteran actor dilip kumar took twitter express overjoyed 90yearold singer lata mangeshkar spent 28 days hospital get treatment pneumonia returned home overjoyed hearthat choti behen lata feelingbetter home tweeted please take good care mangeshkarlata added', 'actors salman khan katrina kaif performed opening ceremony bangabandhu bangladesh premier league bpl dhaka sunday sharing picture bangladesh pm sheikh hasina inaugurated seventh edition bpl salman wrote pleasureto meethonourable prime minister sheikh hasina singers kailash kher sonu nigam also performed ceremony', 'talking dealing separation husband sahil sangha actress dia mirza said major life change challenging painful difficult im fortunate kind work gives opportunity deal pain better added dia turned 38 years old monday said work cathartic'])"
      ]
     },
     "execution_count": 47,
     "metadata": {},
     "output_type": "execute_result"
    }
   ],
   "source": [
    "df.clean.to_dict().values()"
   ]
  },
  {
   "cell_type": "code",
   "execution_count": null,
   "metadata": {},
   "outputs": [],
   "source": []
  }
 ],
 "metadata": {
  "kernelspec": {
   "display_name": "Python 3",
   "language": "python",
   "name": "python3"
  },
  "language_info": {
   "codemirror_mode": {
    "name": "ipython",
    "version": 3
   },
   "file_extension": ".py",
   "mimetype": "text/x-python",
   "name": "python",
   "nbconvert_exporter": "python",
   "pygments_lexer": "ipython3",
   "version": "3.7.3"
  },
  "toc": {
   "base_numbering": 1,
   "nav_menu": {},
   "number_sections": false,
   "sideBar": true,
   "skip_h1_title": true,
   "title_cell": "Table of Contents",
   "title_sidebar": "Contents",
   "toc_cell": false,
   "toc_position": {},
   "toc_section_display": true,
   "toc_window_display": false
  }
 },
 "nbformat": 4,
 "nbformat_minor": 2
}
