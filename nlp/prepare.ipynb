{
 "cells": [
  {
   "cell_type": "markdown",
   "metadata": {},
   "source": [
    "The end result of this exercise should be a file named prepare.py that defines the requested functions.\n",
    "\n",
    "In this exercise we will be defining some functions to prepare textual data. These functions should apply equally well to both the codeup blog articles and the news articles that were previously acquired."
   ]
  },
  {
   "cell_type": "code",
   "execution_count": 1,
   "metadata": {},
   "outputs": [],
   "source": [
    "import pandas as pd\n",
    "import numpy as np\n",
    "\n",
    "import unicodedata\n",
    "import re\n",
    "import json\n",
    "\n",
    "import nltk\n",
    "from nltk.tokenize.toktok import ToktokTokenizer\n",
    "from nltk.corpus import stopwords\n",
    "\n",
    "import acquire"
   ]
  },
  {
   "cell_type": "code",
   "execution_count": 2,
   "metadata": {},
   "outputs": [],
   "source": [
    "articles = acquire.get_news_articles()"
   ]
  },
  {
   "cell_type": "code",
   "execution_count": 3,
   "metadata": {},
   "outputs": [
    {
     "data": {
      "text/plain": [
       "[{'title': '8, 7, 6.6, 5.8, 5 & 4.5 is the state of economy: Chidambaram on GDP growth',\n",
       "  'body': 'Former Finance Minister P Chidambaram on Thursday said, \"Nothing sums up the state of the economy better than the following series of numbers: 8, 7, 6.6, 5.8, 5 and 4.5.\" He added, \"Those are the quarterly growth rates of GDP in the last six quarters.\" \"We\\'ll be lucky if growth rate touches 5% by the year\\'s end,\" he further said.',\n",
       "  'catergory': 'business'},\n",
       " {'title': 'We are the same animal, we are both a little crazy: Masayoshi Son on Jack Ma',\n",
       "  'body': 'SoftBank CEO Masayoshi Son has said the decision to invest $20 million in Alibaba in 2000 was driven by gut feeling. \"I could smell him...We\\'re the same animal. We are both a little crazy,\" Son said of Jack Ma, Alibaba\\'s Co-Founder. Ma said Son insisted on investing $50 million but that he declined saying it was too large a sum.',\n",
       "  'catergory': 'business'},\n",
       " {'title': 'Sundar Pichai rejected Google shares worth millions in 2018: Bloomberg',\n",
       "  'body': 'Google\\'s 47-year-old India-born CEO Sundar Pichai, recently named the CEO of Google-parent Alphabet as well, rejected a \"big new grant\" of restricted stock in 2018 because he felt he was already paid generously, Bloomberg reported. Pichai, who joined Google in 2004, was made its CEO in 2015. He reportedly hasn\\'t received an equity award in over two years.',\n",
       "  'catergory': 'business'},\n",
       " {'title': 'Gut feeling drove me to invest $20M in Alibaba in 2000: SoftBank CEO',\n",
       "  'body': 'SoftBank Founder and CEO Masayoshi Son, in a discussion with Alibaba Co-founder Jack Ma, said his decision to invest $20 million in the e-commerce platform in 2000 was driven by a gut feeling. Son said other founders he met then didn\\'t have \"true belief in their heart\". Ma revealed that Son initially tried to invest $50 million, but he declined. ',\n",
       "  'catergory': 'business'},\n",
       " {'title': 'Maharashtra govt suggests merger of PMC Bank with MSC Bank',\n",
       "  'body': \"In a bid to provide relief to depositors of scam-hit Punjab and Maharashtra Cooperative (PMC) Bank, Maharashtra government has suggested a merger of the bank with the Maharashtra State Cooperative Bank. If needed, the state government will speak to the RBI on the issue of the merger, state minister Jayant Patil said. He added that MSC Bank's health is good.\",\n",
       "  'catergory': 'business'},\n",
       " {'title': 'Asian Development Bank approves $1 billion emergency loan for Pakistan',\n",
       "  'body': 'The Asian Development Bank (ADB) has approved an emergency loan worth $1 billion for Pakistan. The loan is part of a multi-donor economic reform programme led by the IMF to \"shore up (Pakistan\\'s) public finances\" and help strengthen its \"slowing economy\", ADB said. It also approved a $300 million policy-based loan for Pakistan for the country\\'s energy sector.',\n",
       "  'catergory': 'business'},\n",
       " {'title': \"Saudi Aramco raises $25.6 billion in world's biggest IPO yet\",\n",
       "  'body': \"State-controlled oil giant Saudi Aramco has raised $25.6 billion in the world's largest initial public offering (IPO) yet. The record was earlier held by Chinese conglomerate Alibaba's $25 billion listing on the New York Stock Exchange in 2014. Valued at nearly $1.7 trillion in the IPO, Aramco sold 1.5% or 3 billion shares for 32 riyals or $8.53 each.\",\n",
       "  'catergory': 'business'},\n",
       " {'title': \"Jaigarh LNG terminal to launch in 1st quarter 2020: Hiranandani's H-Energy\",\n",
       "  'body': \"Hiranandani Group's H-Energy on Thursday said it expects its liquefied natural gas (LNG) import terminal at Maharashtra's Jaigarh to start operations in the first quarter of 2020. The terminal will be India's first floating storage and regasification unit (FSRU). It has been delayed on several occasions, with the previous deadline being the fourth quarter of this year.\",\n",
       "  'catergory': 'business'},\n",
       " {'title': \"Indonesia fires flag carrier's CEO for smuggling ₹41 lakh Harley on jet\",\n",
       "  'body': \"The Indonesian government has decided to fire flag carrier Garuda Indonesia's CEO Ari Askhara for smuggling a Harley-Davidson bike worth ₹41 lakh into the country on a new Airbus plane from France. Askhara had ordered the bike last year and bought it in April 2019. The payment was made through a Garuda finance manager based in Amsterdam, the government said.\\n\",\n",
       "  'catergory': 'business'},\n",
       " {'title': \"Air India's loss in 2018-19 provisionally estimated at record ₹8,556 crore\",\n",
       "  'body': \"Air India's loss in 2018-19 has been provisionally estimated at ₹8,556 crore, compared to a loss of ₹5,348 crore in the previous year, Civil Aviation Minister Hardeep Singh Puri said in the Lok Sabha. This is Air India's biggest loss since its merger with Indian Airlines in 2007-08. The national carrier has received equity infusion of ₹30,520 crore since 2011-12.\",\n",
       "  'catergory': 'business'},\n",
       " {'title': 'RBI probing net banking and mobile banking outage at HDFC Bank',\n",
       "  'body': 'The RBI has said it is investigating the two-day outage of net banking and mobile banking operations of HDFC Bank. \"Our team has gone to really identify the reasons and find out what we can give them (HDFC Bank) as a direction,\" RBI Deputy Governor MK Jain said. The bank restored the services fully by Thursday morning.',\n",
       "  'catergory': 'business'},\n",
       " {'title': 'RBI survey shows Indian consumers most pessimistic in over 5 years',\n",
       "  'body': 'An RBI survey showed that consumer confidence in India has dropped to its lowest since at least 2014. The Current Situation Index fell to 85.7 in November from 89.4 in September, according to the survey, where a reading below 100 denotes pessimism. Consumers across 13 big cities were surveyed about perceptions on the economic situation, employment, price levels and income.',\n",
       "  'catergory': 'business'},\n",
       " {'title': \"Vodafone Idea will have to shut shop if there's no govt relief: Kumar Birla\",\n",
       "  'body': 'Vodafone Idea Chairman Kumar Mangalam Birla has warned the operator \"will have to shut shop\" if the government doesn\\'t provide relief on payment of ₹53,038-crore dues following a court ruling. \"It doesn\\'t make sense to put good money after bad,\" Birla said. The government publicly stated it wants three players from private sector and one from public sector, he added.',\n",
       "  'catergory': 'business'},\n",
       " {'title': 'Want control of manufacturing if we win $15bn India fighter jet deal: Saab',\n",
       "  'body': 'Swedish manufacturer Saab has said it wants to control the \"entire system\" including local manufacturing if it wins India\\'s $15-billion contract for 114 fighter jets. Saab has partnered with Adani Group for the bid. \"If a company needs to take responsibility for quality, time, cost and capability...I want to have some sort of control of that,\" CEO Micael Johansson said.',\n",
       "  'catergory': 'business'},\n",
       " {'title': \"6 tech giants contributed to $100 bn 'tax gap' in 10 yrs: Study\",\n",
       "  'body': \"A study by a British organisation that certifies businesses for good tax conduct stated six of Silicon Valley's top tech giants avoided paying over $100 billion in taxes over the past decade. It analysed global tax payments made by Amazon, Facebook, Google, Apple, Netflix and Microsoft. The research found over a $100-billion difference between their provisions and actual taxes paid. \",\n",
       "  'catergory': 'business'},\n",
       " {'title': 'Maruti Suzuki India to recall over 63,000 units of Ciaz, Ertiga, XL6',\n",
       "  'body': 'Maruti Suzuki India has announced a recall of more than 63,000 units of the petrol smart hybrid variants of its Ciaz, Ertiga and XL6 vehicles. The automaker said the affected vehicles, manufactured between January 1 and November 21, had a potential safety defect in the Motor Generator Unit. Maruti Suzuki added it will replace the relevant faulty parts for free.',\n",
       "  'catergory': 'business'},\n",
       " {'title': 'India trying to\\xa0set up US-like intellectual property rights office',\n",
       "  'body': 'The government said it was trying to set up a fully computerised intellectual property rights (IPR) office in India akin to the US. Commerce Minister Piyush Goyal said government had brought a lot of \"sanity\" to the working of eight areas of IPR. It was also trying to computerise every process to stop the need to go to IPR offices.  ',\n",
       "  'catergory': 'business'},\n",
       " {'title': 'May take 18 to 20 months for economy to recover: Kumar Birla',\n",
       "  'body': 'Aditya Birla Group Chairman, Kumar Mangalam Birla, on Friday said that it could take the Indian economy 18-20 months before it improves. \"Government has taken many steps but we need a stronger fiscal stimulus. If GST is brought down to 15%, that would be a huge stimulus,\" Birla added. Notably, India\\'s second-quarter GDP growth fell to 26-quarter low of 4.5%.',\n",
       "  'catergory': 'business'},\n",
       " {'title': \"Genuine business decisions won't be questioned: PM Modi to bankers\",\n",
       "  'body': 'Prime Minister Narendra Modi on Friday said that the banking sector has emerged from crisis of the past and that \"banking situation is much better\". \"Now, there will be no questions about genuine business decisions\", he added. He said that his government showed courage in merging banks and recapitalising them to the tune of ₹2.5 lakh crore to strengthen them.',\n",
       "  'catergory': 'business'},\n",
       " {'title': \"Canada's CPPIB to invest up to $600 mn through NIIF Master Fund\",\n",
       "  'body': \"Canada Pension Plan Investment Board (CPPIB) will invest up to $600 million through the National Investment and Infrastructure Fund (NIIF) Master Fund. CPPIB will also become a shareholder in NIIF's investment management firm. With CPPIB's investment, NIIF's Master Fund now has $2.1 billion in commitments including investment from AustralianSuper and Ontario Teachers' Pension Plan.\",\n",
       "  'catergory': 'business'},\n",
       " {'title': 'India could launch its own cryptocurrency, says RBI Governor',\n",
       "  'body': \"RBI Governor Shaktikanta Das has said that the bank would consider the creation of India's own digital currency and has held discussions regarding the same. However, the central bank maintained its stance against the trading of private cryptocurrencies in the country. Das argued that the issuance of cryptocurrency is a sovereign function and cannot be handed to private companies.\",\n",
       "  'catergory': 'business'},\n",
       " {'title': 'IL&FS reports ₹22,527 crore net loss for FY19',\n",
       "  'body': 'IL&FS has reported a loss of ₹22,527 crore for the year ended March 2019 compared to a net profit of ₹333 crore last year. The company has posted a revenue of ₹824 crore, against ₹1,734 crore in the previous year and its liabilities rose to ₹21,083 crore. IL&FS is currently undergoing a debt resolution process in the bankruptcy court.',\n",
       "  'catergory': 'business'},\n",
       " {'title': 'RBI has good idea of vulnerabilities in NBFC sector: Shaktikanta Das',\n",
       "  'body': 'RBI Governor Shaktikanta Das said central bank has \"a fairly good idea\" of where NBFC sectors\\' vulnerabilities lie and are closely monitoring it. \"We are, wherever required, making a deep dive into their books, their balance sheet and other numbers,\" Das said. The NBFC sector has reportedly been facing a funding crunch since 2018 after defaults at IL&FS Group subsidiaries.\\n',\n",
       "  'catergory': 'business'},\n",
       " {'title': 'RBI raises peer-to-peer lending limit five-times to ₹50 lakh',\n",
       "  'body': 'The Reserve Bank of India (RBI) has raised its lending limit to peer-to-peer (P2P) platforms five-folds to ₹50 lakh from current ₹10 lakh. However, the exposure of a single borrower is capped at ₹50,000 across all NBFC-P2P platforms. The decision was made after \"a review of the functioning of the lending platforms and lending limit was carried out by RBI.\"',\n",
       "  'catergory': 'business'},\n",
       " {'title': 'Gates Foundation CEO Sue Desmond-Hellmann to step down',\n",
       "  'body': \"Sue Desmond-Hellmann, the CEO of Bill & Melinda Gates Foundation, is stepping down from the role after five years. The foundation's Global Policy & Advocacy President and Chief Strategy Officer, Mark Suzman, will occupy the position starting February 1, 2020. Desmond-Hellmann cited the growing needs of her family and toll of the travel required by the role as the reason.\",\n",
       "  'catergory': 'business'},\n",
       " {'title': 'India beat WI in 1st T20I, record their highest successful T20I run chase',\n",
       "  'body': \"India chased down the target of 208 against West Indies in the first T20I at Hyderabad on Friday to register their highest successful T20I run chase. India's previous highest successful run chase had come on December 12, 2009 when they chased down a 207-run target against Sri Lanka. The second T20I of the three-match series will take place on Sunday.\",\n",
       "  'catergory': 'sports'},\n",
       " {'title': 'South African bowler celebrates wicket with magic trick, video goes viral',\n",
       "  'body': \"During a Mzansi Super League match against Durban Heat, Paarl Rocks' South African spinner Tabraiz Shamsi celebrated Wihan Lubbe's wicket by performing a magic trick on the field. The 29-year-old took out red handkerchief from his pocket and turned it into a stick. Shamsi had earlier said that he wanted to become a magician from the age of about 15-16.\",\n",
       "  'catergory': 'sports'},\n",
       " {'title': \"Italian paper labels clash of black footballers as 'Black Friday', criticised\",\n",
       "  'body': 'Italian newspaper \\'Corriere dello Sport\\' has been criticised for a front page with headline \\'Black Friday\\' in regards to ex-Manchester United teammates Romelu Lukaku and Chris Smalling facing each other. \"The media fuels racism every day,\" The Fare network, which works against discrimination in football, tweeted. \"We are and will always be against all forms of discrimination,\" Inter Milan tweeted.',\n",
       "  'catergory': 'sports'},\n",
       " {'title': \"If Rishabh Pant makes a mistake, stands can't shout Dhoni's name: Kohli\",\n",
       "  'body': 'Ahead of first T20I against West Indies, India captain Virat Kohli said that the team \"certainly\" believes in wicketkeeper-batsman Rishabh Pant\\'s ability. \"He can\\'t be isolated to such an extent that he doesn’t do well,\" \"If he misses a chance or something, you know, people can\\'t shout MS\\' (MS Dhoni) name in the stadium, it\\'s not respectful,\" he added.',\n",
       "  'catergory': 'sports'},\n",
       " {'title': '3rd umpire, not on-field umpires, to call front foot no-balls in India-WI series',\n",
       "  'body': 'Front foot no-balls in the T20I and ODI series between India and West Indies will be called by third umpire and not on-field officials, the ICC announced. \"If a late no-ball call is communicated...on-field umpire will rescind a dismissal (if applicable) and call no-ball,\" ICC said. It added the benefit of doubt in close calls will lie with the bowler.',\n",
       "  'catergory': 'sports'},\n",
       " {'title': \"Dhoni wasn't Dhoni when he started, it took him 15 years: Sourav Ganguly\",\n",
       "  'body': 'Referring to wicketkeeper-batsman Rishabh Pant getting criticised and being compared to MS Dhoni, BCCI President Sourav Ganguly said that MS Dhoni also was not MS Dhoni when he started. \"It took him 15 years to be MS Dhoni. It will take Rishabh Pant also close to 15 years to be even close to what MS Dhoni is today,\" he added.',\n",
       "  'catergory': 'sports'},\n",
       " {'title': 'Pose kam maar, batting karle thoda: Rohit trolls Jadhav over Instagram pics',\n",
       "  'body': 'Batsman Kedar Jadhav took to Instagram to share pictures of himself with a bat in his hand. \"Feels good to be back on the field and do what I like to do,\" Jadhav captioned the pictures. Trolling Jadhav for posing with the bat, Team India opener Rohit Sharma wrote, \"Pose kam maar, batting karle thoda.\"',\n",
       "  'catergory': 'sports'},\n",
       " {'title': 'Virat Kohli smashes his highest score in T20I cricket',\n",
       "  'body': \"Team India captain Virat Kohli smashed his highest score in T20I cricket after scoring an unbeaten 94 off 50 deliveries against West Indies on Friday. The 31-year-old slammed six sixes and six fours during his match-winning knock. Kohli's previous highest score was 90*, which he scored off 55 deliveries against Australia on January 26, 2016.  \",\n",
       "  'catergory': 'sports'},\n",
       " {'title': \"Irfan\\xa0Pathan criticises Razzaq for calling Bumrah 'baby bowler', trolls Pakistan\",\n",
       "  'body': \"All-rounder Irfan Pathan has criticised ex-Pakistan all-rounder Abdul Razzaq for calling Jasprit Bumrah a 'baby bowler'. Requesting fans not to pay any heed to such statements, Irfan recalled Javed Miandad's 2004 statement, wherein he said bowlers like Pathan could be found in every street of Pakistan. Pathan added Indians uprooted Pakistan’s stumps every time they met on the cricket field.\",\n",
       "  'catergory': 'sports'},\n",
       " {'title': \"Virat a good player but can't be put in same category as Sachin: Razzaq\",\n",
       "  'body': 'Former Pakistan all-rounder Abdul Razzaq has said that Virat Kohli is a good player for India but he cannot be placed in the same category as Sachin Tendulkar. \"There were world-class players from 1992 to 2007. Now there are no longer world-class players. There is no depth in bowling, batting or fielding. It is all basic now,\" he added.',\n",
       "  'catergory': 'sports'},\n",
       " {'title': \"Who doesn't want to represent India in T20 World Cup: Ashwin\",\n",
       "  'body': 'Off-spinner Ravichandran Ashwin has said that he wants to represent India in limited-overs cricket and wants to play the 2020 T20 World Cup. \"Who does not want to represent India in the 2020 T20 World Cup. Yuvraj Singh came back for World T20 in 2014 and then in 2017 Champions Trophy. I am only 33,\" he added.',\n",
       "  'catergory': 'sports'},\n",
       " {'title': 'Current Pakistan team probably worst of the lot: Ian Chappell',\n",
       "  'body': 'Former Australia captain Ian Chappell has said that the current Pakistan cricket team is \"probably the worst of the lot\". This comes after Pakistan failed to win a single match during their three-T20I and two-Test match series Down Under. Pakistan last won their Test in Australia in 1995 and since then have lost 14 straight Tests on Australian soil. ',\n",
       "  'catergory': 'sports'},\n",
       " {'title': 'Cricket South Africa CEO Thabang Moroe suspended',\n",
       "  'body': 'Cricket South Africa (CSA) Board on Friday suspended CEO Thabang Moroe on allegations of misconduct. This comes after the Board received reports on \"possible failure of controls in the organisation\" and a potential players\\' strike ahead of home series against England. Earlier in the day, CSA\\'s major sponsor Standard Bank announced that it would not be renewing its deal. \\n',\n",
       "  'catergory': 'sports'},\n",
       " {'title': 'India chasing well in T20s, need to be better batting 1st: Ganguly',\n",
       "  'body': 'Speaking about the Indian team\\'s approach in T20Is, BCCI head Sourav Ganguly said, \"We are chasing very well in T20 cricket. We need to do the same when batting first.\" \"We haven\\'t played many T20 internationals and I am confident by the World Cup we will be absolutely ready,\" Ganguly added while speaking at a book launch.',\n",
       "  'catergory': 'sports'},\n",
       " {'title': 'Maxwell trains with Victoria, teammate hints return',\n",
       "  'body': 'Australia all-rounder Glenn Maxwell on Thursday was seen training with his stateside Victoria in Melbourne. \"I\\'m not sure if it is this week or Big Bash, but he\\'s not far away I think,\" teammate Marcus Harris said on his comeback. In October, Maxwell had withdrawn from Australia\\'s T20I squad mid-series against Sri Lanka to deal with mental health issues.',\n",
       "  'catergory': 'sports'},\n",
       " {'title': \"Need to protect West Indies youngsters from 'vultures': Pollard\",\n",
       "  'body': 'West Indies limited-overs captain Kieron Pollard has said that there\\'s a need to protect young Windies cricketers from \"vultures\" who are out there to pull them down. \"They (young players) need experience and we need to back these guys,\" he added. Windies are set to play against India without some of their senior players including Carlos Brathwaite, Chris Gayle. \\n',\n",
       "  'catergory': 'sports'},\n",
       " {'title': 'Manpreet Singh nominated for FIH  Player for the Year ',\n",
       "  'body': \"India men's hockey captain Manpreet Singh has been nominated by the International Hockey Federation (FIH) for it's Player of the Year award. Further, while Vivek Prasad has been nominated for men's Rising Star of the Year, Lalremsiami has been nominated for the same in the women's category. The winners of the 2019 FIH awards will be announced in February 2020. \",\n",
       "  'catergory': 'sports'},\n",
       " {'title': 'Satwik-Chirag, Pramod Bhagat nominated for BWF Awards 2019',\n",
       "  'body': \"Indian men's doubles pair of Satwiksairaj Rankireddy and Chirag Shetty and para-shuttler Pramod Bhagat have been nominated for 'Most Improved Player of the Year' and 'Male Para Badminton Player of the Year' respectively by the Badminton World Federation (BWF). The awards will be presented on December 9 in Guangzhou during the opening ceremony of BWF World Tour Finals. \",\n",
       "  'catergory': 'sports'},\n",
       " {'title': 'Test series loss against Aus hurt pride of Pak cricket: Azhar Ali',\n",
       "  'body': 'Pakistan Test captain Azhar Ali on Friday said the Test series loss against Australia has hurt the pride of Pakistan cricket. \"The two innings defeat is not acceptable and I will offer no excuses for this,\" he added. On the upcoming Test series at home against Sri Lanka, Ali said, \"We have to come up with a new game plan.\"',\n",
       "  'catergory': 'sports'},\n",
       " {'title': \"We're in difficult situation: Ljungberg after Arsenal's home loss\",\n",
       "  'body': 'After Arsenal\\'s 1-2 home loss against Brighton on Thursday night, caretaker manager Freddie Ljungberg said \"We\\'re in a difficult situation. We started the game flat with no energy.\" He added, \"You cannot give away a whole half against any team in Premier League.\" With the home loss, Arsenal\\'s winless streak has been extended to nine games in all competitions. \\n',\n",
       "  'catergory': 'sports'},\n",
       " {'title': 'Slot Rahul as opener, look beyond Dhawan: Kris Srikkanth',\n",
       "  'body': 'Former India captain and former chief selector Kris Srikkanth has said that India needs to replace opener Shikhar Dhawan with KL Rahul in T20Is. \"The need of the hour is instant firepower and that\\'s one area where India are lacking,\" Srikkanth added. Dhawan has scored 272 runs in the 12 T20Is he played for India in 2019. ',\n",
       "  'catergory': 'sports'},\n",
       " {'title': 'Eden Hazard may miss El Clasico after ankle fracture',\n",
       "  'body': 'Real Madrid forward Eden Hazard is likely to miss La Liga\\'s El Clasico against Barcelona, to be held on December 19 at 12.30 am (IST), after being diagnosed with a fractured ankle. Hazard was injured during last week\\'s 2-2 draw against Paris Saint-Germain in the Champions League group stage match. Today Madrid revealed that Hazard has \"an incomplete external microfracture\".\\n',\n",
       "  'catergory': 'sports'},\n",
       " {'title': \"We will not focus on the rankings: Kohli on India's T20I rank\",\n",
       "  'body': 'Speaking about India\\'s fifth rank in the T20I team rankings, Indian captain Virat Kohli said, \"[W]e have not played the strongest eleven together in T20Is so rankings cannot be considered. We have the mindset that we will not focus on the rankings.\" \"We need to focus on batting first and defending low totals as well,\" Kohli added.',\n",
       "  'catergory': 'sports'},\n",
       " {'title': 'Teen pacer Naseem named in Pakistan U-19 World Cup squad',\n",
       "  'body': \"Teen pacer Naseem Shah was on Friday named in Pakistan's under-19 World Cup squad after having made his senior Test debut in Australia. The head coach of the Pakistan junior team Ejaz Ahmed had requested the chief selector and national bowling coach Waqar Younis to release Naseem from the senior squad for the youth World Cup.\",\n",
       "  'catergory': 'sports'},\n",
       " {'title': \"Only one spot left in Team's pace attack for T20 World Cup: Kohli\",\n",
       "  'body': 'India captain Virat Kohli has said that there\\'s only one spot to be filled in the Team\\'s pace attack for the ICC T20 World Cup set to be held in Australia next year. \"I think Bhuvi (Bhuvneshwar) and (Jasprit) Bumrah are experienced bowlers…(Mohammed) Shami is coming back,\" he added suggesting that the three have most likely sealed their places.',\n",
       "  'catergory': 'sports'},\n",
       " {'title': 'OnePlus 7T, 7 Pro get special offers during anniversary sale on Amazon',\n",
       "  'body': 'OnePlus announced its sixth anniversary sale, starting today till December 17. Customers can avail discount of ₹2,000 up to ₹6,000 on the purchase of OnePlus 7 Pro and 7T. Additionally, there is an instant discount of ₹2,000, ₹1,500 and ₹3,000 on the purchase of 7 Pro, 7T and 7T Pro respectively using HDFC card.',\n",
       "  'catergory': 'technology'},\n",
       " {'title': 'Sundar Pichai rejected Google shares worth millions in 2018: Bloomberg',\n",
       "  'body': 'Google\\'s 47-year-old India-born CEO Sundar Pichai, recently named the CEO of Google-parent Alphabet as well, rejected a \"big new grant\" of restricted stock in 2018 because he felt he was already paid generously, Bloomberg reported. Pichai, who joined Google in 2004, was made its CEO in 2015. He reportedly hasn\\'t received an equity award in over two years.',\n",
       "  'catergory': 'technology'},\n",
       " {'title': 'Apple may release an iPhone model with no charging port by 2021',\n",
       "  'body': 'Apple may release a new \"completely wireless\" iPhone in 2021 which will lack a Lightning charging port, a report by analyst Ming-Chi Kuo said. Kuo further said the iPhone maker would only remove the port from the highest-end iPhone. Apple has relied on the Lightning port for all its phones since it was first introduced on iPhone 5 in 2013.',\n",
       "  'catergory': 'technology'},\n",
       " {'title': \"Sundar Pichai's last name misspelt as 'Pinchai' on WSJ's front page\",\n",
       "  'body': 'American newspaper The Wall Street Journal misspelt the last name of Google\\'s parent company Alphabet\\'s newly-appointed CEO Sundar Pichai as \\'Pinchai\\'. Twitter users reacted to the error with tweets like, \"If only WSJ had Googled his name\" and \"That would pinch the writer hard!\" The newspaper later issued a correction for the mistake on its website.',\n",
       "  'catergory': 'technology'},\n",
       " {'title': 'Apple admits iPhone 11 Pro seeks location even when setting is off',\n",
       "  'body': 'After a report surfaced online detailing the iPhone 11 Pro model\\'s constant check for users\\' location, even when all settings are off, Apple admitted to the same. However, the iPhone maker said that it does so to legally use their ultra-wideband chips. \"International regulatory requirements\" force us to turn off UWB in certain places, Apple said.',\n",
       "  'catergory': 'technology'},\n",
       " {'title': 'Chip-based optical sensor detects cancer biomarker in urine',\n",
       "  'body': 'The Netherlands\\' University of Twente researchers used a chip-based sensor with an integrated laser to detect very low levels of a cancer protein biomarker in a urine sample. \"Current methods to measure biomarker levels are expensive and sophisticated,\" the research team leader said. The device can also potentially be used to detect different types of gases or liquid mixtures.',\n",
       "  'catergory': 'technology'},\n",
       " {'title': 'US agency to preserve bullets used to assassinate JFK with 3D scans',\n",
       "  'body': 'The US National Archives will upload high-definition 3D images of the bullets used in the assassination of late 35th US President John F Kennedy to its online catalogue. A team was able to create 3D surface maps of the projectiles after imaging them using a microscope with multiple lenses at different focal lengths. Kennedy was assassinated in November 1963.',\n",
       "  'catergory': 'technology'},\n",
       " {'title': 'YouTube launches Rewind 2019, follow-up to the most disliked video ever',\n",
       "  'body': 'YouTube launched \\'Rewind 2019\\', the follow-up to its eight-minute 2018 version which became the most-disliked YouTube video ever in seven days of release. \"In 2018, we made something you didn\\'t like. For Rewind 2019, let\\'s see what you DID like,\" YouTube captioned its video. The \\'Rewind 2018\\' currently has 17 million dislikes, a million more than shown in \\'Rewind 2019\\'.',\n",
       "  'catergory': 'technology'},\n",
       " {'title': 'We are the same animal, we are both a little crazy: Masayoshi Son on Jack Ma',\n",
       "  'body': 'SoftBank CEO Masayoshi Son has said the decision to invest $20 million in Alibaba in 2000 was driven by gut feeling. \"I could smell him...We\\'re the same animal. We are both a little crazy,\" Son said of Jack Ma, Alibaba\\'s Co-Founder. Ma said Son insisted on investing $50 million but that he declined saying it was too large a sum.',\n",
       "  'catergory': 'technology'},\n",
       " {'title': \"Facebook sues Hong Kong-based firm 'ILikeAd' for alleged ad fraud\",\n",
       "  'body': 'Facebook has filed a lawsuit against Hong Kong-based \\'ILikeAd\\' and two Chinese nationals for allegedly abusing its ad platform to run a malware scheme. Facebook alleged the firm used celebrity baits and \"cloaking\" for hiding ads\\' real destination, to lure users into downloading and installing malware. The malware then compromised victims\\' ad accounts and ran deceptive ads on their behalf.',\n",
       "  'catergory': 'technology'},\n",
       " {'title': 'Parliamentary panel on women meets Facebook to discuss cyber crimes',\n",
       "  'body': 'The Parliamentary Standing Committee on Women Empowerment on Thursday sought cooperation from Facebook to strengthen online vigilance in view of rising crimes against women on social media. The social media giant showed a presentation on working of the sites. The Committee was also made aware of the current system via which women can report cyber harassment or cyber bullying.',\n",
       "  'catergory': 'technology'},\n",
       " {'title': 'Google Maps develops feature to show brightly lit roads: Report',\n",
       "  'body': \"Google is developing a Maps feature that shows brightly lit streets, aiming to make night travel safer, as per strings in the app's beta version found by XDA Developers. Named 'Lighting', it highlights streets that have good lighting with yellow colour, helping users avoid streets with poor or no lighting. The feature is expected to be piloted in India first.\",\n",
       "  'catergory': 'technology'},\n",
       " {'title': 'India may force FB, TikTok to offer user verification: Reports',\n",
       "  'body': 'India may soon force platforms like Facebook and TikTok to offer a user verification option, a potential step toward reining the spread of \"fake news\", Reuters reported. With the required mechanism in place, users will have a mark of verification similar to the blue check-mark on Twitter. However, the verification would be optional for users, the report added. ',\n",
       "  'catergory': 'technology'},\n",
       " {'title': 'Qualcomm to develop AR glasses with Pokémon GO maker Niantic',\n",
       "  'body': \"Qualcomm has announced it will create reference hardware, software and cloud components for augmented reality (AR) glasses in collaboration with Pokémon GO developer Niantic. The multi-year collaboration is to speed up the development and optimise it for Qualcomm's XR2 platform. The platform is a follow-up of its XR1 platform and supports 5G connectivity, eye tracking and voice-based interaction.\",\n",
       "  'catergory': 'technology'},\n",
       " {'title': \"Tesla Cybertruck's fan-made Lego design garners over 2k votes\",\n",
       "  'body': 'Lego Cybertruck idea submitted by fan on official Lego Ideas crowdsourcing website has garnered over 2,000 supporters. The design, as claimed by its designer BrickinNick, can be adapted to have more moving parts including opening passenger doors, a slide-out ramp and even a Tesla ATV kit. If the idea hits 10,000 votes on the website, Lego would consider making it. \\n\\n',\n",
       "  'catergory': 'technology'},\n",
       " {'title': \"Indian govt wouldn't want to be too far behind on 5G: Qualcomm\",\n",
       "  'body': \"Discussing India's readiness to launch 5G spectrum, Senior VP of Qualcomm Alex Katouzian said since 5G has a major impact on the economy, India wouldn't want to be left far behind the rest. He also talked about discussions with Indian government regarding impact of 5G on various markets. Katouzian said economic impact will make India accelerate its move to 5G.\",\n",
       "  'catergory': 'technology'},\n",
       " {'title': 'Uber may offer courier services for retail business: CEO Khosrowshahi',\n",
       "  'body': \"Uber Technologies' CEO Dara Khosrowshahi said the company could extend its food delivery service to offer courier services for other retail businesses. Khosrowshahi said they could extend its delivery model to every local retailer in New York so that anything could be delivered in under 30 minutes. Uber in October had acquired a majority stake in online grocery service Cornershop. \",\n",
       "  'catergory': 'technology'},\n",
       " {'title': 'Fired Google employees to charge firm with unfair labour practices',\n",
       "  'body': \"After Google fired four employees over violation of data security policies, the employees are planning to file labour charges against the tech giant. The employees argued that they weren't fired for violating the policies but for speaking against the company's practices. Google has been facing protests over issues including its work with the military and handling of sexual abuse complaints.\",\n",
       "  'catergory': 'technology'},\n",
       " {'title': 'Personal data of 20 WhatsApp users accessed via Pegasus spyware: Govt',\n",
       "  'body': \"IT Minister Ravi Shankar Prasad said that personal data of 20 WhatsApp users were accessed by the NSO Group in the Pegasus spyware attack out of the 121 users whose devices were targeted. Meanwhile, the government had announced in November it would conduct an audit of WhatsApp's security systems. The Pegasus spyware attack infected about 1,400 devices across 20 countries.\\n\\n\",\n",
       "  'catergory': 'technology'},\n",
       " {'title': 'India 5th worst country for biometric data privacy: Report',\n",
       "  'body': 'India is the fifth-worst country in terms of privacy of biometric data collected by the government, said a report by UK tech research firm Comparitech. The report scored each country out of 25, with 25 indicating most invasive use of biometrics. India scored 19, sharing its spot with Indonesia, Taiwan and the Philippines, while China scored the highest at 24.',\n",
       "  'catergory': 'technology'},\n",
       " {'title': \"6 tech giants contributed to $100 bn 'tax gap' in 10 yrs: Study\",\n",
       "  'body': \"A study by a British organisation that certifies businesses for good tax conduct stated six of Silicon Valley's top tech giants avoided paying over $100 billion in taxes over the past decade. It analysed global tax payments made by Amazon, Facebook, Google, Apple, Netflix and Microsoft. The research found over a $100-billion difference between their provisions and actual taxes paid. \",\n",
       "  'catergory': 'technology'},\n",
       " {'title': \"Duolingo raises $30 million from Alphabet's CapitalG\",\n",
       "  'body': \"Language-learning app Duolingo raised $30 million in a Series F funding from Alphabet's CapitalG. Post the investment, Duolingo's valuation stands at $1.5 billion. At present, Duolingo's total funding comes to $138 million with investments from Ashton Kutcher and Tim Ferriss, among others. It is now the first Pittsburgh-based tech startup valued at more than $1 billion.\",\n",
       "  'catergory': 'technology'},\n",
       " {'title': 'Google launches private chat feature in its Google Photos app',\n",
       "  'body': 'Google has launched a messaging feature in Google Photos which will allow users to send one-off photos and videos to an ongoing, private conversation in the app for a \"simpler experience\". \"You can like photos or comment in the conversation and you can save these photos or videos to your own gallery,\" said Janvi Shah, Product Manager for Google Photos.',\n",
       "  'catergory': 'technology'},\n",
       " {'title': 'US unfairly awarded $10 bn cloud contract to Microsoft: AWS CEO',\n",
       "  'body': 'Amazon Web Services (AWS) CEO Andy Jassy criticised Pentagon\\'s decision to award the Joint Enterprise Defense Infrastructure (JEDI) contract to Microsoft, saying it was \"unfairly awarded\". \"We are talking about the defence of the US, and we have a government that has unfairly awarded a contract,\" he said. The contract, valued at $10 billion, was awarded to Microsoft in October.',\n",
       "  'catergory': 'technology'},\n",
       " {'title': 'WhatsApp deactivates user accounts in Kashmir amid internet curbs',\n",
       "  'body': \"WhatsApp is deactivating user accounts in Jammu & Kashmir amid the government's restrictions on internet services entering their fifth month, several users have complained. WhatsApp said that accounts typically expire after 120 days of inactivity, following which users are automatically removed from all group chats. Nearly 1.5 million accounts were deactivated in the region, reports claimed.\",\n",
       "  'catergory': 'technology'},\n",
       " {'title': \"Try sex change: Milind to man saying he won't find him attractive as a female\",\n",
       "  'body': 'Model-actor Milind Soman took to Instagram to share a picture of himself sitting in an auto-rickshaw with the caption, \"#Fridayface in a rickshaw on the way to the airport, best light, no filter.\" Reacting to it, a user wrote, \"I wouldn\\'t find this guy attractive as a female tbh.\" \"If you try...sex change you might know for sure,\" Milind responded.',\n",
       "  'catergory': 'entertainment'},\n",
       " {'title': 'Der aaye, durust aaye: Jaya Bachchan on killing of 4 Hyd gangrape accused',\n",
       "  'body': 'Commenting on the killing of the 4 accused in the 27-year-old Hyderabad veterinarian\\'s gangrape and murder case, actress and Rajya Sabha MP Jaya Bachchan said, \"Der aaye, durust aaye.\" Earlier, she had said, \"These types of people (the 4 accused) need to be brought out in public and lynched. This is my suggestion. I know it\\'s a little harsh.\"',\n",
       "  'catergory': 'entertainment'},\n",
       " {'title': \"I've friends who're better than me: Hrithik on Akshay beating him at box-office\",\n",
       "  'body': 'Actor Hrithik Roshan has shared a report on Twitter about Akshay Kumar beating him at the box-office in 2019. \"How good would I be if I didn\\'t have friends who were better than me,\" he wrote while adding a clapping emoji. The report stated that Akshay\\'s \\'Housefull 4\\' beat Hrithik\\'s \\'War\\' in terms of earnings in Mumbai.',\n",
       "  'catergory': 'entertainment'},\n",
       " {'title': 'Was in Goa, wanted to walk into ocean & never return: Pooja on feeling suicidal',\n",
       "  'body': 'Speaking about battling mental health issues, actress-producer Pooja Bhatt spoke about contemplating suicide once. \"I was coming back from Goa, from a rave...Everyone was feeling great and I was feeling damn low,\" she said. \"I called my father and said I\\'m feeling almost suicidal, I just want to walk into that ocean and never come back,\" Pooja added.',\n",
       "  'catergory': 'entertainment'},\n",
       " {'title': 'Singer R Kelly charged with bribing govt official to marry 15-yr-old in 1994',\n",
       "  'body': 'American singer R Kelly was charged with bribing a government employee in order to get a fraudulent ID to marry a 15-year-old girl in 1994. The girl, named Jane Doe in documents, has been speculated to be singer Aaliyah. They got married when she was allegedly 15 and Kelly was 27, although the certificate then mentioned her age as 18.',\n",
       "  'catergory': 'entertainment'},\n",
       " {'title': \"Made paper bags in jail for 10p each, used money for sisters' Rakhi gift: Dutt\",\n",
       "  'body': 'Sanjay Dutt revealed on a TV show that he used to get 10 paise for making one paper bag in jail, adding, \"I used to collect the money...[to] send a gift to my sisters on Rakhi.\" \"It took me a lot of time to learn these skills...We had to work if we wanted to shorten our jail time,\" Dutt said.',\n",
       "  'catergory': 'entertainment'},\n",
       " {'title': 'Adult film star claims Censor Board members demanded bribe to pass film',\n",
       "  'body': 'Malayalam adult film actress Shakeela has claimed that two Censor Board members asked her for bribe to pass her upcoming production venture \\'Ladies Not Allowed\\', an adult comedy. \"Our film has been [rejected] by...Censor Board not once but twice so far,\" she said. Shakeela added, \"Before starting the movie, we made it clear that we\\'re making an adult comedy.\"',\n",
       "  'catergory': 'entertainment'},\n",
       " {'title': \"Alia is successful as she didn't inherit our father's genetic flaw: Pooja\",\n",
       "  'body': 'Pooja Bhatt said that her half-sister Alia Bhatt is so successful as she didn\\'t inherit their father Mahesh Bhatt\\'s \"genetic flaw of saying things as they are\" and added that \"too much truth doesn\\'t go down well in Bollywood\". \"We say things...not how the people expect us to say them,\" Pooja further said about herself and half-sister Shaheen.',\n",
       "  'catergory': 'entertainment'},\n",
       " {'title': \"Hu mai, kya karloge: Sonakshi after troll calls her 'chamchi of Salman'\",\n",
       "  'body': 'After a troll called Sonakshi Sinha \"biggest chamchi [sycophant] of Salman Khan\", the actress responded by saying, \"Yeah well, he gave me my first film...hu mai, kya karloge (I am, what will you do about it?)\" Sonakshi was reading \\'mean comments\\' against her on social media when she came across the remark.',\n",
       "  'catergory': 'entertainment'},\n",
       " {'title': \"Have applied for Indian passport, hurts me to prove I'm an Indian: Akshay\",\n",
       "  'body': 'Speaking at the Hindustan Times Leadership Summit, Akshay Kumar said, \"I have applied for an Indian passport...It hurts me that to prove that I\\'m an Indian, I have to show a copy...a passport.\" \"I\\'ve never hidden or denied that I hold a Canadian passport. I work in India, and pay all my taxes in India,\" Akshay had earlier said.',\n",
       "  'catergory': 'entertainment'},\n",
       " {'title': \"Director Menon arrested, let off on bail after Manju Warrier's complaint\",\n",
       "  'body': 'Malayalam film director VA Shrikumar Menon was arrested on Thursday for allegedly threatening and defaming actress Manju Warrier on social media, police said. He was, however, later released on bail on two solvent sureties, police added. In October, Manju had filed complaint against Menon under various sections of Indian Penal Code, adding that she feared he might endanger her life.',\n",
       "  'catergory': 'entertainment'},\n",
       " {'title': 'Sorry: Jason to Chris after criticising him for using plastic bottle',\n",
       "  'body': 'Actor Jason Momoa took to Instagram to apologise to Chris Pratt after he criticised him for a picture, wherein Chris was seen holding a plastic water bottle. \"I\\'m sorry this was received...badly today...I\\'m just very passionate about this single-use plastic epidemic,\" Jason wrote. \"I hope [you] make a reusable water bottle for amazon so we all can purchase,\" he added.',\n",
       "  'catergory': 'entertainment'},\n",
       " {'title': 'All I wanted to do was sleep: Deepika on fighting depression',\n",
       "  'body': 'Deepika Padukone, in an interview with The New York Times, opened up about her battle with depression. \"Waking up every day felt like a huge endeavour. All I wanted to do was sleep. When I was asleep, I didn\\'t have to deal with reality,\" she said. \"For months I suffered silently, not knowing what was happening to me,\" Deepika added.',\n",
       "  'catergory': 'entertainment'},\n",
       " {'title': 'Priyanka Chopra tops IMDb 2019 list of Indian celebrities',\n",
       "  'body': 'Actress Priyanka Chopra has been named as the top star of Indian cinema and television series in 2019, in a list released by the global film and TV website IMDb. Actress Disha Patani, who has attained the second position, is followed by Hrithik Roshan, Kiara Advani, Akshay Kumar and Salman Khan. Last year, Deepika Padukone topped the list. ',\n",
       "  'catergory': 'entertainment'},\n",
       " {'title': 'I never wanted the tag of an action hero: Akshay Kumar',\n",
       "  'body': 'Akshay Kumar has said he doesn\\'t want any kind of tag now, adding, \"I\\'ve come out of...game of tags when I used to do only action, I was bored.\" \"I never wanted the tag of...action hero,\" he added. Akshay further said that he\\'s comfortable playing all kinds of genres, adding, \"If anything new comes in, if it\\'s risky...I\\'d...go for it.\"',\n",
       "  'catergory': 'entertainment'},\n",
       " {'title': \"I'd get emotional and just die if Karan ever directs me: Shanaya\",\n",
       "  'body': 'Sanjay Kapoor\\'s daughter Shanaya Kapoor has said if the \"most amazing director\" Karan Johar will ever direct her, she\\'d get \"emotional\" and \"just die\". Shanaya, who\\'s yet to sign her first film as an actress, added she doesn\\'t want to rush and is open to \"all kinds of scripts\". \"I\\'m...trying to find someone who\\'s making a great film,\" she added.',\n",
       "  'catergory': 'entertainment'},\n",
       " {'title': 'Bravo Telangana Police: Rishi Kapoor on Hyderabad encounter',\n",
       "  'body': 'After the four men accused of gangraping and murdering the 27-year-old Hyderabad veterinarian were killed in a police encounter, Rishi Kapoor on Friday took to Twitter and wrote, \"Bravo Telangana Police. My congratulations!\" While Anupam Kher wrote, \"Congratulations...to #TelenganaPolice for shooting down the four rapists...in an \\'ENCOUNTER\\',\" Samantha Akkineni tweeted, \"Fear is a great solution.\"',\n",
       "  'catergory': 'entertainment'},\n",
       " {'title': \"After four years, Shahid and dad Pankaj to reunite for 'Jersey'\",\n",
       "  'body': 'Pankaj Kapur has joined the cast of the Hindi remake of Telugu film \\'Jersey\\', which features his son Shahid Kapoor in the leading role. They last worked together in 2015 film \\'Shaandaar\\'. In \\'Jersey\\', Pankaj will play a \"mentor-like figure\" to Shahid\\'s character, which is about a failed cricketer who decides to revive his cricketing career in his late 30s.',\n",
       "  'catergory': 'entertainment'},\n",
       " {'title': 'Raveena Tandon shares throwback pic of her daughter with Salman',\n",
       "  'body': 'Actress Raveena Tandon took to Instagram to share a throwback picture of her daughter, Rasha Thadani, with Salman Khan and wrote, \"How time flies... down [the] memory lane when @officialrashathadani was...5 years old.\" \"Hanging with uncle [Salman]...must say he\\'s...best ever with kids,\" she added. Salman and Raveena have worked together in films like \\'Patthar Ke Phool\\' and \\'Andaz Apna Apna\\'.',\n",
       "  'catergory': 'entertainment'},\n",
       " {'title': 'I learnt a lot of things by just observing Salman: Sonakshi',\n",
       "  'body': 'Actress Sonakshi Sinha, who made her Bollywood debut in Salman Khan starrer \\'Dabangg\\', has said she learnt \"a lot of things\" by just observing Salman. \"If he\\'d let it (stardom) go to his head, he wouldn\\'t have made a career...he has,\" she added. Sonakshi further said that all of her training happened when she first faced the camera in \\'Dabangg\\'.',\n",
       "  'catergory': 'entertainment'},\n",
       " {'title': 'It motivates me: Ananya Panday on comparisons with Sara Ali Khan',\n",
       "  'body': 'On being asked if comparisons with Sara Ali Khan disappoints her, Ananya Panday said that her comparison with either Sara, Janhvi Kapoor or Tara Sutaria motivates her. \"All of them are doing such great and interesting work,\" she added. Ananya further said that she believes in healthy competition because it sets a benchmark for her to work harder. ',\n",
       "  'catergory': 'entertainment'},\n",
       " {'title': 'Farhan to produce biopic on mathematician Vashishtha Narayan Singh',\n",
       "  'body': \"Farhan Akhtar's production house, Excel Entertainment, will produce a biopic on late mathematician Vashishtha Narayan Singh, which will be directed by Neeraj Pathak. Neeraj, at a press meet, announced the possibility of casting popular actors, including Akshay Kumar and Aamir Khan. It'll be shot at different locations, including Vashishtha's ancestral home in Basantpur and NASA, California.\",\n",
       "  'catergory': 'entertainment'},\n",
       " {'title': 'I was bullied in school, that kind of scarred me in life: Armaan',\n",
       "  'body': 'Singer Armaan Malik has revealed that he went through \"a lot of bullying\" in his school days, adding, \"That kind of scarred me a lot in life.\" \"Till date if you...ask me I don\\'t...have...close friends and...reason for that is also bullying,\" he added. \"A lot of...people who bullied...were my friends and I...distanced myself from...that and concentrated on...music,\" Armaan further said. ',\n",
       "  'catergory': 'entertainment'},\n",
       " {'title': \"I'm no one to tell her anything: Gera apologises to Kakkar for comic act\",\n",
       "  'body': 'Comedian Gaurav Gera has apologised to singer Neha Kakkar after she criticised his comedy act featuring a character named \\'Neha Shakkar\\'. \"I wouldn\\'t want to hurt her because I\\'m a fan...I\\'m no one to tell her anything...had no idea that she would be so hurt,\" Gera said. \"Shame on these people to create...insulting content!\" Neha earlier said.',\n",
       "  'catergory': 'entertainment'},\n",
       " {'title': \"Shooting of Emraan's Chehre stalled after fans refuse to leave sets\",\n",
       "  'body': 'The shooting of Emraan Hashmi and Amitabh Bachchan starrer \\'Chehre\\' was stalled after a few fans entered the shooting premises in Delhi\\'s Chhattarpur area and refused to leave from the location. Emraan was asked to leave the sets and police were called as the crowd was a \"bit of out of control\". \"I was overwhelmed...but it was...scary situation,\" Emraan said.',\n",
       "  'catergory': 'entertainment'}]"
      ]
     },
     "execution_count": 3,
     "metadata": {},
     "output_type": "execute_result"
    }
   ],
   "source": [
    "articles"
   ]
  },
  {
   "cell_type": "markdown",
   "metadata": {},
   "source": [
    "Define a function named basic_clean. It should take in a string and apply some basic text cleaning to it:\n",
    "\n",
    "- Lowercase everything\n",
    "- Normalize unicode characters\n",
    "- Replace anything that is not a letter, number, whitespace or a single quote."
   ]
  },
  {
   "cell_type": "code",
   "execution_count": 4,
   "metadata": {},
   "outputs": [],
   "source": [
    "example = \"eSAM!lkMMM$%\""
   ]
  },
  {
   "cell_type": "code",
   "execution_count": 5,
   "metadata": {},
   "outputs": [],
   "source": [
    "def basic_clean(string):\n",
    "    string = string.lower()\n",
    "    string = unicodedata.normalize('NFKD', string).encode('ascii', 'ignore').decode('utf-8', 'ignore')\n",
    "    string = re.sub(r\"[^a-z0-9'\\s]\", '', string)\n",
    "    string = re.sub(r'[\\r|\\n|\\r\\n]+',' ', string)\n",
    "    string = string.strip()\n",
    "    return string"
   ]
  },
  {
   "cell_type": "code",
   "execution_count": 6,
   "metadata": {},
   "outputs": [
    {
     "data": {
      "text/plain": [
       "'howddde'"
      ]
     },
     "execution_count": 6,
     "metadata": {},
     "output_type": "execute_result"
    }
   ],
   "source": [
    "basic_clean(\"HOW?dddé\")"
   ]
  },
  {
   "cell_type": "markdown",
   "metadata": {},
   "source": [
    "Define a function named tokenize. It should take in a string and tokenize all the words in the string."
   ]
  },
  {
   "cell_type": "code",
   "execution_count": 7,
   "metadata": {},
   "outputs": [],
   "source": [
    "def tokenize(string):\n",
    "    tokenizer = nltk.tokenize.ToktokTokenizer()\n",
    "\n",
    "    return tokenizer.tokenize(string, return_str=True)"
   ]
  },
  {
   "cell_type": "code",
   "execution_count": 8,
   "metadata": {},
   "outputs": [
    {
     "data": {
      "text/plain": [
       "'Hello , WOrld !'"
      ]
     },
     "execution_count": 8,
     "metadata": {},
     "output_type": "execute_result"
    }
   ],
   "source": [
    "tokenize(\"Hello, WOrld!\")"
   ]
  },
  {
   "cell_type": "code",
   "execution_count": 9,
   "metadata": {},
   "outputs": [
    {
     "data": {
      "text/plain": [
       "'email@hi.com'"
      ]
     },
     "execution_count": 9,
     "metadata": {},
     "output_type": "execute_result"
    }
   ],
   "source": [
    "tokenize(\"email@hi.com\")"
   ]
  },
  {
   "cell_type": "code",
   "execution_count": 10,
   "metadata": {},
   "outputs": [
    {
     "data": {
      "text/plain": [
       "'2018-19'"
      ]
     },
     "execution_count": 10,
     "metadata": {},
     "output_type": "execute_result"
    }
   ],
   "source": [
    "tokenize(\"2018-19\")"
   ]
  },
  {
   "cell_type": "markdown",
   "metadata": {},
   "source": [
    "Define a function named stem. It should accept some text and return the text after applying stemming to all the words."
   ]
  },
  {
   "cell_type": "code",
   "execution_count": 11,
   "metadata": {},
   "outputs": [],
   "source": [
    "def stem(string):\n",
    "    ps = nltk.porter.PorterStemmer()\n",
    "    stems = [ps.stem(word) for word in string.split()]\n",
    "    string_of_stems = \" \".join(stems)\n",
    "    return string_of_stems"
   ]
  },
  {
   "cell_type": "code",
   "execution_count": 12,
   "metadata": {},
   "outputs": [
    {
     "data": {
      "text/plain": [
       "'run into a hous'"
      ]
     },
     "execution_count": 12,
     "metadata": {},
     "output_type": "execute_result"
    }
   ],
   "source": [
    "stem(\"running into a house\")"
   ]
  },
  {
   "cell_type": "markdown",
   "metadata": {},
   "source": [
    "Define a function named lemmatize. It should accept some text and return the text after applying lemmatization to each word."
   ]
  },
  {
   "cell_type": "code",
   "execution_count": 13,
   "metadata": {},
   "outputs": [],
   "source": [
    "def lemmatize(string):\n",
    "    wnl = nltk.stem.WordNetLemmatizer()\n",
    "    lemmas = [wnl.lemmatize(word) for word in string.split()]\n",
    "    string_of_lemmas = \" \".join(lemmas)\n",
    "    return string_of_lemmas"
   ]
  },
  {
   "cell_type": "code",
   "execution_count": 14,
   "metadata": {},
   "outputs": [
    {
     "data": {
      "text/plain": [
       "'running into a house'"
      ]
     },
     "execution_count": 14,
     "metadata": {},
     "output_type": "execute_result"
    }
   ],
   "source": [
    "lemmatize(\"running into a house\")"
   ]
  },
  {
   "cell_type": "markdown",
   "metadata": {},
   "source": [
    "Define a function named remove_stopwords. It should accept some text and return the text after removing all the stopwords.\n",
    "\n",
    "This function should define two optional parameters, extra_words and exclude_words. These parameters should define any additional stop words to include, and any words that we don't want to remove."
   ]
  },
  {
   "cell_type": "code",
   "execution_count": 15,
   "metadata": {},
   "outputs": [],
   "source": [
    "def remove_stopwords(string, extra_words=[], exclude_words=[]):\n",
    "    string = tokenize(string)\n",
    "    \n",
    "    words = string.split()\n",
    "    stopword_list = stopwords.words('english')\n",
    "    \n",
    "    stopword_list = set(stopword_list) - set(exclude_words)\n",
    "    \n",
    "    stopword_list = stopword_list.union(set(extra_words))\n",
    "    \n",
    "    filtered_words = [w for w in words if w not in stopword_list]\n",
    "    final_string = ' '.join(filtered_words)\n",
    "    return final_string"
   ]
  },
  {
   "cell_type": "code",
   "execution_count": 16,
   "metadata": {},
   "outputs": [],
   "source": [
    "stopwords_list = [\"a\", \"an\", \"the\", \"bob\", \"jane\"]"
   ]
  },
  {
   "cell_type": "code",
   "execution_count": 17,
   "metadata": {},
   "outputs": [],
   "source": [
    "words_to_exclude = [\"an\", \"bob\"]"
   ]
  },
  {
   "cell_type": "code",
   "execution_count": 18,
   "metadata": {},
   "outputs": [
    {
     "data": {
      "text/plain": [
       "{'a', 'jane', 'the'}"
      ]
     },
     "execution_count": 18,
     "metadata": {},
     "output_type": "execute_result"
    }
   ],
   "source": [
    "set(stopwords_list) - set(words_to_exclude)"
   ]
  },
  {
   "cell_type": "code",
   "execution_count": 19,
   "metadata": {},
   "outputs": [
    {
     "data": {
      "text/plain": [
       "'The quick brown fox jumped lazy dog'"
      ]
     },
     "execution_count": 19,
     "metadata": {},
     "output_type": "execute_result"
    }
   ],
   "source": [
    "remove_stopwords(\"The quick brown fox jumped over the lazy dog\")"
   ]
  },
  {
   "cell_type": "raw",
   "metadata": {},
   "source": [
    "Define a function named prep_article that takes in the dictionary representing an article and returns a dictionary that looks like this:\n",
    "\n",
    "{\n",
    "    'title': 'the original title'.\n",
    "    'original': original,\n",
    "    'stemmed': article_stemmed,\n",
    "    'lemmatized': article_lemmatized,\n",
    "    'clean': article_without_stopwords\n",
    "}\n",
    "Note that if the orignal dictionary has a title property, it should remain unchanged (same goes for the category property)."
   ]
  },
  {
   "cell_type": "code",
   "execution_count": 20,
   "metadata": {},
   "outputs": [],
   "source": [
    "def prep_article(df):\n",
    "    df[\"original\"] = df.body\n",
    "    df[\"stemmed\"] = df.body.apply(basic_clean).apply(stem)\n",
    "    df[\"lemmatized\"] = df.body.apply(basic_clean).apply(lemmatize)\n",
    "    df[\"clean\"] = df.body.apply(basic_clean).apply(remove_stopwords)\n",
    "    df.drop(columns=[\"body\"], inplace=True)\n",
    "    return df"
   ]
  },
  {
   "cell_type": "code",
   "execution_count": 21,
   "metadata": {},
   "outputs": [],
   "source": [
    "df = pd.DataFrame(articles)"
   ]
  },
  {
   "cell_type": "code",
   "execution_count": 22,
   "metadata": {},
   "outputs": [
    {
     "data": {
      "text/html": [
       "<div>\n",
       "<style scoped>\n",
       "    .dataframe tbody tr th:only-of-type {\n",
       "        vertical-align: middle;\n",
       "    }\n",
       "\n",
       "    .dataframe tbody tr th {\n",
       "        vertical-align: top;\n",
       "    }\n",
       "\n",
       "    .dataframe thead th {\n",
       "        text-align: right;\n",
       "    }\n",
       "</style>\n",
       "<table border=\"1\" class=\"dataframe\">\n",
       "  <thead>\n",
       "    <tr style=\"text-align: right;\">\n",
       "      <th></th>\n",
       "      <th>title</th>\n",
       "      <th>catergory</th>\n",
       "      <th>original</th>\n",
       "      <th>stemmed</th>\n",
       "      <th>lemmatized</th>\n",
       "      <th>clean</th>\n",
       "    </tr>\n",
       "  </thead>\n",
       "  <tbody>\n",
       "    <tr>\n",
       "      <th>0</th>\n",
       "      <td>8, 7, 6.6, 5.8, 5 &amp; 4.5 is the state of econom...</td>\n",
       "      <td>business</td>\n",
       "      <td>Former Finance Minister P Chidambaram on Thurs...</td>\n",
       "      <td>former financ minist p chidambaram on thursday...</td>\n",
       "      <td>former finance minister p chidambaram on thurs...</td>\n",
       "      <td>former finance minister p chidambaram thursday...</td>\n",
       "    </tr>\n",
       "    <tr>\n",
       "      <th>1</th>\n",
       "      <td>We are the same animal, we are both a little c...</td>\n",
       "      <td>business</td>\n",
       "      <td>SoftBank CEO Masayoshi Son has said the decisi...</td>\n",
       "      <td>softbank ceo masayoshi son ha said the decis t...</td>\n",
       "      <td>softbank ceo masayoshi son ha said the decisio...</td>\n",
       "      <td>softbank ceo masayoshi son said decision inves...</td>\n",
       "    </tr>\n",
       "    <tr>\n",
       "      <th>2</th>\n",
       "      <td>Sundar Pichai rejected Google shares worth mil...</td>\n",
       "      <td>business</td>\n",
       "      <td>Google's 47-year-old India-born CEO Sundar Pic...</td>\n",
       "      <td>google' 47yearold indiaborn ceo sundar pichai ...</td>\n",
       "      <td>google's 47yearold indiaborn ceo sundar pichai...</td>\n",
       "      <td>google ' 47yearold indiaborn ceo sundar pichai...</td>\n",
       "    </tr>\n",
       "    <tr>\n",
       "      <th>3</th>\n",
       "      <td>Gut feeling drove me to invest $20M in Alibaba...</td>\n",
       "      <td>business</td>\n",
       "      <td>SoftBank Founder and CEO Masayoshi Son, in a d...</td>\n",
       "      <td>softbank founder and ceo masayoshi son in a di...</td>\n",
       "      <td>softbank founder and ceo masayoshi son in a di...</td>\n",
       "      <td>softbank founder ceo masayoshi son discussion ...</td>\n",
       "    </tr>\n",
       "    <tr>\n",
       "      <th>4</th>\n",
       "      <td>Maharashtra govt suggests merger of PMC Bank w...</td>\n",
       "      <td>business</td>\n",
       "      <td>In a bid to provide relief to depositors of sc...</td>\n",
       "      <td>in a bid to provid relief to depositor of scam...</td>\n",
       "      <td>in a bid to provide relief to depositor of sca...</td>\n",
       "      <td>bid provide relief depositors scamhit punjab m...</td>\n",
       "    </tr>\n",
       "    <tr>\n",
       "      <th>...</th>\n",
       "      <td>...</td>\n",
       "      <td>...</td>\n",
       "      <td>...</td>\n",
       "      <td>...</td>\n",
       "      <td>...</td>\n",
       "      <td>...</td>\n",
       "    </tr>\n",
       "    <tr>\n",
       "      <th>95</th>\n",
       "      <td>It motivates me: Ananya Panday on comparisons ...</td>\n",
       "      <td>entertainment</td>\n",
       "      <td>On being asked if comparisons with Sara Ali Kh...</td>\n",
       "      <td>on be ask if comparison with sara ali khan dis...</td>\n",
       "      <td>on being asked if comparison with sara ali kha...</td>\n",
       "      <td>asked comparisons sara ali khan disappoints an...</td>\n",
       "    </tr>\n",
       "    <tr>\n",
       "      <th>96</th>\n",
       "      <td>Farhan to produce biopic on mathematician Vash...</td>\n",
       "      <td>entertainment</td>\n",
       "      <td>Farhan Akhtar's production house, Excel Entert...</td>\n",
       "      <td>farhan akhtar' product hous excel entertain wi...</td>\n",
       "      <td>farhan akhtar's production house excel enterta...</td>\n",
       "      <td>farhan akhtar ' production house excel enterta...</td>\n",
       "    </tr>\n",
       "    <tr>\n",
       "      <th>97</th>\n",
       "      <td>I was bullied in school, that kind of scarred ...</td>\n",
       "      <td>entertainment</td>\n",
       "      <td>Singer Armaan Malik has revealed that he went ...</td>\n",
       "      <td>singer armaan malik ha reveal that he went thr...</td>\n",
       "      <td>singer armaan malik ha revealed that he went t...</td>\n",
       "      <td>singer armaan malik revealed went lot bullying...</td>\n",
       "    </tr>\n",
       "    <tr>\n",
       "      <th>98</th>\n",
       "      <td>I'm no one to tell her anything: Gera apologis...</td>\n",
       "      <td>entertainment</td>\n",
       "      <td>Comedian Gaurav Gera has apologised to singer ...</td>\n",
       "      <td>comedian gaurav gera ha apologis to singer neh...</td>\n",
       "      <td>comedian gaurav gera ha apologised to singer n...</td>\n",
       "      <td>comedian gaurav gera apologised singer neha ka...</td>\n",
       "    </tr>\n",
       "    <tr>\n",
       "      <th>99</th>\n",
       "      <td>Shooting of Emraan's Chehre stalled after fans...</td>\n",
       "      <td>entertainment</td>\n",
       "      <td>The shooting of Emraan Hashmi and Amitabh Bach...</td>\n",
       "      <td>the shoot of emraan hashmi and amitabh bachcha...</td>\n",
       "      <td>the shooting of emraan hashmi and amitabh bach...</td>\n",
       "      <td>shooting emraan hashmi amitabh bachchan starre...</td>\n",
       "    </tr>\n",
       "  </tbody>\n",
       "</table>\n",
       "<p>100 rows × 6 columns</p>\n",
       "</div>"
      ],
      "text/plain": [
       "                                                title      catergory  \\\n",
       "0   8, 7, 6.6, 5.8, 5 & 4.5 is the state of econom...       business   \n",
       "1   We are the same animal, we are both a little c...       business   \n",
       "2   Sundar Pichai rejected Google shares worth mil...       business   \n",
       "3   Gut feeling drove me to invest $20M in Alibaba...       business   \n",
       "4   Maharashtra govt suggests merger of PMC Bank w...       business   \n",
       "..                                                ...            ...   \n",
       "95  It motivates me: Ananya Panday on comparisons ...  entertainment   \n",
       "96  Farhan to produce biopic on mathematician Vash...  entertainment   \n",
       "97  I was bullied in school, that kind of scarred ...  entertainment   \n",
       "98  I'm no one to tell her anything: Gera apologis...  entertainment   \n",
       "99  Shooting of Emraan's Chehre stalled after fans...  entertainment   \n",
       "\n",
       "                                             original  \\\n",
       "0   Former Finance Minister P Chidambaram on Thurs...   \n",
       "1   SoftBank CEO Masayoshi Son has said the decisi...   \n",
       "2   Google's 47-year-old India-born CEO Sundar Pic...   \n",
       "3   SoftBank Founder and CEO Masayoshi Son, in a d...   \n",
       "4   In a bid to provide relief to depositors of sc...   \n",
       "..                                                ...   \n",
       "95  On being asked if comparisons with Sara Ali Kh...   \n",
       "96  Farhan Akhtar's production house, Excel Entert...   \n",
       "97  Singer Armaan Malik has revealed that he went ...   \n",
       "98  Comedian Gaurav Gera has apologised to singer ...   \n",
       "99  The shooting of Emraan Hashmi and Amitabh Bach...   \n",
       "\n",
       "                                              stemmed  \\\n",
       "0   former financ minist p chidambaram on thursday...   \n",
       "1   softbank ceo masayoshi son ha said the decis t...   \n",
       "2   google' 47yearold indiaborn ceo sundar pichai ...   \n",
       "3   softbank founder and ceo masayoshi son in a di...   \n",
       "4   in a bid to provid relief to depositor of scam...   \n",
       "..                                                ...   \n",
       "95  on be ask if comparison with sara ali khan dis...   \n",
       "96  farhan akhtar' product hous excel entertain wi...   \n",
       "97  singer armaan malik ha reveal that he went thr...   \n",
       "98  comedian gaurav gera ha apologis to singer neh...   \n",
       "99  the shoot of emraan hashmi and amitabh bachcha...   \n",
       "\n",
       "                                           lemmatized  \\\n",
       "0   former finance minister p chidambaram on thurs...   \n",
       "1   softbank ceo masayoshi son ha said the decisio...   \n",
       "2   google's 47yearold indiaborn ceo sundar pichai...   \n",
       "3   softbank founder and ceo masayoshi son in a di...   \n",
       "4   in a bid to provide relief to depositor of sca...   \n",
       "..                                                ...   \n",
       "95  on being asked if comparison with sara ali kha...   \n",
       "96  farhan akhtar's production house excel enterta...   \n",
       "97  singer armaan malik ha revealed that he went t...   \n",
       "98  comedian gaurav gera ha apologised to singer n...   \n",
       "99  the shooting of emraan hashmi and amitabh bach...   \n",
       "\n",
       "                                                clean  \n",
       "0   former finance minister p chidambaram thursday...  \n",
       "1   softbank ceo masayoshi son said decision inves...  \n",
       "2   google ' 47yearold indiaborn ceo sundar pichai...  \n",
       "3   softbank founder ceo masayoshi son discussion ...  \n",
       "4   bid provide relief depositors scamhit punjab m...  \n",
       "..                                                ...  \n",
       "95  asked comparisons sara ali khan disappoints an...  \n",
       "96  farhan akhtar ' production house excel enterta...  \n",
       "97  singer armaan malik revealed went lot bullying...  \n",
       "98  comedian gaurav gera apologised singer neha ka...  \n",
       "99  shooting emraan hashmi amitabh bachchan starre...  \n",
       "\n",
       "[100 rows x 6 columns]"
      ]
     },
     "execution_count": 22,
     "metadata": {},
     "output_type": "execute_result"
    }
   ],
   "source": [
    "prep_article(df)"
   ]
  },
  {
   "cell_type": "markdown",
   "metadata": {},
   "source": [
    "Define a function named prepare_article_data that takes in the list of articles dictionaries, applies the prep_article function to each one, and returns the transformed data."
   ]
  },
  {
   "cell_type": "code",
   "execution_count": 23,
   "metadata": {},
   "outputs": [],
   "source": [
    "codeup_df = acquire.get_blog_articles()\n",
    "codeup_df = pd.DataFrame(codeup_df)"
   ]
  },
  {
   "cell_type": "code",
   "execution_count": 24,
   "metadata": {},
   "outputs": [
    {
     "data": {
      "text/html": [
       "<div>\n",
       "<style scoped>\n",
       "    .dataframe tbody tr th:only-of-type {\n",
       "        vertical-align: middle;\n",
       "    }\n",
       "\n",
       "    .dataframe tbody tr th {\n",
       "        vertical-align: top;\n",
       "    }\n",
       "\n",
       "    .dataframe thead th {\n",
       "        text-align: right;\n",
       "    }\n",
       "</style>\n",
       "<table border=\"1\" class=\"dataframe\">\n",
       "  <thead>\n",
       "    <tr style=\"text-align: right;\">\n",
       "      <th></th>\n",
       "      <th>title</th>\n",
       "      <th>body</th>\n",
       "    </tr>\n",
       "  </thead>\n",
       "  <tbody>\n",
       "    <tr>\n",
       "      <th>0</th>\n",
       "      <td>Codeup’s Data Science Career Accelerator is Here!</td>\n",
       "      <td>\\nThe rumors are true! The time has arrived. C...</td>\n",
       "    </tr>\n",
       "    <tr>\n",
       "      <th>1</th>\n",
       "      <td>Data Science Myths</td>\n",
       "      <td>\\nBy Dimitri Antoniou and Maggie Giust\\nData S...</td>\n",
       "    </tr>\n",
       "    <tr>\n",
       "      <th>2</th>\n",
       "      <td>Data Science VS Data Analytics: What’s The Dif...</td>\n",
       "      <td>\\nBy Dimitri Antoniou\\nA week ago, Codeup laun...</td>\n",
       "    </tr>\n",
       "    <tr>\n",
       "      <th>3</th>\n",
       "      <td>10 Tips to Crush It at the SA Tech Job Fair</td>\n",
       "      <td>\\n10 Tips to Crush It at the SA Tech Job Fair\\...</td>\n",
       "    </tr>\n",
       "    <tr>\n",
       "      <th>4</th>\n",
       "      <td>Competitor Bootcamps Are Closing. Is the Model...</td>\n",
       "      <td>\\nCompetitor Bootcamps Are Closing. Is the Mod...</td>\n",
       "    </tr>\n",
       "  </tbody>\n",
       "</table>\n",
       "</div>"
      ],
      "text/plain": [
       "                                               title  \\\n",
       "0  Codeup’s Data Science Career Accelerator is Here!   \n",
       "1                                 Data Science Myths   \n",
       "2  Data Science VS Data Analytics: What’s The Dif...   \n",
       "3        10 Tips to Crush It at the SA Tech Job Fair   \n",
       "4  Competitor Bootcamps Are Closing. Is the Model...   \n",
       "\n",
       "                                                body  \n",
       "0  \\nThe rumors are true! The time has arrived. C...  \n",
       "1  \\nBy Dimitri Antoniou and Maggie Giust\\nData S...  \n",
       "2  \\nBy Dimitri Antoniou\\nA week ago, Codeup laun...  \n",
       "3  \\n10 Tips to Crush It at the SA Tech Job Fair\\...  \n",
       "4  \\nCompetitor Bootcamps Are Closing. Is the Mod...  "
      ]
     },
     "execution_count": 24,
     "metadata": {},
     "output_type": "execute_result"
    }
   ],
   "source": [
    "codeup_df"
   ]
  },
  {
   "cell_type": "code",
   "execution_count": 25,
   "metadata": {},
   "outputs": [
    {
     "data": {
      "text/html": [
       "<div>\n",
       "<style scoped>\n",
       "    .dataframe tbody tr th:only-of-type {\n",
       "        vertical-align: middle;\n",
       "    }\n",
       "\n",
       "    .dataframe tbody tr th {\n",
       "        vertical-align: top;\n",
       "    }\n",
       "\n",
       "    .dataframe thead th {\n",
       "        text-align: right;\n",
       "    }\n",
       "</style>\n",
       "<table border=\"1\" class=\"dataframe\">\n",
       "  <thead>\n",
       "    <tr style=\"text-align: right;\">\n",
       "      <th></th>\n",
       "      <th>title</th>\n",
       "      <th>original</th>\n",
       "      <th>stemmed</th>\n",
       "      <th>lemmatized</th>\n",
       "      <th>clean</th>\n",
       "    </tr>\n",
       "  </thead>\n",
       "  <tbody>\n",
       "    <tr>\n",
       "      <th>0</th>\n",
       "      <td>Codeup’s Data Science Career Accelerator is Here!</td>\n",
       "      <td>\\nThe rumors are true! The time has arrived. C...</td>\n",
       "      <td>the rumor are true the time ha arriv codeup ha...</td>\n",
       "      <td>the rumor are true the time ha arrived codeup ...</td>\n",
       "      <td>rumors true time arrived codeup officially ope...</td>\n",
       "    </tr>\n",
       "    <tr>\n",
       "      <th>1</th>\n",
       "      <td>Data Science Myths</td>\n",
       "      <td>\\nBy Dimitri Antoniou and Maggie Giust\\nData S...</td>\n",
       "      <td>by dimitri antoni and maggi giust data scienc ...</td>\n",
       "      <td>by dimitri antoniou and maggie giust data scie...</td>\n",
       "      <td>dimitri antoniou maggie giust data science big...</td>\n",
       "    </tr>\n",
       "    <tr>\n",
       "      <th>2</th>\n",
       "      <td>Data Science VS Data Analytics: What’s The Dif...</td>\n",
       "      <td>\\nBy Dimitri Antoniou\\nA week ago, Codeup laun...</td>\n",
       "      <td>by dimitri antoni a week ago codeup launch our...</td>\n",
       "      <td>by dimitri antoniou a week ago codeup launched...</td>\n",
       "      <td>dimitri antoniou week ago codeup launched imme...</td>\n",
       "    </tr>\n",
       "    <tr>\n",
       "      <th>3</th>\n",
       "      <td>10 Tips to Crush It at the SA Tech Job Fair</td>\n",
       "      <td>\\n10 Tips to Crush It at the SA Tech Job Fair\\...</td>\n",
       "      <td>10 tip to crush it at the sa tech job fair sa ...</td>\n",
       "      <td>10 tip to crush it at the sa tech job fair sa ...</td>\n",
       "      <td>10 tips crush sa tech job fair sa tech job fai...</td>\n",
       "    </tr>\n",
       "    <tr>\n",
       "      <th>4</th>\n",
       "      <td>Competitor Bootcamps Are Closing. Is the Model...</td>\n",
       "      <td>\\nCompetitor Bootcamps Are Closing. Is the Mod...</td>\n",
       "      <td>competitor bootcamp are close is the model in ...</td>\n",
       "      <td>competitor bootcamps are closing is the model ...</td>\n",
       "      <td>competitor bootcamps closing model danger prog...</td>\n",
       "    </tr>\n",
       "  </tbody>\n",
       "</table>\n",
       "</div>"
      ],
      "text/plain": [
       "                                               title  \\\n",
       "0  Codeup’s Data Science Career Accelerator is Here!   \n",
       "1                                 Data Science Myths   \n",
       "2  Data Science VS Data Analytics: What’s The Dif...   \n",
       "3        10 Tips to Crush It at the SA Tech Job Fair   \n",
       "4  Competitor Bootcamps Are Closing. Is the Model...   \n",
       "\n",
       "                                            original  \\\n",
       "0  \\nThe rumors are true! The time has arrived. C...   \n",
       "1  \\nBy Dimitri Antoniou and Maggie Giust\\nData S...   \n",
       "2  \\nBy Dimitri Antoniou\\nA week ago, Codeup laun...   \n",
       "3  \\n10 Tips to Crush It at the SA Tech Job Fair\\...   \n",
       "4  \\nCompetitor Bootcamps Are Closing. Is the Mod...   \n",
       "\n",
       "                                             stemmed  \\\n",
       "0  the rumor are true the time ha arriv codeup ha...   \n",
       "1  by dimitri antoni and maggi giust data scienc ...   \n",
       "2  by dimitri antoni a week ago codeup launch our...   \n",
       "3  10 tip to crush it at the sa tech job fair sa ...   \n",
       "4  competitor bootcamp are close is the model in ...   \n",
       "\n",
       "                                          lemmatized  \\\n",
       "0  the rumor are true the time ha arrived codeup ...   \n",
       "1  by dimitri antoniou and maggie giust data scie...   \n",
       "2  by dimitri antoniou a week ago codeup launched...   \n",
       "3  10 tip to crush it at the sa tech job fair sa ...   \n",
       "4  competitor bootcamps are closing is the model ...   \n",
       "\n",
       "                                               clean  \n",
       "0  rumors true time arrived codeup officially ope...  \n",
       "1  dimitri antoniou maggie giust data science big...  \n",
       "2  dimitri antoniou week ago codeup launched imme...  \n",
       "3  10 tips crush sa tech job fair sa tech job fai...  \n",
       "4  competitor bootcamps closing model danger prog...  "
      ]
     },
     "execution_count": 25,
     "metadata": {},
     "output_type": "execute_result"
    }
   ],
   "source": [
    "prep_article(codeup_df)"
   ]
  },
  {
   "cell_type": "code",
   "execution_count": null,
   "metadata": {},
   "outputs": [],
   "source": []
  },
  {
   "cell_type": "code",
   "execution_count": null,
   "metadata": {},
   "outputs": [],
   "source": []
  }
 ],
 "metadata": {
  "kernelspec": {
   "display_name": "Python 3",
   "language": "python",
   "name": "python3"
  },
  "language_info": {
   "codemirror_mode": {
    "name": "ipython",
    "version": 3
   },
   "file_extension": ".py",
   "mimetype": "text/x-python",
   "name": "python",
   "nbconvert_exporter": "python",
   "pygments_lexer": "ipython3",
   "version": "3.7.3"
  },
  "toc": {
   "base_numbering": 1,
   "nav_menu": {},
   "number_sections": false,
   "sideBar": true,
   "skip_h1_title": true,
   "title_cell": "Table of Contents",
   "title_sidebar": "Contents",
   "toc_cell": false,
   "toc_position": {},
   "toc_section_display": true,
   "toc_window_display": false
  }
 },
 "nbformat": 4,
 "nbformat_minor": 2
}
