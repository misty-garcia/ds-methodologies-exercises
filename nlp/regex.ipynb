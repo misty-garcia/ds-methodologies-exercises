{
 "cells": [
  {
   "cell_type": "code",
   "execution_count": 703,
   "metadata": {},
   "outputs": [],
   "source": [
    "import re\n",
    "import pandas as pd\n",
    "import numpy as np\n",
    "\n",
    "import warnings\n",
    "warnings.filterwarnings(\"ignore\")"
   ]
  },
  {
   "cell_type": "markdown",
   "metadata": {},
   "source": [
    "Write a function named is_vowel. It should accept a string as input and use a regular expression to determine if the passed string is a vowel. While not explicity mentioned in the lesson, you can treat the result of re.search as a boolean value that indicates whether or not the regular expression matches the given string."
   ]
  },
  {
   "cell_type": "code",
   "execution_count": 649,
   "metadata": {},
   "outputs": [
    {
     "data": {
      "text/plain": [
       "(True, False, True, False)"
      ]
     },
     "execution_count": 649,
     "metadata": {},
     "output_type": "execute_result"
    }
   ],
   "source": [
    "def is_vowel(letter):\n",
    "    vowel_re = r'^[aeiouAEIOU]$' # write your regex here\n",
    "    return bool(re.search(vowel_re, letter))\n",
    "\n",
    "is_vowel('a'), is_vowel('b'), is_vowel('e'), is_vowel('de')"
   ]
  },
  {
   "cell_type": "markdown",
   "metadata": {},
   "source": [
    "Write a function named is_valid_username that accepts a string as input. A valid username starts with a lowercase letter, and only consists of lowercase letters, numbers, or the _ character. It should also be no longer than 32 characters. The function should return either True or False depending on whether the passed string is a valid username.\n",
    "\n",
    "\n",
    "- is_valid_username('aaaaaaaaaaaaaaaaaaaaaaaaaaaaaaaaa')\n",
    "False\n",
    "\n",
    "- is_valid_username('codeup')\n",
    "True\n",
    "\n",
    "- is_valid_username('Codeup')\n",
    "False\n",
    "\n",
    "- is_valid_username('codeup123')\n",
    "True\n",
    "\n",
    "-  is_valid_username('1codeup')\n",
    "False"
   ]
  },
  {
   "cell_type": "code",
   "execution_count": 652,
   "metadata": {},
   "outputs": [
    {
     "name": "stdout",
     "output_type": "stream",
     "text": [
      "is_valid_username | username\n",
      "----------------- | --------\n",
      "            False | aaaaaaaaaaaaaaaaaaaaaaaaaaaaaaaaa\n",
      "             True | codeup\n",
      "            False | Codeup\n",
      "             True | codeup123\n",
      "            False | 1codeup\n"
     ]
    }
   ],
   "source": [
    "def is_valid_username(username):\n",
    "    username_re = r'^[a-z][a-z0-9_]{,31}$' # write your regex here\n",
    "    return bool(re.search(username_re, username))\n",
    "\n",
    "usernames = ['aaaaaaaaaaaaaaaaaaaaaaaaaaaaaaaaa', 'codeup', 'Codeup', 'codeup123', '1codeup']\n",
    "print('is_valid_username | username')\n",
    "print('----------------- | --------')\n",
    "for username in usernames:\n",
    "    print('%17s | %s' % (is_valid_username(username), username))"
   ]
  },
  {
   "cell_type": "markdown",
   "metadata": {},
   "source": [
    "Write a regular expression to capture phone numbers. It should match all of the following:\n",
    "\n",
    "- (210) 867 5309\n",
    "- +1 210.867.5309\n",
    "- 867-5309\n",
    "- 210-867-5309"
   ]
  },
  {
   "cell_type": "code",
   "execution_count": 664,
   "metadata": {},
   "outputs": [
    {
     "data": {
      "text/html": [
       "<div>\n",
       "<style scoped>\n",
       "    .dataframe tbody tr th:only-of-type {\n",
       "        vertical-align: middle;\n",
       "    }\n",
       "\n",
       "    .dataframe tbody tr th {\n",
       "        vertical-align: top;\n",
       "    }\n",
       "\n",
       "    .dataframe thead th {\n",
       "        text-align: right;\n",
       "    }\n",
       "</style>\n",
       "<table border=\"1\" class=\"dataframe\">\n",
       "  <thead>\n",
       "    <tr style=\"text-align: right;\">\n",
       "      <th></th>\n",
       "      <th>phone_number</th>\n",
       "      <th>regexp_matches</th>\n",
       "    </tr>\n",
       "  </thead>\n",
       "  <tbody>\n",
       "    <tr>\n",
       "      <th>0</th>\n",
       "      <td>(210) 867 5309</td>\n",
       "      <td>True</td>\n",
       "    </tr>\n",
       "    <tr>\n",
       "      <th>1</th>\n",
       "      <td>+1 210.867.5309</td>\n",
       "      <td>True</td>\n",
       "    </tr>\n",
       "    <tr>\n",
       "      <th>2</th>\n",
       "      <td>867-5309</td>\n",
       "      <td>True</td>\n",
       "    </tr>\n",
       "    <tr>\n",
       "      <th>3</th>\n",
       "      <td>210-867-5309</td>\n",
       "      <td>True</td>\n",
       "    </tr>\n",
       "  </tbody>\n",
       "</table>\n",
       "</div>"
      ],
      "text/plain": [
       "      phone_number  regexp_matches\n",
       "0   (210) 867 5309            True\n",
       "1  +1 210.867.5309            True\n",
       "2         867-5309            True\n",
       "3     210-867-5309            True"
      ]
     },
     "execution_count": 664,
     "metadata": {},
     "output_type": "execute_result"
    }
   ],
   "source": [
    "phone_numbers = pd.Series([\n",
    "    '(210) 867 5309',\n",
    "    '+1 210.867.5309',\n",
    "    '867-5309',\n",
    "    '210-867-5309',\n",
    "])\n",
    "\n",
    "phone_number_re = re.compile(r'''\n",
    "^\n",
    "(\\+\\d+)?\n",
    "\\D*?\n",
    "(\\d{3})?\n",
    "\\D*?\n",
    "(\\d{3})\n",
    "\\D*?\n",
    "(\\d{4})\n",
    "$\n",
    "''',re.VERBOSE)\n",
    "\n",
    "\n",
    "pd.DataFrame({\n",
    "    'phone_number': phone_numbers,\n",
    "    'regexp_matches': phone_numbers.str.match(phone_number_re)\n",
    "})"
   ]
  },
  {
   "cell_type": "markdown",
   "metadata": {},
   "source": [
    "Use regular expressions to convert the dates below to the standardized year-month-day format.\n",
    "- 02/04/19\n",
    "- 02/05/19\n",
    "- 02/06/19\n",
    "- 02/07/19\n",
    "- 02/08/19\n",
    "- 02/09/19\n",
    "- 02/10/19"
   ]
  },
  {
   "cell_type": "code",
   "execution_count": 665,
   "metadata": {},
   "outputs": [
    {
     "data": {
      "text/plain": [
       "0    2019-02-04\n",
       "1    2019-02-05\n",
       "2    2019-02-06\n",
       "3    2019-02-07\n",
       "4    2019-02-08\n",
       "5    2019-02-09\n",
       "6    2019-02-10\n",
       "dtype: object"
      ]
     },
     "execution_count": 665,
     "metadata": {},
     "output_type": "execute_result"
    }
   ],
   "source": [
    "dates = pd.Series([\n",
    "    '02/04/19',\n",
    "    '02/05/19',\n",
    "    '02/06/19',\n",
    "    '02/07/19',\n",
    "    '02/08/19',\n",
    "    '02/09/19',\n",
    "    '02/10/19',\n",
    "])\n",
    "\n",
    "# hint: use dates.str.replace and capture groups\n",
    "dates.str.replace(r'(\\d{2}).(\\d{2}).(\\d{2})', r'20\\3-\\1-\\2')"
   ]
  },
  {
   "cell_type": "code",
   "execution_count": 667,
   "metadata": {},
   "outputs": [
    {
     "data": {
      "text/plain": [
       "0    2019-02-04\n",
       "1    2019-02-05\n",
       "2    2019-02-06\n",
       "3    2019-02-07\n",
       "4    2019-02-08\n",
       "5    2019-02-09\n",
       "6    2019-02-10\n",
       "dtype: object"
      ]
     },
     "execution_count": 667,
     "metadata": {},
     "output_type": "execute_result"
    }
   ],
   "source": [
    "def format_phone_number(m):\n",
    "    return '20' + m.group('year') + '-' + m.group('month') + '-' + m.group('day')\n",
    "\n",
    "dates.str.replace(r'(?P<month>\\d+)/(?P<day>\\d+)/(?P<year>\\d+)', format_phone_number)"
   ]
  },
  {
   "cell_type": "markdown",
   "metadata": {},
   "source": [
    "Write a regex to extract the various parts of these logfile lines:\n",
    "- GET /api/v1/sales?page=86 [16/Apr/2019:193452+0000] HTTP/1.1 {200} 510348 \"python-requests/2.21.0\" 97.105.19.58\n",
    "- POST /users_accounts/file-upload [16/Apr/2019:193452+0000] HTTP/1.1 {201} 42 \"User-Agent: Mozilla/5.0 (X11; Fedora; Fedora; Linux x86_64) AppleWebKit/537.36 (KHTML, like Gecko) Chrome/73.0.3683.86 Safari/537.36\" 97.105.19.58\n",
    "- GET /api/v1/items?page=3 [16/Apr/2019:193453+0000] HTTP/1.1 {429} 3561 \"python-requests/2.21.0\" 97.105.19.58"
   ]
  },
  {
   "cell_type": "code",
   "execution_count": 339,
   "metadata": {},
   "outputs": [],
   "source": [
    "lines = pd.Series([\n",
    "    'GET /api/v1/sales?page=86 [16/Apr/2019:193452+0000] HTTP/1.1 {200} 510348 \"python-requests/2.21.0\" 97.105.19.58',\n",
    "    'POST /users_accounts/file-upload [16/Apr/2019:193452+0000] HTTP/1.1 {201} 42 \"User-Agent: Mozilla/5.0 (X11; Fedora; Fedora; Linux x86_64) AppleWebKit/537.36 (KHTML, like Gecko) Chrome/73.0.3683.86 Safari/537.36\" 97.105.19.58',\n",
    "    'GET /api/v1/items?page=3 [16/Apr/2019:193453+0000] HTTP/1.1 {429} 3561 \"python-requests/2.21.0\" 97.105.19.58',\n",
    "])"
   ]
  },
  {
   "cell_type": "code",
   "execution_count": 487,
   "metadata": {},
   "outputs": [
    {
     "data": {
      "text/html": [
       "<div>\n",
       "<style scoped>\n",
       "    .dataframe tbody tr th:only-of-type {\n",
       "        vertical-align: middle;\n",
       "    }\n",
       "\n",
       "    .dataframe tbody tr th {\n",
       "        vertical-align: top;\n",
       "    }\n",
       "\n",
       "    .dataframe thead th {\n",
       "        text-align: right;\n",
       "    }\n",
       "</style>\n",
       "<table border=\"1\" class=\"dataframe\">\n",
       "  <thead>\n",
       "    <tr style=\"text-align: right;\">\n",
       "      <th></th>\n",
       "      <th>method</th>\n",
       "      <th>path</th>\n",
       "      <th>page</th>\n",
       "      <th>day</th>\n",
       "      <th>month</th>\n",
       "      <th>year</th>\n",
       "      <th>time</th>\n",
       "      <th>protocol</th>\n",
       "      <th>status</th>\n",
       "      <th>bytes</th>\n",
       "      <th>agent</th>\n",
       "      <th>ip</th>\n",
       "    </tr>\n",
       "  </thead>\n",
       "  <tbody>\n",
       "    <tr>\n",
       "      <th>0</th>\n",
       "      <td>GET</td>\n",
       "      <td>/api/v1/sales</td>\n",
       "      <td>page=86</td>\n",
       "      <td>16</td>\n",
       "      <td>Apr</td>\n",
       "      <td>2019</td>\n",
       "      <td>193452+0000</td>\n",
       "      <td>HTTP/1.1</td>\n",
       "      <td>200</td>\n",
       "      <td>510348</td>\n",
       "      <td>python-requests/2.21.0</td>\n",
       "      <td>97.105.19.58</td>\n",
       "    </tr>\n",
       "    <tr>\n",
       "      <th>1</th>\n",
       "      <td>POST</td>\n",
       "      <td>/users_accounts/file-upload</td>\n",
       "      <td>NaN</td>\n",
       "      <td>16</td>\n",
       "      <td>Apr</td>\n",
       "      <td>2019</td>\n",
       "      <td>193452+0000</td>\n",
       "      <td>HTTP/1.1</td>\n",
       "      <td>201</td>\n",
       "      <td>42</td>\n",
       "      <td>User-Agent: Mozilla/5.0 (X11; Fedora; Fedora; ...</td>\n",
       "      <td>97.105.19.58</td>\n",
       "    </tr>\n",
       "    <tr>\n",
       "      <th>2</th>\n",
       "      <td>GET</td>\n",
       "      <td>/api/v1/items</td>\n",
       "      <td>page=3</td>\n",
       "      <td>16</td>\n",
       "      <td>Apr</td>\n",
       "      <td>2019</td>\n",
       "      <td>193453+0000</td>\n",
       "      <td>HTTP/1.1</td>\n",
       "      <td>429</td>\n",
       "      <td>3561</td>\n",
       "      <td>python-requests/2.21.0</td>\n",
       "      <td>97.105.19.58</td>\n",
       "    </tr>\n",
       "  </tbody>\n",
       "</table>\n",
       "</div>"
      ],
      "text/plain": [
       "  method                         path     page day month  year         time  \\\n",
       "0    GET                /api/v1/sales  page=86  16   Apr  2019  193452+0000   \n",
       "1   POST  /users_accounts/file-upload      NaN  16   Apr  2019  193452+0000   \n",
       "2    GET                /api/v1/items   page=3  16   Apr  2019  193453+0000   \n",
       "\n",
       "   protocol status   bytes                                              agent  \\\n",
       "0  HTTP/1.1    200  510348                             python-requests/2.21.0   \n",
       "1  HTTP/1.1    201      42  User-Agent: Mozilla/5.0 (X11; Fedora; Fedora; ...   \n",
       "2  HTTP/1.1    429    3561                             python-requests/2.21.0   \n",
       "\n",
       "             ip  \n",
       "0  97.105.19.58  \n",
       "1  97.105.19.58  \n",
       "2  97.105.19.58  "
      ]
     },
     "execution_count": 487,
     "metadata": {},
     "output_type": "execute_result"
    }
   ],
   "source": [
    "logs = lines.str.extract(r'^([A-Z]+)\\s(\\W\\w+\\W\\w+\\W\\w+)\\??(page\\W\\d+)?\\s.(\\d+)/(\\w+)/(\\d+):(\\d+\\+\\d+).\\s(\\w+/\\d.\\d)\\s{(\\d+)}\\s(\\d+)\\s\"(.+)\"\\s(\\d+.\\d+.\\d+.\\d+)')\n",
    "logs.columns = [\"method\",\"path\",\"page\", \"day\",\"month\",\"year\",\"time\",\"protocol\",\"status\",\"bytes\",\"agent\",\"ip\"]\n",
    "logs"
   ]
  },
  {
   "cell_type": "markdown",
   "metadata": {},
   "source": [
    "You can find a list of words on your mac at /usr/share/dict/words. Use this file to answer the following questions:\n",
    "\n",
    "How many words have at least 3 vowels?\n",
    "How many words have at least 3 vowels in a row?\n",
    "How many words have at least 4 consonants in a row?\n",
    "How many words start and end with the same letter?\n",
    "How many words start and end with a vowel?\n",
    "How many words contain the same letter 3 times in a row?\n",
    "What other interesting patterns in words can you find?"
   ]
  },
  {
   "cell_type": "code",
   "execution_count": 690,
   "metadata": {},
   "outputs": [
    {
     "data": {
      "text/plain": [
       "0                  a\n",
       "1                  a\n",
       "2                 aa\n",
       "3                aal\n",
       "4              aalii\n",
       "             ...    \n",
       "235881        zythem\n",
       "235882        zythia\n",
       "235883        zythum\n",
       "235884       zyzomys\n",
       "235885    zyzzogeton\n",
       "Name: 0, Length: 235884, dtype: object"
      ]
     },
     "execution_count": 690,
     "metadata": {},
     "output_type": "execute_result"
    }
   ],
   "source": [
    "words = pd.read_csv('/usr/share/dict/words', header=None).iloc[:, 0].dropna().str.lower()\n",
    "words"
   ]
  },
  {
   "cell_type": "markdown",
   "metadata": {},
   "source": [
    "#### How many words have at least 3 vowels?"
   ]
  },
  {
   "cell_type": "code",
   "execution_count": 697,
   "metadata": {},
   "outputs": [
    {
     "data": {
      "text/plain": [
       "191365"
      ]
     },
     "execution_count": 697,
     "metadata": {},
     "output_type": "execute_result"
    }
   ],
   "source": [
    "(words.str.count(r'[aeiou]') >= 3).sum()"
   ]
  },
  {
   "cell_type": "markdown",
   "metadata": {},
   "source": [
    "#### How many words have at least 3 vowels in a row?"
   ]
  },
  {
   "cell_type": "code",
   "execution_count": 698,
   "metadata": {},
   "outputs": [
    {
     "data": {
      "text/plain": [
       "6182"
      ]
     },
     "execution_count": 698,
     "metadata": {},
     "output_type": "execute_result"
    }
   ],
   "source": [
    "words.str.contains(r'[aeiou]{3}').sum()"
   ]
  },
  {
   "cell_type": "markdown",
   "metadata": {},
   "source": [
    "#### How many words have at least 4 consonants in a row?"
   ]
  },
  {
   "cell_type": "code",
   "execution_count": 699,
   "metadata": {},
   "outputs": [
    {
     "data": {
      "text/plain": [
       "19241"
      ]
     },
     "execution_count": 699,
     "metadata": {},
     "output_type": "execute_result"
    }
   ],
   "source": [
    "words.str.lower().str.contains(r'[^aeiou]{4}').sum()"
   ]
  },
  {
   "cell_type": "code",
   "execution_count": 700,
   "metadata": {},
   "outputs": [
    {
     "data": {
      "text/plain": [
       "204390            tonishly\n",
       "212936    uncompromisingly\n",
       "61921      endolymphangial\n",
       "163298              raptly\n",
       "165729          refusingly\n",
       "208402         truculently\n",
       "12730               archly\n",
       "196693         synchronize\n",
       "Name: 0, dtype: object"
      ]
     },
     "execution_count": 700,
     "metadata": {},
     "output_type": "execute_result"
    }
   ],
   "source": [
    "words[words.str.lower().str.contains(r'[^aeiou]{4}')].sample(8)"
   ]
  },
  {
   "cell_type": "markdown",
   "metadata": {},
   "source": [
    "#### How many words start and end with the same letter?"
   ]
  },
  {
   "cell_type": "code",
   "execution_count": 704,
   "metadata": {},
   "outputs": [
    {
     "data": {
      "text/plain": [
       "11452"
      ]
     },
     "execution_count": 704,
     "metadata": {},
     "output_type": "execute_result"
    }
   ],
   "source": [
    "words.str.contains(r'^(.).*\\1$').sum()"
   ]
  },
  {
   "cell_type": "markdown",
   "metadata": {},
   "source": [
    "#### How many words start and end with a vowel?"
   ]
  },
  {
   "cell_type": "code",
   "execution_count": 695,
   "metadata": {},
   "outputs": [
    {
     "data": {
      "text/plain": [
       "14657"
      ]
     },
     "execution_count": 695,
     "metadata": {},
     "output_type": "execute_result"
    }
   ],
   "source": [
    "words.str.contains(r'^[aeiou].*[aeiou]$').sum()"
   ]
  },
  {
   "cell_type": "markdown",
   "metadata": {},
   "source": [
    "#### How many words contain the same letter 3 times in a row?"
   ]
  },
  {
   "cell_type": "code",
   "execution_count": 713,
   "metadata": {},
   "outputs": [
    {
     "data": {
      "text/plain": [
       "7"
      ]
     },
     "execution_count": 713,
     "metadata": {},
     "output_type": "execute_result"
    }
   ],
   "source": [
    "words.str.contains(r'(.)\\1\\1').sum()"
   ]
  },
  {
   "cell_type": "code",
   "execution_count": 715,
   "metadata": {},
   "outputs": [
    {
     "data": {
      "text/plain": [
       "24988             bossship\n",
       "50636      demigoddessship\n",
       "78498          goddessship\n",
       "82997     headmistressship\n",
       "140481       patronessship\n",
       "230262            wallless\n",
       "231688           whenceeer\n",
       "Name: 0, dtype: object"
      ]
     },
     "execution_count": 715,
     "metadata": {},
     "output_type": "execute_result"
    }
   ],
   "source": [
    "words[words.str.contains(r'(.)\\1\\1')]"
   ]
  },
  {
   "cell_type": "markdown",
   "metadata": {},
   "source": [
    "#### How many words contain two sets of the same two letters repeated?"
   ]
  },
  {
   "cell_type": "code",
   "execution_count": 718,
   "metadata": {},
   "outputs": [
    {
     "data": {
      "text/plain": [
       "792"
      ]
     },
     "execution_count": 718,
     "metadata": {},
     "output_type": "execute_result"
    }
   ],
   "source": [
    "words.str.contains(r'((.)\\2).*\\1').sum()"
   ]
  },
  {
   "cell_type": "code",
   "execution_count": 719,
   "metadata": {},
   "outputs": [
    {
     "data": {
      "text/plain": [
       "895        accessariness\n",
       "906           accessless\n",
       "909        accessoriness\n",
       "2688      admissibleness\n",
       "3879         agelessness\n",
       "               ...      \n",
       "234557       yellowbelly\n",
       "234559        yellowbill\n",
       "234834     youthlessness\n",
       "235076      zeallessness\n",
       "235683            zoozoo\n",
       "Name: 0, Length: 792, dtype: object"
      ]
     },
     "execution_count": 719,
     "metadata": {},
     "output_type": "execute_result"
    }
   ],
   "source": [
    "words[words.str.contains(r'((.)\\2).*\\1')]"
   ]
  },
  {
   "cell_type": "markdown",
   "metadata": {},
   "source": [
    "#### What other interesting patterns in words can you find?"
   ]
  },
  {
   "cell_type": "code",
   "execution_count": null,
   "metadata": {},
   "outputs": [],
   "source": []
  }
 ],
 "metadata": {
  "kernelspec": {
   "display_name": "Python 3",
   "language": "python",
   "name": "python3"
  },
  "language_info": {
   "codemirror_mode": {
    "name": "ipython",
    "version": 3
   },
   "file_extension": ".py",
   "mimetype": "text/x-python",
   "name": "python",
   "nbconvert_exporter": "python",
   "pygments_lexer": "ipython3",
   "version": "3.7.3"
  },
  "toc": {
   "base_numbering": 1,
   "nav_menu": {},
   "number_sections": false,
   "sideBar": true,
   "skip_h1_title": true,
   "title_cell": "Table of Contents",
   "title_sidebar": "Contents",
   "toc_cell": false,
   "toc_position": {},
   "toc_section_display": true,
   "toc_window_display": false
  }
 },
 "nbformat": 4,
 "nbformat_minor": 2
}
