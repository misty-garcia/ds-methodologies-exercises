{
 "cells": [
  {
   "cell_type": "code",
   "execution_count": 8,
   "metadata": {},
   "outputs": [],
   "source": [
    "import pandas as pd\n",
    "import numpy as np\n",
    "\n",
    "import pyspark"
   ]
  },
  {
   "cell_type": "markdown",
   "metadata": {},
   "source": [
    "Copy the code below to create a pandas dataframe with 20 rows and 3 columns:"
   ]
  },
  {
   "cell_type": "code",
   "execution_count": 103,
   "metadata": {},
   "outputs": [],
   "source": [
    "np.random.seed(13)\n",
    "\n",
    "pandas_dataframe = pd.DataFrame(\n",
    "    {\n",
    "        \"n\": np.random.randn(20),\n",
    "        \"group\": np.random.choice(list(\"xyz\"), 20),\n",
    "        \"abool\": np.random.choice([True, False], 20),\n",
    "    }\n",
    ")"
   ]
  },
  {
   "cell_type": "code",
   "execution_count": 104,
   "metadata": {},
   "outputs": [],
   "source": [
    "def get_spark_df():\n",
    "    pandas_dataframe = pd.DataFrame(\n",
    "        {\n",
    "            \"n\": np.random.randn(20),\n",
    "            \"group\": np.random.choice(list(\"xyz\"), 20),\n",
    "            \"abool\": np.random.choice([True, False], 20),\n",
    "        }\n",
    "    )\n",
    "    return spark.createDataFrame(pandas_dataframe)"
   ]
  },
  {
   "cell_type": "markdown",
   "metadata": {},
   "source": [
    "### Spark Dataframe Basics"
   ]
  },
  {
   "cell_type": "markdown",
   "metadata": {},
   "source": [
    "Use the starter code above to create a pandas dataframe."
   ]
  },
  {
   "cell_type": "code",
   "execution_count": 11,
   "metadata": {},
   "outputs": [
    {
     "data": {
      "text/html": [
       "<div>\n",
       "<style scoped>\n",
       "    .dataframe tbody tr th:only-of-type {\n",
       "        vertical-align: middle;\n",
       "    }\n",
       "\n",
       "    .dataframe tbody tr th {\n",
       "        vertical-align: top;\n",
       "    }\n",
       "\n",
       "    .dataframe thead th {\n",
       "        text-align: right;\n",
       "    }\n",
       "</style>\n",
       "<table border=\"1\" class=\"dataframe\">\n",
       "  <thead>\n",
       "    <tr style=\"text-align: right;\">\n",
       "      <th></th>\n",
       "      <th>n</th>\n",
       "      <th>group</th>\n",
       "      <th>abool</th>\n",
       "    </tr>\n",
       "  </thead>\n",
       "  <tbody>\n",
       "    <tr>\n",
       "      <th>0</th>\n",
       "      <td>-0.712391</td>\n",
       "      <td>z</td>\n",
       "      <td>False</td>\n",
       "    </tr>\n",
       "    <tr>\n",
       "      <th>1</th>\n",
       "      <td>0.753766</td>\n",
       "      <td>x</td>\n",
       "      <td>False</td>\n",
       "    </tr>\n",
       "    <tr>\n",
       "      <th>2</th>\n",
       "      <td>-0.044503</td>\n",
       "      <td>z</td>\n",
       "      <td>False</td>\n",
       "    </tr>\n",
       "    <tr>\n",
       "      <th>3</th>\n",
       "      <td>0.451812</td>\n",
       "      <td>y</td>\n",
       "      <td>False</td>\n",
       "    </tr>\n",
       "    <tr>\n",
       "      <th>4</th>\n",
       "      <td>1.345102</td>\n",
       "      <td>z</td>\n",
       "      <td>False</td>\n",
       "    </tr>\n",
       "  </tbody>\n",
       "</table>\n",
       "</div>"
      ],
      "text/plain": [
       "          n group  abool\n",
       "0 -0.712391     z  False\n",
       "1  0.753766     x  False\n",
       "2 -0.044503     z  False\n",
       "3  0.451812     y  False\n",
       "4  1.345102     z  False"
      ]
     },
     "execution_count": 11,
     "metadata": {},
     "output_type": "execute_result"
    }
   ],
   "source": [
    "pandas_dataframe.head()"
   ]
  },
  {
   "cell_type": "markdown",
   "metadata": {},
   "source": [
    "Convert the pandas dataframe to a spark dataframe. From this point forward, do all of your work with the spark dataframe, not the pandas dataframe."
   ]
  },
  {
   "cell_type": "code",
   "execution_count": 19,
   "metadata": {},
   "outputs": [],
   "source": [
    "spark = pyspark.sql.SparkSession.builder.getOrCreate()"
   ]
  },
  {
   "cell_type": "code",
   "execution_count": 21,
   "metadata": {},
   "outputs": [],
   "source": [
    "df = spark.createDataFrame(pandas_dataframe)"
   ]
  },
  {
   "cell_type": "markdown",
   "metadata": {},
   "source": [
    "Show the first 3 rows of the dataframe."
   ]
  },
  {
   "cell_type": "code",
   "execution_count": 23,
   "metadata": {},
   "outputs": [
    {
     "name": "stdout",
     "output_type": "stream",
     "text": [
      "+--------------------+-----+-----+\n",
      "|                   n|group|abool|\n",
      "+--------------------+-----+-----+\n",
      "|  -0.712390662050588|    z|false|\n",
      "|   0.753766378659703|    x|false|\n",
      "|-0.04450307833805...|    z|false|\n",
      "+--------------------+-----+-----+\n",
      "only showing top 3 rows\n",
      "\n"
     ]
    }
   ],
   "source": [
    "df.show(3)"
   ]
  },
  {
   "cell_type": "code",
   "execution_count": 92,
   "metadata": {},
   "outputs": [
    {
     "name": "stdout",
     "output_type": "stream",
     "text": [
      "-RECORD 0---------------------\n",
      " n     | -0.712390662050588   \n",
      " group | z                    \n",
      " abool | false                \n",
      "-RECORD 1---------------------\n",
      " n     | 0.753766378659703    \n",
      " group | x                    \n",
      " abool | false                \n",
      "-RECORD 2---------------------\n",
      " n     | -0.04450307833805... \n",
      " group | z                    \n",
      " abool | false                \n",
      "only showing top 3 rows\n",
      "\n"
     ]
    }
   ],
   "source": [
    "df.show(3,vertical=True)"
   ]
  },
  {
   "cell_type": "markdown",
   "metadata": {},
   "source": [
    "Show the first 7 rows of the dataframe."
   ]
  },
  {
   "cell_type": "code",
   "execution_count": 25,
   "metadata": {},
   "outputs": [
    {
     "name": "stdout",
     "output_type": "stream",
     "text": [
      "+--------------------+-----+-----+\n",
      "|                   n|group|abool|\n",
      "+--------------------+-----+-----+\n",
      "|  -0.712390662050588|    z|false|\n",
      "|   0.753766378659703|    x|false|\n",
      "|-0.04450307833805...|    z|false|\n",
      "| 0.45181233874578974|    y|false|\n",
      "|  1.3451017084510097|    z|false|\n",
      "|  0.5323378882945463|    y|false|\n",
      "|  1.3501878997225267|    z|false|\n",
      "+--------------------+-----+-----+\n",
      "only showing top 7 rows\n",
      "\n"
     ]
    }
   ],
   "source": [
    "df.show(7)"
   ]
  },
  {
   "cell_type": "markdown",
   "metadata": {},
   "source": [
    "View a summary of the data using .describe."
   ]
  },
  {
   "cell_type": "code",
   "execution_count": 27,
   "metadata": {},
   "outputs": [
    {
     "name": "stdout",
     "output_type": "stream",
     "text": [
      "+-------+-------------------+-----+\n",
      "|summary|                  n|group|\n",
      "+-------+-------------------+-----+\n",
      "|  count|                 20|   20|\n",
      "|   mean|0.36640264498852165| null|\n",
      "| stddev| 0.8905322898155364| null|\n",
      "|    min| -1.261605945319069|    x|\n",
      "|    max| 2.1503829673811126|    z|\n",
      "+-------+-------------------+-----+\n",
      "\n"
     ]
    }
   ],
   "source": [
    "df.describe().show()"
   ]
  },
  {
   "cell_type": "markdown",
   "metadata": {},
   "source": [
    "Use .select to create a new dataframe with just the n and abool columns. View the first 5 rows of this dataframe."
   ]
  },
  {
   "cell_type": "code",
   "execution_count": 29,
   "metadata": {},
   "outputs": [
    {
     "name": "stdout",
     "output_type": "stream",
     "text": [
      "+--------------------+-----+\n",
      "|                   n|abool|\n",
      "+--------------------+-----+\n",
      "|  -0.712390662050588|false|\n",
      "|   0.753766378659703|false|\n",
      "|-0.04450307833805...|false|\n",
      "| 0.45181233874578974|false|\n",
      "|  1.3451017084510097|false|\n",
      "+--------------------+-----+\n",
      "only showing top 5 rows\n",
      "\n"
     ]
    }
   ],
   "source": [
    "df.select('n','abool').show(5)"
   ]
  },
  {
   "cell_type": "markdown",
   "metadata": {},
   "source": [
    "Use .select to create a new dataframe with just the group and abool columns. View the first 5 rows of this dataframe."
   ]
  },
  {
   "cell_type": "code",
   "execution_count": 31,
   "metadata": {},
   "outputs": [
    {
     "name": "stdout",
     "output_type": "stream",
     "text": [
      "+-----+-----+\n",
      "|group|abool|\n",
      "+-----+-----+\n",
      "|    z|false|\n",
      "|    x|false|\n",
      "|    z|false|\n",
      "|    y|false|\n",
      "|    z|false|\n",
      "|    y|false|\n",
      "|    z|false|\n",
      "|    x|false|\n",
      "|    z| true|\n",
      "|    y| true|\n",
      "|    x|false|\n",
      "|    y|false|\n",
      "|    y| true|\n",
      "|    y| true|\n",
      "|    y|false|\n",
      "|    x|false|\n",
      "|    z|false|\n",
      "|    y| true|\n",
      "|    x|false|\n",
      "|    x| true|\n",
      "+-----+-----+\n",
      "\n"
     ]
    }
   ],
   "source": [
    "df.select('group','abool').show()"
   ]
  },
  {
   "cell_type": "markdown",
   "metadata": {},
   "source": [
    "Use .select to create a naew dataframe with the group column and the abool column renamed to a_boolean_value. Show the first 3 rows of this dataframe."
   ]
  },
  {
   "cell_type": "code",
   "execution_count": 39,
   "metadata": {},
   "outputs": [
    {
     "name": "stdout",
     "output_type": "stream",
     "text": [
      "+-----+---------------+\n",
      "|group|a_boolean_value|\n",
      "+-----+---------------+\n",
      "|    z|          false|\n",
      "|    x|          false|\n",
      "|    z|          false|\n",
      "+-----+---------------+\n",
      "only showing top 3 rows\n",
      "\n"
     ]
    }
   ],
   "source": [
    "df.select('group',df.abool.alias('a_boolean_value')).show(3)"
   ]
  },
  {
   "cell_type": "markdown",
   "metadata": {},
   "source": [
    "Use .select to create a new dataframe with the group column and the n column renamed to a_numeric_value. Show the first 6 rows of this dataframe."
   ]
  },
  {
   "cell_type": "code",
   "execution_count": 41,
   "metadata": {},
   "outputs": [
    {
     "name": "stdout",
     "output_type": "stream",
     "text": [
      "+-----+--------------------+\n",
      "|group|     a_numeric_value|\n",
      "+-----+--------------------+\n",
      "|    z|  -0.712390662050588|\n",
      "|    x|   0.753766378659703|\n",
      "|    z|-0.04450307833805...|\n",
      "|    y| 0.45181233874578974|\n",
      "|    z|  1.3451017084510097|\n",
      "|    y|  0.5323378882945463|\n",
      "+-----+--------------------+\n",
      "only showing top 6 rows\n",
      "\n"
     ]
    }
   ],
   "source": [
    "df.select('group',df.n.alias('a_numeric_value')).show(6)"
   ]
  },
  {
   "cell_type": "markdown",
   "metadata": {},
   "source": [
    "### Column Manipulation"
   ]
  },
  {
   "cell_type": "markdown",
   "metadata": {},
   "source": [
    "Use the starter code above to re-create a spark dataframe. Store the spark dataframe in a varaible named df"
   ]
  },
  {
   "cell_type": "code",
   "execution_count": 42,
   "metadata": {},
   "outputs": [],
   "source": [
    "np.random.seed(13)\n",
    "\n",
    "pandas_dataframe = pd.DataFrame(\n",
    "    {\n",
    "        \"n\": np.random.randn(20),\n",
    "        \"group\": np.random.choice(list(\"xyz\"), 20),\n",
    "        \"abool\": np.random.choice([True, False], 20),\n",
    "    }\n",
    ")"
   ]
  },
  {
   "cell_type": "code",
   "execution_count": 47,
   "metadata": {},
   "outputs": [],
   "source": [
    "df = spark.createDataFrame(pandas_dataframe)"
   ]
  },
  {
   "cell_type": "code",
   "execution_count": 49,
   "metadata": {},
   "outputs": [
    {
     "name": "stdout",
     "output_type": "stream",
     "text": [
      "+--------------------+-----+-----+\n",
      "|                   n|group|abool|\n",
      "+--------------------+-----+-----+\n",
      "|  -0.712390662050588|    z|false|\n",
      "|   0.753766378659703|    x|false|\n",
      "|-0.04450307833805...|    z|false|\n",
      "+--------------------+-----+-----+\n",
      "only showing top 3 rows\n",
      "\n"
     ]
    }
   ],
   "source": [
    "df.show(3)"
   ]
  },
  {
   "cell_type": "markdown",
   "metadata": {},
   "source": [
    "Use .select to add 4 to the n column. Show the results."
   ]
  },
  {
   "cell_type": "code",
   "execution_count": 54,
   "metadata": {},
   "outputs": [
    {
     "name": "stdout",
     "output_type": "stream",
     "text": [
      "+------------------+\n",
      "|           (n + 4)|\n",
      "+------------------+\n",
      "|3.2876093379494122|\n",
      "| 4.753766378659703|\n",
      "|3.9554969216619464|\n",
      "|  4.45181233874579|\n",
      "|5.3451017084510095|\n",
      "| 4.532337888294546|\n",
      "| 5.350187899722527|\n",
      "|  4.86121137416932|\n",
      "| 5.478685737435897|\n",
      "| 2.954622869461466|\n",
      "|3.2110109750484512|\n",
      "| 2.738394054680931|\n",
      "| 4.562846785281032|\n",
      "|3.7566737481144377|\n",
      "| 4.913740704859677|\n",
      "| 4.317350922736336|\n",
      "| 4.127303280206981|\n",
      "| 6.150382967381113|\n",
      "| 4.606288656896298|\n",
      "|3.9732283500135592|\n",
      "+------------------+\n",
      "\n"
     ]
    }
   ],
   "source": [
    "df.select(df.n+4).show()"
   ]
  },
  {
   "cell_type": "markdown",
   "metadata": {},
   "source": [
    "Subtract 5 from the n column and view the results."
   ]
  },
  {
   "cell_type": "code",
   "execution_count": 56,
   "metadata": {},
   "outputs": [
    {
     "name": "stdout",
     "output_type": "stream",
     "text": [
      "+-------------------+\n",
      "|            (n - 5)|\n",
      "+-------------------+\n",
      "| -5.712390662050588|\n",
      "| -4.246233621340297|\n",
      "| -5.044503078338053|\n",
      "|  -4.54818766125421|\n",
      "|-3.6548982915489905|\n",
      "| -4.467662111705454|\n",
      "|-3.6498121002774733|\n",
      "|  -4.13878862583068|\n",
      "| -3.521314262564103|\n",
      "| -6.045377130538534|\n",
      "| -5.788989024951549|\n",
      "| -6.261605945319069|\n",
      "| -4.437153214718968|\n",
      "| -5.243326251885563|\n",
      "| -4.086259295140323|\n",
      "| -4.682649077263664|\n",
      "| -4.872696719793019|\n",
      "|-2.8496170326188874|\n",
      "| -4.393711343103702|\n",
      "| -5.026771649986441|\n",
      "+-------------------+\n",
      "\n"
     ]
    }
   ],
   "source": [
    "df.select(df.n-5).show()"
   ]
  },
  {
   "cell_type": "markdown",
   "metadata": {},
   "source": [
    "Multiply the n column by 2. View the results along with the original numbers."
   ]
  },
  {
   "cell_type": "code",
   "execution_count": 60,
   "metadata": {},
   "outputs": [
    {
     "name": "stdout",
     "output_type": "stream",
     "text": [
      "+--------------------+--------------------+\n",
      "|                   n|             (n * 2)|\n",
      "+--------------------+--------------------+\n",
      "|  -0.712390662050588|  -1.424781324101176|\n",
      "|   0.753766378659703|   1.507532757319406|\n",
      "|-0.04450307833805...|-0.08900615667610691|\n",
      "| 0.45181233874578974|  0.9036246774915795|\n",
      "|  1.3451017084510097|  2.6902034169020195|\n",
      "|  0.5323378882945463|  1.0646757765890926|\n",
      "|  1.3501878997225267|  2.7003757994450535|\n",
      "|  0.8612113741693206|  1.7224227483386412|\n",
      "|  1.4786857374358966|   2.957371474871793|\n",
      "| -1.0453771305385342| -2.0907542610770684|\n",
      "| -0.7889890249515489| -1.5779780499030978|\n",
      "|  -1.261605945319069|  -2.523211890638138|\n",
      "|  0.5628467852810314|  1.1256935705620628|\n",
      "|-0.24332625188556253|-0.48665250377112507|\n",
      "|  0.9137407048596775|   1.827481409719355|\n",
      "| 0.31735092273633597|  0.6347018454726719|\n",
      "| 0.12730328020698067| 0.25460656041396135|\n",
      "|  2.1503829673811126|   4.300765934762225|\n",
      "|  0.6062886568962988|  1.2125773137925977|\n",
      "|-0.02677164998644...|-0.05354329997288145|\n",
      "+--------------------+--------------------+\n",
      "\n"
     ]
    }
   ],
   "source": [
    "df.select(df.n, df.n*2).show()"
   ]
  },
  {
   "cell_type": "markdown",
   "metadata": {},
   "source": [
    "Add a new column named n2 that is the n value multiplied by -1. Show the first 4 rows of your dataframe. You should see the original n value as well as n2."
   ]
  },
  {
   "cell_type": "code",
   "execution_count": 84,
   "metadata": {},
   "outputs": [
    {
     "name": "stdout",
     "output_type": "stream",
     "text": [
      "+--------------------+--------------------+\n",
      "|                   n|                  n2|\n",
      "+--------------------+--------------------+\n",
      "|  -0.712390662050588|   0.712390662050588|\n",
      "|   0.753766378659703|  -0.753766378659703|\n",
      "|-0.04450307833805...|0.044503078338053455|\n",
      "| 0.45181233874578974|-0.45181233874578974|\n",
      "+--------------------+--------------------+\n",
      "only showing top 4 rows\n",
      "\n"
     ]
    }
   ],
   "source": [
    "df.select(df.n, (df.n*-1).alias(\"n2\")).show(4)"
   ]
  },
  {
   "cell_type": "markdown",
   "metadata": {},
   "source": [
    "Add a new column named n3 that is the n value squared. Show the first 5 rows of your dataframe. You should see both n, n2, and n3."
   ]
  },
  {
   "cell_type": "code",
   "execution_count": 91,
   "metadata": {},
   "outputs": [
    {
     "name": "stdout",
     "output_type": "stream",
     "text": [
      "+--------------------+--------------------+--------------------+\n",
      "|                   n|                  n2|                  n3|\n",
      "+--------------------+--------------------+--------------------+\n",
      "|  -0.712390662050588|   0.712390662050588|   0.507500455376875|\n",
      "|   0.753766378659703|  -0.753766378659703|  0.5681637535977627|\n",
      "|-0.04450307833805...|0.044503078338053455|0.001980523981562...|\n",
      "| 0.45181233874578974|-0.45181233874578974| 0.20413438944294027|\n",
      "+--------------------+--------------------+--------------------+\n",
      "only showing top 4 rows\n",
      "\n"
     ]
    }
   ],
   "source": [
    "df.select(df.n, (df.n*-1).alias(\"n2\"), ((df.n*-1)**2).alias(\"n3\")).show(4)"
   ]
  },
  {
   "cell_type": "markdown",
   "metadata": {},
   "source": [
    "What happens when you run the code below?\n",
    "\n",
    "df.group + df.abool"
   ]
  },
  {
   "cell_type": "code",
   "execution_count": 95,
   "metadata": {},
   "outputs": [
    {
     "data": {
      "text/plain": [
       "Column<b'(group + abool)'>"
      ]
     },
     "execution_count": 95,
     "metadata": {},
     "output_type": "execute_result"
    }
   ],
   "source": [
    "df.group + df.abool"
   ]
  },
  {
   "cell_type": "markdown",
   "metadata": {},
   "source": [
    "What happens when you run the code below? What is the difference between this and the previous code sample?\n",
    "\n",
    "df.select(df.group + df.abool)"
   ]
  },
  {
   "cell_type": "code",
   "execution_count": 99,
   "metadata": {},
   "outputs": [],
   "source": [
    "# df.select(df.group + df.abool)"
   ]
  },
  {
   "cell_type": "markdown",
   "metadata": {},
   "source": [
    "Try adding various other columns together. What are the results of combining the different data types?"
   ]
  },
  {
   "cell_type": "code",
   "execution_count": 102,
   "metadata": {},
   "outputs": [
    {
     "name": "stdout",
     "output_type": "stream",
     "text": [
      "+-----------+\n",
      "|(group + n)|\n",
      "+-----------+\n",
      "|       null|\n",
      "|       null|\n",
      "|       null|\n",
      "|       null|\n",
      "|       null|\n",
      "|       null|\n",
      "|       null|\n",
      "|       null|\n",
      "|       null|\n",
      "|       null|\n",
      "|       null|\n",
      "|       null|\n",
      "|       null|\n",
      "|       null|\n",
      "|       null|\n",
      "|       null|\n",
      "|       null|\n",
      "|       null|\n",
      "|       null|\n",
      "|       null|\n",
      "+-----------+\n",
      "\n"
     ]
    }
   ],
   "source": [
    "df.select(df.group + df.n).show()"
   ]
  },
  {
   "cell_type": "markdown",
   "metadata": {},
   "source": [
    "### Spark SQL"
   ]
  },
  {
   "cell_type": "markdown",
   "metadata": {},
   "source": [
    "Use the starter code above to re-create a spark dataframe."
   ]
  },
  {
   "cell_type": "code",
   "execution_count": 117,
   "metadata": {},
   "outputs": [],
   "source": [
    "df = get_spark_df()"
   ]
  },
  {
   "cell_type": "markdown",
   "metadata": {},
   "source": [
    "Turn your dataframe into a table that can be queried with spark SQL. Name the table my_df. Answer the rest of the questions in this section with a spark sql query (spark.sql) against my_df. After each step, view the first 7 records from the dataframe."
   ]
  },
  {
   "cell_type": "code",
   "execution_count": 118,
   "metadata": {},
   "outputs": [],
   "source": [
    "df.createOrReplaceTempView(\"my_df\")"
   ]
  },
  {
   "cell_type": "markdown",
   "metadata": {},
   "source": [
    "Write a query that shows all of the columns from your dataframe."
   ]
  },
  {
   "cell_type": "code",
   "execution_count": 120,
   "metadata": {},
   "outputs": [
    {
     "name": "stdout",
     "output_type": "stream",
     "text": [
      "+--------------------+-----+-----+\n",
      "|                   n|group|abool|\n",
      "+--------------------+-----+-----+\n",
      "|  0.3650517980270081|    x|false|\n",
      "|-0.04520588860236072|    y|false|\n",
      "| -1.7385178655572635|    y| true|\n",
      "|  0.5704933453211514|    z| true|\n",
      "|  0.4349760219816502|    x| true|\n",
      "|  0.7588944642911625|    y|false|\n",
      "| -0.9738381295272108|    y|false|\n",
      "+--------------------+-----+-----+\n",
      "only showing top 7 rows\n",
      "\n"
     ]
    }
   ],
   "source": [
    "spark.sql(\"\"\"\n",
    "    SELECT *\n",
    "    from my_df\n",
    "    \"\"\").show(7)"
   ]
  },
  {
   "cell_type": "markdown",
   "metadata": {},
   "source": [
    "Write a query that shows just the n and abool columns from the dataframe."
   ]
  },
  {
   "cell_type": "code",
   "execution_count": 122,
   "metadata": {},
   "outputs": [
    {
     "name": "stdout",
     "output_type": "stream",
     "text": [
      "+--------------------+-----+\n",
      "|                   n|abool|\n",
      "+--------------------+-----+\n",
      "|  0.3650517980270081|false|\n",
      "|-0.04520588860236072|false|\n",
      "| -1.7385178655572635| true|\n",
      "|  0.5704933453211514| true|\n",
      "|  0.4349760219816502| true|\n",
      "|  0.7588944642911625|false|\n",
      "| -0.9738381295272108|false|\n",
      "+--------------------+-----+\n",
      "only showing top 7 rows\n",
      "\n"
     ]
    }
   ],
   "source": [
    "spark.sql(\"\"\"\n",
    "    SELECT n, abool\n",
    "    from my_df\n",
    "    \"\"\").show(7)"
   ]
  },
  {
   "cell_type": "markdown",
   "metadata": {},
   "source": [
    "Write a query that shows just the n and group columns. Rename the group column to g."
   ]
  },
  {
   "cell_type": "code",
   "execution_count": 126,
   "metadata": {},
   "outputs": [
    {
     "name": "stdout",
     "output_type": "stream",
     "text": [
      "+--------------------+---+\n",
      "|                   n|  g|\n",
      "+--------------------+---+\n",
      "|  0.3650517980270081|  x|\n",
      "|-0.04520588860236072|  y|\n",
      "| -1.7385178655572635|  y|\n",
      "|  0.5704933453211514|  z|\n",
      "|  0.4349760219816502|  x|\n",
      "|  0.7588944642911625|  y|\n",
      "| -0.9738381295272108|  y|\n",
      "+--------------------+---+\n",
      "only showing top 7 rows\n",
      "\n"
     ]
    }
   ],
   "source": [
    "spark.sql(\"\"\"\n",
    "    SELECT n, group as g\n",
    "    from my_df\n",
    "    \"\"\").show(7)"
   ]
  },
  {
   "cell_type": "markdown",
   "metadata": {},
   "source": [
    "Write a query that selects n, and creates two new columns: n2, the original n values halved, and n3: the original n values minus 1."
   ]
  },
  {
   "cell_type": "code",
   "execution_count": 131,
   "metadata": {},
   "outputs": [
    {
     "name": "stdout",
     "output_type": "stream",
     "text": [
      "+--------------------+--------------------+--------------------+\n",
      "|                   n|                  n2|                  n3|\n",
      "+--------------------+--------------------+--------------------+\n",
      "|  0.3650517980270081| 0.18252589901350405|  -0.634948201972992|\n",
      "|-0.04520588860236072|-0.02260294430118036| -1.0452058886023607|\n",
      "| -1.7385178655572635| -0.8692589327786318| -2.7385178655572635|\n",
      "|  0.5704933453211514|  0.2852466726605757|-0.42950665467884863|\n",
      "|  0.4349760219816502|  0.2174880109908251| -0.5650239780183498|\n",
      "|  0.7588944642911625| 0.37944723214558124|-0.24110553570883753|\n",
      "| -0.9738381295272108| -0.4869190647636054|  -1.973838129527211|\n",
      "+--------------------+--------------------+--------------------+\n",
      "only showing top 7 rows\n",
      "\n"
     ]
    }
   ],
   "source": [
    "spark.sql(\"\"\"\n",
    "    SELECT n, n/2 as n2, n-1 as n3\n",
    "    from my_df\"\"\").show(7)"
   ]
  },
  {
   "cell_type": "markdown",
   "metadata": {},
   "source": [
    "What happens if you make a SQL syntax error in your query?"
   ]
  },
  {
   "cell_type": "code",
   "execution_count": 136,
   "metadata": {},
   "outputs": [],
   "source": [
    "# spark.sql(\"\"\"\n",
    "#     SELECT n, n/2 as n2, n-1 as n3,\n",
    "#     from my_df\"\"\").show(7)"
   ]
  },
  {
   "cell_type": "markdown",
   "metadata": {},
   "source": [
    "> a java error!"
   ]
  },
  {
   "cell_type": "markdown",
   "metadata": {},
   "source": [
    "### Type casting"
   ]
  },
  {
   "cell_type": "markdown",
   "metadata": {},
   "source": [
    "Use the starter code above to re-create a spark dataframe."
   ]
  },
  {
   "cell_type": "code",
   "execution_count": 138,
   "metadata": {},
   "outputs": [],
   "source": [
    "df = get_spark_df()"
   ]
  },
  {
   "cell_type": "markdown",
   "metadata": {},
   "source": [
    "Use .printSchema to view the datatypes in your dataframe."
   ]
  },
  {
   "cell_type": "code",
   "execution_count": 140,
   "metadata": {},
   "outputs": [
    {
     "name": "stdout",
     "output_type": "stream",
     "text": [
      "root\n",
      " |-- n: double (nullable = true)\n",
      " |-- group: string (nullable = true)\n",
      " |-- abool: boolean (nullable = true)\n",
      "\n"
     ]
    }
   ],
   "source": [
    "df.printSchema()"
   ]
  },
  {
   "cell_type": "markdown",
   "metadata": {},
   "source": [
    "Use .dtypes to view the datatypes in your dataframe."
   ]
  },
  {
   "cell_type": "code",
   "execution_count": 142,
   "metadata": {},
   "outputs": [
    {
     "data": {
      "text/plain": [
       "[('n', 'double'), ('group', 'string'), ('abool', 'boolean')]"
      ]
     },
     "execution_count": 142,
     "metadata": {},
     "output_type": "execute_result"
    }
   ],
   "source": [
    "df.dtypes"
   ]
  },
  {
   "cell_type": "markdown",
   "metadata": {},
   "source": [
    "What is the difference between the two code samples below?\n",
    "\n",
    "df.abool.cast('int')\n",
    "\n",
    "df.select(df.abool.cast('int')).show()"
   ]
  },
  {
   "cell_type": "code",
   "execution_count": 145,
   "metadata": {},
   "outputs": [
    {
     "data": {
      "text/plain": [
       "Column<b'CAST(abool AS INT)'>"
      ]
     },
     "execution_count": 145,
     "metadata": {},
     "output_type": "execute_result"
    }
   ],
   "source": [
    "df.abool.cast('int')"
   ]
  },
  {
   "cell_type": "code",
   "execution_count": 153,
   "metadata": {},
   "outputs": [
    {
     "name": "stdout",
     "output_type": "stream",
     "text": [
      "+-----+\n",
      "|abool|\n",
      "+-----+\n",
      "|    1|\n",
      "|    0|\n",
      "|    1|\n",
      "|    0|\n",
      "|    0|\n",
      "+-----+\n",
      "only showing top 5 rows\n",
      "\n"
     ]
    }
   ],
   "source": [
    "df.select(df.abool.cast('int')).show(5)"
   ]
  },
  {
   "cell_type": "markdown",
   "metadata": {},
   "source": [
    "> one says literally the command, the other actually does it"
   ]
  },
  {
   "cell_type": "markdown",
   "metadata": {},
   "source": [
    "Use .select and .cast to convert the abool column to an integer type. View the results."
   ]
  },
  {
   "cell_type": "code",
   "execution_count": 170,
   "metadata": {},
   "outputs": [
    {
     "name": "stdout",
     "output_type": "stream",
     "text": [
      "+-----+-----+\n",
      "|abool|abool|\n",
      "+-----+-----+\n",
      "| true|    1|\n",
      "|false|    0|\n",
      "| true|    1|\n",
      "|false|    0|\n",
      "|false|    0|\n",
      "+-----+-----+\n",
      "only showing top 5 rows\n",
      "\n"
     ]
    }
   ],
   "source": [
    "df.select(df.abool, df.abool.cast('int')).show(5)"
   ]
  },
  {
   "cell_type": "markdown",
   "metadata": {},
   "source": [
    "Convert the group column to a integer data type and view the results. What happens?"
   ]
  },
  {
   "cell_type": "code",
   "execution_count": 169,
   "metadata": {},
   "outputs": [
    {
     "name": "stdout",
     "output_type": "stream",
     "text": [
      "+-----+-----+\n",
      "|group|group|\n",
      "+-----+-----+\n",
      "|    x| null|\n",
      "|    x| null|\n",
      "|    x| null|\n",
      "|    x| null|\n",
      "|    z| null|\n",
      "|    x| null|\n",
      "|    y| null|\n",
      "+-----+-----+\n",
      "only showing top 7 rows\n",
      "\n"
     ]
    }
   ],
   "source": [
    "df.select(df.group,df.group.cast('int')).show(7)"
   ]
  },
  {
   "cell_type": "markdown",
   "metadata": {},
   "source": [
    "> letters aren't converted to ints. changed to nulls. "
   ]
  },
  {
   "cell_type": "markdown",
   "metadata": {},
   "source": [
    "Convert the n column to a integer data type and view the results. What happens?"
   ]
  },
  {
   "cell_type": "code",
   "execution_count": 173,
   "metadata": {},
   "outputs": [
    {
     "name": "stdout",
     "output_type": "stream",
     "text": [
      "+--------------------+---+\n",
      "|                   n|  n|\n",
      "+--------------------+---+\n",
      "|  0.6129550677145995|  0|\n",
      "| 0.23966318182680454|  0|\n",
      "| -1.5120214739877849| -1|\n",
      "|  0.4446977161029871|  0|\n",
      "|  0.2532205247585785|  0|\n",
      "|  0.9407870683897978|  0|\n",
      "| 0.41730231988738953|  0|\n",
      "| 0.26955855330903167|  0|\n",
      "|  0.1687210624313978|  0|\n",
      "| -1.4889501692875957| -1|\n",
      "| -1.8552666603782968| -1|\n",
      "|-0.11032172211623395|  0|\n",
      "| -0.7046047621786199|  0|\n",
      "|  0.4553185270261121|  0|\n",
      "|  -1.220671903715444| -1|\n",
      "|  -0.565046518309226|  0|\n",
      "|  0.7061888116045445|  0|\n",
      "|0.005043898069076926|  0|\n",
      "| -0.8732591793851744|  0|\n",
      "|  0.5560180812944249|  0|\n",
      "+--------------------+---+\n",
      "\n"
     ]
    }
   ],
   "source": [
    " df.select(df.n, df.n.cast('int')).show()"
   ]
  },
  {
   "cell_type": "markdown",
   "metadata": {},
   "source": [
    "> it appears to round down"
   ]
  },
  {
   "cell_type": "markdown",
   "metadata": {},
   "source": [
    "Convert the abool column to a string data type and view the results. What happens?"
   ]
  },
  {
   "cell_type": "code",
   "execution_count": 177,
   "metadata": {},
   "outputs": [
    {
     "name": "stdout",
     "output_type": "stream",
     "text": [
      "+-----+-----+\n",
      "|abool|abool|\n",
      "+-----+-----+\n",
      "| true| true|\n",
      "|false|false|\n",
      "| true| true|\n",
      "|false|false|\n",
      "|false|false|\n",
      "+-----+-----+\n",
      "only showing top 5 rows\n",
      "\n"
     ]
    }
   ],
   "source": [
    "df.select(df.abool,df.abool.cast('string')).show(5)"
   ]
  },
  {
   "cell_type": "code",
   "execution_count": 178,
   "metadata": {},
   "outputs": [
    {
     "data": {
      "text/plain": [
       "[('abool', 'boolean'), ('abool', 'string')]"
      ]
     },
     "execution_count": 178,
     "metadata": {},
     "output_type": "execute_result"
    }
   ],
   "source": [
    "df.select(df.abool,df.abool.cast('string')).dtypes"
   ]
  },
  {
   "cell_type": "markdown",
   "metadata": {},
   "source": [
    "> looks the same. the datatype of the second column is string tho"
   ]
  },
  {
   "cell_type": "markdown",
   "metadata": {},
   "source": [
    "### Built-in Functions"
   ]
  },
  {
   "cell_type": "markdown",
   "metadata": {},
   "source": [
    "Use the starter code above to re-create a spark dataframe."
   ]
  },
  {
   "cell_type": "code",
   "execution_count": 179,
   "metadata": {},
   "outputs": [],
   "source": [
    "df = get_spark_df()"
   ]
  },
  {
   "cell_type": "markdown",
   "metadata": {},
   "source": [
    "Import the necessary functions from pyspark.sql.functions"
   ]
  },
  {
   "cell_type": "code",
   "execution_count": 222,
   "metadata": {},
   "outputs": [],
   "source": [
    "from pyspark.sql.functions import concat, sum, avg, min, max, count, mean, lit, round"
   ]
  },
  {
   "cell_type": "code",
   "execution_count": null,
   "metadata": {},
   "outputs": [],
   "source": [
    "# from pyspark.sql.functions as F"
   ]
  },
  {
   "cell_type": "markdown",
   "metadata": {},
   "source": [
    "Find the highest n value."
   ]
  },
  {
   "cell_type": "code",
   "execution_count": 183,
   "metadata": {},
   "outputs": [
    {
     "name": "stdout",
     "output_type": "stream",
     "text": [
      "+-----------------+\n",
      "|           max(n)|\n",
      "+-----------------+\n",
      "|2.233371389540196|\n",
      "+-----------------+\n",
      "\n"
     ]
    }
   ],
   "source": [
    "df.select(max(df.n)).show()"
   ]
  },
  {
   "cell_type": "markdown",
   "metadata": {},
   "source": [
    "Find the lowest n value."
   ]
  },
  {
   "cell_type": "code",
   "execution_count": 185,
   "metadata": {},
   "outputs": [
    {
     "name": "stdout",
     "output_type": "stream",
     "text": [
      "+-----------------+\n",
      "|           min(n)|\n",
      "+-----------------+\n",
      "|-1.65015730453314|\n",
      "+-----------------+\n",
      "\n"
     ]
    }
   ],
   "source": [
    "df.select(min(df.n)).show()"
   ]
  },
  {
   "cell_type": "markdown",
   "metadata": {},
   "source": [
    "Find the average n value."
   ]
  },
  {
   "cell_type": "code",
   "execution_count": 188,
   "metadata": {},
   "outputs": [
    {
     "name": "stdout",
     "output_type": "stream",
     "text": [
      "+------------------+\n",
      "|            avg(n)|\n",
      "+------------------+\n",
      "|0.1456952492563032|\n",
      "+------------------+\n",
      "\n"
     ]
    }
   ],
   "source": [
    "df.select(avg(df.n)).show()"
   ]
  },
  {
   "cell_type": "markdown",
   "metadata": {},
   "source": [
    "Use concat to change the group column to say, e.g. \"Group: x\" or \"Group: y\""
   ]
  },
  {
   "cell_type": "code",
   "execution_count": 192,
   "metadata": {},
   "outputs": [
    {
     "data": {
      "text/plain": [
       "[('n', 'double'), ('group', 'string'), ('abool', 'boolean')]"
      ]
     },
     "execution_count": 192,
     "metadata": {},
     "output_type": "execute_result"
    }
   ],
   "source": [
    "df.dtypes"
   ]
  },
  {
   "cell_type": "code",
   "execution_count": 223,
   "metadata": {},
   "outputs": [
    {
     "name": "stdout",
     "output_type": "stream",
     "text": [
      "+-------------------------+\n",
      "|concat(Group: , group, n)|\n",
      "+-------------------------+\n",
      "|     Group: x0.6180724...|\n",
      "|     Group: y1.5595634...|\n",
      "|     Group: x0.0884890...|\n",
      "|     Group: z0.4273262...|\n",
      "|     Group: y-1.650157...|\n",
      "+-------------------------+\n",
      "only showing top 5 rows\n",
      "\n"
     ]
    }
   ],
   "source": [
    "df.select(concat(lit('Group: '), df.group, df.n)).show(5)"
   ]
  },
  {
   "cell_type": "markdown",
   "metadata": {},
   "source": [
    "Use concat to combine the n and group columns to produce results that look like this: \"x: -1.432\" or \"z: 2.352\""
   ]
  },
  {
   "cell_type": "code",
   "execution_count": 232,
   "metadata": {},
   "outputs": [
    {
     "name": "stdout",
     "output_type": "stream",
     "text": [
      "+------------------------------+\n",
      "|concat(group, : , round(n, 4))|\n",
      "+------------------------------+\n",
      "|                     x: 0.6181|\n",
      "|                     y: 1.5596|\n",
      "|                     x: 0.0885|\n",
      "|                     z: 0.4273|\n",
      "|                    y: -1.6502|\n",
      "+------------------------------+\n",
      "only showing top 5 rows\n",
      "\n"
     ]
    }
   ],
   "source": [
    "df.select(concat(df.group, lit(': '), round(df.n,4))).show(5)"
   ]
  },
  {
   "cell_type": "code",
   "execution_count": 233,
   "metadata": {},
   "outputs": [
    {
     "data": {
      "text/plain": [
       "<function min>"
      ]
     },
     "execution_count": 233,
     "metadata": {},
     "output_type": "execute_result"
    }
   ],
   "source": [
    "# brings back python function\n",
    "__builtins__.min"
   ]
  },
  {
   "cell_type": "markdown",
   "metadata": {},
   "source": [
    "### Filter / Where"
   ]
  },
  {
   "cell_type": "markdown",
   "metadata": {},
   "source": [
    "Use the starter code above to re-create a spark dataframe."
   ]
  },
  {
   "cell_type": "code",
   "execution_count": 256,
   "metadata": {},
   "outputs": [],
   "source": [
    "df = get_spark_df()"
   ]
  },
  {
   "cell_type": "code",
   "execution_count": 257,
   "metadata": {},
   "outputs": [
    {
     "name": "stdout",
     "output_type": "stream",
     "text": [
      "+--------------------+-----+-----+\n",
      "|                   n|group|abool|\n",
      "+--------------------+-----+-----+\n",
      "|  -2.189255677256909|    x| true|\n",
      "|  0.7792879642830198|    z| true|\n",
      "|  1.7713213340300555|    z| true|\n",
      "| 0.25342639179802234|    y|false|\n",
      "|  1.2815245408626927|    z| true|\n",
      "| -0.5688468753615556|    y| true|\n",
      "| 0.38815246633294165|    x|false|\n",
      "|  1.0756401379960592|    z|false|\n",
      "| -0.8221570432271401|    x| true|\n",
      "|0.015754043296743934|    y| true|\n",
      "| 0.25520720692482063|    z|false|\n",
      "| -1.9621359046947628|    z| true|\n",
      "|   -2.39711796122652|    z| true|\n",
      "| 0.23205347766906897|    z|false|\n",
      "|-0.38184026655704945|    y|false|\n",
      "| -0.6025177495170069|    z| true|\n",
      "|-0.27840752015171905|    x| true|\n",
      "| 0.20455949170327647|    x| true|\n",
      "|  1.2997907260799548|    x| true|\n",
      "|-0.37511470030507577|    y| true|\n",
      "+--------------------+-----+-----+\n",
      "\n"
     ]
    }
   ],
   "source": [
    "df.show()"
   ]
  },
  {
   "cell_type": "markdown",
   "metadata": {},
   "source": [
    "Use .filter or .where to select just the rows where the group is y and view the results."
   ]
  },
  {
   "cell_type": "code",
   "execution_count": 265,
   "metadata": {},
   "outputs": [
    {
     "name": "stdout",
     "output_type": "stream",
     "text": [
      "+--------------------+-----+-----+\n",
      "|                   n|group|abool|\n",
      "+--------------------+-----+-----+\n",
      "| 0.25342639179802234|    y|false|\n",
      "| -0.5688468753615556|    y| true|\n",
      "|0.015754043296743934|    y| true|\n",
      "|-0.38184026655704945|    y|false|\n",
      "|-0.37511470030507577|    y| true|\n",
      "+--------------------+-----+-----+\n",
      "\n"
     ]
    }
   ],
   "source": [
    "df.where(df.group == 'y').show()"
   ]
  },
  {
   "cell_type": "code",
   "execution_count": 266,
   "metadata": {},
   "outputs": [
    {
     "name": "stdout",
     "output_type": "stream",
     "text": [
      "+--------------------+-----+-----+\n",
      "|                   n|group|abool|\n",
      "+--------------------+-----+-----+\n",
      "| 0.25342639179802234|    y|false|\n",
      "| -0.5688468753615556|    y| true|\n",
      "|0.015754043296743934|    y| true|\n",
      "|-0.38184026655704945|    y|false|\n",
      "|-0.37511470030507577|    y| true|\n",
      "+--------------------+-----+-----+\n",
      "\n"
     ]
    }
   ],
   "source": [
    "df.filter(df.group == 'y').show()"
   ]
  },
  {
   "cell_type": "markdown",
   "metadata": {},
   "source": [
    "Select just the columns where the abool column is false and view the results."
   ]
  },
  {
   "cell_type": "code",
   "execution_count": 269,
   "metadata": {},
   "outputs": [
    {
     "name": "stdout",
     "output_type": "stream",
     "text": [
      "+--------------------+-----+-----+\n",
      "|                   n|group|abool|\n",
      "+--------------------+-----+-----+\n",
      "| 0.25342639179802234|    y|false|\n",
      "| 0.38815246633294165|    x|false|\n",
      "|  1.0756401379960592|    z|false|\n",
      "| 0.25520720692482063|    z|false|\n",
      "| 0.23205347766906897|    z|false|\n",
      "|-0.38184026655704945|    y|false|\n",
      "+--------------------+-----+-----+\n",
      "\n"
     ]
    }
   ],
   "source": [
    "df.where(df.abool == 'false').show()"
   ]
  },
  {
   "cell_type": "markdown",
   "metadata": {},
   "source": [
    "Find the columns where the group column is not y."
   ]
  },
  {
   "cell_type": "code",
   "execution_count": 273,
   "metadata": {},
   "outputs": [
    {
     "name": "stdout",
     "output_type": "stream",
     "text": [
      "+--------------------+-----+-----+\n",
      "|                   n|group|abool|\n",
      "+--------------------+-----+-----+\n",
      "|  -2.189255677256909|    x| true|\n",
      "|  0.7792879642830198|    z| true|\n",
      "|  1.7713213340300555|    z| true|\n",
      "|  1.2815245408626927|    z| true|\n",
      "| 0.38815246633294165|    x|false|\n",
      "|  1.0756401379960592|    z|false|\n",
      "| -0.8221570432271401|    x| true|\n",
      "| 0.25520720692482063|    z|false|\n",
      "| -1.9621359046947628|    z| true|\n",
      "|   -2.39711796122652|    z| true|\n",
      "| 0.23205347766906897|    z|false|\n",
      "| -0.6025177495170069|    z| true|\n",
      "|-0.27840752015171905|    x| true|\n",
      "| 0.20455949170327647|    x| true|\n",
      "|  1.2997907260799548|    x| true|\n",
      "+--------------------+-----+-----+\n",
      "\n"
     ]
    }
   ],
   "source": [
    "df.where(df.group != 'y').show()"
   ]
  },
  {
   "cell_type": "markdown",
   "metadata": {},
   "source": [
    "Find the columns where n is positive."
   ]
  },
  {
   "cell_type": "code",
   "execution_count": 275,
   "metadata": {},
   "outputs": [
    {
     "name": "stdout",
     "output_type": "stream",
     "text": [
      "+--------------------+-----+-----+\n",
      "|                   n|group|abool|\n",
      "+--------------------+-----+-----+\n",
      "|  0.7792879642830198|    z| true|\n",
      "|  1.7713213340300555|    z| true|\n",
      "| 0.25342639179802234|    y|false|\n",
      "|  1.2815245408626927|    z| true|\n",
      "| 0.38815246633294165|    x|false|\n",
      "|  1.0756401379960592|    z|false|\n",
      "|0.015754043296743934|    y| true|\n",
      "| 0.25520720692482063|    z|false|\n",
      "| 0.23205347766906897|    z|false|\n",
      "| 0.20455949170327647|    x| true|\n",
      "|  1.2997907260799548|    x| true|\n",
      "+--------------------+-----+-----+\n",
      "\n"
     ]
    }
   ],
   "source": [
    "df.filter(df.n > 0).show()"
   ]
  },
  {
   "cell_type": "markdown",
   "metadata": {},
   "source": [
    "Find the columns where abool is true and the group column is z."
   ]
  },
  {
   "cell_type": "code",
   "execution_count": 279,
   "metadata": {},
   "outputs": [
    {
     "name": "stdout",
     "output_type": "stream",
     "text": [
      "+-------------------+-----+-----+\n",
      "|                  n|group|abool|\n",
      "+-------------------+-----+-----+\n",
      "| 0.7792879642830198|    z| true|\n",
      "| 1.7713213340300555|    z| true|\n",
      "| 1.2815245408626927|    z| true|\n",
      "|-1.9621359046947628|    z| true|\n",
      "|  -2.39711796122652|    z| true|\n",
      "|-0.6025177495170069|    z| true|\n",
      "+-------------------+-----+-----+\n",
      "\n"
     ]
    }
   ],
   "source": [
    "df.where((df.abool == True) & (df.group == 'z')).show()"
   ]
  },
  {
   "cell_type": "markdown",
   "metadata": {},
   "source": [
    "Find the columns where abool is true or the group column is z."
   ]
  },
  {
   "cell_type": "code",
   "execution_count": 282,
   "metadata": {},
   "outputs": [
    {
     "name": "stdout",
     "output_type": "stream",
     "text": [
      "+--------------------+-----+-----+\n",
      "|                   n|group|abool|\n",
      "+--------------------+-----+-----+\n",
      "|  -2.189255677256909|    x| true|\n",
      "|  0.7792879642830198|    z| true|\n",
      "|  1.7713213340300555|    z| true|\n",
      "|  1.2815245408626927|    z| true|\n",
      "| -0.5688468753615556|    y| true|\n",
      "|  1.0756401379960592|    z|false|\n",
      "| -0.8221570432271401|    x| true|\n",
      "|0.015754043296743934|    y| true|\n",
      "| 0.25520720692482063|    z|false|\n",
      "| -1.9621359046947628|    z| true|\n",
      "|   -2.39711796122652|    z| true|\n",
      "| 0.23205347766906897|    z|false|\n",
      "| -0.6025177495170069|    z| true|\n",
      "|-0.27840752015171905|    x| true|\n",
      "| 0.20455949170327647|    x| true|\n",
      "|  1.2997907260799548|    x| true|\n",
      "|-0.37511470030507577|    y| true|\n",
      "+--------------------+-----+-----+\n",
      "\n"
     ]
    }
   ],
   "source": [
    "df.where((df.abool == True) | (df.group == 'z')).show()"
   ]
  },
  {
   "cell_type": "markdown",
   "metadata": {},
   "source": [
    "Find the columns where abool is false and n is less than 1"
   ]
  },
  {
   "cell_type": "code",
   "execution_count": 292,
   "metadata": {},
   "outputs": [
    {
     "name": "stdout",
     "output_type": "stream",
     "text": [
      "+--------------------+-----+-----+\n",
      "|                   n|group|abool|\n",
      "+--------------------+-----+-----+\n",
      "| 0.25342639179802234|    y|false|\n",
      "| 0.38815246633294165|    x|false|\n",
      "| 0.25520720692482063|    z|false|\n",
      "| 0.23205347766906897|    z|false|\n",
      "|-0.38184026655704945|    y|false|\n",
      "+--------------------+-----+-----+\n",
      "\n"
     ]
    }
   ],
   "source": [
    "df.where((df.abool == False) & (df.n < 1)).show()"
   ]
  },
  {
   "cell_type": "markdown",
   "metadata": {},
   "source": [
    "Find the columns where abool is false or n is less than 1"
   ]
  },
  {
   "cell_type": "code",
   "execution_count": 295,
   "metadata": {},
   "outputs": [
    {
     "name": "stdout",
     "output_type": "stream",
     "text": [
      "+--------------------+-----+-----+\n",
      "|                   n|group|abool|\n",
      "+--------------------+-----+-----+\n",
      "|  -2.189255677256909|    x| true|\n",
      "|  0.7792879642830198|    z| true|\n",
      "| 0.25342639179802234|    y|false|\n",
      "| -0.5688468753615556|    y| true|\n",
      "| 0.38815246633294165|    x|false|\n",
      "|  1.0756401379960592|    z|false|\n",
      "| -0.8221570432271401|    x| true|\n",
      "|0.015754043296743934|    y| true|\n",
      "| 0.25520720692482063|    z|false|\n",
      "| -1.9621359046947628|    z| true|\n",
      "|   -2.39711796122652|    z| true|\n",
      "| 0.23205347766906897|    z|false|\n",
      "|-0.38184026655704945|    y|false|\n",
      "| -0.6025177495170069|    z| true|\n",
      "|-0.27840752015171905|    x| true|\n",
      "| 0.20455949170327647|    x| true|\n",
      "|-0.37511470030507577|    y| true|\n",
      "+--------------------+-----+-----+\n",
      "\n"
     ]
    }
   ],
   "source": [
    "df.where((df.abool == False) | (df.n <  1)).show()"
   ]
  },
  {
   "cell_type": "markdown",
   "metadata": {},
   "source": [
    "### When / Otherwise"
   ]
  },
  {
   "cell_type": "markdown",
   "metadata": {},
   "source": [
    "Use the starter code above to re-create a spark dataframe."
   ]
  },
  {
   "cell_type": "code",
   "execution_count": 235,
   "metadata": {},
   "outputs": [],
   "source": [
    "df = get_spark_df()"
   ]
  },
  {
   "cell_type": "code",
   "execution_count": 237,
   "metadata": {},
   "outputs": [
    {
     "name": "stdout",
     "output_type": "stream",
     "text": [
      "+--------------------+-----+-----+\n",
      "|                   n|group|abool|\n",
      "+--------------------+-----+-----+\n",
      "|-0.15194848359398466|    x|false|\n",
      "|  1.9731862809841352|    y| true|\n",
      "| -0.3657236961117782|    z| true|\n",
      "| -2.1173045970394284|    x|false|\n",
      "|-0.06732117041815606|    z| true|\n",
      "+--------------------+-----+-----+\n",
      "only showing top 5 rows\n",
      "\n"
     ]
    }
   ],
   "source": [
    "df.show(5)"
   ]
  },
  {
   "cell_type": "markdown",
   "metadata": {},
   "source": [
    "Use when and .otherwise to create a column that contains the text \"It is true\" when abool is true and \"It is false\"\" when abool is false."
   ]
  },
  {
   "cell_type": "code",
   "execution_count": 240,
   "metadata": {},
   "outputs": [],
   "source": [
    "from pyspark.sql.functions import when "
   ]
  },
  {
   "cell_type": "code",
   "execution_count": 247,
   "metadata": {},
   "outputs": [
    {
     "name": "stdout",
     "output_type": "stream",
     "text": [
      "+--------------+\n",
      "|abool sentence|\n",
      "+--------------+\n",
      "|   it is false|\n",
      "|    it is true|\n",
      "|    it is true|\n",
      "|   it is false|\n",
      "|    it is true|\n",
      "|    it is true|\n",
      "|    it is true|\n",
      "+--------------+\n",
      "only showing top 7 rows\n",
      "\n"
     ]
    }
   ],
   "source": [
    "df.select(\n",
    "    when(df.abool == True, 'it is true').otherwise('it is false').alias('abool sentence')\n",
    ").show(7)"
   ]
  },
  {
   "cell_type": "markdown",
   "metadata": {},
   "source": [
    "Create a column that contains 0 if n is less than 0, otherwise, the original n value."
   ]
  },
  {
   "cell_type": "code",
   "execution_count": 252,
   "metadata": {},
   "outputs": [
    {
     "name": "stdout",
     "output_type": "stream",
     "text": [
      "+-----------------------------------+\n",
      "|CASE WHEN (n < 0) THEN 0 ELSE n END|\n",
      "+-----------------------------------+\n",
      "|                                  0|\n",
      "|                 1.9731862809841352|\n",
      "|                                  0|\n",
      "|                                  0|\n",
      "|                                  0|\n",
      "|                                  0|\n",
      "|                   1.66432362653223|\n",
      "|                0.12115933901547443|\n",
      "|                                  0|\n",
      "|                                  0|\n",
      "+-----------------------------------+\n",
      "only showing top 10 rows\n",
      "\n"
     ]
    }
   ],
   "source": [
    "df.select(\n",
    "    when(df.n < 0, '0').otherwise(df.n)\n",
    "\n",
    ").show(10)"
   ]
  },
  {
   "cell_type": "markdown",
   "metadata": {},
   "source": [
    "### Sorting"
   ]
  },
  {
   "cell_type": "markdown",
   "metadata": {},
   "source": [
    "Use the starter code above to re-create a spark dataframe."
   ]
  },
  {
   "cell_type": "code",
   "execution_count": 296,
   "metadata": {},
   "outputs": [],
   "source": [
    "df = get_spark_df()"
   ]
  },
  {
   "cell_type": "code",
   "execution_count": 297,
   "metadata": {},
   "outputs": [
    {
     "name": "stdout",
     "output_type": "stream",
     "text": [
      "+--------------------+-----+-----+\n",
      "|                   n|group|abool|\n",
      "+--------------------+-----+-----+\n",
      "|-0.00823757039535...|    y| true|\n",
      "| -0.3205675975456409|    z| true|\n",
      "| 0.24874568866256042|    x|false|\n",
      "| -0.2767424867751073|    z| true|\n",
      "| -0.9287025943255013|    x|false|\n",
      "| 0.12465485894782875|    z|false|\n",
      "|  -1.519601776293713|    z| true|\n",
      "|  0.6695084349145038|    y| true|\n",
      "|  0.9898112579100314|    y| true|\n",
      "|  0.8909152648111035|    x| true|\n",
      "| -1.3646453420180849|    y|false|\n",
      "|-0.12288954839993375|    y|false|\n",
      "|  0.8662962472055104|    z| true|\n",
      "| 0.24721795304539568|    z| true|\n",
      "|  0.3338773158710832|    y|false|\n",
      "| 0.17317461742077497|    x| true|\n",
      "|  0.8239534920839428|    z|false|\n",
      "|-0.12455338515492656|    x| true|\n",
      "| -1.5923311691930744|    y| true|\n",
      "| 0.32353471469164996|    z|false|\n",
      "+--------------------+-----+-----+\n",
      "\n"
     ]
    }
   ],
   "source": [
    "df.show()"
   ]
  },
  {
   "cell_type": "markdown",
   "metadata": {},
   "source": [
    "Sort by the n value."
   ]
  },
  {
   "cell_type": "code",
   "execution_count": 300,
   "metadata": {},
   "outputs": [
    {
     "name": "stdout",
     "output_type": "stream",
     "text": [
      "+--------------------+-----+-----+\n",
      "|                   n|group|abool|\n",
      "+--------------------+-----+-----+\n",
      "| -1.5923311691930744|    y| true|\n",
      "|  -1.519601776293713|    z| true|\n",
      "| -1.3646453420180849|    y|false|\n",
      "| -0.9287025943255013|    x|false|\n",
      "| -0.3205675975456409|    z| true|\n",
      "| -0.2767424867751073|    z| true|\n",
      "|-0.12455338515492656|    x| true|\n",
      "|-0.12288954839993375|    y|false|\n",
      "|-0.00823757039535...|    y| true|\n",
      "| 0.12465485894782875|    z|false|\n",
      "| 0.17317461742077497|    x| true|\n",
      "| 0.24721795304539568|    z| true|\n",
      "| 0.24874568866256042|    x|false|\n",
      "| 0.32353471469164996|    z|false|\n",
      "|  0.3338773158710832|    y|false|\n",
      "|  0.6695084349145038|    y| true|\n",
      "|  0.8239534920839428|    z|false|\n",
      "|  0.8662962472055104|    z| true|\n",
      "|  0.8909152648111035|    x| true|\n",
      "|  0.9898112579100314|    y| true|\n",
      "+--------------------+-----+-----+\n",
      "\n"
     ]
    }
   ],
   "source": [
    "df.sort(df.n).show()"
   ]
  },
  {
   "cell_type": "markdown",
   "metadata": {},
   "source": [
    "Sort by the group value, both ascending and descending."
   ]
  },
  {
   "cell_type": "code",
   "execution_count": 306,
   "metadata": {},
   "outputs": [],
   "source": [
    "from pyspark.sql.functions import asc, desc"
   ]
  },
  {
   "cell_type": "code",
   "execution_count": 309,
   "metadata": {},
   "outputs": [
    {
     "name": "stdout",
     "output_type": "stream",
     "text": [
      "+--------------------+-----+-----+\n",
      "|                   n|group|abool|\n",
      "+--------------------+-----+-----+\n",
      "|  0.8909152648111035|    x| true|\n",
      "| 0.17317461742077497|    x| true|\n",
      "|-0.12455338515492656|    x| true|\n",
      "| 0.24874568866256042|    x|false|\n",
      "| -0.9287025943255013|    x|false|\n",
      "|  0.6695084349145038|    y| true|\n",
      "| -1.3646453420180849|    y|false|\n",
      "|  0.3338773158710832|    y|false|\n",
      "| -1.5923311691930744|    y| true|\n",
      "|  0.9898112579100314|    y| true|\n",
      "|-0.12288954839993375|    y|false|\n",
      "|-0.00823757039535...|    y| true|\n",
      "|  0.8662962472055104|    z| true|\n",
      "| 0.24721795304539568|    z| true|\n",
      "| 0.12465485894782875|    z|false|\n",
      "| -0.3205675975456409|    z| true|\n",
      "|  0.8239534920839428|    z|false|\n",
      "| 0.32353471469164996|    z|false|\n",
      "|  -1.519601776293713|    z| true|\n",
      "| -0.2767424867751073|    z| true|\n",
      "+--------------------+-----+-----+\n",
      "\n"
     ]
    }
   ],
   "source": [
    "df.sort(df.group).show()"
   ]
  },
  {
   "cell_type": "code",
   "execution_count": 310,
   "metadata": {},
   "outputs": [
    {
     "name": "stdout",
     "output_type": "stream",
     "text": [
      "+--------------------+-----+-----+\n",
      "|                   n|group|abool|\n",
      "+--------------------+-----+-----+\n",
      "| 0.32353471469164996|    z|false|\n",
      "| -0.3205675975456409|    z| true|\n",
      "|  0.8662962472055104|    z| true|\n",
      "| 0.24721795304539568|    z| true|\n",
      "|  0.8239534920839428|    z|false|\n",
      "| -0.2767424867751073|    z| true|\n",
      "| 0.12465485894782875|    z|false|\n",
      "|  -1.519601776293713|    z| true|\n",
      "|-0.00823757039535...|    y| true|\n",
      "|-0.12288954839993375|    y|false|\n",
      "|  0.6695084349145038|    y| true|\n",
      "| -1.5923311691930744|    y| true|\n",
      "| -1.3646453420180849|    y|false|\n",
      "|  0.3338773158710832|    y|false|\n",
      "|  0.9898112579100314|    y| true|\n",
      "| 0.24874568866256042|    x|false|\n",
      "| -0.9287025943255013|    x|false|\n",
      "| 0.17317461742077497|    x| true|\n",
      "|  0.8909152648111035|    x| true|\n",
      "|-0.12455338515492656|    x| true|\n",
      "+--------------------+-----+-----+\n",
      "\n"
     ]
    }
   ],
   "source": [
    "df.sort(df.group.desc()).show()"
   ]
  },
  {
   "cell_type": "markdown",
   "metadata": {},
   "source": [
    "Sort by the group value first, then, within each group, sort by n value."
   ]
  },
  {
   "cell_type": "code",
   "execution_count": 313,
   "metadata": {},
   "outputs": [
    {
     "name": "stdout",
     "output_type": "stream",
     "text": [
      "+--------------------+-----+-----+\n",
      "|                   n|group|abool|\n",
      "+--------------------+-----+-----+\n",
      "| -0.9287025943255013|    x|false|\n",
      "|-0.12455338515492656|    x| true|\n",
      "| 0.17317461742077497|    x| true|\n",
      "| 0.24874568866256042|    x|false|\n",
      "|  0.8909152648111035|    x| true|\n",
      "| -1.5923311691930744|    y| true|\n",
      "| -1.3646453420180849|    y|false|\n",
      "|-0.12288954839993375|    y|false|\n",
      "|-0.00823757039535...|    y| true|\n",
      "|  0.3338773158710832|    y|false|\n",
      "|  0.6695084349145038|    y| true|\n",
      "|  0.9898112579100314|    y| true|\n",
      "|  -1.519601776293713|    z| true|\n",
      "| -0.3205675975456409|    z| true|\n",
      "| -0.2767424867751073|    z| true|\n",
      "| 0.12465485894782875|    z|false|\n",
      "| 0.24721795304539568|    z| true|\n",
      "| 0.32353471469164996|    z|false|\n",
      "|  0.8239534920839428|    z|false|\n",
      "|  0.8662962472055104|    z| true|\n",
      "+--------------------+-----+-----+\n",
      "\n"
     ]
    }
   ],
   "source": [
    "df.sort('group', 'n').show()"
   ]
  },
  {
   "cell_type": "markdown",
   "metadata": {},
   "source": [
    "Sort by abool, group, and n. Does it matter in what order you specify the columns when sorting?"
   ]
  },
  {
   "cell_type": "code",
   "execution_count": 314,
   "metadata": {},
   "outputs": [
    {
     "name": "stdout",
     "output_type": "stream",
     "text": [
      "+--------------------+-----+-----+\n",
      "|                   n|group|abool|\n",
      "+--------------------+-----+-----+\n",
      "| -0.9287025943255013|    x|false|\n",
      "| 0.24874568866256042|    x|false|\n",
      "| -1.3646453420180849|    y|false|\n",
      "|-0.12288954839993375|    y|false|\n",
      "|  0.3338773158710832|    y|false|\n",
      "| 0.12465485894782875|    z|false|\n",
      "| 0.32353471469164996|    z|false|\n",
      "|  0.8239534920839428|    z|false|\n",
      "|-0.12455338515492656|    x| true|\n",
      "| 0.17317461742077497|    x| true|\n",
      "|  0.8909152648111035|    x| true|\n",
      "| -1.5923311691930744|    y| true|\n",
      "|-0.00823757039535...|    y| true|\n",
      "|  0.6695084349145038|    y| true|\n",
      "|  0.9898112579100314|    y| true|\n",
      "|  -1.519601776293713|    z| true|\n",
      "| -0.3205675975456409|    z| true|\n",
      "| -0.2767424867751073|    z| true|\n",
      "| 0.24721795304539568|    z| true|\n",
      "|  0.8662962472055104|    z| true|\n",
      "+--------------------+-----+-----+\n",
      "\n"
     ]
    }
   ],
   "source": [
    "df.sort('abool', 'group', 'n').show()"
   ]
  },
  {
   "cell_type": "markdown",
   "metadata": {},
   "source": [
    "### Aggregating"
   ]
  },
  {
   "cell_type": "markdown",
   "metadata": {},
   "source": [
    "What is the average n value for each group in the group column?"
   ]
  },
  {
   "cell_type": "code",
   "execution_count": 320,
   "metadata": {},
   "outputs": [],
   "source": [
    "from pyspark.sql.functions import avg"
   ]
  },
  {
   "cell_type": "code",
   "execution_count": 326,
   "metadata": {},
   "outputs": [
    {
     "name": "stdout",
     "output_type": "stream",
     "text": [
      "+-----+--------------------+\n",
      "|group|              avg(n)|\n",
      "+-----+--------------------+\n",
      "|    x| 0.05191591828280221|\n",
      "|    z|0.033593175669983266|\n",
      "|    y|-0.15641523161583284|\n",
      "+-----+--------------------+\n",
      "\n"
     ]
    }
   ],
   "source": [
    "df.groupby('group').agg(mean('n')).show()"
   ]
  },
  {
   "cell_type": "markdown",
   "metadata": {},
   "source": [
    "What is the maximum n value for each group in the group column?"
   ]
  },
  {
   "cell_type": "code",
   "execution_count": null,
   "metadata": {},
   "outputs": [],
   "source": []
  },
  {
   "cell_type": "markdown",
   "metadata": {},
   "source": [
    "What is the minimum n value by abool?"
   ]
  },
  {
   "cell_type": "code",
   "execution_count": null,
   "metadata": {},
   "outputs": [],
   "source": []
  },
  {
   "cell_type": "markdown",
   "metadata": {},
   "source": [
    "What is the average n value for each unique combination of the group and abool column?"
   ]
  },
  {
   "cell_type": "markdown",
   "metadata": {},
   "source": [
    "### Explain"
   ]
  },
  {
   "cell_type": "code",
   "execution_count": null,
   "metadata": {},
   "outputs": [],
   "source": []
  },
  {
   "cell_type": "markdown",
   "metadata": {},
   "source": [
    "### Joins"
   ]
  },
  {
   "cell_type": "code",
   "execution_count": null,
   "metadata": {},
   "outputs": [],
   "source": []
  }
 ],
 "metadata": {
  "kernelspec": {
   "display_name": "Python 3",
   "language": "python",
   "name": "python3"
  },
  "language_info": {
   "codemirror_mode": {
    "name": "ipython",
    "version": 3
   },
   "file_extension": ".py",
   "mimetype": "text/x-python",
   "name": "python",
   "nbconvert_exporter": "python",
   "pygments_lexer": "ipython3",
   "version": "3.7.3"
  },
  "toc": {
   "base_numbering": 1,
   "nav_menu": {},
   "number_sections": false,
   "sideBar": true,
   "skip_h1_title": true,
   "title_cell": "Table of Contents",
   "title_sidebar": "Contents",
   "toc_cell": false,
   "toc_position": {},
   "toc_section_display": true,
   "toc_window_display": false
  }
 },
 "nbformat": 4,
 "nbformat_minor": 2
}
