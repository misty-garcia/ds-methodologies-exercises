{
 "cells": [
  {
   "cell_type": "markdown",
   "metadata": {},
   "source": [
    "### Distributions Warmup\n",
    "It's another day at the office at Big Research Co ™. You look up from your laptop and see a woman in a lab coat standing in front of your desk.\n",
    "\n",
    "\"I need some help\" she says. \"We lost some subjects from the trial.\"\n",
    "\n",
    "She notices a curious look on your face. \"Not like that, they just ran away. We didn't lock the doors soon enough.\"\n",
    "\n",
    "\"Anyway, there's probably like a 70%, no maybe 80%, no, let's say 90% chance that a given subject will stick around, and I need to run the study again with 10, or 20 subjects. We need to gather enough data on them to justify the cost, so I need you to figure out what are the probabilities are that at least half of them stick around, only 1 person leaves, and that all the subjects stay.\"\n",
    "\n",
    "She sees you start to form another question and cuts you off.\n",
    "\n",
    "\"Don't ask. You really don't want to know.\"\n",
    "\n",
    "What probability distribution would you use to model the scenario outlined above?\n",
    "\n",
    "Calculate all the requested probabilities.\n",
    "\n",
    "Use all the possible combinations of subject count and chance that a subject will stay in the study. For example, at first calculate the chance that at least half of the subjects stay in the study if there is a 70% that each subject sticks around, and there are 10 subjects, then the probability that only one person leaves, then the probability that all the subjects stay.\n",
    "\n",
    "Bonus: visualize the requested probabilities.\n",
    "\n",
    "Hints\n",
    "- Use scipy.stats for this.\n",
    "- Each distribution has a cumulative density function that tells you the likelihood that a value falls at or below a given point.\n",
    "- Consider storing the results of your calculations in a data frame.\n",
    "- A fancy list comprehension or the itertools module can help you find all the possible combinations."
   ]
  },
  {
   "cell_type": "code",
   "execution_count": 114,
   "metadata": {},
   "outputs": [],
   "source": [
    "import pandas as pd\n",
    "import numpy as np\n",
    "from scipy import stats\n",
    "\n",
    "import matplotlib.pyplot as plt\n",
    "import seaborn as sns"
   ]
  },
  {
   "cell_type": "markdown",
   "metadata": {},
   "source": [
    "What probability distribution would you use to model the scenario outlined above?"
   ]
  },
  {
   "cell_type": "markdown",
   "metadata": {},
   "source": [
    "> binominal - given probability of success and have a discrete number of values"
   ]
  },
  {
   "cell_type": "code",
   "execution_count": 97,
   "metadata": {},
   "outputs": [
    {
     "name": "stdout",
     "output_type": "stream",
     "text": [
      "0.8497316674\n",
      "0.12106082100000007\n",
      "0.02824752489999998\n",
      "0.9672065024000001\n",
      "0.26843545600000035\n",
      "0.10737418240000005\n",
      "0.9983650626\n",
      "0.38742048900000037\n",
      "0.34867844010000004\n",
      "0.9520381026686565\n",
      "0.006839337111223874\n",
      "0.0007979226629761189\n",
      "0.997405172599326\n",
      "0.05764607523034236\n",
      "0.011529215046068481\n",
      "0.999992849095979\n",
      "0.27017034353459823\n",
      "0.12157665459056931\n"
     ]
    }
   ],
   "source": [
    "for n in [10, 20]:\n",
    "    for y in [.70, .80, .90]:\n",
    "            print(stats.binom(n,y).sf(n//2))\n",
    "            print(stats.binom(n,y).pmf(n-1))\n",
    "            print(stats.binom(n,y).pmf(n))"
   ]
  },
  {
   "cell_type": "code",
   "execution_count": 118,
   "metadata": {},
   "outputs": [],
   "source": [
    "def cal_probs(n, p):\n",
    "    return {\n",
    "        \"n_subjects\": n,\n",
    "        \"p(subjects_stay)\": p,\n",
    "        \"p(half_stay)\": stats.binom(n,p).sf(n//2),\n",
    "        \"p(one_leaves)\": stats.binom(n,p).pmf(n-1),\n",
    "        \"p(all_stay)\": stats.binom(n,p).pmf(n)\n",
    "    }"
   ]
  },
  {
   "cell_type": "code",
   "execution_count": 119,
   "metadata": {},
   "outputs": [
    {
     "data": {
      "text/html": [
       "<div>\n",
       "<style scoped>\n",
       "    .dataframe tbody tr th:only-of-type {\n",
       "        vertical-align: middle;\n",
       "    }\n",
       "\n",
       "    .dataframe tbody tr th {\n",
       "        vertical-align: top;\n",
       "    }\n",
       "\n",
       "    .dataframe thead th {\n",
       "        text-align: right;\n",
       "    }\n",
       "</style>\n",
       "<table border=\"1\" class=\"dataframe\">\n",
       "  <thead>\n",
       "    <tr style=\"text-align: right;\">\n",
       "      <th></th>\n",
       "      <th>n_subjects</th>\n",
       "      <th>p(subjects_stay)</th>\n",
       "      <th>p(half_stay)</th>\n",
       "      <th>p(one_leaves)</th>\n",
       "      <th>p(all_stay)</th>\n",
       "    </tr>\n",
       "  </thead>\n",
       "  <tbody>\n",
       "    <tr>\n",
       "      <th>0</th>\n",
       "      <td>10</td>\n",
       "      <td>0.7</td>\n",
       "      <td>0.849732</td>\n",
       "      <td>0.121061</td>\n",
       "      <td>0.028248</td>\n",
       "    </tr>\n",
       "    <tr>\n",
       "      <th>1</th>\n",
       "      <td>10</td>\n",
       "      <td>0.8</td>\n",
       "      <td>0.967207</td>\n",
       "      <td>0.268435</td>\n",
       "      <td>0.107374</td>\n",
       "    </tr>\n",
       "    <tr>\n",
       "      <th>2</th>\n",
       "      <td>10</td>\n",
       "      <td>0.9</td>\n",
       "      <td>0.998365</td>\n",
       "      <td>0.387420</td>\n",
       "      <td>0.348678</td>\n",
       "    </tr>\n",
       "    <tr>\n",
       "      <th>3</th>\n",
       "      <td>20</td>\n",
       "      <td>0.7</td>\n",
       "      <td>0.952038</td>\n",
       "      <td>0.006839</td>\n",
       "      <td>0.000798</td>\n",
       "    </tr>\n",
       "    <tr>\n",
       "      <th>4</th>\n",
       "      <td>20</td>\n",
       "      <td>0.8</td>\n",
       "      <td>0.997405</td>\n",
       "      <td>0.057646</td>\n",
       "      <td>0.011529</td>\n",
       "    </tr>\n",
       "    <tr>\n",
       "      <th>5</th>\n",
       "      <td>20</td>\n",
       "      <td>0.9</td>\n",
       "      <td>0.999993</td>\n",
       "      <td>0.270170</td>\n",
       "      <td>0.121577</td>\n",
       "    </tr>\n",
       "  </tbody>\n",
       "</table>\n",
       "</div>"
      ],
      "text/plain": [
       "   n_subjects  p(subjects_stay)  p(half_stay)  p(one_leaves)  p(all_stay)\n",
       "0          10               0.7      0.849732       0.121061     0.028248\n",
       "1          10               0.8      0.967207       0.268435     0.107374\n",
       "2          10               0.9      0.998365       0.387420     0.348678\n",
       "3          20               0.7      0.952038       0.006839     0.000798\n",
       "4          20               0.8      0.997405       0.057646     0.011529\n",
       "5          20               0.9      0.999993       0.270170     0.121577"
      ]
     },
     "execution_count": 119,
     "metadata": {},
     "output_type": "execute_result"
    }
   ],
   "source": [
    "df = pd.DataFrame([cal_probs(n,p) for n in [10,20] for p in [.70, .80, .90]])\n",
    "df"
   ]
  },
  {
   "cell_type": "code",
   "execution_count": null,
   "metadata": {},
   "outputs": [],
   "source": []
  }
 ],
 "metadata": {
  "kernelspec": {
   "display_name": "Python 3",
   "language": "python",
   "name": "python3"
  },
  "language_info": {
   "codemirror_mode": {
    "name": "ipython",
    "version": 3
   },
   "file_extension": ".py",
   "mimetype": "text/x-python",
   "name": "python",
   "nbconvert_exporter": "python",
   "pygments_lexer": "ipython3",
   "version": "3.7.3"
  },
  "toc": {
   "base_numbering": 1,
   "nav_menu": {},
   "number_sections": false,
   "sideBar": true,
   "skip_h1_title": true,
   "title_cell": "Table of Contents",
   "title_sidebar": "Contents",
   "toc_cell": false,
   "toc_position": {},
   "toc_section_display": true,
   "toc_window_display": false
  }
 },
 "nbformat": 4,
 "nbformat_minor": 2
}
