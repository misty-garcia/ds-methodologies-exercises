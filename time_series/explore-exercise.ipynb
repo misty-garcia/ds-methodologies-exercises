{
 "cells": [
  {
   "cell_type": "markdown",
   "metadata": {},
   "source": [
    "Remember to document your thoughts and any takeaways as you work through visualizations!\n",
    "\n",
    "Using your store items data you prepped in lesson 2 exercises:\n",
    "\n",
    "- Split your data into train and test using the sklearn.model_selection.TimeSeriesSplit method.\n",
    "- Validate your splits by plotting X_train and y_train.\n",
    "- Plot the weekly average & the 7-day moving average. Compare the 2 plots.\n",
    "- Plot the daily difference. Observe whether usage seems to vary drastically from day to day or has more of a smooth transition.\n",
    "- Plot a time series decomposition.\n",
    "- Create a lag plot (day over day).\n",
    "- Run a lag correlation.\n",
    "\n",
    "Using your OPS data you prepped in lesson 2 exercises:\n",
    "\n",
    "- Split your data into train and test using the percent cutoff method.\n",
    "- Validate your splits by plotting X_train and y_train.\n",
    "- Plot the weekly average & the 7-day moving average. Compare the 2 plots.\n",
    "- Group the electricity consumption time series by month of year, to explore annual seasonality.\n",
    "- Plot the daily difference. Observe whether usage seems to vary drastically from day to day or has more of a smooth transition.\n",
    "- Plot a time series decomposition. Takeaways?\n",
    "\n",
    "If time:\n",
    "- For each store I want to see how many items were sold over a period of time, for each item. Find a way to chart this. Hints: Subplots for the piece with the fewest distinct values (like store), x = time, y = count, color = item. If you have too many distinct items, you may need to plot the top n, while aggregating the others into an 'other' bucket.\n",
    "\n"
   ]
  },
  {
   "cell_type": "code",
   "execution_count": null,
   "metadata": {},
   "outputs": [],
   "source": []
  }
 ],
 "metadata": {
  "kernelspec": {
   "display_name": "Python 3",
   "language": "python",
   "name": "python3"
  },
  "language_info": {
   "codemirror_mode": {
    "name": "ipython",
    "version": 3
   },
   "file_extension": ".py",
   "mimetype": "text/x-python",
   "name": "python",
   "nbconvert_exporter": "python",
   "pygments_lexer": "ipython3",
   "version": "3.7.3"
  }
 },
 "nbformat": 4,
 "nbformat_minor": 2
}
