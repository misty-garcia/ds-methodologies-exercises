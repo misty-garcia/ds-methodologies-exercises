{
 "cells": [
  {
   "cell_type": "markdown",
   "metadata": {},
   "source": [
    "For all of the datasets below, examine the data types of each column, ensure that the dates are in the proper format, and set the dataframe's index to the date column as appropriate.\n",
    "\n",
    "For this exercise you'll need to install a library that will provide us access to some more datasets:\n",
    "\n",
    "pip install vega_datasets"
   ]
  },
  {
   "cell_type": "code",
   "execution_count": 431,
   "metadata": {},
   "outputs": [],
   "source": [
    "import pandas as pd\n",
    "import numpy as np\n",
    "import matplotlib.pyplot as plt \n",
    "\n",
    "from vega_datasets import data\n",
    "\n",
    "import warnings\n",
    "warnings.filterwarnings(\"ignore\")\n"
   ]
  },
  {
   "cell_type": "code",
   "execution_count": 385,
   "metadata": {},
   "outputs": [],
   "source": [
    "df = data.sf_temps()"
   ]
  },
  {
   "cell_type": "markdown",
   "metadata": {},
   "source": [
    "from vega_datsets import data\n",
    "\n",
    "\n",
    "data.sf_temps()\n",
    "\n",
    "Use the above dataset for the exercises below:\n",
    "\n",
    "- Resample by the day and take the average temperature. Visualize the average temperature over time.\n",
    "- Write the code necessary to visualize the minimum temperature over time.\n",
    "- Write the code necessary to visualize the maximum temperature over time.\n",
    "- Which month is the coldest, on average?\n",
    "- Which month has the highest average temperature?\n",
    "- Resample by the day and calculate the min and max temp for the day (Hint: .agg(['min', 'max'])). Use this resampled dataframe to calculate the change in temperature for the day. Which month has the highest daily temperature variability?\n",
    "- Bonus: Visualize the daily min, average, and max temperature over time on a single line plot, i.e. the min, average, and maximum temperature should be 3 seperate lines."
   ]
  },
  {
   "cell_type": "code",
   "execution_count": 4,
   "metadata": {},
   "outputs": [
    {
     "data": {
      "text/plain": [
       "(8759, 2)"
      ]
     },
     "execution_count": 4,
     "metadata": {},
     "output_type": "execute_result"
    }
   ],
   "source": [
    "df.shape"
   ]
  },
  {
   "cell_type": "code",
   "execution_count": 386,
   "metadata": {},
   "outputs": [],
   "source": [
    "df = df.set_index(\"date\")"
   ]
  },
  {
   "cell_type": "code",
   "execution_count": 13,
   "metadata": {},
   "outputs": [
    {
     "name": "stdout",
     "output_type": "stream",
     "text": [
      "<class 'pandas.core.frame.DataFrame'>\n",
      "DatetimeIndex: 8759 entries, 2010-01-01 00:00:00 to 2010-12-31 23:00:00\n",
      "Data columns (total 1 columns):\n",
      "temp    8759 non-null float64\n",
      "dtypes: float64(1)\n",
      "memory usage: 136.9 KB\n"
     ]
    }
   ],
   "source": [
    "df.info()"
   ]
  },
  {
   "cell_type": "markdown",
   "metadata": {},
   "source": [
    "##### Resample by the day and take the average temperature. Visualize the average temperature over time."
   ]
  },
  {
   "cell_type": "code",
   "execution_count": 18,
   "metadata": {},
   "outputs": [
    {
     "data": {
      "text/html": [
       "<div>\n",
       "<style scoped>\n",
       "    .dataframe tbody tr th:only-of-type {\n",
       "        vertical-align: middle;\n",
       "    }\n",
       "\n",
       "    .dataframe tbody tr th {\n",
       "        vertical-align: top;\n",
       "    }\n",
       "\n",
       "    .dataframe thead th {\n",
       "        text-align: right;\n",
       "    }\n",
       "</style>\n",
       "<table border=\"1\" class=\"dataframe\">\n",
       "  <thead>\n",
       "    <tr style=\"text-align: right;\">\n",
       "      <th></th>\n",
       "      <th>temp</th>\n",
       "    </tr>\n",
       "    <tr>\n",
       "      <th>date</th>\n",
       "      <th></th>\n",
       "    </tr>\n",
       "  </thead>\n",
       "  <tbody>\n",
       "    <tr>\n",
       "      <th>2010-01-01</th>\n",
       "      <td>49.170833</td>\n",
       "    </tr>\n",
       "    <tr>\n",
       "      <th>2010-01-02</th>\n",
       "      <td>49.304167</td>\n",
       "    </tr>\n",
       "    <tr>\n",
       "      <th>2010-01-03</th>\n",
       "      <td>49.391667</td>\n",
       "    </tr>\n",
       "    <tr>\n",
       "      <th>2010-01-04</th>\n",
       "      <td>49.445833</td>\n",
       "    </tr>\n",
       "    <tr>\n",
       "      <th>2010-01-05</th>\n",
       "      <td>49.491667</td>\n",
       "    </tr>\n",
       "    <tr>\n",
       "      <th>2010-01-06</th>\n",
       "      <td>49.529167</td>\n",
       "    </tr>\n",
       "    <tr>\n",
       "      <th>2010-01-07</th>\n",
       "      <td>49.466667</td>\n",
       "    </tr>\n",
       "    <tr>\n",
       "      <th>2010-01-08</th>\n",
       "      <td>49.475000</td>\n",
       "    </tr>\n",
       "    <tr>\n",
       "      <th>2010-01-09</th>\n",
       "      <td>49.537500</td>\n",
       "    </tr>\n",
       "    <tr>\n",
       "      <th>2010-01-10</th>\n",
       "      <td>49.604167</td>\n",
       "    </tr>\n",
       "    <tr>\n",
       "      <th>2010-01-11</th>\n",
       "      <td>49.675000</td>\n",
       "    </tr>\n",
       "    <tr>\n",
       "      <th>2010-01-12</th>\n",
       "      <td>49.733333</td>\n",
       "    </tr>\n",
       "    <tr>\n",
       "      <th>2010-01-13</th>\n",
       "      <td>49.762500</td>\n",
       "    </tr>\n",
       "    <tr>\n",
       "      <th>2010-01-14</th>\n",
       "      <td>49.866667</td>\n",
       "    </tr>\n",
       "    <tr>\n",
       "      <th>2010-01-15</th>\n",
       "      <td>49.908333</td>\n",
       "    </tr>\n",
       "    <tr>\n",
       "      <th>2010-01-16</th>\n",
       "      <td>49.908333</td>\n",
       "    </tr>\n",
       "    <tr>\n",
       "      <th>2010-01-17</th>\n",
       "      <td>49.950000</td>\n",
       "    </tr>\n",
       "    <tr>\n",
       "      <th>2010-01-18</th>\n",
       "      <td>49.962500</td>\n",
       "    </tr>\n",
       "    <tr>\n",
       "      <th>2010-01-19</th>\n",
       "      <td>50.062500</td>\n",
       "    </tr>\n",
       "    <tr>\n",
       "      <th>2010-01-20</th>\n",
       "      <td>50.137500</td>\n",
       "    </tr>\n",
       "    <tr>\n",
       "      <th>2010-01-21</th>\n",
       "      <td>50.170833</td>\n",
       "    </tr>\n",
       "    <tr>\n",
       "      <th>2010-01-22</th>\n",
       "      <td>50.308333</td>\n",
       "    </tr>\n",
       "    <tr>\n",
       "      <th>2010-01-23</th>\n",
       "      <td>50.354167</td>\n",
       "    </tr>\n",
       "    <tr>\n",
       "      <th>2010-01-24</th>\n",
       "      <td>50.350000</td>\n",
       "    </tr>\n",
       "    <tr>\n",
       "      <th>2010-01-25</th>\n",
       "      <td>50.404167</td>\n",
       "    </tr>\n",
       "    <tr>\n",
       "      <th>2010-01-26</th>\n",
       "      <td>50.495833</td>\n",
       "    </tr>\n",
       "    <tr>\n",
       "      <th>2010-01-27</th>\n",
       "      <td>50.583333</td>\n",
       "    </tr>\n",
       "    <tr>\n",
       "      <th>2010-01-28</th>\n",
       "      <td>50.720833</td>\n",
       "    </tr>\n",
       "    <tr>\n",
       "      <th>2010-01-29</th>\n",
       "      <td>50.808333</td>\n",
       "    </tr>\n",
       "    <tr>\n",
       "      <th>2010-01-30</th>\n",
       "      <td>50.891667</td>\n",
       "    </tr>\n",
       "    <tr>\n",
       "      <th>...</th>\n",
       "      <td>...</td>\n",
       "    </tr>\n",
       "    <tr>\n",
       "      <th>2010-12-02</th>\n",
       "      <td>52.391667</td>\n",
       "    </tr>\n",
       "    <tr>\n",
       "      <th>2010-12-03</th>\n",
       "      <td>52.337500</td>\n",
       "    </tr>\n",
       "    <tr>\n",
       "      <th>2010-12-04</th>\n",
       "      <td>52.279167</td>\n",
       "    </tr>\n",
       "    <tr>\n",
       "      <th>2010-12-05</th>\n",
       "      <td>52.183333</td>\n",
       "    </tr>\n",
       "    <tr>\n",
       "      <th>2010-12-06</th>\n",
       "      <td>52.104167</td>\n",
       "    </tr>\n",
       "    <tr>\n",
       "      <th>2010-12-07</th>\n",
       "      <td>51.987500</td>\n",
       "    </tr>\n",
       "    <tr>\n",
       "      <th>2010-12-08</th>\n",
       "      <td>51.875000</td>\n",
       "    </tr>\n",
       "    <tr>\n",
       "      <th>2010-12-09</th>\n",
       "      <td>51.737500</td>\n",
       "    </tr>\n",
       "    <tr>\n",
       "      <th>2010-12-10</th>\n",
       "      <td>51.579167</td>\n",
       "    </tr>\n",
       "    <tr>\n",
       "      <th>2010-12-11</th>\n",
       "      <td>51.445833</td>\n",
       "    </tr>\n",
       "    <tr>\n",
       "      <th>2010-12-12</th>\n",
       "      <td>51.320833</td>\n",
       "    </tr>\n",
       "    <tr>\n",
       "      <th>2010-12-13</th>\n",
       "      <td>51.125000</td>\n",
       "    </tr>\n",
       "    <tr>\n",
       "      <th>2010-12-14</th>\n",
       "      <td>50.875000</td>\n",
       "    </tr>\n",
       "    <tr>\n",
       "      <th>2010-12-15</th>\n",
       "      <td>50.608333</td>\n",
       "    </tr>\n",
       "    <tr>\n",
       "      <th>2010-12-16</th>\n",
       "      <td>50.325000</td>\n",
       "    </tr>\n",
       "    <tr>\n",
       "      <th>2010-12-17</th>\n",
       "      <td>50.041667</td>\n",
       "    </tr>\n",
       "    <tr>\n",
       "      <th>2010-12-18</th>\n",
       "      <td>49.779167</td>\n",
       "    </tr>\n",
       "    <tr>\n",
       "      <th>2010-12-19</th>\n",
       "      <td>49.591667</td>\n",
       "    </tr>\n",
       "    <tr>\n",
       "      <th>2010-12-20</th>\n",
       "      <td>49.441667</td>\n",
       "    </tr>\n",
       "    <tr>\n",
       "      <th>2010-12-21</th>\n",
       "      <td>49.316667</td>\n",
       "    </tr>\n",
       "    <tr>\n",
       "      <th>2010-12-22</th>\n",
       "      <td>49.175000</td>\n",
       "    </tr>\n",
       "    <tr>\n",
       "      <th>2010-12-23</th>\n",
       "      <td>49.137500</td>\n",
       "    </tr>\n",
       "    <tr>\n",
       "      <th>2010-12-24</th>\n",
       "      <td>49.125000</td>\n",
       "    </tr>\n",
       "    <tr>\n",
       "      <th>2010-12-25</th>\n",
       "      <td>49.112500</td>\n",
       "    </tr>\n",
       "    <tr>\n",
       "      <th>2010-12-26</th>\n",
       "      <td>49.025000</td>\n",
       "    </tr>\n",
       "    <tr>\n",
       "      <th>2010-12-27</th>\n",
       "      <td>48.991667</td>\n",
       "    </tr>\n",
       "    <tr>\n",
       "      <th>2010-12-28</th>\n",
       "      <td>49.000000</td>\n",
       "    </tr>\n",
       "    <tr>\n",
       "      <th>2010-12-29</th>\n",
       "      <td>49.012500</td>\n",
       "    </tr>\n",
       "    <tr>\n",
       "      <th>2010-12-30</th>\n",
       "      <td>49.012500</td>\n",
       "    </tr>\n",
       "    <tr>\n",
       "      <th>2010-12-31</th>\n",
       "      <td>49.116667</td>\n",
       "    </tr>\n",
       "  </tbody>\n",
       "</table>\n",
       "<p>365 rows × 1 columns</p>\n",
       "</div>"
      ],
      "text/plain": [
       "                 temp\n",
       "date                 \n",
       "2010-01-01  49.170833\n",
       "2010-01-02  49.304167\n",
       "2010-01-03  49.391667\n",
       "2010-01-04  49.445833\n",
       "2010-01-05  49.491667\n",
       "2010-01-06  49.529167\n",
       "2010-01-07  49.466667\n",
       "2010-01-08  49.475000\n",
       "2010-01-09  49.537500\n",
       "2010-01-10  49.604167\n",
       "2010-01-11  49.675000\n",
       "2010-01-12  49.733333\n",
       "2010-01-13  49.762500\n",
       "2010-01-14  49.866667\n",
       "2010-01-15  49.908333\n",
       "2010-01-16  49.908333\n",
       "2010-01-17  49.950000\n",
       "2010-01-18  49.962500\n",
       "2010-01-19  50.062500\n",
       "2010-01-20  50.137500\n",
       "2010-01-21  50.170833\n",
       "2010-01-22  50.308333\n",
       "2010-01-23  50.354167\n",
       "2010-01-24  50.350000\n",
       "2010-01-25  50.404167\n",
       "2010-01-26  50.495833\n",
       "2010-01-27  50.583333\n",
       "2010-01-28  50.720833\n",
       "2010-01-29  50.808333\n",
       "2010-01-30  50.891667\n",
       "...               ...\n",
       "2010-12-02  52.391667\n",
       "2010-12-03  52.337500\n",
       "2010-12-04  52.279167\n",
       "2010-12-05  52.183333\n",
       "2010-12-06  52.104167\n",
       "2010-12-07  51.987500\n",
       "2010-12-08  51.875000\n",
       "2010-12-09  51.737500\n",
       "2010-12-10  51.579167\n",
       "2010-12-11  51.445833\n",
       "2010-12-12  51.320833\n",
       "2010-12-13  51.125000\n",
       "2010-12-14  50.875000\n",
       "2010-12-15  50.608333\n",
       "2010-12-16  50.325000\n",
       "2010-12-17  50.041667\n",
       "2010-12-18  49.779167\n",
       "2010-12-19  49.591667\n",
       "2010-12-20  49.441667\n",
       "2010-12-21  49.316667\n",
       "2010-12-22  49.175000\n",
       "2010-12-23  49.137500\n",
       "2010-12-24  49.125000\n",
       "2010-12-25  49.112500\n",
       "2010-12-26  49.025000\n",
       "2010-12-27  48.991667\n",
       "2010-12-28  49.000000\n",
       "2010-12-29  49.012500\n",
       "2010-12-30  49.012500\n",
       "2010-12-31  49.116667\n",
       "\n",
       "[365 rows x 1 columns]"
      ]
     },
     "execution_count": 18,
     "metadata": {},
     "output_type": "execute_result"
    }
   ],
   "source": [
    "df.resample(\"D\").mean()"
   ]
  },
  {
   "cell_type": "code",
   "execution_count": 22,
   "metadata": {},
   "outputs": [
    {
     "data": {
      "image/png": "[encoded data removed]",
      "text/plain": [
       "<Figure size 432x288 with 1 Axes>"
      ]
     },
     "metadata": {
      "needs_background": "light"
     },
     "output_type": "display_data"
    }
   ],
   "source": [
    "df.resample(\"D\").mean().plot()\n",
    "plt.show()"
   ]
  },
  {
   "cell_type": "markdown",
   "metadata": {},
   "source": [
    "##### Write the code necessary to visualize the minimum temperature over time."
   ]
  },
  {
   "cell_type": "code",
   "execution_count": 37,
   "metadata": {},
   "outputs": [
    {
     "data": {
      "image/png": "[encoded data removed]",
      "text/plain": [
       "<Figure size 432x288 with 1 Axes>"
      ]
     },
     "metadata": {
      "needs_background": "light"
     },
     "output_type": "display_data"
    }
   ],
   "source": [
    "df.resample(\"D\").min().plot()\n",
    "plt.show()"
   ]
  },
  {
   "cell_type": "markdown",
   "metadata": {},
   "source": [
    "##### Write the code necessary to visualize the maximum temperature over time.\n"
   ]
  },
  {
   "cell_type": "code",
   "execution_count": 193,
   "metadata": {},
   "outputs": [
    {
     "data": {
      "image/png": "[encoded data removed]",
      "text/plain": [
       "<Figure size 432x288 with 1 Axes>"
      ]
     },
     "metadata": {
      "needs_background": "light"
     },
     "output_type": "display_data"
    }
   ],
   "source": [
    "ax = df.resample(\"D\").max().plot()\n",
    "max_temp = df.resample(\"D\").max().temp.max()\n",
    "ax.axhline(max_temp, color=\"r\", ls=\"--\")\n",
    "plt.show()"
   ]
  },
  {
   "cell_type": "markdown",
   "metadata": {},
   "source": [
    "##### Which month is the coldest, on average?\n"
   ]
  },
  {
   "cell_type": "code",
   "execution_count": 403,
   "metadata": {},
   "outputs": [
    {
     "data": {
      "text/plain": [
       "date\n",
       "2010-01-31    49.98414\n",
       "Name: temp, dtype: float64"
      ]
     },
     "execution_count": 403,
     "metadata": {},
     "output_type": "execute_result"
    }
   ],
   "source": [
    "# df\n",
    "df.resample(\"M\").mean().temp.sort_values().head(1)\n",
    "# df.resample(\"M\").mean() == df.resample(\"M\").mean().min()\n",
    "# df.resample(\"M\").mean() [df.resample(\"M\").mean() == df.resample(\"M\").mean().min()[0]]\n"
   ]
  },
  {
   "cell_type": "markdown",
   "metadata": {},
   "source": [
    "##### Which month has the highest average temperature?"
   ]
  },
  {
   "cell_type": "code",
   "execution_count": 404,
   "metadata": {},
   "outputs": [
    {
     "data": {
      "text/plain": [
       "date\n",
       "2010-09-30    62.487083\n",
       "Name: temp, dtype: float64"
      ]
     },
     "execution_count": 404,
     "metadata": {},
     "output_type": "execute_result"
    }
   ],
   "source": [
    "df.resample(\"M\").mean().temp.sort_values().tail(1)\n",
    "# df.resample(\"M\").mean().temp.sort_values().idxmax()"
   ]
  },
  {
   "cell_type": "markdown",
   "metadata": {},
   "source": [
    "##### Resample by the day and calculate the min and max temp for the day (Hint: .agg(['min', 'max'])). Use this resampled dataframe to calculate the change in temperature for the day. Which month has the highest daily temperature variability?"
   ]
  },
  {
   "cell_type": "code",
   "execution_count": 197,
   "metadata": {},
   "outputs": [
    {
     "data": {
      "text/html": [
       "<div>\n",
       "<style scoped>\n",
       "    .dataframe tbody tr th:only-of-type {\n",
       "        vertical-align: middle;\n",
       "    }\n",
       "\n",
       "    .dataframe tbody tr th {\n",
       "        vertical-align: top;\n",
       "    }\n",
       "\n",
       "    .dataframe thead tr th {\n",
       "        text-align: left;\n",
       "    }\n",
       "\n",
       "    .dataframe thead tr:last-of-type th {\n",
       "        text-align: right;\n",
       "    }\n",
       "</style>\n",
       "<table border=\"1\" class=\"dataframe\">\n",
       "  <thead>\n",
       "    <tr>\n",
       "      <th></th>\n",
       "      <th colspan=\"2\" halign=\"left\">temp</th>\n",
       "    </tr>\n",
       "    <tr>\n",
       "      <th></th>\n",
       "      <th>min</th>\n",
       "      <th>max</th>\n",
       "    </tr>\n",
       "    <tr>\n",
       "      <th>date</th>\n",
       "      <th></th>\n",
       "      <th></th>\n",
       "    </tr>\n",
       "  </thead>\n",
       "  <tbody>\n",
       "    <tr>\n",
       "      <th>2010-01-01</th>\n",
       "      <td>45.8</td>\n",
       "      <td>53.3</td>\n",
       "    </tr>\n",
       "    <tr>\n",
       "      <th>2010-01-02</th>\n",
       "      <td>46.0</td>\n",
       "      <td>53.4</td>\n",
       "    </tr>\n",
       "    <tr>\n",
       "      <th>2010-01-03</th>\n",
       "      <td>46.1</td>\n",
       "      <td>53.5</td>\n",
       "    </tr>\n",
       "    <tr>\n",
       "      <th>2010-01-04</th>\n",
       "      <td>46.1</td>\n",
       "      <td>53.6</td>\n",
       "    </tr>\n",
       "    <tr>\n",
       "      <th>2010-01-05</th>\n",
       "      <td>46.1</td>\n",
       "      <td>53.8</td>\n",
       "    </tr>\n",
       "  </tbody>\n",
       "</table>\n",
       "</div>"
      ],
      "text/plain": [
       "            temp      \n",
       "             min   max\n",
       "date                  \n",
       "2010-01-01  45.8  53.3\n",
       "2010-01-02  46.0  53.4\n",
       "2010-01-03  46.1  53.5\n",
       "2010-01-04  46.1  53.6\n",
       "2010-01-05  46.1  53.8"
      ]
     },
     "execution_count": 197,
     "metadata": {},
     "output_type": "execute_result"
    }
   ],
   "source": [
    "df_temp = df.resample(\"D\").agg([\"min\",\"max\"])\n",
    "df_temp.head()"
   ]
  },
  {
   "cell_type": "code",
   "execution_count": 198,
   "metadata": {},
   "outputs": [
    {
     "data": {
      "text/html": [
       "<div>\n",
       "<style scoped>\n",
       "    .dataframe tbody tr th:only-of-type {\n",
       "        vertical-align: middle;\n",
       "    }\n",
       "\n",
       "    .dataframe tbody tr th {\n",
       "        vertical-align: top;\n",
       "    }\n",
       "\n",
       "    .dataframe thead tr th {\n",
       "        text-align: left;\n",
       "    }\n",
       "\n",
       "    .dataframe thead tr:last-of-type th {\n",
       "        text-align: right;\n",
       "    }\n",
       "</style>\n",
       "<table border=\"1\" class=\"dataframe\">\n",
       "  <thead>\n",
       "    <tr>\n",
       "      <th></th>\n",
       "      <th colspan=\"2\" halign=\"left\">temp</th>\n",
       "      <th>change</th>\n",
       "    </tr>\n",
       "    <tr>\n",
       "      <th></th>\n",
       "      <th>min</th>\n",
       "      <th>max</th>\n",
       "      <th></th>\n",
       "    </tr>\n",
       "    <tr>\n",
       "      <th>date</th>\n",
       "      <th></th>\n",
       "      <th></th>\n",
       "      <th></th>\n",
       "    </tr>\n",
       "  </thead>\n",
       "  <tbody>\n",
       "    <tr>\n",
       "      <th>2010-01-01</th>\n",
       "      <td>45.8</td>\n",
       "      <td>53.3</td>\n",
       "      <td>7.5</td>\n",
       "    </tr>\n",
       "    <tr>\n",
       "      <th>2010-01-02</th>\n",
       "      <td>46.0</td>\n",
       "      <td>53.4</td>\n",
       "      <td>7.4</td>\n",
       "    </tr>\n",
       "    <tr>\n",
       "      <th>2010-01-03</th>\n",
       "      <td>46.1</td>\n",
       "      <td>53.5</td>\n",
       "      <td>7.4</td>\n",
       "    </tr>\n",
       "    <tr>\n",
       "      <th>2010-01-04</th>\n",
       "      <td>46.1</td>\n",
       "      <td>53.6</td>\n",
       "      <td>7.5</td>\n",
       "    </tr>\n",
       "    <tr>\n",
       "      <th>2010-01-05</th>\n",
       "      <td>46.1</td>\n",
       "      <td>53.8</td>\n",
       "      <td>7.7</td>\n",
       "    </tr>\n",
       "  </tbody>\n",
       "</table>\n",
       "</div>"
      ],
      "text/plain": [
       "            temp       change\n",
       "             min   max       \n",
       "date                         \n",
       "2010-01-01  45.8  53.3    7.5\n",
       "2010-01-02  46.0  53.4    7.4\n",
       "2010-01-03  46.1  53.5    7.4\n",
       "2010-01-04  46.1  53.6    7.5\n",
       "2010-01-05  46.1  53.8    7.7"
      ]
     },
     "execution_count": 198,
     "metadata": {},
     "output_type": "execute_result"
    }
   ],
   "source": [
    "df_temp[\"change\"] = df_temp[\"temp\"][\"max\"] - df_temp[\"temp\"][\"min\"]\n",
    "df_temp.head()"
   ]
  },
  {
   "cell_type": "code",
   "execution_count": 405,
   "metadata": {},
   "outputs": [
    {
     "data": {
      "text/plain": [
       "date\n",
       "2010-01-31      NaN\n",
       "2010-02-28      NaN\n",
       "2010-03-31      NaN\n",
       "2010-04-30      NaN\n",
       "2010-05-31      NaN\n",
       "2010-06-30      NaN\n",
       "2010-07-31    433.3\n",
       "2010-08-31      NaN\n",
       "2010-09-30      NaN\n",
       "2010-10-31      NaN\n",
       "2010-11-30      NaN\n",
       "2010-12-31      NaN\n",
       "Freq: M, Name: change, dtype: float64"
      ]
     },
     "execution_count": 405,
     "metadata": {},
     "output_type": "execute_result"
    }
   ],
   "source": [
    "df_temp.resample(\"M\").sum() [df_temp.resample(\"M\").sum() == df_temp.resample(\"M\").sum().change.max()].change"
   ]
  },
  {
   "cell_type": "markdown",
   "metadata": {},
   "source": [
    "##### Bonus: Visualize the daily min, average, and max temperature over time on a single line plot, i.e. the min, average, and maximum temperature should be 3 seperate lines."
   ]
  },
  {
   "cell_type": "code",
   "execution_count": 194,
   "metadata": {},
   "outputs": [
    {
     "data": {
      "image/png": "[encoded data removed]",
      "text/plain": [
       "<Figure size 432x288 with 1 Axes>"
      ]
     },
     "metadata": {
      "needs_background": "light"
     },
     "output_type": "display_data"
    }
   ],
   "source": [
    "ax = df.plot()\n",
    "df.resample('D').mean().plot(ax=ax)\n",
    "df.resample('D').min().plot(ax=ax)\n",
    "df.resample('D').max().plot(ax=ax)\n",
    "plt.show()"
   ]
  },
  {
   "cell_type": "markdown",
   "metadata": {},
   "source": [
    "from vega_datasets import data\n",
    "\n",
    "data.seattle_weather()\n",
    "\n",
    "Use the dataset to answer the following questions:\n",
    "\n",
    "- Which year and month combination has the highest amount of precipitation?\n",
    "- Visualize the amount of monthly precipitation over time.\n",
    "- Visualize the amount of wind over time. Choose a time interval you think is appropriate.\n",
    "- Which year-month combination is the windiest?\n",
    "- What's the sunniest year? (Hint: which day has the highest number of days where weather == sun?)\n",
    "- In which month does it rain the most?\n",
    "- Which month has the most number of days with a non-zero amount of precipitation?"
   ]
  },
  {
   "cell_type": "code",
   "execution_count": 407,
   "metadata": {},
   "outputs": [],
   "source": [
    "df = data.seattle_weather()"
   ]
  },
  {
   "cell_type": "code",
   "execution_count": 408,
   "metadata": {},
   "outputs": [
    {
     "name": "stdout",
     "output_type": "stream",
     "text": [
      "<class 'pandas.core.frame.DataFrame'>\n",
      "RangeIndex: 1461 entries, 0 to 1460\n",
      "Data columns (total 6 columns):\n",
      "date             1461 non-null datetime64[ns]\n",
      "precipitation    1461 non-null float64\n",
      "temp_max         1461 non-null float64\n",
      "temp_min         1461 non-null float64\n",
      "wind             1461 non-null float64\n",
      "weather          1461 non-null object\n",
      "dtypes: datetime64[ns](1), float64(4), object(1)\n",
      "memory usage: 68.6+ KB\n"
     ]
    }
   ],
   "source": [
    "df.info()"
   ]
  },
  {
   "cell_type": "code",
   "execution_count": 409,
   "metadata": {},
   "outputs": [],
   "source": [
    "df = df.set_index(\"date\")"
   ]
  },
  {
   "cell_type": "markdown",
   "metadata": {},
   "source": [
    "##### Which year and month combination has the highest amount of precipitation?"
   ]
  },
  {
   "cell_type": "code",
   "execution_count": 413,
   "metadata": {},
   "outputs": [
    {
     "data": {
      "text/plain": [
       "date\n",
       "2015-12-31    284.5\n",
       "Name: precipitation, dtype: float64"
      ]
     },
     "execution_count": 413,
     "metadata": {},
     "output_type": "execute_result"
    }
   ],
   "source": [
    "df.resample(\"M\").sum().precipitation.sort_values().tail(1)"
   ]
  },
  {
   "cell_type": "markdown",
   "metadata": {},
   "source": [
    "##### Visualize the amount of monthly precipitation over time."
   ]
  },
  {
   "cell_type": "code",
   "execution_count": 257,
   "metadata": {},
   "outputs": [
    {
     "data": {
      "image/png": "[encoded data removed]",
      "text/plain": [
       "<Figure size 432x288 with 1 Axes>"
      ]
     },
     "metadata": {
      "needs_background": "light"
     },
     "output_type": "display_data"
    }
   ],
   "source": [
    "df.resample(\"M\").sum().precipitation.plot()\n",
    "plt.show()"
   ]
  },
  {
   "cell_type": "markdown",
   "metadata": {},
   "source": [
    "##### Visualize the amount of wind over time. Choose a time interval you think is appropriate."
   ]
  },
  {
   "cell_type": "code",
   "execution_count": 416,
   "metadata": {},
   "outputs": [
    {
     "data": {
      "image/png": "[encoded data removed]",
      "text/plain": [
       "<Figure size 432x288 with 1 Axes>"
      ]
     },
     "metadata": {
      "needs_background": "light"
     },
     "output_type": "display_data"
    }
   ],
   "source": [
    "df.resample(\"M\").sum().wind.plot()\n",
    "plt.show()"
   ]
  },
  {
   "cell_type": "markdown",
   "metadata": {},
   "source": [
    "##### Which year-month combination is the windiest?"
   ]
  },
  {
   "cell_type": "code",
   "execution_count": 415,
   "metadata": {},
   "outputs": [
    {
     "data": {
      "text/plain": [
       "date\n",
       "2015-12-31    134.6\n",
       "Name: wind, dtype: float64"
      ]
     },
     "execution_count": 415,
     "metadata": {},
     "output_type": "execute_result"
    }
   ],
   "source": [
    "df.resample(\"M\").sum().wind.sort_values().tail(1)"
   ]
  },
  {
   "cell_type": "markdown",
   "metadata": {},
   "source": [
    "##### What's the sunniest year? (Hint: which day has the highest number of days where weather == sun?)"
   ]
  },
  {
   "cell_type": "code",
   "execution_count": 289,
   "metadata": {},
   "outputs": [
    {
     "data": {
      "text/plain": [
       "Int64Index([2014], dtype='int64', name='date')"
      ]
     },
     "execution_count": 289,
     "metadata": {},
     "output_type": "execute_result"
    }
   ],
   "source": [
    "df [df.weather == \"sun\"].resample(\"Y\").count().weather.sort_values().tail(1).index.year"
   ]
  },
  {
   "cell_type": "markdown",
   "metadata": {},
   "source": [
    "##### In which month does it rain the most?"
   ]
  },
  {
   "cell_type": "code",
   "execution_count": 365,
   "metadata": {},
   "outputs": [
    {
     "data": {
      "text/plain": [
       "date\n",
       "11    642.5\n",
       "Name: precipitation, dtype: float64"
      ]
     },
     "execution_count": 365,
     "metadata": {},
     "output_type": "execute_result"
    }
   ],
   "source": [
    "df.precipitation.groupby(df.index.month).sum().sort_values().tail(1)"
   ]
  },
  {
   "cell_type": "markdown",
   "metadata": {},
   "source": [
    "##### Which month has the most number of days with a non-zero amount of precipitation?"
   ]
  },
  {
   "cell_type": "code",
   "execution_count": 374,
   "metadata": {},
   "outputs": [
    {
     "data": {
      "text/plain": [
       "date\n",
       "12    81\n",
       "Name: precipitation, dtype: int64"
      ]
     },
     "execution_count": 374,
     "metadata": {},
     "output_type": "execute_result"
    }
   ],
   "source": [
    "df [df.precipitation != 0].groupby(df [df.precipitation != 0].index.month).precipitation.count().sort_values().tail(1)"
   ]
  },
  {
   "cell_type": "markdown",
   "metadata": {},
   "source": [
    "data.flights_20k()\n",
    "\n",
    "- Convert any negative delays to 0.\n",
    "- Which hour of the day has the highest average delay?\n",
    "- Does the day of the week make a difference in the delay amount?\n",
    "- Does the month make a difference in the delay amount?"
   ]
  },
  {
   "cell_type": "code",
   "execution_count": 418,
   "metadata": {},
   "outputs": [],
   "source": [
    "df = data.flights_20k()"
   ]
  },
  {
   "cell_type": "code",
   "execution_count": 377,
   "metadata": {},
   "outputs": [
    {
     "name": "stdout",
     "output_type": "stream",
     "text": [
      "<class 'pandas.core.frame.DataFrame'>\n",
      "RangeIndex: 20000 entries, 0 to 19999\n",
      "Data columns (total 5 columns):\n",
      "date           20000 non-null datetime64[ns]\n",
      "delay          20000 non-null int64\n",
      "destination    20000 non-null object\n",
      "distance       20000 non-null int64\n",
      "origin         20000 non-null object\n",
      "dtypes: datetime64[ns](1), int64(2), object(2)\n",
      "memory usage: 781.3+ KB\n"
     ]
    }
   ],
   "source": [
    "df.info()"
   ]
  },
  {
   "cell_type": "code",
   "execution_count": 467,
   "metadata": {},
   "outputs": [
    {
     "data": {
      "text/html": [
       "<div>\n",
       "<style scoped>\n",
       "    .dataframe tbody tr th:only-of-type {\n",
       "        vertical-align: middle;\n",
       "    }\n",
       "\n",
       "    .dataframe tbody tr th {\n",
       "        vertical-align: top;\n",
       "    }\n",
       "\n",
       "    .dataframe thead th {\n",
       "        text-align: right;\n",
       "    }\n",
       "</style>\n",
       "<table border=\"1\" class=\"dataframe\">\n",
       "  <thead>\n",
       "    <tr style=\"text-align: right;\">\n",
       "      <th></th>\n",
       "      <th>delay</th>\n",
       "      <th>destination</th>\n",
       "      <th>distance</th>\n",
       "      <th>origin</th>\n",
       "    </tr>\n",
       "    <tr>\n",
       "      <th>date</th>\n",
       "      <th></th>\n",
       "      <th></th>\n",
       "      <th></th>\n",
       "      <th></th>\n",
       "    </tr>\n",
       "  </thead>\n",
       "  <tbody>\n",
       "    <tr>\n",
       "      <th>2001-01-13 14:56:00</th>\n",
       "      <td>32</td>\n",
       "      <td>SJC</td>\n",
       "      <td>417</td>\n",
       "      <td>SAN</td>\n",
       "    </tr>\n",
       "    <tr>\n",
       "      <th>2001-01-31 16:40:00</th>\n",
       "      <td>0</td>\n",
       "      <td>ISP</td>\n",
       "      <td>1093</td>\n",
       "      <td>FLL</td>\n",
       "    </tr>\n",
       "    <tr>\n",
       "      <th>2001-02-11 18:39:00</th>\n",
       "      <td>3</td>\n",
       "      <td>DAL</td>\n",
       "      <td>293</td>\n",
       "      <td>LBB</td>\n",
       "    </tr>\n",
       "    <tr>\n",
       "      <th>2001-01-10 21:00:00</th>\n",
       "      <td>0</td>\n",
       "      <td>MCO</td>\n",
       "      <td>550</td>\n",
       "      <td>MSY</td>\n",
       "    </tr>\n",
       "    <tr>\n",
       "      <th>2001-03-30 21:45:00</th>\n",
       "      <td>0</td>\n",
       "      <td>IND</td>\n",
       "      <td>229</td>\n",
       "      <td>STL</td>\n",
       "    </tr>\n",
       "    <tr>\n",
       "      <th>2001-03-14 14:55:00</th>\n",
       "      <td>3</td>\n",
       "      <td>MDW</td>\n",
       "      <td>405</td>\n",
       "      <td>MCI</td>\n",
       "    </tr>\n",
       "    <tr>\n",
       "      <th>2001-03-14 19:04:00</th>\n",
       "      <td>20</td>\n",
       "      <td>PHX</td>\n",
       "      <td>1999</td>\n",
       "      <td>BWI</td>\n",
       "    </tr>\n",
       "    <tr>\n",
       "      <th>2001-01-22 09:05:00</th>\n",
       "      <td>0</td>\n",
       "      <td>SAN</td>\n",
       "      <td>628</td>\n",
       "      <td>ABQ</td>\n",
       "    </tr>\n",
       "    <tr>\n",
       "      <th>2001-01-30 19:15:00</th>\n",
       "      <td>22</td>\n",
       "      <td>BUR</td>\n",
       "      <td>358</td>\n",
       "      <td>SMF</td>\n",
       "    </tr>\n",
       "    <tr>\n",
       "      <th>2001-01-27 07:00:00</th>\n",
       "      <td>0</td>\n",
       "      <td>BWI</td>\n",
       "      <td>588</td>\n",
       "      <td>BNA</td>\n",
       "    </tr>\n",
       "    <tr>\n",
       "      <th>2001-01-02 11:40:00</th>\n",
       "      <td>0</td>\n",
       "      <td>BNA</td>\n",
       "      <td>395</td>\n",
       "      <td>MDW</td>\n",
       "    </tr>\n",
       "    <tr>\n",
       "      <th>2001-03-01 09:40:00</th>\n",
       "      <td>8</td>\n",
       "      <td>CLE</td>\n",
       "      <td>307</td>\n",
       "      <td>MDW</td>\n",
       "    </tr>\n",
       "    <tr>\n",
       "      <th>2001-02-28 21:56:00</th>\n",
       "      <td>11</td>\n",
       "      <td>LAS</td>\n",
       "      <td>1140</td>\n",
       "      <td>MCI</td>\n",
       "    </tr>\n",
       "    <tr>\n",
       "      <th>2001-03-14 14:55:00</th>\n",
       "      <td>8</td>\n",
       "      <td>TPA</td>\n",
       "      <td>1034</td>\n",
       "      <td>ISP</td>\n",
       "    </tr>\n",
       "    <tr>\n",
       "      <th>2001-03-07 21:15:00</th>\n",
       "      <td>0</td>\n",
       "      <td>LAS</td>\n",
       "      <td>256</td>\n",
       "      <td>PHX</td>\n",
       "    </tr>\n",
       "    <tr>\n",
       "      <th>2001-02-09 08:00:00</th>\n",
       "      <td>4</td>\n",
       "      <td>ALB</td>\n",
       "      <td>288</td>\n",
       "      <td>BWI</td>\n",
       "    </tr>\n",
       "    <tr>\n",
       "      <th>2001-02-14 17:44:00</th>\n",
       "      <td>21</td>\n",
       "      <td>LAX</td>\n",
       "      <td>308</td>\n",
       "      <td>SJC</td>\n",
       "    </tr>\n",
       "    <tr>\n",
       "      <th>2001-01-10 22:46:00</th>\n",
       "      <td>88</td>\n",
       "      <td>SFO</td>\n",
       "      <td>447</td>\n",
       "      <td>SAN</td>\n",
       "    </tr>\n",
       "    <tr>\n",
       "      <th>2001-01-18 10:34:00</th>\n",
       "      <td>5</td>\n",
       "      <td>TUL</td>\n",
       "      <td>237</td>\n",
       "      <td>DAL</td>\n",
       "    </tr>\n",
       "    <tr>\n",
       "      <th>2001-02-19 14:20:00</th>\n",
       "      <td>0</td>\n",
       "      <td>BDL</td>\n",
       "      <td>283</td>\n",
       "      <td>BWI</td>\n",
       "    </tr>\n",
       "    <tr>\n",
       "      <th>2001-03-30 18:35:00</th>\n",
       "      <td>0</td>\n",
       "      <td>LBB</td>\n",
       "      <td>293</td>\n",
       "      <td>DAL</td>\n",
       "    </tr>\n",
       "    <tr>\n",
       "      <th>2001-02-11 17:00:00</th>\n",
       "      <td>0</td>\n",
       "      <td>MCI</td>\n",
       "      <td>223</td>\n",
       "      <td>TUL</td>\n",
       "    </tr>\n",
       "    <tr>\n",
       "      <th>2001-02-26 06:50:00</th>\n",
       "      <td>0</td>\n",
       "      <td>BUR</td>\n",
       "      <td>369</td>\n",
       "      <td>PHX</td>\n",
       "    </tr>\n",
       "    <tr>\n",
       "      <th>2001-03-21 16:00:00</th>\n",
       "      <td>0</td>\n",
       "      <td>DAL</td>\n",
       "      <td>239</td>\n",
       "      <td>HOU</td>\n",
       "    </tr>\n",
       "    <tr>\n",
       "      <th>2001-02-16 10:20:00</th>\n",
       "      <td>0</td>\n",
       "      <td>MCO</td>\n",
       "      <td>1552</td>\n",
       "      <td>ABQ</td>\n",
       "    </tr>\n",
       "    <tr>\n",
       "      <th>2001-03-27 13:54:00</th>\n",
       "      <td>10</td>\n",
       "      <td>LAS</td>\n",
       "      <td>1090</td>\n",
       "      <td>AUS</td>\n",
       "    </tr>\n",
       "    <tr>\n",
       "      <th>2001-01-15 15:30:00</th>\n",
       "      <td>3</td>\n",
       "      <td>TUL</td>\n",
       "      <td>453</td>\n",
       "      <td>HOU</td>\n",
       "    </tr>\n",
       "    <tr>\n",
       "      <th>2001-03-20 09:50:00</th>\n",
       "      <td>0</td>\n",
       "      <td>RNO</td>\n",
       "      <td>601</td>\n",
       "      <td>PHX</td>\n",
       "    </tr>\n",
       "    <tr>\n",
       "      <th>2001-01-02 13:02:00</th>\n",
       "      <td>29</td>\n",
       "      <td>ONT</td>\n",
       "      <td>325</td>\n",
       "      <td>PHX</td>\n",
       "    </tr>\n",
       "    <tr>\n",
       "      <th>2001-02-18 17:25:00</th>\n",
       "      <td>12</td>\n",
       "      <td>MDW</td>\n",
       "      <td>162</td>\n",
       "      <td>IND</td>\n",
       "    </tr>\n",
       "    <tr>\n",
       "      <th>...</th>\n",
       "      <td>...</td>\n",
       "      <td>...</td>\n",
       "      <td>...</td>\n",
       "      <td>...</td>\n",
       "    </tr>\n",
       "    <tr>\n",
       "      <th>2001-03-02 16:10:00</th>\n",
       "      <td>0</td>\n",
       "      <td>DAL</td>\n",
       "      <td>189</td>\n",
       "      <td>AUS</td>\n",
       "    </tr>\n",
       "    <tr>\n",
       "      <th>2001-03-21 14:55:00</th>\n",
       "      <td>0</td>\n",
       "      <td>MSY</td>\n",
       "      <td>437</td>\n",
       "      <td>DAL</td>\n",
       "    </tr>\n",
       "    <tr>\n",
       "      <th>2001-02-05 17:05:00</th>\n",
       "      <td>0</td>\n",
       "      <td>SEA</td>\n",
       "      <td>224</td>\n",
       "      <td>GEG</td>\n",
       "    </tr>\n",
       "    <tr>\n",
       "      <th>2001-03-27 08:50:00</th>\n",
       "      <td>0</td>\n",
       "      <td>BDL</td>\n",
       "      <td>777</td>\n",
       "      <td>MDW</td>\n",
       "    </tr>\n",
       "    <tr>\n",
       "      <th>2001-01-17 19:36:00</th>\n",
       "      <td>6</td>\n",
       "      <td>MSY</td>\n",
       "      <td>437</td>\n",
       "      <td>DAL</td>\n",
       "    </tr>\n",
       "    <tr>\n",
       "      <th>2001-03-21 13:40:00</th>\n",
       "      <td>11</td>\n",
       "      <td>RNO</td>\n",
       "      <td>345</td>\n",
       "      <td>LAS</td>\n",
       "    </tr>\n",
       "    <tr>\n",
       "      <th>2001-01-02 10:00:00</th>\n",
       "      <td>0</td>\n",
       "      <td>LAX</td>\n",
       "      <td>236</td>\n",
       "      <td>LAS</td>\n",
       "    </tr>\n",
       "    <tr>\n",
       "      <th>2001-01-22 18:15:00</th>\n",
       "      <td>0</td>\n",
       "      <td>PHX</td>\n",
       "      <td>325</td>\n",
       "      <td>ONT</td>\n",
       "    </tr>\n",
       "    <tr>\n",
       "      <th>2001-02-19 16:00:00</th>\n",
       "      <td>46</td>\n",
       "      <td>LAS</td>\n",
       "      <td>236</td>\n",
       "      <td>LAX</td>\n",
       "    </tr>\n",
       "    <tr>\n",
       "      <th>2001-03-08 16:49:00</th>\n",
       "      <td>7</td>\n",
       "      <td>OAK</td>\n",
       "      <td>371</td>\n",
       "      <td>SNA</td>\n",
       "    </tr>\n",
       "    <tr>\n",
       "      <th>2001-01-03 18:15:00</th>\n",
       "      <td>28</td>\n",
       "      <td>ALB</td>\n",
       "      <td>288</td>\n",
       "      <td>BWI</td>\n",
       "    </tr>\n",
       "    <tr>\n",
       "      <th>2001-01-16 13:40:00</th>\n",
       "      <td>0</td>\n",
       "      <td>LAS</td>\n",
       "      <td>223</td>\n",
       "      <td>BUR</td>\n",
       "    </tr>\n",
       "    <tr>\n",
       "      <th>2001-02-12 12:30:00</th>\n",
       "      <td>7</td>\n",
       "      <td>MDW</td>\n",
       "      <td>251</td>\n",
       "      <td>STL</td>\n",
       "    </tr>\n",
       "    <tr>\n",
       "      <th>2001-01-26 13:50:00</th>\n",
       "      <td>0</td>\n",
       "      <td>MCO</td>\n",
       "      <td>534</td>\n",
       "      <td>RDU</td>\n",
       "    </tr>\n",
       "    <tr>\n",
       "      <th>2001-03-22 09:35:00</th>\n",
       "      <td>43</td>\n",
       "      <td>LAX</td>\n",
       "      <td>308</td>\n",
       "      <td>SJC</td>\n",
       "    </tr>\n",
       "    <tr>\n",
       "      <th>2001-02-01 07:24:00</th>\n",
       "      <td>21</td>\n",
       "      <td>TPA</td>\n",
       "      <td>842</td>\n",
       "      <td>BWI</td>\n",
       "    </tr>\n",
       "    <tr>\n",
       "      <th>2001-03-15 07:45:00</th>\n",
       "      <td>32</td>\n",
       "      <td>MSY</td>\n",
       "      <td>487</td>\n",
       "      <td>TPA</td>\n",
       "    </tr>\n",
       "    <tr>\n",
       "      <th>2001-02-22 06:55:00</th>\n",
       "      <td>8</td>\n",
       "      <td>PVD</td>\n",
       "      <td>328</td>\n",
       "      <td>BWI</td>\n",
       "    </tr>\n",
       "    <tr>\n",
       "      <th>2001-01-15 20:24:00</th>\n",
       "      <td>24</td>\n",
       "      <td>OMA</td>\n",
       "      <td>423</td>\n",
       "      <td>MDW</td>\n",
       "    </tr>\n",
       "    <tr>\n",
       "      <th>2001-03-17 07:00:00</th>\n",
       "      <td>0</td>\n",
       "      <td>PHX</td>\n",
       "      <td>256</td>\n",
       "      <td>LAS</td>\n",
       "    </tr>\n",
       "    <tr>\n",
       "      <th>2001-03-01 07:25:00</th>\n",
       "      <td>5</td>\n",
       "      <td>SJC</td>\n",
       "      <td>308</td>\n",
       "      <td>LAX</td>\n",
       "    </tr>\n",
       "    <tr>\n",
       "      <th>2001-02-01 19:10:00</th>\n",
       "      <td>8</td>\n",
       "      <td>PBI</td>\n",
       "      <td>883</td>\n",
       "      <td>BWI</td>\n",
       "    </tr>\n",
       "    <tr>\n",
       "      <th>2001-03-08 16:18:00</th>\n",
       "      <td>26</td>\n",
       "      <td>STL</td>\n",
       "      <td>487</td>\n",
       "      <td>CLE</td>\n",
       "    </tr>\n",
       "    <tr>\n",
       "      <th>2001-03-30 20:30:00</th>\n",
       "      <td>27</td>\n",
       "      <td>MCO</td>\n",
       "      <td>718</td>\n",
       "      <td>SDF</td>\n",
       "    </tr>\n",
       "    <tr>\n",
       "      <th>2001-01-11 18:43:00</th>\n",
       "      <td>80</td>\n",
       "      <td>LAX</td>\n",
       "      <td>337</td>\n",
       "      <td>OAK</td>\n",
       "    </tr>\n",
       "    <tr>\n",
       "      <th>2001-03-22 15:10:00</th>\n",
       "      <td>4</td>\n",
       "      <td>OAK</td>\n",
       "      <td>446</td>\n",
       "      <td>SAN</td>\n",
       "    </tr>\n",
       "    <tr>\n",
       "      <th>2001-01-19 13:05:00</th>\n",
       "      <td>0</td>\n",
       "      <td>MCI</td>\n",
       "      <td>1489</td>\n",
       "      <td>SEA</td>\n",
       "    </tr>\n",
       "    <tr>\n",
       "      <th>2001-02-07 11:37:00</th>\n",
       "      <td>0</td>\n",
       "      <td>PHX</td>\n",
       "      <td>1848</td>\n",
       "      <td>MCO</td>\n",
       "    </tr>\n",
       "    <tr>\n",
       "      <th>2001-02-24 16:50:00</th>\n",
       "      <td>42</td>\n",
       "      <td>BNA</td>\n",
       "      <td>443</td>\n",
       "      <td>RDU</td>\n",
       "    </tr>\n",
       "    <tr>\n",
       "      <th>2001-03-14 11:33:00</th>\n",
       "      <td>0</td>\n",
       "      <td>PHX</td>\n",
       "      <td>328</td>\n",
       "      <td>ABQ</td>\n",
       "    </tr>\n",
       "  </tbody>\n",
       "</table>\n",
       "<p>20000 rows × 4 columns</p>\n",
       "</div>"
      ],
      "text/plain": [
       "                     delay destination  distance origin\n",
       "date                                                   \n",
       "2001-01-13 14:56:00     32         SJC       417    SAN\n",
       "2001-01-31 16:40:00      0         ISP      1093    FLL\n",
       "2001-02-11 18:39:00      3         DAL       293    LBB\n",
       "2001-01-10 21:00:00      0         MCO       550    MSY\n",
       "2001-03-30 21:45:00      0         IND       229    STL\n",
       "2001-03-14 14:55:00      3         MDW       405    MCI\n",
       "2001-03-14 19:04:00     20         PHX      1999    BWI\n",
       "2001-01-22 09:05:00      0         SAN       628    ABQ\n",
       "2001-01-30 19:15:00     22         BUR       358    SMF\n",
       "2001-01-27 07:00:00      0         BWI       588    BNA\n",
       "2001-01-02 11:40:00      0         BNA       395    MDW\n",
       "2001-03-01 09:40:00      8         CLE       307    MDW\n",
       "2001-02-28 21:56:00     11         LAS      1140    MCI\n",
       "2001-03-14 14:55:00      8         TPA      1034    ISP\n",
       "2001-03-07 21:15:00      0         LAS       256    PHX\n",
       "2001-02-09 08:00:00      4         ALB       288    BWI\n",
       "2001-02-14 17:44:00     21         LAX       308    SJC\n",
       "2001-01-10 22:46:00     88         SFO       447    SAN\n",
       "2001-01-18 10:34:00      5         TUL       237    DAL\n",
       "2001-02-19 14:20:00      0         BDL       283    BWI\n",
       "2001-03-30 18:35:00      0         LBB       293    DAL\n",
       "2001-02-11 17:00:00      0         MCI       223    TUL\n",
       "2001-02-26 06:50:00      0         BUR       369    PHX\n",
       "2001-03-21 16:00:00      0         DAL       239    HOU\n",
       "2001-02-16 10:20:00      0         MCO      1552    ABQ\n",
       "2001-03-27 13:54:00     10         LAS      1090    AUS\n",
       "2001-01-15 15:30:00      3         TUL       453    HOU\n",
       "2001-03-20 09:50:00      0         RNO       601    PHX\n",
       "2001-01-02 13:02:00     29         ONT       325    PHX\n",
       "2001-02-18 17:25:00     12         MDW       162    IND\n",
       "...                    ...         ...       ...    ...\n",
       "2001-03-02 16:10:00      0         DAL       189    AUS\n",
       "2001-03-21 14:55:00      0         MSY       437    DAL\n",
       "2001-02-05 17:05:00      0         SEA       224    GEG\n",
       "2001-03-27 08:50:00      0         BDL       777    MDW\n",
       "2001-01-17 19:36:00      6         MSY       437    DAL\n",
       "2001-03-21 13:40:00     11         RNO       345    LAS\n",
       "2001-01-02 10:00:00      0         LAX       236    LAS\n",
       "2001-01-22 18:15:00      0         PHX       325    ONT\n",
       "2001-02-19 16:00:00     46         LAS       236    LAX\n",
       "2001-03-08 16:49:00      7         OAK       371    SNA\n",
       "2001-01-03 18:15:00     28         ALB       288    BWI\n",
       "2001-01-16 13:40:00      0         LAS       223    BUR\n",
       "2001-02-12 12:30:00      7         MDW       251    STL\n",
       "2001-01-26 13:50:00      0         MCO       534    RDU\n",
       "2001-03-22 09:35:00     43         LAX       308    SJC\n",
       "2001-02-01 07:24:00     21         TPA       842    BWI\n",
       "2001-03-15 07:45:00     32         MSY       487    TPA\n",
       "2001-02-22 06:55:00      8         PVD       328    BWI\n",
       "2001-01-15 20:24:00     24         OMA       423    MDW\n",
       "2001-03-17 07:00:00      0         PHX       256    LAS\n",
       "2001-03-01 07:25:00      5         SJC       308    LAX\n",
       "2001-02-01 19:10:00      8         PBI       883    BWI\n",
       "2001-03-08 16:18:00     26         STL       487    CLE\n",
       "2001-03-30 20:30:00     27         MCO       718    SDF\n",
       "2001-01-11 18:43:00     80         LAX       337    OAK\n",
       "2001-03-22 15:10:00      4         OAK       446    SAN\n",
       "2001-01-19 13:05:00      0         MCI      1489    SEA\n",
       "2001-02-07 11:37:00      0         PHX      1848    MCO\n",
       "2001-02-24 16:50:00     42         BNA       443    RDU\n",
       "2001-03-14 11:33:00      0         PHX       328    ABQ\n",
       "\n",
       "[20000 rows x 4 columns]"
      ]
     },
     "execution_count": 467,
     "metadata": {},
     "output_type": "execute_result"
    }
   ],
   "source": [
    "df"
   ]
  },
  {
   "cell_type": "code",
   "execution_count": 420,
   "metadata": {},
   "outputs": [],
   "source": [
    "df = df.set_index(\"date\")"
   ]
  },
  {
   "cell_type": "markdown",
   "metadata": {},
   "source": [
    "##### Convert any negative delays to 0."
   ]
  },
  {
   "cell_type": "code",
   "execution_count": 432,
   "metadata": {},
   "outputs": [],
   "source": [
    "df.delay [df.delay < 0] = 0 "
   ]
  },
  {
   "cell_type": "code",
   "execution_count": 434,
   "metadata": {},
   "outputs": [
    {
     "data": {
      "text/html": [
       "<div>\n",
       "<style scoped>\n",
       "    .dataframe tbody tr th:only-of-type {\n",
       "        vertical-align: middle;\n",
       "    }\n",
       "\n",
       "    .dataframe tbody tr th {\n",
       "        vertical-align: top;\n",
       "    }\n",
       "\n",
       "    .dataframe thead th {\n",
       "        text-align: right;\n",
       "    }\n",
       "</style>\n",
       "<table border=\"1\" class=\"dataframe\">\n",
       "  <thead>\n",
       "    <tr style=\"text-align: right;\">\n",
       "      <th></th>\n",
       "      <th>delay</th>\n",
       "      <th>destination</th>\n",
       "      <th>distance</th>\n",
       "      <th>origin</th>\n",
       "    </tr>\n",
       "    <tr>\n",
       "      <th>date</th>\n",
       "      <th></th>\n",
       "      <th></th>\n",
       "      <th></th>\n",
       "      <th></th>\n",
       "    </tr>\n",
       "  </thead>\n",
       "  <tbody>\n",
       "    <tr>\n",
       "      <th>2001-01-13 14:56:00</th>\n",
       "      <td>32</td>\n",
       "      <td>SJC</td>\n",
       "      <td>417</td>\n",
       "      <td>SAN</td>\n",
       "    </tr>\n",
       "    <tr>\n",
       "      <th>2001-01-31 16:40:00</th>\n",
       "      <td>0</td>\n",
       "      <td>ISP</td>\n",
       "      <td>1093</td>\n",
       "      <td>FLL</td>\n",
       "    </tr>\n",
       "    <tr>\n",
       "      <th>2001-02-11 18:39:00</th>\n",
       "      <td>3</td>\n",
       "      <td>DAL</td>\n",
       "      <td>293</td>\n",
       "      <td>LBB</td>\n",
       "    </tr>\n",
       "    <tr>\n",
       "      <th>2001-01-10 21:00:00</th>\n",
       "      <td>0</td>\n",
       "      <td>MCO</td>\n",
       "      <td>550</td>\n",
       "      <td>MSY</td>\n",
       "    </tr>\n",
       "    <tr>\n",
       "      <th>2001-03-30 21:45:00</th>\n",
       "      <td>0</td>\n",
       "      <td>IND</td>\n",
       "      <td>229</td>\n",
       "      <td>STL</td>\n",
       "    </tr>\n",
       "  </tbody>\n",
       "</table>\n",
       "</div>"
      ],
      "text/plain": [
       "                     delay destination  distance origin\n",
       "date                                                   \n",
       "2001-01-13 14:56:00     32         SJC       417    SAN\n",
       "2001-01-31 16:40:00      0         ISP      1093    FLL\n",
       "2001-02-11 18:39:00      3         DAL       293    LBB\n",
       "2001-01-10 21:00:00      0         MCO       550    MSY\n",
       "2001-03-30 21:45:00      0         IND       229    STL"
      ]
     },
     "execution_count": 434,
     "metadata": {},
     "output_type": "execute_result"
    }
   ],
   "source": [
    "df.head()"
   ]
  },
  {
   "cell_type": "markdown",
   "metadata": {},
   "source": [
    "##### Which hour of the day has the highest average delay?"
   ]
  },
  {
   "cell_type": "code",
   "execution_count": 458,
   "metadata": {},
   "outputs": [
    {
     "data": {
      "text/plain": [
       "date\n",
       "3    302.5\n",
       "Name: delay, dtype: float64"
      ]
     },
     "execution_count": 458,
     "metadata": {},
     "output_type": "execute_result"
    }
   ],
   "source": [
    "df.delay.groupby(df.index.hour).mean().sort_values().tail(1)"
   ]
  },
  {
   "cell_type": "markdown",
   "metadata": {},
   "source": [
    "##### Does the day of the week make a difference in the delay amount?"
   ]
  },
  {
   "cell_type": "code",
   "execution_count": 473,
   "metadata": {},
   "outputs": [
    {
     "data": {
      "text/plain": [
       "date\n",
       "0     7.165772\n",
       "1     9.410866\n",
       "2    11.032478\n",
       "3    12.821322\n",
       "4    17.757596\n",
       "5     8.431498\n",
       "6    10.413542\n",
       "Name: delay, dtype: float64"
      ]
     },
     "execution_count": 473,
     "metadata": {},
     "output_type": "execute_result"
    }
   ],
   "source": [
    "df.delay.groupby(df.index.weekday).mean()"
   ]
  },
  {
   "cell_type": "markdown",
   "metadata": {},
   "source": [
    "##### Does the month make a difference in the delay amount?"
   ]
  },
  {
   "cell_type": "code",
   "execution_count": 468,
   "metadata": {},
   "outputs": [
    {
     "data": {
      "text/plain": [
       "date\n",
       "2001-01-31    11.301592\n",
       "2001-02-28    12.306106\n",
       "2001-03-31     9.875287\n",
       "Freq: M, Name: delay, dtype: float64"
      ]
     },
     "execution_count": 468,
     "metadata": {},
     "output_type": "execute_result"
    }
   ],
   "source": [
    "df.delay.resample(\"M\").mean()"
   ]
  },
  {
   "cell_type": "markdown",
   "metadata": {},
   "source": [
    "data.iowa_electricity()\n",
    "\n",
    "- For each row, calculate the percentage of the year's total that energy source provided.\n",
    "- Lineplot of generation over time, color by source\n",
    "- Display the data as table where years are columns, and energy source is rows (Hint: df.pivot_table)\n",
    "- Make a line plot that shows the amount of energy generated over time. Each source should be a separate line?\n",
    "- Is the total generation increasing over time?\n",
    "- How would you control for increasing consumption over time when considering how much energy is coming from each source?\n",
    "express each number as a % of the year's total"
   ]
  },
  {
   "cell_type": "code",
   "execution_count": 494,
   "metadata": {},
   "outputs": [],
   "source": [
    "df = data.iowa_electricity()"
   ]
  },
  {
   "cell_type": "code",
   "execution_count": 495,
   "metadata": {},
   "outputs": [
    {
     "name": "stdout",
     "output_type": "stream",
     "text": [
      "<class 'pandas.core.frame.DataFrame'>\n",
      "RangeIndex: 51 entries, 0 to 50\n",
      "Data columns (total 3 columns):\n",
      "year              51 non-null datetime64[ns]\n",
      "source            51 non-null object\n",
      "net_generation    51 non-null int64\n",
      "dtypes: datetime64[ns](1), int64(1), object(1)\n",
      "memory usage: 1.3+ KB\n"
     ]
    }
   ],
   "source": [
    "df.info()"
   ]
  },
  {
   "cell_type": "code",
   "execution_count": 496,
   "metadata": {},
   "outputs": [
    {
     "data": {
      "text/html": [
       "<div>\n",
       "<style scoped>\n",
       "    .dataframe tbody tr th:only-of-type {\n",
       "        vertical-align: middle;\n",
       "    }\n",
       "\n",
       "    .dataframe tbody tr th {\n",
       "        vertical-align: top;\n",
       "    }\n",
       "\n",
       "    .dataframe thead th {\n",
       "        text-align: right;\n",
       "    }\n",
       "</style>\n",
       "<table border=\"1\" class=\"dataframe\">\n",
       "  <thead>\n",
       "    <tr style=\"text-align: right;\">\n",
       "      <th></th>\n",
       "      <th>year</th>\n",
       "      <th>source</th>\n",
       "      <th>net_generation</th>\n",
       "    </tr>\n",
       "  </thead>\n",
       "  <tbody>\n",
       "    <tr>\n",
       "      <th>0</th>\n",
       "      <td>2001-01-01</td>\n",
       "      <td>Fossil Fuels</td>\n",
       "      <td>35361</td>\n",
       "    </tr>\n",
       "    <tr>\n",
       "      <th>1</th>\n",
       "      <td>2002-01-01</td>\n",
       "      <td>Fossil Fuels</td>\n",
       "      <td>35991</td>\n",
       "    </tr>\n",
       "    <tr>\n",
       "      <th>2</th>\n",
       "      <td>2003-01-01</td>\n",
       "      <td>Fossil Fuels</td>\n",
       "      <td>36234</td>\n",
       "    </tr>\n",
       "    <tr>\n",
       "      <th>3</th>\n",
       "      <td>2004-01-01</td>\n",
       "      <td>Fossil Fuels</td>\n",
       "      <td>36205</td>\n",
       "    </tr>\n",
       "    <tr>\n",
       "      <th>4</th>\n",
       "      <td>2005-01-01</td>\n",
       "      <td>Fossil Fuels</td>\n",
       "      <td>36883</td>\n",
       "    </tr>\n",
       "  </tbody>\n",
       "</table>\n",
       "</div>"
      ],
      "text/plain": [
       "        year        source  net_generation\n",
       "0 2001-01-01  Fossil Fuels           35361\n",
       "1 2002-01-01  Fossil Fuels           35991\n",
       "2 2003-01-01  Fossil Fuels           36234\n",
       "3 2004-01-01  Fossil Fuels           36205\n",
       "4 2005-01-01  Fossil Fuels           36883"
      ]
     },
     "execution_count": 496,
     "metadata": {},
     "output_type": "execute_result"
    }
   ],
   "source": [
    "df.head()"
   ]
  },
  {
   "cell_type": "code",
   "execution_count": 497,
   "metadata": {},
   "outputs": [],
   "source": [
    "df = df.set_index(\"year\")"
   ]
  },
  {
   "cell_type": "markdown",
   "metadata": {},
   "source": [
    "##### For each row, calculate the percentage of the year's total that energy source provided."
   ]
  },
  {
   "cell_type": "code",
   "execution_count": 498,
   "metadata": {},
   "outputs": [
    {
     "data": {
      "text/html": [
       "<div>\n",
       "<style scoped>\n",
       "    .dataframe tbody tr th:only-of-type {\n",
       "        vertical-align: middle;\n",
       "    }\n",
       "\n",
       "    .dataframe tbody tr th {\n",
       "        vertical-align: top;\n",
       "    }\n",
       "\n",
       "    .dataframe thead th {\n",
       "        text-align: right;\n",
       "    }\n",
       "</style>\n",
       "<table border=\"1\" class=\"dataframe\">\n",
       "  <thead>\n",
       "    <tr style=\"text-align: right;\">\n",
       "      <th></th>\n",
       "      <th>net_generation</th>\n",
       "    </tr>\n",
       "    <tr>\n",
       "      <th>year</th>\n",
       "      <th></th>\n",
       "    </tr>\n",
       "  </thead>\n",
       "  <tbody>\n",
       "    <tr>\n",
       "      <th>2001-12-31</th>\n",
       "      <td>40651</td>\n",
       "    </tr>\n",
       "    <tr>\n",
       "      <th>2002-12-31</th>\n",
       "      <td>42528</td>\n",
       "    </tr>\n",
       "    <tr>\n",
       "      <th>2003-12-31</th>\n",
       "      <td>42107</td>\n",
       "    </tr>\n",
       "    <tr>\n",
       "      <th>2004-12-31</th>\n",
       "      <td>43236</td>\n",
       "    </tr>\n",
       "    <tr>\n",
       "      <th>2005-12-31</th>\n",
       "      <td>44145</td>\n",
       "    </tr>\n",
       "    <tr>\n",
       "      <th>2006-12-31</th>\n",
       "      <td>45473</td>\n",
       "    </tr>\n",
       "    <tr>\n",
       "      <th>2007-12-31</th>\n",
       "      <td>49778</td>\n",
       "    </tr>\n",
       "    <tr>\n",
       "      <th>2008-12-31</th>\n",
       "      <td>53086</td>\n",
       "    </tr>\n",
       "    <tr>\n",
       "      <th>2009-12-31</th>\n",
       "      <td>51859</td>\n",
       "    </tr>\n",
       "    <tr>\n",
       "      <th>2010-12-31</th>\n",
       "      <td>57509</td>\n",
       "    </tr>\n",
       "    <tr>\n",
       "      <th>2011-12-31</th>\n",
       "      <td>56371</td>\n",
       "    </tr>\n",
       "    <tr>\n",
       "      <th>2012-12-31</th>\n",
       "      <td>56675</td>\n",
       "    </tr>\n",
       "    <tr>\n",
       "      <th>2013-12-31</th>\n",
       "      <td>56670</td>\n",
       "    </tr>\n",
       "    <tr>\n",
       "      <th>2014-12-31</th>\n",
       "      <td>56854</td>\n",
       "    </tr>\n",
       "    <tr>\n",
       "      <th>2015-12-31</th>\n",
       "      <td>56653</td>\n",
       "    </tr>\n",
       "    <tr>\n",
       "      <th>2016-12-31</th>\n",
       "      <td>54381</td>\n",
       "    </tr>\n",
       "    <tr>\n",
       "      <th>2017-12-31</th>\n",
       "      <td>56476</td>\n",
       "    </tr>\n",
       "  </tbody>\n",
       "</table>\n",
       "</div>"
      ],
      "text/plain": [
       "            net_generation\n",
       "year                      \n",
       "2001-12-31           40651\n",
       "2002-12-31           42528\n",
       "2003-12-31           42107\n",
       "2004-12-31           43236\n",
       "2005-12-31           44145\n",
       "2006-12-31           45473\n",
       "2007-12-31           49778\n",
       "2008-12-31           53086\n",
       "2009-12-31           51859\n",
       "2010-12-31           57509\n",
       "2011-12-31           56371\n",
       "2012-12-31           56675\n",
       "2013-12-31           56670\n",
       "2014-12-31           56854\n",
       "2015-12-31           56653\n",
       "2016-12-31           54381\n",
       "2017-12-31           56476"
      ]
     },
     "execution_count": 498,
     "metadata": {},
     "output_type": "execute_result"
    }
   ],
   "source": [
    "# df[\"percent\"] = df.net_generation  \n",
    "df.resample(\"Y\").sum()"
   ]
  },
  {
   "cell_type": "markdown",
   "metadata": {},
   "source": [
    "##### Lineplot of generation over time, color by source"
   ]
  },
  {
   "cell_type": "code",
   "execution_count": 511,
   "metadata": {},
   "outputs": [
    {
     "data": {
      "image/png": "[encoded data removed]",
      "text/plain": [
       "<Figure size 432x288 with 1 Axes>"
      ]
     },
     "metadata": {
      "needs_background": "light"
     },
     "output_type": "display_data"
    }
   ],
   "source": [
    "df[df.source == \"Fossil Fuels\"].net_generation.plot()\n",
    "df[df.source == \"Nuclear Energy\"].net_generation.plot()\n",
    "df[df.source == \"Renewables\"].net_generation.plot()\n",
    "plt.show()"
   ]
  },
  {
   "cell_type": "markdown",
   "metadata": {},
   "source": [
    "##### Display the data as table where years are columns, and energy source is rows (Hint: df.pivot_table)"
   ]
  },
  {
   "cell_type": "code",
   "execution_count": 518,
   "metadata": {},
   "outputs": [
    {
     "data": {
      "text/html": [
       "<div>\n",
       "<style scoped>\n",
       "    .dataframe tbody tr th:only-of-type {\n",
       "        vertical-align: middle;\n",
       "    }\n",
       "\n",
       "    .dataframe tbody tr th {\n",
       "        vertical-align: top;\n",
       "    }\n",
       "\n",
       "    .dataframe thead tr th {\n",
       "        text-align: left;\n",
       "    }\n",
       "\n",
       "    .dataframe thead tr:last-of-type th {\n",
       "        text-align: right;\n",
       "    }\n",
       "</style>\n",
       "<table border=\"1\" class=\"dataframe\">\n",
       "  <thead>\n",
       "    <tr>\n",
       "      <th></th>\n",
       "      <th colspan=\"17\" halign=\"left\">net_generation</th>\n",
       "    </tr>\n",
       "    <tr>\n",
       "      <th>year</th>\n",
       "      <th>2001</th>\n",
       "      <th>2002</th>\n",
       "      <th>2003</th>\n",
       "      <th>2004</th>\n",
       "      <th>2005</th>\n",
       "      <th>2006</th>\n",
       "      <th>2007</th>\n",
       "      <th>2008</th>\n",
       "      <th>2009</th>\n",
       "      <th>2010</th>\n",
       "      <th>2011</th>\n",
       "      <th>2012</th>\n",
       "      <th>2013</th>\n",
       "      <th>2014</th>\n",
       "      <th>2015</th>\n",
       "      <th>2016</th>\n",
       "      <th>2017</th>\n",
       "    </tr>\n",
       "    <tr>\n",
       "      <th>source</th>\n",
       "      <th></th>\n",
       "      <th></th>\n",
       "      <th></th>\n",
       "      <th></th>\n",
       "      <th></th>\n",
       "      <th></th>\n",
       "      <th></th>\n",
       "      <th></th>\n",
       "      <th></th>\n",
       "      <th></th>\n",
       "      <th></th>\n",
       "      <th></th>\n",
       "      <th></th>\n",
       "      <th></th>\n",
       "      <th></th>\n",
       "      <th></th>\n",
       "      <th></th>\n",
       "    </tr>\n",
       "  </thead>\n",
       "  <tbody>\n",
       "    <tr>\n",
       "      <th>Fossil Fuels</th>\n",
       "      <td>35361</td>\n",
       "      <td>35991</td>\n",
       "      <td>36234</td>\n",
       "      <td>36205</td>\n",
       "      <td>36883</td>\n",
       "      <td>37014</td>\n",
       "      <td>41389</td>\n",
       "      <td>42734</td>\n",
       "      <td>38620</td>\n",
       "      <td>42750</td>\n",
       "      <td>39361</td>\n",
       "      <td>37379</td>\n",
       "      <td>34873</td>\n",
       "      <td>35250</td>\n",
       "      <td>32319</td>\n",
       "      <td>28437</td>\n",
       "      <td>29329</td>\n",
       "    </tr>\n",
       "    <tr>\n",
       "      <th>Nuclear Energy</th>\n",
       "      <td>3853</td>\n",
       "      <td>4574</td>\n",
       "      <td>3988</td>\n",
       "      <td>4929</td>\n",
       "      <td>4538</td>\n",
       "      <td>5095</td>\n",
       "      <td>4519</td>\n",
       "      <td>5282</td>\n",
       "      <td>4679</td>\n",
       "      <td>4451</td>\n",
       "      <td>5215</td>\n",
       "      <td>4347</td>\n",
       "      <td>5321</td>\n",
       "      <td>4152</td>\n",
       "      <td>5243</td>\n",
       "      <td>4703</td>\n",
       "      <td>5214</td>\n",
       "    </tr>\n",
       "    <tr>\n",
       "      <th>Renewables</th>\n",
       "      <td>1437</td>\n",
       "      <td>1963</td>\n",
       "      <td>1885</td>\n",
       "      <td>2102</td>\n",
       "      <td>2724</td>\n",
       "      <td>3364</td>\n",
       "      <td>3870</td>\n",
       "      <td>5070</td>\n",
       "      <td>8560</td>\n",
       "      <td>10308</td>\n",
       "      <td>11795</td>\n",
       "      <td>14949</td>\n",
       "      <td>16476</td>\n",
       "      <td>17452</td>\n",
       "      <td>19091</td>\n",
       "      <td>21241</td>\n",
       "      <td>21933</td>\n",
       "    </tr>\n",
       "  </tbody>\n",
       "</table>\n",
       "</div>"
      ],
      "text/plain": [
       "               net_generation                                            \\\n",
       "year                     2001   2002   2003   2004   2005   2006   2007   \n",
       "source                                                                    \n",
       "Fossil Fuels            35361  35991  36234  36205  36883  37014  41389   \n",
       "Nuclear Energy           3853   4574   3988   4929   4538   5095   4519   \n",
       "Renewables               1437   1963   1885   2102   2724   3364   3870   \n",
       "\n",
       "                                                                               \\\n",
       "year             2008   2009   2010   2011   2012   2013   2014   2015   2016   \n",
       "source                                                                          \n",
       "Fossil Fuels    42734  38620  42750  39361  37379  34873  35250  32319  28437   \n",
       "Nuclear Energy   5282   4679   4451   5215   4347   5321   4152   5243   4703   \n",
       "Renewables       5070   8560  10308  11795  14949  16476  17452  19091  21241   \n",
       "\n",
       "                       \n",
       "year             2017  \n",
       "source                 \n",
       "Fossil Fuels    29329  \n",
       "Nuclear Energy   5214  \n",
       "Renewables      21933  "
      ]
     },
     "execution_count": 518,
     "metadata": {},
     "output_type": "execute_result"
    }
   ],
   "source": [
    "df.pivot_table(index=\"source\",columns=df.index.year)"
   ]
  },
  {
   "cell_type": "markdown",
   "metadata": {},
   "source": [
    "##### Make a line plot that shows the amount of energy generated over time. Each source should be a separate line?"
   ]
  },
  {
   "cell_type": "code",
   "execution_count": 521,
   "metadata": {},
   "outputs": [
    {
     "data": {
      "image/png": "[encoded data removed]",
      "text/plain": [
       "<Figure size 432x288 with 1 Axes>"
      ]
     },
     "metadata": {
      "needs_background": "light"
     },
     "output_type": "display_data"
    }
   ],
   "source": [
    "df.pivot_table(index=\"source\",columns=df.index.year).T.plot()\n",
    "plt.show()"
   ]
  },
  {
   "cell_type": "markdown",
   "metadata": {},
   "source": [
    "##### Is the total generation increasing over time?"
   ]
  },
  {
   "cell_type": "code",
   "execution_count": null,
   "metadata": {},
   "outputs": [],
   "source": []
  },
  {
   "cell_type": "markdown",
   "metadata": {},
   "source": [
    "##### How would you control for increasing consumption over time when considering how much energy is coming from each source? express each number as a % of the year's total"
   ]
  },
  {
   "cell_type": "code",
   "execution_count": null,
   "metadata": {},
   "outputs": [],
   "source": []
  }
 ],
 "metadata": {
  "kernelspec": {
   "display_name": "Python 3",
   "language": "python",
   "name": "python3"
  },
  "language_info": {
   "codemirror_mode": {
    "name": "ipython",
    "version": 3
   },
   "file_extension": ".py",
   "mimetype": "text/x-python",
   "name": "python",
   "nbconvert_exporter": "python",
   "pygments_lexer": "ipython3",
   "version": "3.7.3"
  }
 },
 "nbformat": 4,
 "nbformat_minor": 2
}
